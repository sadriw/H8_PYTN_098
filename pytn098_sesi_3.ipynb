{
  "nbformat": 4,
  "nbformat_minor": 0,
  "metadata": {
    "colab": {
      "provenance": []
    },
    "kernelspec": {
      "name": "python3",
      "display_name": "Python 3"
    },
    "language_info": {
      "name": "python"
    }
  },
  "cells": [
    {
      "cell_type": "markdown",
      "source": [
        "# Function, Module, Package"
      ],
      "metadata": {
        "id": "UTnJx8E-SBKf"
      }
    },
    {
      "cell_type": "markdown",
      "source": [
        "## Function\n",
        "- tempat kita mengelompokkan code, dan diberi nama\n",
        "- juga bisa kita berikan variable spesial milik kumpulan code ini saja\n",
        "- dibuat dengan keyword `def`\n",
        "\n",
        "---\n",
        "tips: berikan nama function yang sesuai dengan code yang dijalankan di dalamnya, sehingga mudah diingat\n",
        "\n",
        "+ namaFunction kita tulis dengan camelCase, dimana huruf kecil semua, kecuali ada spasi. spasi kita hapus dan huruf setelahnya kita buat UPPER CASE atau CAPS.\n",
        "\n",
        "ini berbeda dengan cara tulis variable yang menggunakan snake_case\n",
        "\n",
        "cara penulisan lainnya termasuk:\n",
        "- snake_case --> kita gunakan untuk variable\n",
        "- camelCase --> kita gunakan untuk function\n",
        "- PascalCase --> biasanya digunakan untuk class\n",
        "- kebab-case\n",
        "\n",
        "cara penulisan nama yang berbeda-beda memastikan kita minimalisir kesalahan manusia."
      ],
      "metadata": {
        "id": "uzF0eNABSEhF"
      }
    },
    {
      "cell_type": "code",
      "execution_count": null,
      "metadata": {
        "id": "civUsuwMQ8pI"
      },
      "outputs": [],
      "source": [
        "def cekUmur():\n",
        "  umur_andhika = 25\n",
        "\n",
        "  if (umur_andhika >= 18):\n",
        "    print(\"boleh join, cukup umur\")\n",
        "  else:\n",
        "    print(\"hanya 18 tahun keatas yang boleh join. belum cukup umur.\")"
      ]
    },
    {
      "cell_type": "markdown",
      "source": [
        "function yang sudah kita simpan (sudah kita run) bisa kita gunakan kembali\n",
        "\n",
        "sedikit berbeda dengan variable yang langsung kita pakai namanya saja, function perlu extra intruksi untuk \"jalan\", kalau nggak dia diem aja."
      ],
      "metadata": {
        "id": "UEzmTB7fTPxm"
      }
    },
    {
      "cell_type": "code",
      "source": [
        "cekUmur"
      ],
      "metadata": {
        "colab": {
          "base_uri": "https://localhost:8080/"
        },
        "id": "C_wrpMbZTLd2",
        "outputId": "9888d261-df8f-40cc-fd5b-9b7fb396c002"
      },
      "execution_count": null,
      "outputs": [
        {
          "output_type": "execute_result",
          "data": {
            "text/plain": [
              "<function __main__.cekUmur()>"
            ]
          },
          "metadata": {},
          "execution_count": 5
        }
      ]
    },
    {
      "cell_type": "markdown",
      "source": [
        "\"invoke\" function menggunakan `()`"
      ],
      "metadata": {
        "id": "3QS3a6P5Tcqt"
      }
    },
    {
      "cell_type": "code",
      "source": [
        "cekUmur()"
      ],
      "metadata": {
        "colab": {
          "base_uri": "https://localhost:8080/"
        },
        "id": "Zb1dHOKoTZ9L",
        "outputId": "ea1ebce2-25fc-45e9-d9bd-15faf1fc580e"
      },
      "execution_count": null,
      "outputs": [
        {
          "output_type": "stream",
          "name": "stdout",
          "text": [
            "boleh join, cukup umur\n"
          ]
        }
      ]
    },
    {
      "cell_type": "markdown",
      "source": [
        "karena code sudah kita simpan ke function, kita bisa run ulang code nya hanya dengan panggil dan invoke function"
      ],
      "metadata": {
        "id": "P6GPYqBoTxk2"
      }
    },
    {
      "cell_type": "code",
      "source": [
        "cekUmur()\n",
        "cekUmur()\n",
        "cekUmur()\n",
        "cekUmur()\n",
        "cekUmur()"
      ],
      "metadata": {
        "colab": {
          "base_uri": "https://localhost:8080/"
        },
        "id": "mDtq4vRpTgNe",
        "outputId": "a420b405-6f56-45e4-83b9-13fd515e3346"
      },
      "execution_count": null,
      "outputs": [
        {
          "output_type": "stream",
          "name": "stdout",
          "text": [
            "boleh join, cukup umur\n",
            "boleh join, cukup umur\n",
            "boleh join, cukup umur\n",
            "boleh join, cukup umur\n",
            "boleh join, cukup umur\n"
          ]
        }
      ]
    },
    {
      "cell_type": "code",
      "source": [
        "# bahkan bisa pakai loop\n",
        "for i in range(10):\n",
        "  cekUmur()"
      ],
      "metadata": {
        "colab": {
          "base_uri": "https://localhost:8080/"
        },
        "id": "9Btdl8oUT2lo",
        "outputId": "e1905a58-dc1c-4cec-c7b9-7ad8c877ab1f"
      },
      "execution_count": null,
      "outputs": [
        {
          "output_type": "stream",
          "name": "stdout",
          "text": [
            "boleh join, cukup umur\n",
            "boleh join, cukup umur\n",
            "boleh join, cukup umur\n",
            "boleh join, cukup umur\n",
            "boleh join, cukup umur\n",
            "boleh join, cukup umur\n",
            "boleh join, cukup umur\n",
            "boleh join, cukup umur\n",
            "boleh join, cukup umur\n",
            "boleh join, cukup umur\n"
          ]
        }
      ]
    },
    {
      "cell_type": "markdown",
      "source": [
        "summary:\n",
        "1. code disimpan ke function\n",
        "2. function kita panggil dan invoke\n",
        "3. code jalan"
      ],
      "metadata": {
        "id": "GjYlAIUeT_Dm"
      }
    },
    {
      "cell_type": "code",
      "source": [
        "# function yang membagi 2 angka\n",
        "\n",
        "def bagiAngka():\n",
        "  a = 10\n",
        "  b = 15\n",
        "\n",
        "  hasil = a / b\n",
        "  print(hasil)"
      ],
      "metadata": {
        "id": "ojLr8859T5lR"
      },
      "execution_count": null,
      "outputs": []
    },
    {
      "cell_type": "code",
      "source": [
        "bagiAngka()"
      ],
      "metadata": {
        "colab": {
          "base_uri": "https://localhost:8080/"
        },
        "id": "KESO0pnCUa6O",
        "outputId": "59d4f429-f060-4f72-f114-198d3198b884"
      },
      "execution_count": null,
      "outputs": [
        {
          "output_type": "stream",
          "name": "stdout",
          "text": [
            "0.6666666666666666\n"
          ]
        }
      ]
    },
    {
      "cell_type": "markdown",
      "source": [
        "function perlu sedikit lebih bisa di custom, atau lebih flexible, baru bisa kita gunakan di banyak situasi.\n",
        "\n",
        "function diatas yang sangat spesifik hanya bisa digunakan di 1 situasi saja.\n",
        "\n",
        "contohnya, kita terus menggunakan `print()`\n",
        "\n",
        "print adalah contoh built-in function (function buatan Python) yang sangat flexible.\n",
        "\n",
        "kita bisa berikan print data bentuk apapun, nanti dia tampilkan.\n",
        "\n",
        "-- kita bisa berikan print data\n",
        "\n",
        "bagaimana cara memberi data berbeda-beda ke function yang kita buat?\n",
        "\n",
        "### Argumen / Parameter\n",
        "\n",
        "function bisa memiliki variable spesial yang hanya digunakan di dalam function tersebut. Dan, variable spesial ini hanya diisi saat function di `invoke`\n",
        "\n",
        "1. function punya nama\n",
        "2. function perlu di `invoke` dengan () supaya code yang ada di dalam function itu jalan\n",
        "3. function bisa memiliki variable spesial, namanya argumen"
      ],
      "metadata": {
        "id": "k46-fTeLUy7W"
      }
    },
    {
      "cell_type": "code",
      "source": [
        "# function yang membagi 2 angka\n",
        "# kali ini dengan argumen\n",
        "\n",
        "def bagiAngka(a, b):\n",
        "  hasil = a / b\n",
        "  print(hasil)"
      ],
      "metadata": {
        "id": "u_3uG0k6Ucfn"
      },
      "execution_count": null,
      "outputs": []
    },
    {
      "cell_type": "markdown",
      "source": [
        "function diatas punya 2 variable spesial\n",
        "\n",
        "function diatas punya 2 argumen\n",
        "\n",
        "a dan b bisa diisi saat bagiAngka sedang di `invoke` seperti berikut"
      ],
      "metadata": {
        "id": "QiwcIE0xVob2"
      }
    },
    {
      "cell_type": "code",
      "source": [
        "bagiAngka(50, 5)"
      ],
      "metadata": {
        "colab": {
          "base_uri": "https://localhost:8080/"
        },
        "id": "Ax0PpljEVoHf",
        "outputId": "f45246fd-a29f-4754-9b9e-a2304e7e8b0a"
      },
      "execution_count": null,
      "outputs": [
        {
          "output_type": "stream",
          "name": "stdout",
          "text": [
            "10.0\n"
          ]
        }
      ]
    },
    {
      "cell_type": "code",
      "source": [
        "for i in range(15,25):\n",
        "  print(i, \"dibagi 5\")\n",
        "  bagiAngka(i, 5)\n",
        "  print()"
      ],
      "metadata": {
        "colab": {
          "base_uri": "https://localhost:8080/"
        },
        "id": "nCzkO5fSVzQF",
        "outputId": "33bddba4-8fe4-4df8-9297-c1d54fc93d5b"
      },
      "execution_count": null,
      "outputs": [
        {
          "output_type": "stream",
          "name": "stdout",
          "text": [
            "15 dibagi 5\n",
            "3.0\n",
            "\n",
            "16 dibagi 5\n",
            "3.2\n",
            "\n",
            "17 dibagi 5\n",
            "3.4\n",
            "\n",
            "18 dibagi 5\n",
            "3.6\n",
            "\n",
            "19 dibagi 5\n",
            "3.8\n",
            "\n",
            "20 dibagi 5\n",
            "4.0\n",
            "\n",
            "21 dibagi 5\n",
            "4.2\n",
            "\n",
            "22 dibagi 5\n",
            "4.4\n",
            "\n",
            "23 dibagi 5\n",
            "4.6\n",
            "\n",
            "24 dibagi 5\n",
            "4.8\n",
            "\n"
          ]
        }
      ]
    },
    {
      "cell_type": "markdown",
      "source": [
        "## latihan pendek\n",
        "\n",
        "1. buatlah sebuah function, isi function tersebut dengan code yang ada print nya. cobalah jalankan function tersebut\n",
        "\n",
        "2. buat lagi sebuah function, yang tujuannya untuk memberi sapaan. bikin code dimana function tersebut print \"selamat malam, saya <nama>\" saat dijalankan.\n",
        "\n",
        "3. function sapa tadi, coba di edit sehingga memiliki argumen nama, jadi saat dijalankan namanya bisa berbeda-beda."
      ],
      "metadata": {
        "id": "Q_vlTm4rWKyv"
      }
    },
    {
      "cell_type": "code",
      "source": [
        "def funA():\n",
        "  print(\"halooo\")\n",
        "\n",
        "funA()"
      ],
      "metadata": {
        "colab": {
          "base_uri": "https://localhost:8080/"
        },
        "id": "AjexXWvVV9XA",
        "outputId": "706d54d6-f40f-48ff-a619-659d22b96426"
      },
      "execution_count": null,
      "outputs": [
        {
          "output_type": "stream",
          "name": "stdout",
          "text": [
            "halooo\n"
          ]
        }
      ]
    },
    {
      "cell_type": "code",
      "source": [
        "def menyapa():\n",
        "  print(\"selamat malam, saya Andhika\")\n",
        "\n",
        "menyapa()"
      ],
      "metadata": {
        "colab": {
          "base_uri": "https://localhost:8080/"
        },
        "id": "nLMeKSh1YmMo",
        "outputId": "567e8aed-8ca3-44c6-9e8e-726863434371"
      },
      "execution_count": null,
      "outputs": [
        {
          "output_type": "stream",
          "name": "stdout",
          "text": [
            "selamat malam, saya Andhika\n"
          ]
        }
      ]
    },
    {
      "cell_type": "code",
      "source": [
        "def menyapa(nama):\n",
        "  # untuk menempelkan text dengan data lain, kita bisa gunakan 3 cara berbeda:\n",
        "  print(\"selamat malam, saya \" + str(nama))\n",
        "  # print(\"selamat malam, saya\", nama)\n",
        "  # print(f\"selamat malam, saya {nama}\")\n",
        "\n",
        "menyapa(\"Budi\")"
      ],
      "metadata": {
        "colab": {
          "base_uri": "https://localhost:8080/"
        },
        "id": "-HXIwU6hYtDK",
        "outputId": "7d21e64b-8fcc-4b17-deee-78d75ae5319e"
      },
      "execution_count": null,
      "outputs": [
        {
          "output_type": "stream",
          "name": "stdout",
          "text": [
            "selamat malam, saya Budi\n"
          ]
        }
      ]
    },
    {
      "cell_type": "code",
      "source": [
        "list_nama = [\"Andi\", \"Ben\", \"Cindy\", \"Dani\"]\n",
        "\n",
        "for n in list_nama:\n",
        "  menyapa(n)"
      ],
      "metadata": {
        "colab": {
          "base_uri": "https://localhost:8080/"
        },
        "id": "TesDK-qMZG4u",
        "outputId": "5fdf2d2f-7191-45e1-9f95-11daf33270d0"
      },
      "execution_count": null,
      "outputs": [
        {
          "output_type": "stream",
          "name": "stdout",
          "text": [
            "selamat malam, saya Andi\n",
            "selamat malam, saya Ben\n",
            "selamat malam, saya Cindy\n",
            "selamat malam, saya Dani\n"
          ]
        }
      ]
    },
    {
      "cell_type": "markdown",
      "source": [
        "## Pass by Reference\n",
        "saat kita punya data yang sifatnya terstruktur\n",
        "\n",
        "kalau data ini di pass masuk ke dalam function, dan di dalam function tersebut diubah, maka data asli kita akan ikut2an berubah.\n",
        "\n",
        "kita bisa perhatikan dulu fenomena ini menggunakan variable"
      ],
      "metadata": {
        "id": "rHduPNg-ZnkH"
      }
    },
    {
      "cell_type": "code",
      "source": [
        "print(list_nama)"
      ],
      "metadata": {
        "colab": {
          "base_uri": "https://localhost:8080/"
        },
        "id": "is94FxmRZRPy",
        "outputId": "b461619a-50a0-41cf-a6fe-d555628c7d7d"
      },
      "execution_count": null,
      "outputs": [
        {
          "output_type": "stream",
          "name": "stdout",
          "text": [
            "['Andi', 'Ben', 'Cindy', 'Dani']\n"
          ]
        }
      ]
    },
    {
      "cell_type": "code",
      "source": [
        "list_nama2 = list_nama"
      ],
      "metadata": {
        "id": "2ZkP2-3qZzAC"
      },
      "execution_count": null,
      "outputs": []
    },
    {
      "cell_type": "code",
      "source": [
        "list_nama2.append(\"George\")"
      ],
      "metadata": {
        "id": "Zemtlew-Z0u7"
      },
      "execution_count": null,
      "outputs": []
    },
    {
      "cell_type": "code",
      "source": [
        "print(list_nama2)"
      ],
      "metadata": {
        "colab": {
          "base_uri": "https://localhost:8080/"
        },
        "id": "xyPpoc6AZ4_M",
        "outputId": "f0d7f0b2-f448-413c-fa86-4dd9c4fab683"
      },
      "execution_count": null,
      "outputs": [
        {
          "output_type": "stream",
          "name": "stdout",
          "text": [
            "['Andi', 'Ben', 'Cindy', 'Dani', 'George']\n"
          ]
        }
      ]
    },
    {
      "cell_type": "code",
      "source": [
        "print(list_nama)"
      ],
      "metadata": {
        "colab": {
          "base_uri": "https://localhost:8080/"
        },
        "id": "jZ__6sjvZ6Qr",
        "outputId": "4fbb06f2-34ab-43e3-aece-882c127cd87f"
      },
      "execution_count": null,
      "outputs": [
        {
          "output_type": "stream",
          "name": "stdout",
          "text": [
            "['Andi', 'Ben', 'Cindy', 'Dani', 'George']\n"
          ]
        }
      ]
    },
    {
      "cell_type": "markdown",
      "source": [
        "karena tipe data terstruktur tidak di copy seluruhnya\n",
        "\n",
        "karena tipe data terstruktur isinya bisa unlimited, ber gb memory, ratusan juta data di dalamnya, secara default, saat kita bilang\n",
        "\n",
        "variable_baru = variable_lama_isi_data_terstruktur\n",
        "\n",
        "yang dilakukan komputer bukan bikin full copy data lama\n",
        "\n",
        "tapi hanya bilang, variable baru --> data_lama\n",
        "- variable_lama --> data_lama\n",
        "- variable baru --> data_lama\n",
        "\n",
        "jadi sekarang data_lama punya 2 nama\n",
        "\n",
        "hal ini namanya \"reference\"\n",
        "\n",
        "---\n",
        "\n",
        "function yang baik tidak mengubah data asli yang dia terima.\n",
        "\n",
        "ini untuk meminimalisir error tak terduga.\n",
        "\n",
        "bayangkan data aslinya cuma 1 copy, 1 database, 1 variable yang sudah kita simpan\n",
        "\n",
        "kalau function bisa mengubah data asli, dia bisa secara tidak langsung menghapus data yang mau kita simpan (kepake di function)\n"
      ],
      "metadata": {
        "id": "M-syHYlpaB8n"
      }
    },
    {
      "cell_type": "code",
      "source": [
        "# contoh pass by reference di function\n",
        "\n",
        "buah_buahan = [\"apel\", \"jeruk\"]\n",
        "\n",
        "def tambahBuah(list_lama, buah_baru):\n",
        "  list_baru = list_lama\n",
        "  list_baru.append(buah_baru)\n",
        "  print(\"list baru\", list_baru)\n",
        "\n",
        "\n",
        "print(\"buah_buahan\", buah_buahan)\n",
        "\n",
        "tambahBuah(buah_buahan, \"semangka\")\n",
        "\n",
        "print(\"buah_buahan\", buah_buahan)"
      ],
      "metadata": {
        "colab": {
          "base_uri": "https://localhost:8080/"
        },
        "id": "_ISL7kF-aAzm",
        "outputId": "3107b59a-2004-4980-da7b-c465e013c2c7"
      },
      "execution_count": null,
      "outputs": [
        {
          "output_type": "stream",
          "name": "stdout",
          "text": [
            "buah_buahan ['apel', 'jeruk']\n",
            "list baru ['apel', 'jeruk', 'semangka']\n",
            "buah_buahan ['apel', 'jeruk', 'semangka']\n"
          ]
        }
      ]
    },
    {
      "cell_type": "code",
      "source": [
        "# kalau mau mengubah data terstruktur, kita copy dulu, deep copy .copy()\n",
        "\n",
        "buah_buahan = [\"apel\", \"jeruk\"]\n",
        "\n",
        "def tambahBuah(list_lama, buah_baru):\n",
        "  list_baru = list_lama.copy()\n",
        "  list_baru.append(buah_baru)\n",
        "  print(\"list baru\", list_baru)\n",
        "\n",
        "\n",
        "print(\"buah_buahan\", buah_buahan)\n",
        "\n",
        "tambahBuah(buah_buahan, \"semangka\")\n",
        "\n",
        "print(\"buah_buahan\", buah_buahan)"
      ],
      "metadata": {
        "colab": {
          "base_uri": "https://localhost:8080/"
        },
        "id": "rpEYH6N9bL-u",
        "outputId": "62318305-8ae1-407b-d6bd-9f5022ae340f"
      },
      "execution_count": null,
      "outputs": [
        {
          "output_type": "stream",
          "name": "stdout",
          "text": [
            "buah_buahan ['apel', 'jeruk']\n",
            "list baru ['apel', 'jeruk', 'semangka']\n",
            "buah_buahan ['apel', 'jeruk']\n"
          ]
        }
      ]
    },
    {
      "cell_type": "markdown",
      "source": [
        "semua function buatan Python, tidak kena error reference ini. Tidak ada function buatan Python yang menimpa data yang diberikan.\n",
        "\n",
        "### Pass by Value\n",
        "tipe data primitif (int float str bool) tidak bsia diubah secara reference, jadi aman."
      ],
      "metadata": {
        "id": "gZ-bor29bftw"
      }
    },
    {
      "cell_type": "markdown",
      "source": [
        "### contoh functions"
      ],
      "metadata": {
        "id": "3AJIt9bWgMoQ"
      }
    },
    {
      "cell_type": "code",
      "source": [
        "def menyapa(nama, msg):\n",
        "  print(\"selamat malam, \" + str(nama) + \" \" + str(msg))\n",
        "  # print(f\"selamat malam, {nama} {msg}\")\n",
        "\n",
        "menyapa(\"Budi\", \"kamu terlambat\")"
      ],
      "metadata": {
        "colab": {
          "base_uri": "https://localhost:8080/"
        },
        "id": "WOUjuHTybdD-",
        "outputId": "dd411cf9-6239-4caa-83b3-a9f56be8185b"
      },
      "execution_count": null,
      "outputs": [
        {
          "output_type": "stream",
          "name": "stdout",
          "text": [
            "selamat malam, Budi kamu terlambat\n"
          ]
        }
      ]
    },
    {
      "cell_type": "markdown",
      "source": [
        "mau mengurangi jumlah item dalam list"
      ],
      "metadata": {
        "id": "d01iwi8jgSAg"
      }
    },
    {
      "cell_type": "code",
      "source": [
        "buah_buahan = [\"apel\", \"jeruk\", \"pisang\"]\n",
        "\n",
        "buah_buahan.remove(\"jeruk\")\n",
        "print(buah_buahan)"
      ],
      "metadata": {
        "colab": {
          "base_uri": "https://localhost:8080/"
        },
        "id": "IjCac3EngUXw",
        "outputId": "5ea240e0-b8ae-4a5c-e465-08d4a22b768d"
      },
      "execution_count": null,
      "outputs": [
        {
          "output_type": "stream",
          "name": "stdout",
          "text": [
            "['apel', 'pisang']\n"
          ]
        }
      ]
    },
    {
      "cell_type": "code",
      "source": [
        "buah_buahan = [\"apel\", \"jeruk\", \"pisang\"]\n",
        "\n",
        "buah_buahan.pop() # hapus item terakhir\n",
        "print(buah_buahan)"
      ],
      "metadata": {
        "colab": {
          "base_uri": "https://localhost:8080/"
        },
        "id": "9Y__Zv9jgb_4",
        "outputId": "1aa596b4-0a1a-40a8-8d8f-cd3c0d33262d"
      },
      "execution_count": null,
      "outputs": [
        {
          "output_type": "stream",
          "name": "stdout",
          "text": [
            "['apel', 'jeruk']\n"
          ]
        }
      ]
    },
    {
      "cell_type": "code",
      "source": [
        "buah_buahan = [\"apel\", \"jeruk\", \"pisang\"]\n",
        "\n",
        "buah_buahan.pop(1) # hapus item index 1, item kedua dari depan\n",
        "print(buah_buahan)"
      ],
      "metadata": {
        "colab": {
          "base_uri": "https://localhost:8080/"
        },
        "id": "jO-nmzwUgttg",
        "outputId": "8e3028a7-287b-4849-b0dc-c16816a8714b"
      },
      "execution_count": null,
      "outputs": [
        {
          "output_type": "stream",
          "name": "stdout",
          "text": [
            "['apel', 'pisang']\n"
          ]
        }
      ]
    },
    {
      "cell_type": "markdown",
      "source": [
        "semua teknik diatas menghapus data aslinya juga, jadi kalau mau digunakan di function, jangan lupa untuk copy dulu data aslinya. yang di edit hasil copynya aja."
      ],
      "metadata": {
        "id": "sS2XZjSvg7H4"
      }
    },
    {
      "cell_type": "markdown",
      "source": [
        "# Function Arguments\n",
        "Ada 4 jenis funciton argumen yang mau kita bahas:\n",
        "\n",
        "1. Required arguments - harus diisi saat invoke\n",
        "2. Default argument - TIDAK harus diisi saat invoke, karena dia punya default value\n",
        "3. Keyword arguments - saat kita isi kisa bisa gunakan nama argumen, bukan posisi nya (position argument)\n",
        "4. variable-length arguments - satu argumen ini bisa memiliki 0,1,2,... banyak data"
      ],
      "metadata": {
        "id": "KsS9tBuLcOiA"
      }
    },
    {
      "cell_type": "code",
      "source": [
        "# 1. required\n",
        "# argumen yang kita buat seperti ini, required, harus diisi\n",
        "def menyapa(nama, msg):\n",
        "  print(\"selamat malam, \" + str(nama) + \" \" + str(msg))\n",
        "\n",
        "# tidak diisi, kita akan dapat error `missing 2 required positional arguments: 'nama' and 'msg'`\n",
        "menyapa(\"ininama\", \"dan message nya\")"
      ],
      "metadata": {
        "colab": {
          "base_uri": "https://localhost:8080/"
        },
        "id": "OWD3gPzxfnqw",
        "outputId": "c893c0b8-7f2d-4c56-dd95-22b341349b9d"
      },
      "execution_count": null,
      "outputs": [
        {
          "output_type": "stream",
          "name": "stdout",
          "text": [
            "selamat malam, ininama dan message nya\n"
          ]
        }
      ]
    },
    {
      "cell_type": "code",
      "source": [
        "# 2. default\n",
        "# argumen yang kita buat seperti ini, punya default value, jadi tidak harus diisi\n",
        "def menyapa(nama=\"Ibu/Bapak\", msg=\"selamat datang.\"):\n",
        "  print(\"selamat malam, \" + str(nama) + \" \" + str(msg))\n",
        "\n",
        "# tidak diisi, gpp\n",
        "menyapa()\n",
        "\n",
        "# mau diisi juga bisa\n",
        "menyapa(\"Andi\")\n",
        "\n",
        "# argumen yang punya default value, tidak harus diisi"
      ],
      "metadata": {
        "colab": {
          "base_uri": "https://localhost:8080/"
        },
        "id": "WeDNVNWVhM0w",
        "outputId": "1232ebe2-bdf8-4f0f-ca23-27b9d5c1aff6"
      },
      "execution_count": null,
      "outputs": [
        {
          "output_type": "stream",
          "name": "stdout",
          "text": [
            "selamat malam, Ibu/Bapak selamat datang.\n",
            "selamat malam, Andi selamat datang.\n"
          ]
        }
      ]
    },
    {
      "cell_type": "code",
      "source": [
        "# 1 dan 2\n",
        "# bisa campur2 pembuatan argumen ada yang required, ada yang default\n",
        "def menyapa(nama, msg=\"selamat datang.\"):\n",
        "  print(\"selamat malam, \" + str(nama) + \" \" + str(msg))\n",
        "\n",
        "menyapa(\"Nadia\")\n",
        "menyapa(\"Nadia\", \"terima kasih sudah datang\")"
      ],
      "metadata": {
        "colab": {
          "base_uri": "https://localhost:8080/"
        },
        "id": "G5KPxXbch9bj",
        "outputId": "38abc3fa-2bee-44fa-f3cf-5c055bb238ee"
      },
      "execution_count": null,
      "outputs": [
        {
          "output_type": "stream",
          "name": "stdout",
          "text": [
            "selamat malam, Nadia selamat datang.\n",
            "selamat malam, Nadia terima kasih sudah datang\n"
          ]
        }
      ]
    },
    {
      "cell_type": "markdown",
      "source": [
        "```python\n",
        "def menyapa(msg=\"selamat datang.\", nama):\n",
        "  print(\"selamat malam, \" + str(nama) + \" \" + str(msg))\n",
        "```\n",
        "cara tulis diatas salah\n",
        "\n",
        "cara tulis default duluan baru required akan di complain oleh Python, karena yang required kan harus diisi, dia lebih \"penting\", dia harus duluan"
      ],
      "metadata": {
        "id": "ZIJnvXM5iYPw"
      }
    },
    {
      "cell_type": "code",
      "source": [
        "# 3. keyword\n",
        "# bukan cara bikin argumen, tapi cara isinya pas invoke\n",
        "# sejauh ini kita selalu isi argumen berurutan kiri ke kanan, 1,2,3,...\n",
        "\n",
        "def menyapa(salam=\"selamat\", waktu=\"pagi\", nama=\"ibu/bapak\", tempat=\"tempat\", penutup=\"terima kasih\"):\n",
        "  print(salam, waktu, nama, \"di\", tempat + str(\".\"), penutup)\n",
        "\n",
        "menyapa(tempat=\"kantor\")\n",
        "menyapa(nama=\"pak Budiman\", penutup=\"Sudah ditunggu meeting diatas.\")"
      ],
      "metadata": {
        "colab": {
          "base_uri": "https://localhost:8080/"
        },
        "id": "qofHCwFliOh6",
        "outputId": "08645400-3970-4c79-b60c-0cf32ca89d51"
      },
      "execution_count": null,
      "outputs": [
        {
          "output_type": "stream",
          "name": "stdout",
          "text": [
            "selamat pagi ibu/bapak di kantor. terima kasih\n",
            "selamat pagi pak Budiman di tempat. Sudah ditunggu meeting diatas.\n"
          ]
        }
      ]
    },
    {
      "cell_type": "code",
      "source": [
        "# 4. variable-length\n",
        "# argumen yang bisa menerima 0,1,2,... banyak data\n",
        "\n",
        "def tambahAngka(*num):\n",
        "  total = 0\n",
        "  for n in num:\n",
        "    total += n\n",
        "  print(total)\n",
        "\n",
        "tambahAngka()\n",
        "tambahAngka(1,2,3,77,900,-32)"
      ],
      "metadata": {
        "colab": {
          "base_uri": "https://localhost:8080/"
        },
        "id": "V5J_5Mg4fnty",
        "outputId": "62fbc1eb-2475-4369-e5ae-b4d15446be1d"
      },
      "execution_count": null,
      "outputs": [
        {
          "output_type": "stream",
          "name": "stdout",
          "text": [
            "0\n",
            "951\n"
          ]
        }
      ]
    },
    {
      "cell_type": "markdown",
      "source": [
        "mirip function print, bisa terima sebanyak apapun variables"
      ],
      "metadata": {
        "id": "J8DwDAI_lJdy"
      }
    },
    {
      "cell_type": "code",
      "source": [
        "# required, default, variable-length argumen bisa digunakan berbarengan\n",
        "def tambahAngka(seed_val, *num, msg=\"Total adalah:\"):\n",
        "  total = seed_val\n",
        "  for n in num:\n",
        "    total += n\n",
        "  print(msg, total)\n",
        "\n",
        "# cara panggil bisa pakai keyword\n",
        "tambahAngka(5,6,7,8,9, msg=\"halo\")"
      ],
      "metadata": {
        "colab": {
          "base_uri": "https://localhost:8080/"
        },
        "id": "R4HEjcRqkGyP",
        "outputId": "33fd31cc-d7f5-4991-8cd5-59c2d366ffad"
      },
      "execution_count": null,
      "outputs": [
        {
          "output_type": "stream",
          "name": "stdout",
          "text": [
            "halo 35\n"
          ]
        }
      ]
    },
    {
      "cell_type": "markdown",
      "source": [
        "### latihan pendek\n",
        "\n",
        "cobalah buat sebuah function yang menghitung jumlah \"merah\" di dalam sebuah list.\n",
        "\n",
        "siapkan list berisi string misalnya:\n",
        "`warna_balon = [\"merah\", \"biru\", \"hijau\"]*3 + [\"kuning\"]`"
      ],
      "metadata": {
        "id": "opmv_vfKlUic"
      }
    },
    {
      "cell_type": "code",
      "source": [
        "warna_balon = [\"merah\", \"biru\", \"hijau\"]*3 + [\"kuning\"]\n",
        "warna_balon"
      ],
      "metadata": {
        "colab": {
          "base_uri": "https://localhost:8080/"
        },
        "id": "qMGLO2FglmE1",
        "outputId": "cf5abab7-3883-489a-94d5-fbeb8846483a"
      },
      "execution_count": null,
      "outputs": [
        {
          "output_type": "execute_result",
          "data": {
            "text/plain": [
              "['merah',\n",
              " 'biru',\n",
              " 'hijau',\n",
              " 'merah',\n",
              " 'biru',\n",
              " 'hijau',\n",
              " 'merah',\n",
              " 'biru',\n",
              " 'hijau',\n",
              " 'kuning']"
            ]
          },
          "metadata": {},
          "execution_count": 68
        }
      ]
    },
    {
      "cell_type": "code",
      "source": [
        "# dengan menggunakan pengetahuan list, loop, if, integer, print\n",
        "# kerjakan latihan diatas\n",
        "\n",
        "def hitungWarna(list_items, warna=\"merah\"):\n",
        "  total = 0\n",
        "  for w in list_items:\n",
        "    if (w == warna):\n",
        "      total += 1\n",
        "  print(f\"jumlah warna {warna}: {total}\")\n",
        "\n",
        "hitungWarna(warna_balon)"
      ],
      "metadata": {
        "colab": {
          "base_uri": "https://localhost:8080/"
        },
        "id": "f20RB6FdlreA",
        "outputId": "e6935abc-3139-4fc7-ede6-290ab4dcda16"
      },
      "execution_count": null,
      "outputs": [
        {
          "output_type": "stream",
          "name": "stdout",
          "text": [
            "jumlah warna merah: 3\n"
          ]
        }
      ]
    },
    {
      "cell_type": "markdown",
      "source": [
        "# Return statement\n",
        "selain menggunakan print untuk melihat hasil kalkulasi, hasil proses\n",
        "\n",
        "kita bisa juga simpan hasil proses code kedalam variable. kan hasilnya tetap data. data bisa masuk variable.\n",
        "\n",
        "data yang di proses di dalam function, bagaimana cara kita kembalikan ke luar function?\n",
        "\n",
        "```python\n",
        "functionTambah(1,5,7,87)\n",
        "```\n",
        "contohnya, function tambah diatas, hasilnya bagaimana bisa kita masukin ke variable?\n",
        "\n",
        "kita gunakan keyword `return`"
      ],
      "metadata": {
        "id": "d69qGaVzcs_5"
      }
    },
    {
      "cell_type": "code",
      "source": [
        "# code jalannya atas ke bawah urut\n",
        "\n",
        "a = 1\n",
        "\n",
        "a = 2\n",
        "\n",
        "a = -3\n",
        "\n",
        "print(a) # a akan -3, yang terakhir"
      ],
      "metadata": {
        "colab": {
          "base_uri": "https://localhost:8080/"
        },
        "id": "JQTkmdVPdCqZ",
        "outputId": "b6388205-e5df-4687-80da-5440c047d538"
      },
      "execution_count": null,
      "outputs": [
        {
          "output_type": "stream",
          "name": "stdout",
          "text": [
            "-3\n"
          ]
        }
      ]
    },
    {
      "cell_type": "code",
      "source": [
        "# kalau ada function, code jalannya urut, tapi... code function bisa ditulis di tempat lain\n",
        "\n",
        "baju_warna = [\"putih\", \"warna warni\", \"hitam\", \"biru\", \"abu abu\", \"kuning\"]\n",
        "\n",
        "hitungWarna(baju_warna)\n",
        "\n",
        "# kalau gak ada baju warna merah, kita beli baju merah\n",
        "# kalau ada, kita beli baju putih\n",
        "\n"
      ],
      "metadata": {
        "colab": {
          "base_uri": "https://localhost:8080/"
        },
        "id": "uqj5CxEFoXiV",
        "outputId": "0975ca5e-14d4-45da-8b6e-fccd6d3d976c"
      },
      "execution_count": null,
      "outputs": [
        {
          "output_type": "stream",
          "name": "stdout",
          "text": [
            "jumlah warna merah: 0\n"
          ]
        }
      ]
    },
    {
      "cell_type": "code",
      "source": [
        "jumlah_baju_merah = 0"
      ],
      "metadata": {
        "id": "1ni1dLQ6oyhp"
      },
      "execution_count": null,
      "outputs": []
    },
    {
      "cell_type": "markdown",
      "source": [
        "daripada kita perlu nunggu hasil print, lalu secara manual bikin variable, untuk dilanjutkan ke code berikut (misalnya if, atau function lain, atau buat di save ke database)\n",
        "\n",
        "kita gunakan \"return\"\n",
        "\n",
        "\"return\" bisa mengembalikan value yang sudah dihitung oleh function ke luar, ke tempat function dipanggil"
      ],
      "metadata": {
        "id": "G1R9CRdXo8Dj"
      }
    },
    {
      "cell_type": "code",
      "source": [
        "def hitungWarna(list_items, warna=\"merah\"):\n",
        "  total = 0\n",
        "  for w in list_items:\n",
        "    if (w == warna):\n",
        "      total += 1\n",
        "  return [warna, total] # di contoh ini, kita mengembalikan data bentuk list, isinya ada dua"
      ],
      "metadata": {
        "id": "BacPVpmvpHkx"
      },
      "execution_count": null,
      "outputs": []
    },
    {
      "cell_type": "code",
      "source": [
        "baju_warna = [\"putih\", \"warna warni\", \"hitam\", \"biru\", \"abu abu\", \"kuning\"]\n",
        "\n",
        "hitungWarna(baju_warna)\n",
        "\n",
        "# kalau gak ada baju warna merah, kita beli baju merah\n",
        "# kalau ada, kita beli baju putih"
      ],
      "metadata": {
        "colab": {
          "base_uri": "https://localhost:8080/"
        },
        "id": "HaSg1fCFpNmE",
        "outputId": "233d16a4-ad53-49e9-abc3-dfd9d035df25"
      },
      "execution_count": null,
      "outputs": [
        {
          "output_type": "execute_result",
          "data": {
            "text/plain": [
              "['merah', 0]"
            ]
          },
          "metadata": {},
          "execution_count": 81
        }
      ]
    },
    {
      "cell_type": "code",
      "source": [
        "buah_warna = [\"merah\", \"hijau\", \"oranye\", \"kuning\", \"hijau\", \"coklat\"]\n",
        "\n",
        "hitungWarna(buah_warna)\n",
        "hitungWarna(buah_warna, \"hijau\")"
      ],
      "metadata": {
        "colab": {
          "base_uri": "https://localhost:8080/"
        },
        "id": "_CG2uyyxpV2B",
        "outputId": "d3d84f6d-352e-42e7-e5df-66f1873bb3b1"
      },
      "execution_count": null,
      "outputs": [
        {
          "output_type": "execute_result",
          "data": {
            "text/plain": [
              "['hijau', 2]"
            ]
          },
          "metadata": {},
          "execution_count": 83
        }
      ]
    },
    {
      "cell_type": "code",
      "source": [
        "['merah', 1]\n",
        "['hijau', 2]"
      ],
      "metadata": {
        "colab": {
          "base_uri": "https://localhost:8080/"
        },
        "id": "QNqVwUZqpfyu",
        "outputId": "c839a2d6-f6f2-4541-d9ff-40491003a515"
      },
      "execution_count": null,
      "outputs": [
        {
          "output_type": "execute_result",
          "data": {
            "text/plain": [
              "['hijau', 2]"
            ]
          },
          "metadata": {},
          "execution_count": 85
        }
      ]
    },
    {
      "cell_type": "markdown",
      "source": [
        "return membuat tempat function dipanggil berubah menjadi data. data yang di return.\n",
        "\n",
        "data bisa kita masukin ke variable"
      ],
      "metadata": {
        "id": "Cr6wqOA1pua1"
      }
    },
    {
      "cell_type": "code",
      "source": [
        "baju_warna = [\"putih\", \"warna warni\", \"hitam\", \"biru\", \"abu abu\", \"kuning\"]\n",
        "\n",
        "total_baju_merah = hitungWarna(baju_warna)\n",
        "total_baju_putih = hitungWarna(baju_warna, 'putih')\n",
        "\n",
        "# kalau gak ada baju warna merah, kita beli baju merah\n",
        "if (total_baju_merah[1] == 0):\n",
        "  print(\"beli baju merah\")\n",
        "else:\n",
        "  # kalau ada, kita beli baju putih\n",
        "  print(\"beli baju putih\")"
      ],
      "metadata": {
        "colab": {
          "base_uri": "https://localhost:8080/"
        },
        "id": "YqZDK0nFpnO4",
        "outputId": "f4838a78-48f3-43a5-e990-5ffa277dd77b"
      },
      "execution_count": null,
      "outputs": [
        {
          "output_type": "stream",
          "name": "stdout",
          "text": [
            "beli baju merah\n"
          ]
        }
      ]
    },
    {
      "cell_type": "code",
      "source": [
        "total_baju_putih"
      ],
      "metadata": {
        "colab": {
          "base_uri": "https://localhost:8080/"
        },
        "id": "b4rTaX90qDNL",
        "outputId": "4376468c-1272-4301-a2d2-30cde4986d52"
      },
      "execution_count": null,
      "outputs": [
        {
          "output_type": "execute_result",
          "data": {
            "text/plain": [
              "['putih', 1]"
            ]
          },
          "metadata": {},
          "execution_count": 89
        }
      ]
    },
    {
      "cell_type": "code",
      "source": [
        "total_baju_merah"
      ],
      "metadata": {
        "colab": {
          "base_uri": "https://localhost:8080/"
        },
        "id": "HYHAzK-EqUQC",
        "outputId": "e2b1ee74-b025-4d0d-9648-edfbcdeaccdf"
      },
      "execution_count": null,
      "outputs": [
        {
          "output_type": "execute_result",
          "data": {
            "text/plain": [
              "['merah', 0]"
            ]
          },
          "metadata": {},
          "execution_count": 90
        }
      ]
    },
    {
      "cell_type": "markdown",
      "source": [
        "dengan menggunakan `return` function jadi bisa mengembalikan hasil proses keluar. kita bisa simpan hasil hitung2 sebuah function ke variable."
      ],
      "metadata": {
        "id": "Crc7GI4SqXmp"
      }
    },
    {
      "cell_type": "markdown",
      "source": [
        "### scope variable\n",
        "variable yang lahir di dalam tidak bisa dipakai di luar\n",
        "\n",
        "variable yang lahir di luar (global) bisa dipakai di dalam"
      ],
      "metadata": {
        "id": "Iy6ttou23Vbk"
      }
    },
    {
      "cell_type": "code",
      "source": [
        "pi = 3.14 # global, lahir di luar\n",
        "\n",
        "def hitungLuas(r):\n",
        "  # pi adalah variable global yang bisa digunakan di dalam function\n",
        "  luas_lingkaran = pi * r * r\n",
        "\n",
        "  # tapi, baiknya, variable yang mau dipakai di dalam function semua dari argumen saja\n",
        "  # tujuan: minimalisir kebingungan kita sebagai dev manusia\n",
        "  print(luas_lingkaran)\n",
        "\n",
        "hitungLuas(7)"
      ],
      "metadata": {
        "colab": {
          "base_uri": "https://localhost:8080/"
        },
        "id": "tn7y3O833bBw",
        "outputId": "dab777d9-712c-4676-db98-dc5d372da601"
      },
      "execution_count": null,
      "outputs": [
        {
          "output_type": "stream",
          "name": "stdout",
          "text": [
            "153.86\n"
          ]
        }
      ]
    },
    {
      "cell_type": "code",
      "source": [
        "# best practice, variable yang function mau pakai semuanya ada di argumen atau di dalam function tersebut\n",
        "def hitungLuas(r):\n",
        "  pie = 3.14\n",
        "  luas_lingkaran = pie * r * r\n",
        "  print(luas_lingkaran)\n",
        "\n",
        "# di luar sini, variable yang ada di dalam function, seperti r, atau pie, tidak bisa dipakai"
      ],
      "metadata": {
        "id": "hVjOSVpg38r8"
      },
      "execution_count": null,
      "outputs": []
    },
    {
      "cell_type": "markdown",
      "source": [
        "```python\n",
        "print(pie)\n",
        "```\n",
        "akan memberikan error NameError: name 'pie' is not defined\n",
        "\n",
        "```python\n",
        "print(r)\n",
        "```\n",
        "akan memberikan error NameError: name 'r' is not defined\n",
        "\n",
        "karena variable pie dan r lahir di dalam function hitungLuas, maka hidupnya hanya di dalam function tersebut saja. tidak bisa di akses di luar. namanya lokal variable."
      ],
      "metadata": {
        "id": "JYr9b6Wn4Qj0"
      }
    },
    {
      "cell_type": "markdown",
      "source": [
        "### latihan pendek\n",
        "latihan membuat function\n",
        "- pembuatan function\n",
        "- argumen\n",
        "- argumen tipe default\n",
        "- argumen tipe keyword\n",
        "- return\n",
        "\n",
        "1. diberikan sebuah list berisi banyak angka, kita diminta mencari rata-ratanya.\n",
        "\n",
        "2. jika ada angka yang negatif, jangan di include ke rata-ratanya\n",
        "\n",
        "3. hasil hitungnya di simpan ke variable. jika dibawah 5, maka print \"kecil\", jika diatas 5, print \"besar\", dan kalau pas 5, print \"Jackpot!\""
      ],
      "metadata": {
        "id": "p_wI_ZDbqlnc"
      }
    },
    {
      "cell_type": "code",
      "source": [
        "# 1. function hitung rata rata\n",
        "list_angka = [213,4536,678,-87,43]\n",
        "\n",
        "def rataRata(la):\n",
        "  total = 0\n",
        "  jumlah_angka = len(la)\n",
        "\n",
        "  for num in la:\n",
        "    total += num\n",
        "\n",
        "  hasil = total / jumlah_angka\n",
        "  return hasil\n",
        "\n",
        "rataRata(list_angka)"
      ],
      "metadata": {
        "colab": {
          "base_uri": "https://localhost:8080/"
        },
        "id": "mUdO6j4PqWYi",
        "outputId": "207be5ac-5c06-40e2-e6b5-ae0e0bd04f4e"
      },
      "execution_count": null,
      "outputs": [
        {
          "output_type": "execute_result",
          "data": {
            "text/plain": [
              "1076.6"
            ]
          },
          "metadata": {},
          "execution_count": 92
        }
      ]
    },
    {
      "cell_type": "code",
      "source": [
        "# 2. function hitung rata rata yang menghapus angka negatif\n",
        "list_angka = [213,4536,678,-87,43]\n",
        "\n",
        "def rataRata(la):\n",
        "  total = 0\n",
        "  jumlah_angka = 0\n",
        "\n",
        "  for num in la:\n",
        "    if (num > 0):\n",
        "      total += num\n",
        "      jumlah_angka += 1\n",
        "\n",
        "  hasil = total / jumlah_angka\n",
        "  return hasil\n",
        "\n",
        "rataRata(list_angka)"
      ],
      "metadata": {
        "colab": {
          "base_uri": "https://localhost:8080/"
        },
        "id": "az_FZeyKuFAB",
        "outputId": "edbe74e3-8802-4a19-c8f8-f3e6ae57db24"
      },
      "execution_count": null,
      "outputs": [
        {
          "output_type": "execute_result",
          "data": {
            "text/plain": [
              "1367.5"
            ]
          },
          "metadata": {},
          "execution_count": 93
        }
      ]
    },
    {
      "cell_type": "code",
      "source": [
        "# 3. return\n",
        "# hasil hitungnya di simpan ke variable. jika dibawah 5, maka print \"kecil\", jika diatas 5, print \"besar\", dan kalau pas 5, print \"Jackpot!\"\n",
        "\n",
        "hasil_hitung = rataRata(list_angka)\n",
        "print(hasil_hitung)\n",
        "\n",
        "if (hasil_hitung < 5):\n",
        "  print(\"kecil\")\n",
        "elif (hasil_hitung > 5):\n",
        "  print(\"besar\")\n",
        "else:\n",
        "  print(\"Jackpot!\")\n"
      ],
      "metadata": {
        "colab": {
          "base_uri": "https://localhost:8080/"
        },
        "id": "IBUvkxzWufpk",
        "outputId": "76f35e9c-efdd-47a7-83ef-88b3df0036f5"
      },
      "execution_count": null,
      "outputs": [
        {
          "output_type": "stream",
          "name": "stdout",
          "text": [
            "1367.5\n",
            "besar\n"
          ]
        }
      ]
    },
    {
      "cell_type": "code",
      "source": [
        "hasil_hitung = rataRata([5,5,5,5,5,5])\n",
        "print(hasil_hitung)\n",
        "\n",
        "if (hasil_hitung < 5):\n",
        "  print(\"kecil\")\n",
        "elif (hasil_hitung > 5):\n",
        "  print(\"besar\")\n",
        "else:\n",
        "  print(\"Jackpot!\")"
      ],
      "metadata": {
        "colab": {
          "base_uri": "https://localhost:8080/"
        },
        "id": "8jw0rmc6u4ov",
        "outputId": "735c2928-c897-42fe-c174-19e4fa505726"
      },
      "execution_count": null,
      "outputs": [
        {
          "output_type": "stream",
          "name": "stdout",
          "text": [
            "5.0\n",
            "Jackpot!\n"
          ]
        }
      ]
    },
    {
      "cell_type": "code",
      "source": [
        "def cekJackpot(num):\n",
        "  if (num < 5):\n",
        "    print(\"kecil\")\n",
        "  elif (num > 5):\n",
        "    print(\"besar\")\n",
        "  else:\n",
        "    print(\"Jackpot!\")"
      ],
      "metadata": {
        "id": "SZTSBuwZvKuZ"
      },
      "execution_count": null,
      "outputs": []
    },
    {
      "cell_type": "code",
      "source": [
        "hasil_hitung = rataRata([5,5,5,5,5,5])\n",
        "\n",
        "cekJackpot(hasil_hitung)"
      ],
      "metadata": {
        "colab": {
          "base_uri": "https://localhost:8080/"
        },
        "id": "wvQz5HM7vTvf",
        "outputId": "320ccb02-08e9-4e57-bf16-954a428660bf"
      },
      "execution_count": null,
      "outputs": [
        {
          "output_type": "stream",
          "name": "stdout",
          "text": [
            "Jackpot!\n"
          ]
        }
      ]
    },
    {
      "cell_type": "code",
      "source": [
        "hasil_hitung = rataRata([5,5,5,5,5,10])\n",
        "\n",
        "cekJackpot(hasil_hitung)"
      ],
      "metadata": {
        "colab": {
          "base_uri": "https://localhost:8080/"
        },
        "id": "fn5pGE0IvXMr",
        "outputId": "009792d2-55fc-4667-e231-e115269d4962"
      },
      "execution_count": null,
      "outputs": [
        {
          "output_type": "stream",
          "name": "stdout",
          "text": [
            "besar\n"
          ]
        }
      ]
    },
    {
      "cell_type": "code",
      "source": [
        "hasil_hitung = rataRata([5,5,5,5,5,3])\n",
        "\n",
        "cekJackpot(hasil_hitung)"
      ],
      "metadata": {
        "colab": {
          "base_uri": "https://localhost:8080/"
        },
        "id": "ozqXT4Ruvaek",
        "outputId": "e8d73127-1177-4a7c-a92b-b25898b3a510"
      },
      "execution_count": null,
      "outputs": [
        {
          "output_type": "stream",
          "name": "stdout",
          "text": [
            "kecil\n"
          ]
        }
      ]
    },
    {
      "cell_type": "markdown",
      "source": [
        "# Module dan Package\n",
        "\n",
        "module adalah file python terpisah \".py\"\n",
        "\n",
        "di contoh kali ini, aku menggunakan VSCode di lokal komputer untuk membuat sebuah file .py yang namanya \"andi.py\"\n",
        "\n",
        "file ini adalah file module.\n",
        "\n",
        "file module Python berisi code Python. bisa diisi variable dan function di dalam.\n",
        "\n",
        "kita bisa `import` file module untuk digunakan code di dalamnya. Biasanya paling umum kita mau pakai function nya. Kita juga mau pakai custom data type yang ada (Numpy, Pandas, ...)\n",
        "\n",
        "di contoh berikut, kita buat dulu dua file module andi.py dan budi.py yang isinya seperti berikut:\n",
        "```python\n",
        "nama = \"Andhika\"\n",
        "umur = 82\n",
        "hobi = [\"makan\", \"jalan pagi\", \"main musik\"]\n",
        "\n",
        "def menyapa(waktu=\"pagi\"):\n",
        "    print(\"selamat\", waktu)\n",
        "    print(\"saya\", nama)\n",
        "```\n",
        "\n",
        "```python\n",
        "nama = \"Budi Budiman\"\n",
        "umur = 52\n",
        "hobi = [\"coding\", \"sepeda\"]\n",
        "\n",
        "def menyapa():\n",
        "  print(\"salam kenal 0101~ saya Budi\")\n",
        "```"
      ],
      "metadata": {
        "id": "70B9T71jvg1e"
      }
    },
    {
      "cell_type": "code",
      "source": [
        "import andi"
      ],
      "metadata": {
        "id": "sEYWbNbzvcnR"
      },
      "execution_count": null,
      "outputs": []
    },
    {
      "cell_type": "code",
      "source": [
        "andi.nama"
      ],
      "metadata": {
        "colab": {
          "base_uri": "https://localhost:8080/",
          "height": 37
        },
        "id": "Xn2nmQ0ByDxO",
        "outputId": "b22a617e-808f-4eb0-9776-2ffef71d2f10"
      },
      "execution_count": null,
      "outputs": [
        {
          "output_type": "execute_result",
          "data": {
            "text/plain": [
              "'Andhika'"
            ],
            "application/vnd.google.colaboratory.intrinsic+json": {
              "type": "string"
            }
          },
          "metadata": {},
          "execution_count": 102
        }
      ]
    },
    {
      "cell_type": "code",
      "source": [
        "print(andi.nama)"
      ],
      "metadata": {
        "colab": {
          "base_uri": "https://localhost:8080/"
        },
        "id": "An1azDrMyFHO",
        "outputId": "c726b57b-5c58-4089-cdef-006b2fd0a1cb"
      },
      "execution_count": null,
      "outputs": [
        {
          "output_type": "stream",
          "name": "stdout",
          "text": [
            "Andhika\n"
          ]
        }
      ]
    },
    {
      "cell_type": "code",
      "source": [
        "andi.menyapa()"
      ],
      "metadata": {
        "colab": {
          "base_uri": "https://localhost:8080/"
        },
        "id": "Qrs-CymyyGao",
        "outputId": "ee37367f-98c1-40ab-f179-387cff9707d7"
      },
      "execution_count": null,
      "outputs": [
        {
          "output_type": "stream",
          "name": "stdout",
          "text": [
            "selamat pagi\n",
            "saya Andhika\n"
          ]
        }
      ]
    },
    {
      "cell_type": "markdown",
      "source": [
        "kita bisa menggunakan alias, supaya nama module nya gak harus lengkap full nama file nya"
      ],
      "metadata": {
        "id": "ZLmcb1M0yJYN"
      }
    },
    {
      "cell_type": "code",
      "source": [
        "import andi as an"
      ],
      "metadata": {
        "id": "od5BqRw8yHpQ"
      },
      "execution_count": null,
      "outputs": []
    },
    {
      "cell_type": "code",
      "source": [
        "an.menyapa()"
      ],
      "metadata": {
        "colab": {
          "base_uri": "https://localhost:8080/"
        },
        "id": "LUNgBoT1yODz",
        "outputId": "e69ac1be-655e-4374-b966-be9c48573720"
      },
      "execution_count": null,
      "outputs": [
        {
          "output_type": "stream",
          "name": "stdout",
          "text": [
            "selamat pagi\n",
            "saya Andhika\n"
          ]
        }
      ]
    },
    {
      "cell_type": "code",
      "source": [
        "print(an.umur)"
      ],
      "metadata": {
        "colab": {
          "base_uri": "https://localhost:8080/"
        },
        "id": "yA2RhE6ZyPSE",
        "outputId": "19b102e4-90c2-4029-ea06-4d3acee36db3"
      },
      "execution_count": null,
      "outputs": [
        {
          "output_type": "stream",
          "name": "stdout",
          "text": [
            "82\n"
          ]
        }
      ]
    },
    {
      "cell_type": "markdown",
      "source": [
        "kedepannya kita akan menggunakan module dan code buatan orang lain. code buatan orang lain biasanya disimpan ke file module.\n",
        "\n",
        "bisa saja disimpan ke lebih dari 1 file module, jadi banyak file module di 1 folder ==> package.\n",
        "\n",
        "package adalah kumpulan module. cara pakai hampir sama.\n",
        "\n",
        "kita bisa lihat list public file module dan package python di pypi.org"
      ],
      "metadata": {
        "id": "y4Ftp_dxyUEU"
      }
    },
    {
      "cell_type": "code",
      "source": [
        "import budi as bu\n",
        "\n",
        "print(bu.nama)\n",
        "bu.menyapa()"
      ],
      "metadata": {
        "colab": {
          "base_uri": "https://localhost:8080/"
        },
        "id": "c8itCoGQyQse",
        "outputId": "cfe050e6-5931-42dc-9e17-079aec7e7901"
      },
      "execution_count": null,
      "outputs": [
        {
          "output_type": "stream",
          "name": "stdout",
          "text": [
            "Budi Budiman\n",
            "salam kenal 0101~ saya Budi\n"
          ]
        }
      ]
    },
    {
      "cell_type": "markdown",
      "source": [
        "di contoh berikut, kita masukkan file andi.py dan budi.py ke dalam folder bernama \"teman\""
      ],
      "metadata": {
        "id": "GJ1Di0vz26E0"
      }
    },
    {
      "cell_type": "code",
      "source": [
        "import teman.budi as tb\n",
        "\n",
        "tb.menyapa()"
      ],
      "metadata": {
        "colab": {
          "base_uri": "https://localhost:8080/"
        },
        "id": "MEEgtap4z1Ee",
        "outputId": "e890b87e-4f44-4319-8588-7954f2b39344"
      },
      "execution_count": null,
      "outputs": [
        {
          "output_type": "stream",
          "name": "stdout",
          "text": [
            "salam kenal 0101~ saya Budi\n"
          ]
        }
      ]
    },
    {
      "cell_type": "code",
      "source": [
        "import teman.andi as ta\n",
        "\n",
        "ta.menyapa()"
      ],
      "metadata": {
        "colab": {
          "base_uri": "https://localhost:8080/"
        },
        "id": "h_pCxbG20CQT",
        "outputId": "3a4822c9-92bd-4453-9714-868ea96b8403"
      },
      "execution_count": null,
      "outputs": [
        {
          "output_type": "stream",
          "name": "stdout",
          "text": [
            "selamat pagi\n",
            "saya Andhika\n"
          ]
        }
      ]
    },
    {
      "cell_type": "markdown",
      "source": [
        "di contoh berikut adalah package yang tidak kita buat sendiri, buatan orang lain, sudah di install oleh colab jadi bisa langsung di import dan dipakai"
      ],
      "metadata": {
        "id": "Cfek6rQP2_Rb"
      }
    },
    {
      "cell_type": "code",
      "source": [
        "import numpy as np"
      ],
      "metadata": {
        "id": "E7IKJq2w0Fwg"
      },
      "execution_count": null,
      "outputs": []
    },
    {
      "cell_type": "code",
      "source": [
        "np.array([1,2])"
      ],
      "metadata": {
        "colab": {
          "base_uri": "https://localhost:8080/"
        },
        "id": "XO0umamG0f9B",
        "outputId": "9c5e18c4-8f8c-4005-fbb8-00e87f397f79"
      },
      "execution_count": null,
      "outputs": [
        {
          "output_type": "execute_result",
          "data": {
            "text/plain": [
              "array([1, 2])"
            ]
          },
          "metadata": {},
          "execution_count": 112
        }
      ]
    },
    {
      "cell_type": "markdown",
      "source": [
        "package python banyak yang sudah bisa kita lsg import dan pakai\n",
        "\n",
        "bagi yang belum, bisa kita install dulu menggunakan `pip install nama_package`"
      ],
      "metadata": {
        "id": "kihy4Vxj0oJj"
      }
    },
    {
      "cell_type": "markdown",
      "source": [
        "### latihan pendek\n",
        "\n",
        "buatlah sebuah file module judulnya \"mod.py\" yang berisi variable untuk:\n",
        "- angka a\n",
        "- angka b\n",
        "- message string c\n",
        "- function yang menghitung jumlah 2 angka ditambahakan, dan di return hasilnya\n",
        "\n",
        "\n",
        "upload file ke colab > Files, baru coba import dan pakai variable serta function di dalam\n",
        "\n",
        "atau\n",
        "\n",
        "kalau lokal di anaconda/ vscode, coba import dan pakai langsung. pastikan file module ada di folder yang sama dengan file notebook kita."
      ],
      "metadata": {
        "id": "WniIwmuP0vub"
      }
    },
    {
      "cell_type": "code",
      "source": [
        "# jika ada error boleh kabarin"
      ],
      "metadata": {
        "id": "0XZ4yNpN0jFA"
      },
      "execution_count": null,
      "outputs": []
    },
    {
      "cell_type": "markdown",
      "source": [
        "Extra: file module .py bisa dijalankan sebagai script.\n",
        "\n",
        "script itu seperti program komputer. dijalankan di terminal. ada juga script yang jalan sendiri dan bikin orang susah seperti virus. ada juga script yang menangkap virus, anti-virus. ada banyak jenis script.\n",
        "\n",
        "terminal adalah komputer jadul, masih ada di komputer jaman sekarang. itu saat saat dimana tidak ada mouse/ icons/ gambar di komputer. semua text. komputer = kotak text. itulah terminal. karena itu, terminal bisa dipakai untuk menjalankan script. bisa juga dipakai untuk bikin file, hapus file, lihat file."
      ],
      "metadata": {
        "id": "Y5W6LKzD4w40"
      }
    },
    {
      "cell_type": "code",
      "source": [],
      "metadata": {
        "id": "cNnPDCnp1QU2"
      },
      "execution_count": null,
      "outputs": []
    }
  ]
}