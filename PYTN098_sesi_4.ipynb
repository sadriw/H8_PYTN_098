{
  "nbformat": 4,
  "nbformat_minor": 0,
  "metadata": {
    "colab": {
      "provenance": []
    },
    "kernelspec": {
      "name": "python3",
      "display_name": "Python 3"
    },
    "language_info": {
      "name": "python"
    }
  },
  "cells": [
    {
      "cell_type": "markdown",
      "source": [
        "# Numpy\n",
        "package yang digunakan untuk handling data tipe numerik"
      ],
      "metadata": {
        "id": "JuOJC3rZl2J3"
      }
    },
    {
      "cell_type": "code",
      "execution_count": null,
      "metadata": {
        "id": "Sekd9IF9jllh"
      },
      "outputs": [],
      "source": [
        "import numpy as np\n",
        "import pandas as pd # untuk pandas"
      ]
    },
    {
      "cell_type": "code",
      "source": [
        "# perbedaan list dan numpy array, beda data type\n",
        "list_angka = [50,60,70,80]\n",
        "arr_angka = np.array(list_angka)\n",
        "\n",
        "print(list_angka, type(list_angka))\n",
        "print(arr_angka, type(arr_angka))"
      ],
      "metadata": {
        "colab": {
          "base_uri": "https://localhost:8080/"
        },
        "id": "acj8amCxl7iJ",
        "outputId": "71a93a66-326b-4371-e9d5-cbcd88618069"
      },
      "execution_count": null,
      "outputs": [
        {
          "output_type": "stream",
          "name": "stdout",
          "text": [
            "[50, 60, 70, 80] <class 'list'>\n",
            "[50 60 70 80] <class 'numpy.ndarray'>\n"
          ]
        }
      ]
    },
    {
      "cell_type": "code",
      "source": [
        "# aritmatik\n",
        "# misalkan kita mau tambahkan 100 ke semua angka di dalam list_angka\n",
        "index = 0\n",
        "for n in list_angka:\n",
        "  list_angka[index] += 100\n",
        "  index += 1\n",
        "\n",
        "print(list_angka)"
      ],
      "metadata": {
        "colab": {
          "base_uri": "https://localhost:8080/"
        },
        "id": "KRCYuK-LmWmq",
        "outputId": "7e5c28a2-6bbe-4d5f-fb2c-e66269d81c0b"
      },
      "execution_count": null,
      "outputs": [
        {
          "output_type": "stream",
          "name": "stdout",
          "text": [
            "[150, 160, 170, 180]\n"
          ]
        }
      ]
    },
    {
      "cell_type": "code",
      "source": [
        "arr_angka + 100"
      ],
      "metadata": {
        "colab": {
          "base_uri": "https://localhost:8080/"
        },
        "id": "wOCDTaG7mhHu",
        "outputId": "42fb438c-914b-4208-900a-eef3f8411a6d"
      },
      "execution_count": null,
      "outputs": [
        {
          "output_type": "execute_result",
          "data": {
            "text/plain": [
              "array([150, 160, 170, 180])"
            ]
          },
          "metadata": {},
          "execution_count": 5
        }
      ]
    },
    {
      "cell_type": "markdown",
      "source": [
        "untuk melakukan aritmatik ke banyak data sekaligus, numpy array terbaik, mudah, simpel. perhatikan bagaimana jauh lebih sulit melakukan aritmatik dengan list, walaupun isinya sudah angka semua."
      ],
      "metadata": {
        "id": "LManOIEYmxYv"
      }
    },
    {
      "cell_type": "code",
      "source": [
        "# data 2 dimensi\n",
        "# ada baris, ada kolom\n",
        "arr_penjualan = np.array([\n",
        "    [10, 20, 11],\n",
        "    [50, 1, 0],\n",
        "])\n",
        "\n",
        "print(arr_penjualan)"
      ],
      "metadata": {
        "colab": {
          "base_uri": "https://localhost:8080/"
        },
        "id": "MK6Fxz3Imvpa",
        "outputId": "7a6271ef-8a96-4af6-b360-8a58ff742860"
      },
      "execution_count": null,
      "outputs": [
        {
          "output_type": "stream",
          "name": "stdout",
          "text": [
            "[[10 20 11]\n",
            " [50  1  0]]\n"
          ]
        }
      ]
    },
    {
      "cell_type": "markdown",
      "source": [
        "berbeda dengan list yang menderetkan semua datanya ke kanan, numpy array juga bisa memperlihatkan data tipe 2 dimensi dalam bentuk baris dan kolom\n",
        "\n",
        "kekurangan numpy array adalah dia masih menggunakan index angka untuk mengakses item di dalam. belum punya judul baris dan kolom yang bisa kita pakai - itu nanti di pandas di sesi berikut.\n",
        "\n",
        "## Numpy Array\n",
        "CRUD - create read update delete\n"
      ],
      "metadata": {
        "id": "AMUcOHKHnSZy"
      }
    },
    {
      "cell_type": "code",
      "source": [
        "# Create\n",
        "# kita bisa buat numpy array dari list angka yang kita konversi menjadi array\n",
        "# kita bisa juga generate angka untuk mengisi sebuah numpy array ukuran tertentu\n",
        "\n",
        "# anggap kita mau membuat numpy array nilai nilai murid di kelas\n",
        "arr_nilai = np.array([100, 70, 98, 57, 65, 84, 23])\n",
        "print(arr_nilai)"
      ],
      "metadata": {
        "colab": {
          "base_uri": "https://localhost:8080/"
        },
        "id": "IxkMV2eAnPU_",
        "outputId": "b1481571-63d3-4753-d09c-69a53fadb51a"
      },
      "execution_count": null,
      "outputs": [
        {
          "output_type": "stream",
          "name": "stdout",
          "text": [
            "[100  70  98  57  65  84  23]\n"
          ]
        }
      ]
    },
    {
      "cell_type": "code",
      "source": [
        "arr_nilai2 = np.array([[100, 70, 98, 57, 65, 84, 23], [89,54,78,56,57,98,12]])\n",
        "print(arr_nilai2)"
      ],
      "metadata": {
        "colab": {
          "base_uri": "https://localhost:8080/"
        },
        "id": "MNPCbeWgv4W8",
        "outputId": "ccafd5ec-44ba-4766-bb3c-b154f54412e6"
      },
      "execution_count": null,
      "outputs": [
        {
          "output_type": "stream",
          "name": "stdout",
          "text": [
            "[[100  70  98  57  65  84  23]\n",
            " [ 89  54  78  56  57  98  12]]\n"
          ]
        }
      ]
    },
    {
      "cell_type": "code",
      "source": [
        "arr_nilai = np.ones(7)\n",
        "print(arr_nilai)"
      ],
      "metadata": {
        "colab": {
          "base_uri": "https://localhost:8080/"
        },
        "id": "TuawGAAioPvO",
        "outputId": "1eb3c0f8-3fca-4e6a-9b1f-eaf7c20a1fc2"
      },
      "execution_count": null,
      "outputs": [
        {
          "output_type": "stream",
          "name": "stdout",
          "text": [
            "[1. 1. 1. 1. 1. 1. 1.]\n"
          ]
        }
      ]
    },
    {
      "cell_type": "code",
      "source": [
        "arr_nilai2 = np.ones((7,3))\n",
        "print(arr_nilai2)"
      ],
      "metadata": {
        "colab": {
          "base_uri": "https://localhost:8080/"
        },
        "id": "ptvIg6z9wDdr",
        "outputId": "0e1bd605-c146-4ea5-d9ae-1e451d44d452"
      },
      "execution_count": null,
      "outputs": [
        {
          "output_type": "stream",
          "name": "stdout",
          "text": [
            "[[1. 1. 1.]\n",
            " [1. 1. 1.]\n",
            " [1. 1. 1.]\n",
            " [1. 1. 1.]\n",
            " [1. 1. 1.]\n",
            " [1. 1. 1.]\n",
            " [1. 1. 1.]]\n"
          ]
        }
      ]
    },
    {
      "cell_type": "code",
      "source": [
        "arr_nilai = np.zeros(10)\n",
        "print(arr_nilai)"
      ],
      "metadata": {
        "colab": {
          "base_uri": "https://localhost:8080/"
        },
        "id": "DQTHFXUOoZmB",
        "outputId": "65d4558b-63e6-4753-c3c2-75058ac1d388"
      },
      "execution_count": null,
      "outputs": [
        {
          "output_type": "stream",
          "name": "stdout",
          "text": [
            "[0. 0. 0. 0. 0. 0. 0. 0. 0. 0.]\n"
          ]
        }
      ]
    },
    {
      "cell_type": "code",
      "source": [
        "arr_nilai2 = np.zeros((3,10))\n",
        "print(arr_nilai2)"
      ],
      "metadata": {
        "colab": {
          "base_uri": "https://localhost:8080/"
        },
        "id": "bV0iwG0uwJFE",
        "outputId": "2c4356ee-4e44-4a1d-eb91-de26e878113f"
      },
      "execution_count": null,
      "outputs": [
        {
          "output_type": "stream",
          "name": "stdout",
          "text": [
            "[[0. 0. 0. 0. 0. 0. 0. 0. 0. 0.]\n",
            " [0. 0. 0. 0. 0. 0. 0. 0. 0. 0.]\n",
            " [0. 0. 0. 0. 0. 0. 0. 0. 0. 0.]]\n"
          ]
        }
      ]
    },
    {
      "cell_type": "code",
      "source": [
        "arr_nilai = np.random.random(7)\n",
        "print(arr_nilai)"
      ],
      "metadata": {
        "colab": {
          "base_uri": "https://localhost:8080/"
        },
        "id": "9zF1h34JodgD",
        "outputId": "0eec6cc6-9b5f-4de3-d6e9-4d48796f75a1"
      },
      "execution_count": null,
      "outputs": [
        {
          "output_type": "stream",
          "name": "stdout",
          "text": [
            "[0.28031311 0.95264035 0.26062939 0.10168596 0.12969986 0.89494952\n",
            " 0.02321754]\n"
          ]
        }
      ]
    },
    {
      "cell_type": "code",
      "source": [
        "arr_nilai2 = np.random.random((5,6))\n",
        "print(arr_nilai2)"
      ],
      "metadata": {
        "colab": {
          "base_uri": "https://localhost:8080/"
        },
        "id": "KpFEq7JgwNvk",
        "outputId": "b151978e-380c-49c2-d481-6db1181a5525"
      },
      "execution_count": null,
      "outputs": [
        {
          "output_type": "stream",
          "name": "stdout",
          "text": [
            "[[0.00548634 0.55365949 0.25373214 0.69051891 0.12642629 0.56881457]\n",
            " [0.56349147 0.88669409 0.80448277 0.9887717  0.61701083 0.25849694]\n",
            " [0.32605477 0.57212267 0.95320002 0.62771033 0.17734715 0.94370469]\n",
            " [0.47667896 0.6594512  0.8687426  0.07531962 0.57256632 0.21784224]\n",
            " [0.36602731 0.86039852 0.48084738 0.82585863 0.79304441 0.50838157]]\n"
          ]
        }
      ]
    },
    {
      "cell_type": "code",
      "source": [
        "arr_nilai = np.random.random(7) * 100\n",
        "print(arr_nilai)"
      ],
      "metadata": {
        "colab": {
          "base_uri": "https://localhost:8080/"
        },
        "id": "G0tYseDCof_2",
        "outputId": "5a11bcca-9519-49b5-d658-cd33bfe121f6"
      },
      "execution_count": null,
      "outputs": [
        {
          "output_type": "stream",
          "name": "stdout",
          "text": [
            "[34.33790139 19.57072088 89.21638019 60.37427106 19.3423971  14.639783\n",
            " 61.04012685]\n"
          ]
        }
      ]
    },
    {
      "cell_type": "code",
      "source": [
        "arr_nilai2 = np.random.random((5,6)) * 100\n",
        "print(arr_nilai2)"
      ],
      "metadata": {
        "colab": {
          "base_uri": "https://localhost:8080/"
        },
        "id": "98m3fszPwRvD",
        "outputId": "5d6c2e89-fe23-42b3-8c6f-a059bd9642b6"
      },
      "execution_count": null,
      "outputs": [
        {
          "output_type": "stream",
          "name": "stdout",
          "text": [
            "[[45.19676066 75.93409455 36.64792325 68.17457081 80.55970908 84.90946413]\n",
            " [31.83680737  3.68539889 11.45196468 29.13899985  1.8934157  13.87006455]\n",
            " [79.05868599 16.46994642 69.67032484 93.85542789 82.32432026 52.85749465]\n",
            " [60.89944217 79.80735264 12.64391426 79.98294022 81.00329415  1.09761148]\n",
            " [30.93737347 66.99501383 43.76251731 23.35553731 36.04865629 44.52915102]]\n"
          ]
        }
      ]
    },
    {
      "cell_type": "markdown",
      "source": [
        "angka yang dibuat random random ada di antara 0 dan 1, jadi kalau kita mau buat angka antara 0-100, tinggal kita kalikan 100.\n",
        "\n",
        "untuk mengurangi desimal poin kita bisa gunakan teknik terpisah `np.round`"
      ],
      "metadata": {
        "id": "UOPlhIB_olV2"
      }
    },
    {
      "cell_type": "code",
      "source": [
        "arr_nilai = np.round(np.random.random(7) * 100, 2)\n",
        "print(arr_nilai)"
      ],
      "metadata": {
        "colab": {
          "base_uri": "https://localhost:8080/"
        },
        "id": "5Bl0zbB6ojqg",
        "outputId": "6c43d50a-c0f2-4780-a555-f458807b9435"
      },
      "execution_count": null,
      "outputs": [
        {
          "output_type": "stream",
          "name": "stdout",
          "text": [
            "[26.24 45.9  94.23 73.41 48.03 44.1   6.77]\n"
          ]
        }
      ]
    },
    {
      "cell_type": "code",
      "source": [
        "arr_nilai2 = np.round(np.random.random((5, 10)) * 100, 2)\n",
        "print(arr_nilai2)"
      ],
      "metadata": {
        "colab": {
          "base_uri": "https://localhost:8080/"
        },
        "id": "UqKQlMbWwV3k",
        "outputId": "ae2dedc9-0df5-4005-92cd-da0b64dca527"
      },
      "execution_count": null,
      "outputs": [
        {
          "output_type": "stream",
          "name": "stdout",
          "text": [
            "[[40.44 52.48 63.65 41.15 10.11 11.83  8.35 83.81 48.04 46.94]\n",
            " [68.81 21.59 26.65 51.93 27.66 80.61 92.24 13.7   6.35 91.17]\n",
            " [19.14 49.77 11.24 19.19  1.69 70.15 19.26 20.87 26.65 69.13]\n",
            " [10.89 97.01 26.66 70.55 93.38 48.3  12.98 73.5  45.9  68.57]\n",
            " [50.24 60.98  9.54 46.09 25.41 45.3  45.11 84.55 58.05 64.46]]\n"
          ]
        }
      ]
    },
    {
      "cell_type": "code",
      "source": [
        "# kalau kita mau bikin range angka random yang berbeda, kita bisa pakai juga bantuan + - * / dan lainnya\n",
        "# misalnya, kita mau buat hasil lempar dadu antara 1-6\n",
        "\n",
        "arr_dadu = np.round(np.random.random((10, 10)) * 5 + 1, 0)\n",
        "print(arr_dadu)"
      ],
      "metadata": {
        "colab": {
          "base_uri": "https://localhost:8080/"
        },
        "id": "8pz5J5tSwdVT",
        "outputId": "0fdbfecc-1f51-4ad0-b036-b25b4ea20bfa"
      },
      "execution_count": null,
      "outputs": [
        {
          "output_type": "stream",
          "name": "stdout",
          "text": [
            "[[2. 5. 6. 2. 4. 3. 4. 2. 3. 3.]\n",
            " [6. 2. 5. 4. 6. 2. 6. 2. 3. 1.]\n",
            " [2. 3. 3. 5. 1. 2. 4. 2. 5. 2.]\n",
            " [2. 2. 5. 6. 4. 2. 3. 2. 3. 4.]\n",
            " [3. 3. 4. 5. 5. 5. 5. 1. 2. 4.]\n",
            " [1. 5. 5. 6. 5. 2. 6. 5. 5. 1.]\n",
            " [5. 4. 3. 2. 1. 1. 3. 4. 4. 6.]\n",
            " [6. 6. 5. 3. 1. 2. 4. 2. 2. 3.]\n",
            " [2. 4. 2. 5. 1. 4. 4. 4. 4. 3.]\n",
            " [4. 3. 3. 5. 4. 4. 6. 3. 5. 3.]]\n"
          ]
        }
      ]
    },
    {
      "cell_type": "code",
      "source": [
        "# reshape\n",
        "print(arr_dadu.reshape((5, 20)))\n",
        "\n",
        "# jumlah item sebelum dan sesudah reshape harus sama"
      ],
      "metadata": {
        "colab": {
          "base_uri": "https://localhost:8080/"
        },
        "id": "va-5ZgpCxMhM",
        "outputId": "eeb33300-0e5a-49c5-eb81-02ffd2d51fcf"
      },
      "execution_count": null,
      "outputs": [
        {
          "output_type": "stream",
          "name": "stdout",
          "text": [
            "[[2. 5. 6. 2. 4. 3. 4. 2. 3. 3. 6. 2. 5. 4. 6. 2. 6. 2. 3. 1.]\n",
            " [2. 3. 3. 5. 1. 2. 4. 2. 5. 2. 2. 2. 5. 6. 4. 2. 3. 2. 3. 4.]\n",
            " [3. 3. 4. 5. 5. 5. 5. 1. 2. 4. 1. 5. 5. 6. 5. 2. 6. 5. 5. 1.]\n",
            " [5. 4. 3. 2. 1. 1. 3. 4. 4. 6. 6. 6. 5. 3. 1. 2. 4. 2. 2. 3.]\n",
            " [2. 4. 2. 5. 1. 4. 4. 4. 4. 3. 4. 3. 3. 5. 4. 4. 6. 3. 5. 3.]]\n"
          ]
        }
      ]
    },
    {
      "cell_type": "code",
      "source": [
        "# kita juga bisa generate angka urut di numpy array\n",
        "# cara pakainya sama dengan range\n",
        "\n",
        "arr_urut = np.arange(10) # 0 - 9\n",
        "print(arr_urut)\n",
        "\n",
        "arr_urut = np.arange(10, 20) # 10 - 19\n",
        "print(arr_urut)\n",
        "\n",
        "arr_urut = np.arange(10, 100, 18) # 10, 28, 46, ...\n",
        "print(arr_urut)"
      ],
      "metadata": {
        "colab": {
          "base_uri": "https://localhost:8080/"
        },
        "id": "Q5LaUnQuo3Rt",
        "outputId": "01b101de-c78c-4200-fb11-4e129d5470a6"
      },
      "execution_count": null,
      "outputs": [
        {
          "output_type": "stream",
          "name": "stdout",
          "text": [
            "[0 1 2 3 4 5 6 7 8 9]\n",
            "[10 11 12 13 14 15 16 17 18 19]\n",
            "[10 28 46 64 82]\n"
          ]
        }
      ]
    },
    {
      "cell_type": "code",
      "source": [
        "arr_urut = np.arange(1900, 2025, 4) # 1900, 1904, 1908, ...\n",
        "print(arr_urut)\n",
        "print(arr_urut.shape)"
      ],
      "metadata": {
        "colab": {
          "base_uri": "https://localhost:8080/"
        },
        "id": "Wqkd2nUXxcRR",
        "outputId": "c4fe379e-a017-4c0e-db77-b70a1953ef64"
      },
      "execution_count": null,
      "outputs": [
        {
          "output_type": "stream",
          "name": "stdout",
          "text": [
            "[1900 1904 1908 1912 1916 1920 1924 1928 1932 1936 1940 1944 1948 1952\n",
            " 1956 1960 1964 1968 1972 1976 1980 1984 1988 1992 1996 2000 2004 2008\n",
            " 2012 2016 2020 2024]\n",
            "(32,)\n"
          ]
        }
      ]
    },
    {
      "cell_type": "code",
      "source": [
        "print(arr_urut.reshape((4,8)))"
      ],
      "metadata": {
        "colab": {
          "base_uri": "https://localhost:8080/"
        },
        "id": "LmaNzJ5PxsG3",
        "outputId": "aa9891a4-b4f1-473c-eda9-eabdfd3ef5c7"
      },
      "execution_count": null,
      "outputs": [
        {
          "output_type": "stream",
          "name": "stdout",
          "text": [
            "[[1900 1904 1908 1912 1916 1920 1924 1928]\n",
            " [1932 1936 1940 1944 1948 1952 1956 1960]\n",
            " [1964 1968 1972 1976 1980 1984 1988 1992]\n",
            " [1996 2000 2004 2008 2012 2016 2020 2024]]\n"
          ]
        }
      ]
    },
    {
      "cell_type": "code",
      "source": [
        "print(np.arange(1900, 2025, 4).reshape((4,8)))"
      ],
      "metadata": {
        "colab": {
          "base_uri": "https://localhost:8080/"
        },
        "id": "drL15rpix1G1",
        "outputId": "9b4ef74e-3b67-4ebd-f1ed-08234685328f"
      },
      "execution_count": null,
      "outputs": [
        {
          "output_type": "stream",
          "name": "stdout",
          "text": [
            "[[1900 1904 1908 1912 1916 1920 1924 1928]\n",
            " [1932 1936 1940 1944 1948 1952 1956 1960]\n",
            " [1964 1968 1972 1976 1980 1984 1988 1992]\n",
            " [1996 2000 2004 2008 2012 2016 2020 2024]]\n"
          ]
        }
      ]
    },
    {
      "cell_type": "markdown",
      "source": [
        "ada beberapa cara untuk membuat numpy array\n",
        "- np.array() diisi dengan list angka, bisa 1 dimensi, bisa 2 dimensi\n",
        "- np.zeros() diisi dengan jumlah angka yang mau dibuat, nanti value nya 0 semua\n",
        "- np.ones() diisi dengan jumlah angka yang mau dibuat, nanti value nya 1 semua\n",
        "- np.random.random() diisi dengan jumlah angka yang mau dibuat, nanti value nya antara 0-1, float, punya desimal banyak\n",
        "- np.arange() cara pakai sama dengan range, numpy array yang dibuat akan berisi angka urut\n",
        "\n",
        "\n",
        "sebenarnya masih banyak lagi cara membuat numpy array, tapi jarang kita gunakan.\n",
        "\n"
      ],
      "metadata": {
        "id": "54N3aJVPpYfr"
      }
    },
    {
      "cell_type": "markdown",
      "source": [
        "### latihan pendek (5 menit)\n",
        "- buatlah sebuah numpy array menggunakan 5 cara berbeda diatas.\n",
        "- cobalah untuk print numpy array yang sudah dibuat"
      ],
      "metadata": {
        "id": "A9Sy7MbxqGD4"
      }
    },
    {
      "cell_type": "markdown",
      "source": [
        "## read\n",
        "numpy array yang sudah dibuat, bisa kita lihat isinya\n",
        "\n",
        "### shape\n",
        "- ada berapa item/angka di dalam sebuah numpy array?\n",
        "- ada berapa dimensi?\n",
        "- setiap dimensi ada berapa item?\n",
        "\n",
        "### indexing dan slicing\n",
        "- angka ke-sekian di sebuah numpy array berapa?\n",
        "- angka ke-2 sampai ke-5 di sebuah numpy array, berapa aja?"
      ],
      "metadata": {
        "id": "qDXgqoK7sKRC"
      }
    },
    {
      "cell_type": "code",
      "source": [
        "arr_urut"
      ],
      "metadata": {
        "colab": {
          "base_uri": "https://localhost:8080/"
        },
        "id": "KtcvldMipTdQ",
        "outputId": "84a07cd3-51af-496f-a64a-cc0370254325"
      },
      "execution_count": null,
      "outputs": [
        {
          "output_type": "execute_result",
          "data": {
            "text/plain": [
              "array([10, 28, 46, 64, 82])"
            ]
          },
          "metadata": {},
          "execution_count": 15
        }
      ]
    },
    {
      "cell_type": "code",
      "source": [
        "print(arr_urut.size)\n",
        "print(arr_urut.shape)\n",
        "print(arr_urut.ndim)"
      ],
      "metadata": {
        "colab": {
          "base_uri": "https://localhost:8080/"
        },
        "id": "uSjVz4D8slZs",
        "outputId": "fc42a157-2d88-44e9-ce9d-d494f4efaacd"
      },
      "execution_count": null,
      "outputs": [
        {
          "output_type": "stream",
          "name": "stdout",
          "text": [
            "5\n",
            "(5,)\n",
            "1\n"
          ]
        }
      ]
    },
    {
      "cell_type": "markdown",
      "source": [
        "- ada 5 item/angka di dalam numpy array arr_urut\n",
        "- di dimensi pertama arr_urut ada 5 item/angka\n",
        "- arr_urut memiliki 1 dimensi"
      ],
      "metadata": {
        "id": "hWtLKe0Psxbn"
      }
    },
    {
      "cell_type": "code",
      "source": [
        "arr_penjualan"
      ],
      "metadata": {
        "colab": {
          "base_uri": "https://localhost:8080/"
        },
        "id": "NvSl-x4wsqrf",
        "outputId": "b007e3f3-4f7e-4571-c2e4-6e245c3671bf"
      },
      "execution_count": null,
      "outputs": [
        {
          "output_type": "execute_result",
          "data": {
            "text/plain": [
              "array([[10, 20, 11],\n",
              "       [50,  1,  0]])"
            ]
          },
          "metadata": {},
          "execution_count": 21
        }
      ]
    },
    {
      "cell_type": "code",
      "source": [
        "print(arr_penjualan.size)\n",
        "print(arr_penjualan.shape)\n",
        "print(arr_penjualan.ndim)"
      ],
      "metadata": {
        "colab": {
          "base_uri": "https://localhost:8080/"
        },
        "id": "MfXui0j-s7Wc",
        "outputId": "bb002f30-b4ce-486b-8ef2-dba155e2b21a"
      },
      "execution_count": null,
      "outputs": [
        {
          "output_type": "stream",
          "name": "stdout",
          "text": [
            "6\n",
            "(2, 3)\n",
            "2\n"
          ]
        }
      ]
    },
    {
      "cell_type": "markdown",
      "source": [
        "- ada 6 item/angka di dalam numpy array arr_penjualan\n",
        "- di dimensi pertama arr_penjualan ada 2 item/angka. di dimensi kedua arr_penjualan ada 3 item/angka.\n",
        "- arr_penjualan memiliki 2 dimensi"
      ],
      "metadata": {
        "id": "9htg5vZvs_wX"
      }
    },
    {
      "cell_type": "markdown",
      "source": [
        "\n",
        "\n",
        "### indexing dan slicing\n",
        "- angka ke-sekian di sebuah numpy array berapa?\n",
        "- angka ke-2 sampai ke-5 di sebuah numpy array, berapa aja?"
      ],
      "metadata": {
        "id": "Zwf-u9dFtXdG"
      }
    },
    {
      "cell_type": "code",
      "source": [
        "arr_urut"
      ],
      "metadata": {
        "colab": {
          "base_uri": "https://localhost:8080/"
        },
        "id": "dg7d0am8s9mN",
        "outputId": "b1800a97-ace3-4fed-dbff-767ee52b7f7b"
      },
      "execution_count": null,
      "outputs": [
        {
          "output_type": "execute_result",
          "data": {
            "text/plain": [
              "array([10, 28, 46, 64, 82])"
            ]
          },
          "metadata": {},
          "execution_count": 23
        }
      ]
    },
    {
      "cell_type": "code",
      "source": [
        "# angka pertama\n",
        "print(arr_urut[0])"
      ],
      "metadata": {
        "colab": {
          "base_uri": "https://localhost:8080/"
        },
        "id": "6hAfyutktcmB",
        "outputId": "f97ac24f-9eb1-49e1-b2e0-e2d83dc146a7"
      },
      "execution_count": null,
      "outputs": [
        {
          "output_type": "execute_result",
          "data": {
            "text/plain": [
              "10"
            ]
          },
          "metadata": {},
          "execution_count": 24
        }
      ]
    },
    {
      "cell_type": "code",
      "source": [
        "# angka kedua dari depan\n",
        "print(arr_urut[1])"
      ],
      "metadata": {
        "colab": {
          "base_uri": "https://localhost:8080/"
        },
        "id": "rMCx6zETtjXT",
        "outputId": "ee35d711-3f54-493f-8c0a-39fbe080cfb6"
      },
      "execution_count": null,
      "outputs": [
        {
          "output_type": "stream",
          "name": "stdout",
          "text": [
            "28\n"
          ]
        }
      ]
    },
    {
      "cell_type": "code",
      "source": [
        "# angka terakhir\n",
        "print(arr_urut[-1])"
      ],
      "metadata": {
        "colab": {
          "base_uri": "https://localhost:8080/"
        },
        "id": "LZsVl1Retehp",
        "outputId": "8f015a62-6784-4c19-9ae8-592582b3df5c"
      },
      "execution_count": null,
      "outputs": [
        {
          "output_type": "stream",
          "name": "stdout",
          "text": [
            "82\n"
          ]
        }
      ]
    },
    {
      "cell_type": "code",
      "source": [
        "# angka ke-2 sampai ke-5\n",
        "print(arr_urut[1:5])"
      ],
      "metadata": {
        "colab": {
          "base_uri": "https://localhost:8080/"
        },
        "id": "BLsy9nmGth7j",
        "outputId": "ff8d23af-b6c6-4c03-816d-13a1f63cd076"
      },
      "execution_count": null,
      "outputs": [
        {
          "output_type": "stream",
          "name": "stdout",
          "text": [
            "[28 46 64 82]\n"
          ]
        }
      ]
    },
    {
      "cell_type": "code",
      "source": [
        "# angka ke-2 dan ke-5\n",
        "print(arr_urut[[1,4]])"
      ],
      "metadata": {
        "colab": {
          "base_uri": "https://localhost:8080/"
        },
        "id": "z3VsN7z1t2MU",
        "outputId": "dcb1057a-7b0e-4946-f7a8-db32a50313c9"
      },
      "execution_count": null,
      "outputs": [
        {
          "output_type": "stream",
          "name": "stdout",
          "text": [
            "[28 82]\n"
          ]
        }
      ]
    },
    {
      "cell_type": "markdown",
      "source": [
        "demikian teknik indexing (ambil 1 item) dan slicing (ambil bbrp item)"
      ],
      "metadata": {
        "id": "8i_ozkNNtyVz"
      }
    },
    {
      "cell_type": "code",
      "source": [
        "arr_penjualan"
      ],
      "metadata": {
        "colab": {
          "base_uri": "https://localhost:8080/"
        },
        "id": "GjiBxEcOtwPY",
        "outputId": "f8e47145-565d-4887-9615-e50d5bf69e69"
      },
      "execution_count": null,
      "outputs": [
        {
          "output_type": "execute_result",
          "data": {
            "text/plain": [
              "array([[10, 20, 11],\n",
              "       [50,  1,  0]])"
            ]
          },
          "metadata": {},
          "execution_count": 29
        }
      ]
    },
    {
      "cell_type": "code",
      "source": [
        "print(arr_penjualan[0])"
      ],
      "metadata": {
        "colab": {
          "base_uri": "https://localhost:8080/"
        },
        "id": "T5fSpwjCt90N",
        "outputId": "2836ddca-45c1-4767-d8d8-688f07f0ee9e"
      },
      "execution_count": null,
      "outputs": [
        {
          "output_type": "stream",
          "name": "stdout",
          "text": [
            "[10 20 11]\n"
          ]
        }
      ]
    },
    {
      "cell_type": "markdown",
      "source": [
        "untuk numpy array 2 dimensi, saat kita mau ambil item, kita perlu 2 index juga. index untuk baris, dan index untuk kolom.\n",
        "\n",
        "kalau cuma kasih 1 index, kita akan dapat baris, seluruh barisnya. baris pertama, kedua, ..."
      ],
      "metadata": {
        "id": "B1Ku0mwAuFsz"
      }
    },
    {
      "cell_type": "code",
      "source": [
        "# angka 10, di baris pertama, kolom pertama\n",
        "print(arr_penjualan[0, 0])"
      ],
      "metadata": {
        "colab": {
          "base_uri": "https://localhost:8080/"
        },
        "id": "CzyyXI4quEHH",
        "outputId": "575ac900-0445-4ba8-f4e5-d0b77f584298"
      },
      "execution_count": null,
      "outputs": [
        {
          "output_type": "stream",
          "name": "stdout",
          "text": [
            "10\n"
          ]
        }
      ]
    },
    {
      "cell_type": "code",
      "source": [
        "# angka 20, di baris pertama, kolom kedua\n",
        "print(arr_penjualan[0, 1])"
      ],
      "metadata": {
        "colab": {
          "base_uri": "https://localhost:8080/"
        },
        "id": "S24wHrThuTpd",
        "outputId": "0cbaa7d5-d80a-43d0-b922-a8aef765dbf0"
      },
      "execution_count": null,
      "outputs": [
        {
          "output_type": "stream",
          "name": "stdout",
          "text": [
            "20\n"
          ]
        }
      ]
    },
    {
      "cell_type": "code",
      "source": [
        "# angka 1, di baris kedua, kolom kedua\n",
        "print(arr_penjualan[1, 1])"
      ],
      "metadata": {
        "colab": {
          "base_uri": "https://localhost:8080/"
        },
        "id": "8_J_iW4KuX8O",
        "outputId": "39eaf69a-ef9e-4606-808a-c76e02c075cd"
      },
      "execution_count": null,
      "outputs": [
        {
          "output_type": "stream",
          "name": "stdout",
          "text": [
            "1\n"
          ]
        }
      ]
    },
    {
      "cell_type": "code",
      "source": [
        "# angka 0, di baris terakhir, kolom terakhir\n",
        "print(arr_penjualan[-1, -1])\n",
        "\n",
        "# angka 0, di baris kedua, kolom ketiga\n",
        "print(arr_penjualan[1, 2])"
      ],
      "metadata": {
        "colab": {
          "base_uri": "https://localhost:8080/"
        },
        "id": "_hgK9R6nubfT",
        "outputId": "ee94a254-8655-4593-e9f0-1e0c28079334"
      },
      "execution_count": null,
      "outputs": [
        {
          "output_type": "stream",
          "name": "stdout",
          "text": [
            "0\n",
            "0\n"
          ]
        }
      ]
    },
    {
      "cell_type": "code",
      "source": [
        "arr_penjualan"
      ],
      "metadata": {
        "colab": {
          "base_uri": "https://localhost:8080/"
        },
        "id": "Acix49SYujB6",
        "outputId": "75ac6fbe-a0e5-4f18-824b-633a39b5f22d"
      },
      "execution_count": null,
      "outputs": [
        {
          "output_type": "execute_result",
          "data": {
            "text/plain": [
              "array([[10, 20, 11],\n",
              "       [50,  1,  0]])"
            ]
          },
          "metadata": {},
          "execution_count": 36
        }
      ]
    },
    {
      "cell_type": "code",
      "source": [
        "# ambil 10, 20, 50, 1\n",
        "# baris 1 dan baris 2 --> 0:2\n",
        "# kolom 1 dan kolom 2 --> 0:2\n",
        "print(arr_penjualan[0:2, 0:2])"
      ],
      "metadata": {
        "colab": {
          "base_uri": "https://localhost:8080/"
        },
        "id": "v38Lhx-Yur22",
        "outputId": "89e7154e-323c-4cc9-8b0f-ba19569ea3bc"
      },
      "execution_count": null,
      "outputs": [
        {
          "output_type": "stream",
          "name": "stdout",
          "text": [
            "[[10 20]\n",
            " [50  1]]\n"
          ]
        }
      ]
    },
    {
      "cell_type": "code",
      "source": [
        "# ambil 10 dan 50, baris 1 dan 2, kolom 1\n",
        "print(arr_penjualan[0:2, 0])"
      ],
      "metadata": {
        "colab": {
          "base_uri": "https://localhost:8080/"
        },
        "id": "z6-54GcDu9lO",
        "outputId": "c6537518-1c4e-4891-b797-4e6563bd797d"
      },
      "execution_count": null,
      "outputs": [
        {
          "output_type": "stream",
          "name": "stdout",
          "text": [
            "[10 50]\n"
          ]
        }
      ]
    },
    {
      "cell_type": "code",
      "source": [
        "# ambil 20 dan 11, baris 1, kolom 2 dan 3\n",
        "print(arr_penjualan[0, 1:3])"
      ],
      "metadata": {
        "colab": {
          "base_uri": "https://localhost:8080/"
        },
        "id": "CYCu365tvNqy",
        "outputId": "d84fb0ee-6275-4bfc-a3dd-fdea3de4acb6"
      },
      "execution_count": null,
      "outputs": [
        {
          "output_type": "stream",
          "name": "stdout",
          "text": [
            "[20 11]\n"
          ]
        }
      ]
    },
    {
      "cell_type": "markdown",
      "source": [
        "Saat kita membuat numpy array, kita bisa membuat numpy array 2 dimensi juga. kita kembali ke atas untuk update code nya membuat versi 2 dimensi juga.\n",
        "\n",
        "## reshape\n",
        "numpy array yang udah jadi, bisa kita ubah bentuk shape nya. 1D jadi 2D, 3 baris 4 kolom jadi 4 baris 3 kolom, dll. bisa kita ubah bentuknya"
      ],
      "metadata": {
        "id": "Llouo4QSvtgJ"
      }
    },
    {
      "cell_type": "code",
      "source": [
        "# reshape\n",
        "arr_penjualan"
      ],
      "metadata": {
        "colab": {
          "base_uri": "https://localhost:8080/"
        },
        "id": "eLqGHxADvTVl",
        "outputId": "8737232d-0438-488c-99ff-b84199d92654"
      },
      "execution_count": null,
      "outputs": [
        {
          "output_type": "execute_result",
          "data": {
            "text/plain": [
              "array([[10, 20, 11],\n",
              "       [50,  1,  0]])"
            ]
          },
          "metadata": {},
          "execution_count": 50
        }
      ]
    },
    {
      "cell_type": "code",
      "source": [
        "arr_penjualan.reshape((6,))"
      ],
      "metadata": {
        "colab": {
          "base_uri": "https://localhost:8080/"
        },
        "id": "QY9968twxD1u",
        "outputId": "800172cf-c32d-4b49-d279-04b470aa42dc"
      },
      "execution_count": null,
      "outputs": [
        {
          "output_type": "execute_result",
          "data": {
            "text/plain": [
              "array([10, 20, 11, 50,  1,  0])"
            ]
          },
          "metadata": {},
          "execution_count": 51
        }
      ]
    },
    {
      "cell_type": "code",
      "source": [
        "arr_penjualan.reshape((3,2))"
      ],
      "metadata": {
        "colab": {
          "base_uri": "https://localhost:8080/"
        },
        "id": "r20aj5bkxGLq",
        "outputId": "5be2fd95-d0f0-42dc-93c6-567a51ea0af5"
      },
      "execution_count": null,
      "outputs": [
        {
          "output_type": "execute_result",
          "data": {
            "text/plain": [
              "array([[10, 20],\n",
              "       [11, 50],\n",
              "       [ 1,  0]])"
            ]
          },
          "metadata": {},
          "execution_count": 52
        }
      ]
    },
    {
      "cell_type": "markdown",
      "source": [
        "### latihan pendek (5 menit)\n",
        "- cobalah buat numpy array 2 dimensi ukuran 14 * 10\n",
        "- gunakan numpy random random untuk value antara 15 - 30\n",
        "- gunakan reshape untuk mengubah bentuknya jadi 20 baris, 7 kolom"
      ],
      "metadata": {
        "id": "uVI6Rj7_x85l"
      }
    },
    {
      "cell_type": "code",
      "source": [
        "arr_lat = np.ones((14, 10))\n",
        "print(arr_lat)\n",
        "print(arr_lat.size, arr_lat.shape)"
      ],
      "metadata": {
        "colab": {
          "base_uri": "https://localhost:8080/"
        },
        "id": "UpX-_RaGxIdQ",
        "outputId": "347c6cdd-3b32-4316-f931-595179a00c13"
      },
      "execution_count": null,
      "outputs": [
        {
          "output_type": "stream",
          "name": "stdout",
          "text": [
            "[[1. 1. 1. 1. 1. 1. 1. 1. 1. 1.]\n",
            " [1. 1. 1. 1. 1. 1. 1. 1. 1. 1.]\n",
            " [1. 1. 1. 1. 1. 1. 1. 1. 1. 1.]\n",
            " [1. 1. 1. 1. 1. 1. 1. 1. 1. 1.]\n",
            " [1. 1. 1. 1. 1. 1. 1. 1. 1. 1.]\n",
            " [1. 1. 1. 1. 1. 1. 1. 1. 1. 1.]\n",
            " [1. 1. 1. 1. 1. 1. 1. 1. 1. 1.]\n",
            " [1. 1. 1. 1. 1. 1. 1. 1. 1. 1.]\n",
            " [1. 1. 1. 1. 1. 1. 1. 1. 1. 1.]\n",
            " [1. 1. 1. 1. 1. 1. 1. 1. 1. 1.]\n",
            " [1. 1. 1. 1. 1. 1. 1. 1. 1. 1.]\n",
            " [1. 1. 1. 1. 1. 1. 1. 1. 1. 1.]\n",
            " [1. 1. 1. 1. 1. 1. 1. 1. 1. 1.]\n",
            " [1. 1. 1. 1. 1. 1. 1. 1. 1. 1.]]\n",
            "140 (14, 10)\n"
          ]
        }
      ]
    },
    {
      "cell_type": "code",
      "source": [
        "arr_lat = np.round(np.random.random((14, 10)) * 30 + 15, 1)\n",
        "print(arr_lat)\n",
        "print(arr_lat.size, arr_lat.shape)"
      ],
      "metadata": {
        "colab": {
          "base_uri": "https://localhost:8080/"
        },
        "id": "Mq-2IJFQ0Ecd",
        "outputId": "fccc4b59-bfef-4f60-e4bb-99de4b898126"
      },
      "execution_count": null,
      "outputs": [
        {
          "output_type": "stream",
          "name": "stdout",
          "text": [
            "[[31.1 25.9 25.5 33.3 32.2 15.3 29.1 16.3 35.1 43.6]\n",
            " [31.9 36.4 18.2 37.3 40.6 40.3 15.3 23.  20.7 21.9]\n",
            " [34.7 33.6 39.8 28.  34.1 19.7 33.9 31.  25.4 43.1]\n",
            " [32.1 42.6 38.  43.3 40.  44.4 44.6 27.9 26.3 32.2]\n",
            " [16.5 40.3 32.2 15.4 26.  35.3 41.1 27.7 35.  27.8]\n",
            " [30.7 42.5 18.4 25.9 42.7 37.9 17.8 32.4 41.  19.3]\n",
            " [32.5 21.1 16.7 33.4 16.3 36.4 15.  38.9 35.4 38.6]\n",
            " [18.  17.1 34.7 35.5 31.5 41.8 29.  36.6 18.9 17.2]\n",
            " [21.1 42.6 30.7 20.6 30.9 16.9 18.1 41.5 23.4 15.6]\n",
            " [35.6 37.3 32.7 32.7 40.6 40.1 24.1 17.2 21.2 43.9]\n",
            " [21.1 44.4 37.2 27.8 25.  39.6 43.1 21.8 42.1 17.6]\n",
            " [37.9 40.1 24.  22.6 23.4 16.8 39.2 28.6 36.8 43.2]\n",
            " [31.7 21.3 41.8 18.7 19.  23.9 16.7 40.7 38.4 39.6]\n",
            " [24.1 35.  43.1 24.6 26.8 44.5 25.7 24.1 28.2 27.7]]\n",
            "140 (14, 10)\n"
          ]
        }
      ]
    },
    {
      "cell_type": "code",
      "source": [
        "print(arr_lat.reshape((20, 7)))"
      ],
      "metadata": {
        "colab": {
          "base_uri": "https://localhost:8080/"
        },
        "id": "JX4TWPSL0Vyc",
        "outputId": "86bafc5e-a640-44f0-a7f2-c8d2852f1bef"
      },
      "execution_count": null,
      "outputs": [
        {
          "output_type": "stream",
          "name": "stdout",
          "text": [
            "[[31.1 25.9 25.5 33.3 32.2 15.3 29.1]\n",
            " [16.3 35.1 43.6 31.9 36.4 18.2 37.3]\n",
            " [40.6 40.3 15.3 23.  20.7 21.9 34.7]\n",
            " [33.6 39.8 28.  34.1 19.7 33.9 31. ]\n",
            " [25.4 43.1 32.1 42.6 38.  43.3 40. ]\n",
            " [44.4 44.6 27.9 26.3 32.2 16.5 40.3]\n",
            " [32.2 15.4 26.  35.3 41.1 27.7 35. ]\n",
            " [27.8 30.7 42.5 18.4 25.9 42.7 37.9]\n",
            " [17.8 32.4 41.  19.3 32.5 21.1 16.7]\n",
            " [33.4 16.3 36.4 15.  38.9 35.4 38.6]\n",
            " [18.  17.1 34.7 35.5 31.5 41.8 29. ]\n",
            " [36.6 18.9 17.2 21.1 42.6 30.7 20.6]\n",
            " [30.9 16.9 18.1 41.5 23.4 15.6 35.6]\n",
            " [37.3 32.7 32.7 40.6 40.1 24.1 17.2]\n",
            " [21.2 43.9 21.1 44.4 37.2 27.8 25. ]\n",
            " [39.6 43.1 21.8 42.1 17.6 37.9 40.1]\n",
            " [24.  22.6 23.4 16.8 39.2 28.6 36.8]\n",
            " [43.2 31.7 21.3 41.8 18.7 19.  23.9]\n",
            " [16.7 40.7 38.4 39.6 24.1 35.  43.1]\n",
            " [24.6 26.8 44.5 25.7 24.1 28.2 27.7]]\n"
          ]
        }
      ]
    },
    {
      "cell_type": "markdown",
      "source": [
        "sebelum di reshape ada 140 item/angka\n",
        "\n",
        "kalau kita ubah ke bentuknya 20, 10 maka dia ekspektasi ada 200 item/angka\n",
        "\n",
        "kalau tidak pas, jumlah item sebelum dan sesudah reshape, dia tidak bisa reshape"
      ],
      "metadata": {
        "id": "P4QcYPQH2Wt4"
      }
    },
    {
      "cell_type": "markdown",
      "source": [
        "* jangan lupa reassign setelah reshape, kalau tidak hasil reshape tidak di save\n",
        "\n",
        "* reshape tidak mengubah data awal"
      ],
      "metadata": {
        "id": "P-ReEklb1gAT"
      }
    },
    {
      "cell_type": "markdown",
      "source": [
        "## update\n",
        "- untuk mengubah angka tertentu di numpy array, kita bisa gunakan teknik indexing tadi, langsung reassign\n",
        "\n",
        " misalkan `arr_lat[0,0] = 100`\n",
        "\n",
        "- untuk mengubah satu grup angka, bisa menggunakan teknik slicing\n",
        "\n",
        " misalkan `arr_lat[0:3,3] = 100` atau `arr_lat[:,3] = range(20)`\n",
        "\n",
        "- untuk menambah numpy array bisa per baris atau per kolom (2D)\n",
        "\n",
        " kita pakai `np.concatenate()` untuk menempelkan 2 atau lebih numpy array jadi satu"
      ],
      "metadata": {
        "id": "WjAnvBod0tbk"
      }
    },
    {
      "cell_type": "code",
      "source": [
        "arr_lat[0,0] = 100\n",
        "print(arr_lat)"
      ],
      "metadata": {
        "colab": {
          "base_uri": "https://localhost:8080/"
        },
        "id": "-ruG44Ki0slN",
        "outputId": "953a49ff-8063-4211-b44c-34e4c2b74562"
      },
      "execution_count": null,
      "outputs": [
        {
          "output_type": "stream",
          "name": "stdout",
          "text": [
            "[[100.   25.9  25.5  33.3  32.2  15.3  29.1  16.3  35.1  43.6]\n",
            " [ 31.9  36.4  18.2  37.3  40.6  40.3  15.3  23.   20.7  21.9]\n",
            " [ 34.7  33.6  39.8  28.   34.1  19.7  33.9  31.   25.4  43.1]\n",
            " [ 32.1  42.6  38.   43.3  40.   44.4  44.6  27.9  26.3  32.2]\n",
            " [ 16.5  40.3  32.2  15.4  26.   35.3  41.1  27.7  35.   27.8]\n",
            " [ 30.7  42.5  18.4  25.9  42.7  37.9  17.8  32.4  41.   19.3]\n",
            " [ 32.5  21.1  16.7  33.4  16.3  36.4  15.   38.9  35.4  38.6]\n",
            " [ 18.   17.1  34.7  35.5  31.5  41.8  29.   36.6  18.9  17.2]\n",
            " [ 21.1  42.6  30.7  20.6  30.9  16.9  18.1  41.5  23.4  15.6]\n",
            " [ 35.6  37.3  32.7  32.7  40.6  40.1  24.1  17.2  21.2  43.9]\n",
            " [ 21.1  44.4  37.2  27.8  25.   39.6  43.1  21.8  42.1  17.6]\n",
            " [ 37.9  40.1  24.   22.6  23.4  16.8  39.2  28.6  36.8  43.2]\n",
            " [ 31.7  21.3  41.8  18.7  19.   23.9  16.7  40.7  38.4  39.6]\n",
            " [ 24.1  35.   43.1  24.6  26.8  44.5  25.7  24.1  28.2  27.7]]\n"
          ]
        }
      ]
    },
    {
      "cell_type": "code",
      "source": [
        "arr_lat_reshaped = arr_lat.reshape((20,7))\n",
        "arr_lat_reshaped[0:3,3] = 0\n",
        "print(arr_lat_reshaped)"
      ],
      "metadata": {
        "colab": {
          "base_uri": "https://localhost:8080/"
        },
        "id": "TMn4f5-N0lLi",
        "outputId": "2c1436fc-effc-4a05-d368-aaa5b68131b0"
      },
      "execution_count": null,
      "outputs": [
        {
          "output_type": "stream",
          "name": "stdout",
          "text": [
            "[[100.   25.9  25.5   0.   32.2  15.3  29.1]\n",
            " [ 16.3  35.1  43.6   0.   36.4  18.2  37.3]\n",
            " [ 40.6  40.3  15.3   0.   20.7  21.9  34.7]\n",
            " [ 33.6  39.8  28.   34.1  19.7  33.9  31. ]\n",
            " [ 25.4  43.1  32.1  42.6  38.   43.3  40. ]\n",
            " [ 44.4  44.6  27.9  26.3  32.2  16.5  40.3]\n",
            " [ 32.2  15.4  26.   35.3  41.1  27.7  35. ]\n",
            " [ 27.8  30.7  42.5  18.4  25.9  42.7  37.9]\n",
            " [ 17.8  32.4  41.   19.3  32.5  21.1  16.7]\n",
            " [ 33.4  16.3  36.4  15.   38.9  35.4  38.6]\n",
            " [ 18.   17.1  34.7  35.5  31.5  41.8  29. ]\n",
            " [ 36.6  18.9  17.2  21.1  42.6  30.7  20.6]\n",
            " [ 30.9  16.9  18.1  41.5  23.4  15.6  35.6]\n",
            " [ 37.3  32.7  32.7  40.6  40.1  24.1  17.2]\n",
            " [ 21.2  43.9  21.1  44.4  37.2  27.8  25. ]\n",
            " [ 39.6  43.1  21.8  42.1  17.6  37.9  40.1]\n",
            " [ 24.   22.6  23.4  16.8  39.2  28.6  36.8]\n",
            " [ 43.2  31.7  21.3  41.8  18.7  19.   23.9]\n",
            " [ 16.7  40.7  38.4  39.6  24.1  35.   43.1]\n",
            " [ 24.6  26.8  44.5  25.7  24.1  28.2  27.7]]\n"
          ]
        }
      ]
    },
    {
      "cell_type": "code",
      "source": [
        "arr_lat_reshaped[0:3,3] = [5,6,7]\n",
        "print(arr_lat_reshaped)"
      ],
      "metadata": {
        "colab": {
          "base_uri": "https://localhost:8080/"
        },
        "id": "TXVpJ6gu1u3F",
        "outputId": "4fb1f71d-112c-4f9c-a162-3f78e514459c"
      },
      "execution_count": null,
      "outputs": [
        {
          "output_type": "stream",
          "name": "stdout",
          "text": [
            "[[100.   25.9  25.5   5.   32.2  15.3  29.1]\n",
            " [ 16.3  35.1  43.6   6.   36.4  18.2  37.3]\n",
            " [ 40.6  40.3  15.3   7.   20.7  21.9  34.7]\n",
            " [ 33.6  39.8  28.   34.1  19.7  33.9  31. ]\n",
            " [ 25.4  43.1  32.1  42.6  38.   43.3  40. ]\n",
            " [ 44.4  44.6  27.9  26.3  32.2  16.5  40.3]\n",
            " [ 32.2  15.4  26.   35.3  41.1  27.7  35. ]\n",
            " [ 27.8  30.7  42.5  18.4  25.9  42.7  37.9]\n",
            " [ 17.8  32.4  41.   19.3  32.5  21.1  16.7]\n",
            " [ 33.4  16.3  36.4  15.   38.9  35.4  38.6]\n",
            " [ 18.   17.1  34.7  35.5  31.5  41.8  29. ]\n",
            " [ 36.6  18.9  17.2  21.1  42.6  30.7  20.6]\n",
            " [ 30.9  16.9  18.1  41.5  23.4  15.6  35.6]\n",
            " [ 37.3  32.7  32.7  40.6  40.1  24.1  17.2]\n",
            " [ 21.2  43.9  21.1  44.4  37.2  27.8  25. ]\n",
            " [ 39.6  43.1  21.8  42.1  17.6  37.9  40.1]\n",
            " [ 24.   22.6  23.4  16.8  39.2  28.6  36.8]\n",
            " [ 43.2  31.7  21.3  41.8  18.7  19.   23.9]\n",
            " [ 16.7  40.7  38.4  39.6  24.1  35.   43.1]\n",
            " [ 24.6  26.8  44.5  25.7  24.1  28.2  27.7]]\n"
          ]
        }
      ]
    },
    {
      "cell_type": "code",
      "source": [
        "# ubah seluruh kolom ke-4\n",
        "arr_lat_reshaped[:,3] = range(20)\n",
        "print(arr_lat_reshaped)"
      ],
      "metadata": {
        "colab": {
          "base_uri": "https://localhost:8080/"
        },
        "id": "pxipMZmV19qh",
        "outputId": "8840899d-23f3-481a-bd6d-f0d0e399967e"
      },
      "execution_count": null,
      "outputs": [
        {
          "output_type": "stream",
          "name": "stdout",
          "text": [
            "[[100.   25.9  25.5   0.   32.2  15.3  29.1]\n",
            " [ 16.3  35.1  43.6   1.   36.4  18.2  37.3]\n",
            " [ 40.6  40.3  15.3   2.   20.7  21.9  34.7]\n",
            " [ 33.6  39.8  28.    3.   19.7  33.9  31. ]\n",
            " [ 25.4  43.1  32.1   4.   38.   43.3  40. ]\n",
            " [ 44.4  44.6  27.9   5.   32.2  16.5  40.3]\n",
            " [ 32.2  15.4  26.    6.   41.1  27.7  35. ]\n",
            " [ 27.8  30.7  42.5   7.   25.9  42.7  37.9]\n",
            " [ 17.8  32.4  41.    8.   32.5  21.1  16.7]\n",
            " [ 33.4  16.3  36.4   9.   38.9  35.4  38.6]\n",
            " [ 18.   17.1  34.7  10.   31.5  41.8  29. ]\n",
            " [ 36.6  18.9  17.2  11.   42.6  30.7  20.6]\n",
            " [ 30.9  16.9  18.1  12.   23.4  15.6  35.6]\n",
            " [ 37.3  32.7  32.7  13.   40.1  24.1  17.2]\n",
            " [ 21.2  43.9  21.1  14.   37.2  27.8  25. ]\n",
            " [ 39.6  43.1  21.8  15.   17.6  37.9  40.1]\n",
            " [ 24.   22.6  23.4  16.   39.2  28.6  36.8]\n",
            " [ 43.2  31.7  21.3  17.   18.7  19.   23.9]\n",
            " [ 16.7  40.7  38.4  18.   24.1  35.   43.1]\n",
            " [ 24.6  26.8  44.5  19.   24.1  28.2  27.7]]\n"
          ]
        }
      ]
    },
    {
      "cell_type": "code",
      "source": [
        "# untuk coba reshape, ukuran 24 enak karena bisa berubah jadi banyak bentuk berbeda\n",
        "arr24 = np.ones(24)\n",
        "print(arr24)"
      ],
      "metadata": {
        "colab": {
          "base_uri": "https://localhost:8080/"
        },
        "id": "hVutYgf82CT1",
        "outputId": "ae9aa175-519a-45df-dcd7-0eadec697fd5"
      },
      "execution_count": null,
      "outputs": [
        {
          "output_type": "stream",
          "name": "stdout",
          "text": [
            "[1. 1. 1. 1. 1. 1. 1. 1. 1. 1. 1. 1. 1. 1. 1. 1. 1. 1. 1. 1. 1. 1. 1. 1.]\n"
          ]
        }
      ]
    },
    {
      "cell_type": "code",
      "source": [
        "print(arr24.reshape((2,12)))"
      ],
      "metadata": {
        "colab": {
          "base_uri": "https://localhost:8080/"
        },
        "id": "HtvJ-MRK2r8L",
        "outputId": "0540d069-de37-41e5-b35b-dd55f23a610b"
      },
      "execution_count": null,
      "outputs": [
        {
          "output_type": "stream",
          "name": "stdout",
          "text": [
            "[[1. 1. 1. 1. 1. 1. 1. 1. 1. 1. 1. 1.]\n",
            " [1. 1. 1. 1. 1. 1. 1. 1. 1. 1. 1. 1.]]\n"
          ]
        }
      ]
    },
    {
      "cell_type": "code",
      "source": [
        "print(arr24.reshape((3,8)))"
      ],
      "metadata": {
        "colab": {
          "base_uri": "https://localhost:8080/"
        },
        "id": "xhf_BF-D2vds",
        "outputId": "ab3cd88e-010a-42e9-b259-034b1e8bb95a"
      },
      "execution_count": null,
      "outputs": [
        {
          "output_type": "stream",
          "name": "stdout",
          "text": [
            "[[1. 1. 1. 1. 1. 1. 1. 1.]\n",
            " [1. 1. 1. 1. 1. 1. 1. 1.]\n",
            " [1. 1. 1. 1. 1. 1. 1. 1.]]\n"
          ]
        }
      ]
    },
    {
      "cell_type": "code",
      "source": [
        "print(arr24.reshape((4,6)))"
      ],
      "metadata": {
        "colab": {
          "base_uri": "https://localhost:8080/"
        },
        "id": "RdOQqTm82xG9",
        "outputId": "3fdf9879-1ba0-4a7b-cb2f-9ec892db0a34"
      },
      "execution_count": null,
      "outputs": [
        {
          "output_type": "stream",
          "name": "stdout",
          "text": [
            "[[1. 1. 1. 1. 1. 1.]\n",
            " [1. 1. 1. 1. 1. 1.]\n",
            " [1. 1. 1. 1. 1. 1.]\n",
            " [1. 1. 1. 1. 1. 1.]]\n"
          ]
        }
      ]
    },
    {
      "cell_type": "code",
      "source": [
        "print(arr24.reshape((6,4)))"
      ],
      "metadata": {
        "colab": {
          "base_uri": "https://localhost:8080/"
        },
        "id": "YTmZzlU-2y9O",
        "outputId": "064f7abe-f2d1-4068-f6c3-f29d12a7dd8f"
      },
      "execution_count": null,
      "outputs": [
        {
          "output_type": "stream",
          "name": "stdout",
          "text": [
            "[[1. 1. 1. 1.]\n",
            " [1. 1. 1. 1.]\n",
            " [1. 1. 1. 1.]\n",
            " [1. 1. 1. 1.]\n",
            " [1. 1. 1. 1.]\n",
            " [1. 1. 1. 1.]]\n"
          ]
        }
      ]
    },
    {
      "cell_type": "markdown",
      "source": [
        "`np.concatenate()` bisa kita gunakan untuk 'menempel' beberapa numpy array sekaligus"
      ],
      "metadata": {
        "id": "Q1Ryi7om3CIY"
      }
    },
    {
      "cell_type": "code",
      "source": [
        "arr1 = np.array([1,2,3])\n",
        "arr2 = np.array([4,5,6])\n",
        "\n",
        "np.concatenate((arr1, arr2))"
      ],
      "metadata": {
        "colab": {
          "base_uri": "https://localhost:8080/"
        },
        "id": "fx1MVBF721uo",
        "outputId": "18fba3d8-2d1f-44b7-bea9-60c456efbaf9"
      },
      "execution_count": null,
      "outputs": [
        {
          "output_type": "execute_result",
          "data": {
            "text/plain": [
              "array([1, 2, 3, 4, 5, 6])"
            ]
          },
          "metadata": {},
          "execution_count": 85
        }
      ]
    },
    {
      "cell_type": "code",
      "source": [
        "arr1 = np.array([[1,2,3],[4,5,6]])\n",
        "arr2 = np.array([[0,8,9],[9,8,7]])\n",
        "\n",
        "np.concatenate((arr1, arr2))"
      ],
      "metadata": {
        "colab": {
          "base_uri": "https://localhost:8080/"
        },
        "id": "-ehwmhEn3Nzg",
        "outputId": "e8efb12f-2940-483d-844a-5932bea96fc8"
      },
      "execution_count": null,
      "outputs": [
        {
          "output_type": "execute_result",
          "data": {
            "text/plain": [
              "array([[1, 2, 3],\n",
              "       [4, 5, 6],\n",
              "       [0, 8, 9],\n",
              "       [9, 8, 7]])"
            ]
          },
          "metadata": {},
          "execution_count": 86
        }
      ]
    },
    {
      "cell_type": "markdown",
      "source": [
        "## Aritmatika di Numpy Array\n",
        "selain membuat numpy array, dan mengedit numpy array, kita bisa melakukan aritmatika - tujuan utama package Numpy - dengan bantuan Numpy array\n",
        "\n",
        "- rata-rata (mean)\n",
        "- median\n",
        "- sum\n",
        "- max\n",
        "- min\n",
        "- tambah kurang kali bagi\n",
        "- dan banyak lagi"
      ],
      "metadata": {
        "id": "jpj2X1fd381U"
      }
    },
    {
      "cell_type": "code",
      "source": [
        "# anggap kita punya data temperature selama 20 minggu terakhir\n",
        "\n",
        "arr_temp = np.round(np.random.random((20,7)) * 30 + 15, 1)\n",
        "print(arr_temp)\n",
        "print(arr_temp.size, arr_temp.shape)"
      ],
      "metadata": {
        "colab": {
          "base_uri": "https://localhost:8080/"
        },
        "id": "lap-305f3g62",
        "outputId": "ca7f2cf7-8e8a-4682-b523-cbcae3c7171e"
      },
      "execution_count": null,
      "outputs": [
        {
          "output_type": "stream",
          "name": "stdout",
          "text": [
            "[[23.  20.3 37.6 30.8 19.4 29.6 27.2]\n",
            " [25.9 30.4 43.2 16.8 42.6 28.  19.9]\n",
            " [42.9 31.1 17.7 40.1 34.9 20.7 21.3]\n",
            " [24.5 33.1 32.9 20.  34.8 29.6 38.6]\n",
            " [34.1 32.5 28.9 34.2 22.  18.1 38.7]\n",
            " [43.6 44.7 42.9 42.1 28.5 40.4 32.5]\n",
            " [16.3 41.3 25.1 16.5 29.2 32.  19.5]\n",
            " [25.  16.6 19.4 42.3 38.7 17.7 33.5]\n",
            " [41.3 44.  15.9 18.2 40.4 43.3 35.8]\n",
            " [17.1 19.8 37.5 36.7 35.  17.9 32.7]\n",
            " [33.1 18.9 18.  44.  20.  15.1 28.9]\n",
            " [25.3 38.1 37.4 31.1 19.7 39.6 29.4]\n",
            " [21.8 42.6 18.2 22.1 23.2 40.9 16. ]\n",
            " [38.5 38.5 41.1 15.9 36.9 35.1 36.5]\n",
            " [20.4 33.  19.7 16.8 36.8 40.2 20.2]\n",
            " [26.7 29.1 42.4 44.3 36.3 39.  27.7]\n",
            " [23.9 42.3 20.5 40.7 32.  38.  35.8]\n",
            " [41.7 38.2 34.8 18.8 18.6 30.8 21.2]\n",
            " [41.7 41.7 18.2 24.9 35.4 34.4 43.1]\n",
            " [30.5 22.  40.3 23.3 26.8 33.7 38.7]]\n",
            "140 (20, 7)\n"
          ]
        }
      ]
    },
    {
      "cell_type": "markdown",
      "source": [
        "- rata-rata harian temperatur 20 minggu terakhir berapa?\n",
        "- per minggunya rata2nya berapa?\n",
        "- max dan min temp selama 140 hari terakhir berapa?\n",
        "- max dan min per minggu?"
      ],
      "metadata": {
        "id": "FeHOCJNj4rmX"
      }
    },
    {
      "cell_type": "code",
      "source": [
        "arr_temp.mean()"
      ],
      "metadata": {
        "colab": {
          "base_uri": "https://localhost:8080/"
        },
        "id": "qZZAk2Cw4SGJ",
        "outputId": "0037b24a-ab55-4ac6-9a80-d95cd7d946f8"
      },
      "execution_count": null,
      "outputs": [
        {
          "output_type": "execute_result",
          "data": {
            "text/plain": [
              "30.42357142857143"
            ]
          },
          "metadata": {},
          "execution_count": 92
        }
      ]
    },
    {
      "cell_type": "markdown",
      "source": [
        "rata-rata temperatur harian 20 minggu terakhir adalah 30.4 derajat"
      ],
      "metadata": {
        "id": "qL2D8jYL46OG"
      }
    },
    {
      "cell_type": "code",
      "source": [
        "mingguan = np.round(arr_temp.mean(axis=1), 1)\n",
        "print(mingguan, mingguan.shape)"
      ],
      "metadata": {
        "colab": {
          "base_uri": "https://localhost:8080/"
        },
        "id": "6Bl-eani45T3",
        "outputId": "e35064ca-2fad-4882-be81-be6ca5d7b7f1"
      },
      "execution_count": null,
      "outputs": [
        {
          "output_type": "stream",
          "name": "stdout",
          "text": [
            "[26.8 29.5 29.8 30.5 29.8 39.2 25.7 27.6 34.1 28.1 25.4 31.5 26.4 34.6\n",
            " 26.7 35.1 33.3 29.2 34.2 30.8] (20,)\n"
          ]
        }
      ]
    },
    {
      "cell_type": "markdown",
      "source": [
        "kita punya data rata-rata temperatur per minggu selama 20 minggu terakhir"
      ],
      "metadata": {
        "id": "Uo3rkkxv5Lxu"
      }
    },
    {
      "cell_type": "code",
      "source": [
        "# kalau rata2 temperatur hari senin berapa?\n",
        "# rata2 1 kolom, untuk senin kolom pertama\n",
        "weekly = np.round(arr_temp.mean(axis=0), 1)\n",
        "print(weekly, weekly.shape)"
      ],
      "metadata": {
        "colab": {
          "base_uri": "https://localhost:8080/"
        },
        "id": "S6YYUo7l4_0B",
        "outputId": "e8386bbe-dbb7-4af6-95db-21b04c1553e6"
      },
      "execution_count": null,
      "outputs": [
        {
          "output_type": "stream",
          "name": "stdout",
          "text": [
            "[29.9 32.9 29.6 29.  30.6 31.2 29.9] (7,)\n"
          ]
        }
      ]
    },
    {
      "cell_type": "markdown",
      "source": [
        "selain mean, kita bisa gunakan min, max, dan banyak lainnya"
      ],
      "metadata": {
        "id": "Fcdavqw35sRU"
      }
    },
    {
      "cell_type": "code",
      "source": [
        "# max dan min temp selama 140 hari terakhir berapa?\n",
        "print(\"max\", arr_temp.max())\n",
        "print(\"min\", arr_temp.min())\n",
        "\n",
        "# max dan min per minggu?\n",
        "print(\"max mingguan\", arr_temp.max(axis=1))\n",
        "print(\"min mingguan\", arr_temp.min(axis=1))"
      ],
      "metadata": {
        "colab": {
          "base_uri": "https://localhost:8080/"
        },
        "id": "kZunfpcQ5f1O",
        "outputId": "a6d88d47-3cca-4b18-feba-ef4da1a5f32c"
      },
      "execution_count": null,
      "outputs": [
        {
          "output_type": "stream",
          "name": "stdout",
          "text": [
            "max 44.7\n",
            "min 15.1\n",
            "max mingguan [37.6 43.2 42.9 38.6 38.7 44.7 41.3 42.3 44.  37.5 44.  39.6 42.6 41.1\n",
            " 40.2 44.3 42.3 41.7 43.1 40.3]\n",
            "min mingguan [19.4 16.8 17.7 20.  18.1 28.5 16.3 16.6 15.9 17.1 15.1 19.7 16.  15.9\n",
            " 16.8 26.7 20.5 18.6 18.2 22. ]\n"
          ]
        }
      ]
    },
    {
      "cell_type": "markdown",
      "source": [
        "kita bisa cobain juga aritmatiknya"
      ],
      "metadata": {
        "id": "n51P4Wdr6ZVa"
      }
    },
    {
      "cell_type": "code",
      "source": [
        "arr = np.arange(12)\n",
        "arr + 3 - 5 * 4 / 2"
      ],
      "metadata": {
        "colab": {
          "base_uri": "https://localhost:8080/"
        },
        "id": "Il5oaGoW6C0C",
        "outputId": "ba112cf9-354b-4b67-d887-81a020c75602"
      },
      "execution_count": null,
      "outputs": [
        {
          "output_type": "execute_result",
          "data": {
            "text/plain": [
              "array([-7., -6., -5., -4., -3., -2., -1.,  0.,  1.,  2.,  3.,  4.])"
            ]
          },
          "metadata": {},
          "execution_count": 100
        }
      ]
    },
    {
      "cell_type": "code",
      "source": [
        "arr2 = np.arange(12,24)\n",
        "arr2.shape"
      ],
      "metadata": {
        "colab": {
          "base_uri": "https://localhost:8080/"
        },
        "id": "xZHPfHV36hL1",
        "outputId": "2fd464df-1015-43b4-a8db-6f4c45f16454"
      },
      "execution_count": null,
      "outputs": [
        {
          "output_type": "execute_result",
          "data": {
            "text/plain": [
              "(12,)"
            ]
          },
          "metadata": {},
          "execution_count": 102
        }
      ]
    },
    {
      "cell_type": "code",
      "source": [
        "# bukan concatenate nempel, tapi angkanya yang ditambah\n",
        "arr + arr2"
      ],
      "metadata": {
        "colab": {
          "base_uri": "https://localhost:8080/"
        },
        "id": "2mytgqsn6n6Y",
        "outputId": "dca3927b-5013-46a0-bfd0-2dc267e572ec"
      },
      "execution_count": null,
      "outputs": [
        {
          "output_type": "execute_result",
          "data": {
            "text/plain": [
              "array([12, 14, 16, 18, 20, 22, 24, 26, 28, 30, 32, 34])"
            ]
          },
          "metadata": {},
          "execution_count": 103
        }
      ]
    },
    {
      "cell_type": "markdown",
      "source": [
        "# Matrix\n",
        "numpy array 2 dimensi\n",
        "\n",
        "\n",
        "## dot product\n",
        "cara spesial mengkalikan 2 matrix"
      ],
      "metadata": {
        "id": "XMf2Ctlv8z5T"
      }
    },
    {
      "cell_type": "code",
      "source": [
        "\n",
        "arr_penjualan = np.array([[5,10,3],\n",
        "                          [6,12,7],\n",
        "                          [5,13,1],\n",
        "                          [10,11,20]])\n",
        "\n",
        "arr_profit = np.array([ [2000],\n",
        "                        [1000],\n",
        "                        [1500]])\n",
        "\n",
        "print(arr_penjualan)\n",
        "print(arr_profit)"
      ],
      "metadata": {
        "colab": {
          "base_uri": "https://localhost:8080/"
        },
        "id": "CyvrQbFx6uPD",
        "outputId": "2427e7bf-49cd-4dcd-afdd-ef645f29714a"
      },
      "execution_count": null,
      "outputs": [
        {
          "output_type": "stream",
          "name": "stdout",
          "text": [
            "[[ 5 10  3]\n",
            " [ 6 12  7]\n",
            " [ 5 13  1]\n",
            " [10 11 20]]\n",
            "[[2000]\n",
            " [1000]\n",
            " [1500]]\n"
          ]
        }
      ]
    },
    {
      "cell_type": "code",
      "source": [
        "profit_harian = arr_penjualan.dot(arr_profit)\n",
        "print(profit_harian)"
      ],
      "metadata": {
        "colab": {
          "base_uri": "https://localhost:8080/"
        },
        "id": "hu5BG8U09Rbm",
        "outputId": "7f4b0ce0-55ba-4ae8-ac63-abf03250955d"
      },
      "execution_count": null,
      "outputs": [
        {
          "output_type": "stream",
          "name": "stdout",
          "text": [
            "[[24500]\n",
            " [34500]\n",
            " [24500]\n",
            " [61000]]\n"
          ]
        }
      ]
    },
    {
      "cell_type": "code",
      "source": [
        "profit_total = profit_harian.sum()\n",
        "print(profit_total)"
      ],
      "metadata": {
        "colab": {
          "base_uri": "https://localhost:8080/"
        },
        "id": "IIQItUux9Ub4",
        "outputId": "bd4fd98d-550b-49c3-e034-2b4aa19c0636"
      },
      "execution_count": null,
      "outputs": [
        {
          "output_type": "stream",
          "name": "stdout",
          "text": [
            "144500\n"
          ]
        }
      ]
    },
    {
      "cell_type": "markdown",
      "source": [
        "## Tranpose dan Reshape\n",
        "transpose berbeda dengan reshape\n",
        "\n",
        "transpose menyimpan teman sebaris menjadi teman sekolom\n",
        "\n",
        "reshape tidak peduli dengan teman sebaris/sekolom"
      ],
      "metadata": {
        "id": "l2a4bgXL99Dl"
      }
    },
    {
      "cell_type": "code",
      "source": [
        "# misal kita punya data penjualan harian\n",
        "print(arr_penjualan)"
      ],
      "metadata": {
        "colab": {
          "base_uri": "https://localhost:8080/"
        },
        "id": "2PIsUUsY9mMW",
        "outputId": "f19a9c1c-303f-49a3-eb36-5701802fec6b"
      },
      "execution_count": null,
      "outputs": [
        {
          "output_type": "stream",
          "name": "stdout",
          "text": [
            "[[ 5 10  3]\n",
            " [ 6 12  7]\n",
            " [ 5 13  1]\n",
            " [10 11 20]]\n"
          ]
        }
      ]
    },
    {
      "cell_type": "markdown",
      "source": [
        "setiap baris adalah hari berbeda\n",
        "\n",
        "setiap kolom adalah produk berbeda\n",
        "\n",
        "kalau kita pakai reshape"
      ],
      "metadata": {
        "id": "JmMCh2zO-L2n"
      }
    },
    {
      "cell_type": "code",
      "source": [
        "arr_penjualan.reshape((3,4))"
      ],
      "metadata": {
        "colab": {
          "base_uri": "https://localhost:8080/"
        },
        "id": "36MPZ05N-JpD",
        "outputId": "640b2cf0-1c96-43fb-f326-42c43a660e2f"
      },
      "execution_count": null,
      "outputs": [
        {
          "output_type": "execute_result",
          "data": {
            "text/plain": [
              "array([[ 5, 10,  3,  6],\n",
              "       [12,  7,  5, 13],\n",
              "       [ 1, 10, 11, 20]])"
            ]
          },
          "metadata": {},
          "execution_count": 110
        }
      ]
    },
    {
      "cell_type": "markdown",
      "source": [
        "datanya tercampur. perhatikan penjualan senin 5 10 3 menjadi 5 12 1 di reshape sini. ini karena reshape tidak peduli dengan posisi per baris atau per kolom.\n",
        "\n",
        "jadi biasanya kita akan menggunakan transpose kalau datanya data riil."
      ],
      "metadata": {
        "id": "QVlcl0u--So1"
      }
    },
    {
      "cell_type": "code",
      "source": [
        "arr_penjualan.T"
      ],
      "metadata": {
        "colab": {
          "base_uri": "https://localhost:8080/"
        },
        "id": "Rr-YxiC6-Rrl",
        "outputId": "5d52c959-58ea-4d1f-bc7c-c5df6fa44ca6"
      },
      "execution_count": null,
      "outputs": [
        {
          "output_type": "execute_result",
          "data": {
            "text/plain": [
              "array([[ 5,  6,  5, 10],\n",
              "       [10, 12, 13, 11],\n",
              "       [ 3,  7,  1, 20]])"
            ]
          },
          "metadata": {},
          "execution_count": 111
        }
      ]
    },
    {
      "cell_type": "markdown",
      "source": [
        "transpose memastikan yang tadinya baris jadi kolom, dan yang tadinya kolom jadi baris"
      ],
      "metadata": {
        "id": "SJ2Xu9yq-l76"
      }
    },
    {
      "cell_type": "markdown",
      "source": [
        "### latihan pendek\n",
        "\n",
        "- gunakan numpy array untuk membuat dummy data hasil lempar dadu, dari antara angka 1-6\n",
        "- anggaplah ada 3 orang yang sedang bermain dadu, masing masing melempar 10 kali\n",
        "- hitung berapa rata rata nilai dadu yang dimiliki per orang\n",
        "- hitung total nilai yang dimiliki per orang\n",
        "- siapa yang memiliki nilai tertinggi (orang ke berapa/ baris ke berapa)"
      ],
      "metadata": {
        "id": "dBoJKBGz_WWC"
      }
    },
    {
      "cell_type": "code",
      "source": [
        "dummy_data = np.round(np.random.random((3,10))*5+1, 0)\n",
        "print(\"dummy data\")\n",
        "print(dummy_data)"
      ],
      "metadata": {
        "colab": {
          "base_uri": "https://localhost:8080/"
        },
        "id": "f2RrPCVO-j0m",
        "outputId": "a5913c83-23c3-41f1-ab8d-454e91440006"
      },
      "execution_count": null,
      "outputs": [
        {
          "output_type": "stream",
          "name": "stdout",
          "text": [
            "dummy data\n",
            "[[1. 3. 3. 4. 5. 2. 3. 3. 5. 5.]\n",
            " [3. 4. 2. 6. 3. 4. 2. 6. 3. 2.]\n",
            " [2. 5. 6. 3. 4. 1. 3. 1. 3. 3.]]\n"
          ]
        }
      ]
    },
    {
      "cell_type": "code",
      "source": [
        "print(\"rata2 per orang\")\n",
        "mean_dd = dummy_data.mean(axis=1)\n",
        "print(mean_dd)"
      ],
      "metadata": {
        "colab": {
          "base_uri": "https://localhost:8080/"
        },
        "id": "uK1m5Z71CnLN",
        "outputId": "90b40e2f-ac09-420a-a58f-dd868148086a"
      },
      "execution_count": null,
      "outputs": [
        {
          "output_type": "stream",
          "name": "stdout",
          "text": [
            "rata2 per orang\n",
            "[3.4 3.5 3.1]\n"
          ]
        }
      ]
    },
    {
      "cell_type": "code",
      "source": [
        "print(\"total per orang\")\n",
        "sum_dd = dummy_data.sum(axis=1)\n",
        "print(sum_dd)"
      ],
      "metadata": {
        "colab": {
          "base_uri": "https://localhost:8080/"
        },
        "id": "hUp4BysyDQTD",
        "outputId": "666fdf8a-78d5-4365-fd79-802826f954fe"
      },
      "execution_count": null,
      "outputs": [
        {
          "output_type": "stream",
          "name": "stdout",
          "text": [
            "total per orang\n",
            "[34. 35. 31.]\n"
          ]
        }
      ]
    },
    {
      "cell_type": "markdown",
      "source": [
        "di kasus ini, orang ke2 memiliki nilai tertinggi di 35"
      ],
      "metadata": {
        "id": "zU8zRklwDX41"
      }
    },
    {
      "cell_type": "code",
      "source": [
        "highest_per_person = sum_dd.max()\n",
        "print(highest_per_person)"
      ],
      "metadata": {
        "colab": {
          "base_uri": "https://localhost:8080/"
        },
        "id": "0Yq22fpLDUTw",
        "outputId": "09404972-d961-4f0f-e1ab-9f7644a69d8f"
      },
      "execution_count": null,
      "outputs": [
        {
          "output_type": "stream",
          "name": "stdout",
          "text": [
            "35.0\n"
          ]
        }
      ]
    },
    {
      "cell_type": "code",
      "source": [
        "# kita bisa gunakan cara lebih otomatis juga untuk mencari index\n",
        "# baris ke berapa yang punya total nilai tertinggi\n",
        "np.where(sum_dd == highest_per_person)[0][0]"
      ],
      "metadata": {
        "colab": {
          "base_uri": "https://localhost:8080/"
        },
        "id": "AFpBk0DxDeeq",
        "outputId": "b5d44ac0-cadd-4581-b816-fea1ea6b1416"
      },
      "execution_count": null,
      "outputs": [
        {
          "output_type": "execute_result",
          "data": {
            "text/plain": [
              "1"
            ]
          },
          "metadata": {},
          "execution_count": 136
        }
      ]
    },
    {
      "cell_type": "markdown",
      "source": [
        "# Preview: Pandas\n",
        "package pandas memiliki dua data type\n",
        "- Series - 1 dimensi\n",
        "- DataFrame - 2 dimensi\n",
        "\n",
        "berbeda sama numpy, yang sama sama numpy array mau 1D, 2D, 3D, ...\n",
        "\n",
        "di pandas cuma ada 2 pilihan: 1D Series, atau 2D DataFrame\n",
        "\n",
        "untuk contoh kali ini, kita akan gunakan DataFrame"
      ],
      "metadata": {
        "id": "n7Td8ELbEJGi"
      }
    },
    {
      "cell_type": "code",
      "source": [
        "import pandas as pd"
      ],
      "metadata": {
        "id": "f5s8ovG3EeB_"
      },
      "execution_count": null,
      "outputs": []
    },
    {
      "cell_type": "code",
      "source": [
        "# bikin dataframe\n",
        "pd.DataFrame(dummy_data)"
      ],
      "metadata": {
        "colab": {
          "base_uri": "https://localhost:8080/",
          "height": 143
        },
        "id": "Fywjc4_8D53z",
        "outputId": "5a4042a6-cd5c-443a-a27b-2bc36a1565cc"
      },
      "execution_count": null,
      "outputs": [
        {
          "output_type": "execute_result",
          "data": {
            "text/plain": [
              "     0    1    2    3    4    5    6    7    8    9\n",
              "0  1.0  3.0  3.0  4.0  5.0  2.0  3.0  3.0  5.0  5.0\n",
              "1  3.0  4.0  2.0  6.0  3.0  4.0  2.0  6.0  3.0  2.0\n",
              "2  2.0  5.0  6.0  3.0  4.0  1.0  3.0  1.0  3.0  3.0"
            ],
            "text/html": [
              "\n",
              "  <div id=\"df-311643a4-a46a-4723-82a0-bea693aad29f\" class=\"colab-df-container\">\n",
              "    <div>\n",
              "<style scoped>\n",
              "    .dataframe tbody tr th:only-of-type {\n",
              "        vertical-align: middle;\n",
              "    }\n",
              "\n",
              "    .dataframe tbody tr th {\n",
              "        vertical-align: top;\n",
              "    }\n",
              "\n",
              "    .dataframe thead th {\n",
              "        text-align: right;\n",
              "    }\n",
              "</style>\n",
              "<table border=\"1\" class=\"dataframe\">\n",
              "  <thead>\n",
              "    <tr style=\"text-align: right;\">\n",
              "      <th></th>\n",
              "      <th>0</th>\n",
              "      <th>1</th>\n",
              "      <th>2</th>\n",
              "      <th>3</th>\n",
              "      <th>4</th>\n",
              "      <th>5</th>\n",
              "      <th>6</th>\n",
              "      <th>7</th>\n",
              "      <th>8</th>\n",
              "      <th>9</th>\n",
              "    </tr>\n",
              "  </thead>\n",
              "  <tbody>\n",
              "    <tr>\n",
              "      <th>0</th>\n",
              "      <td>1.0</td>\n",
              "      <td>3.0</td>\n",
              "      <td>3.0</td>\n",
              "      <td>4.0</td>\n",
              "      <td>5.0</td>\n",
              "      <td>2.0</td>\n",
              "      <td>3.0</td>\n",
              "      <td>3.0</td>\n",
              "      <td>5.0</td>\n",
              "      <td>5.0</td>\n",
              "    </tr>\n",
              "    <tr>\n",
              "      <th>1</th>\n",
              "      <td>3.0</td>\n",
              "      <td>4.0</td>\n",
              "      <td>2.0</td>\n",
              "      <td>6.0</td>\n",
              "      <td>3.0</td>\n",
              "      <td>4.0</td>\n",
              "      <td>2.0</td>\n",
              "      <td>6.0</td>\n",
              "      <td>3.0</td>\n",
              "      <td>2.0</td>\n",
              "    </tr>\n",
              "    <tr>\n",
              "      <th>2</th>\n",
              "      <td>2.0</td>\n",
              "      <td>5.0</td>\n",
              "      <td>6.0</td>\n",
              "      <td>3.0</td>\n",
              "      <td>4.0</td>\n",
              "      <td>1.0</td>\n",
              "      <td>3.0</td>\n",
              "      <td>1.0</td>\n",
              "      <td>3.0</td>\n",
              "      <td>3.0</td>\n",
              "    </tr>\n",
              "  </tbody>\n",
              "</table>\n",
              "</div>\n",
              "    <div class=\"colab-df-buttons\">\n",
              "\n",
              "  <div class=\"colab-df-container\">\n",
              "    <button class=\"colab-df-convert\" onclick=\"convertToInteractive('df-311643a4-a46a-4723-82a0-bea693aad29f')\"\n",
              "            title=\"Convert this dataframe to an interactive table.\"\n",
              "            style=\"display:none;\">\n",
              "\n",
              "  <svg xmlns=\"http://www.w3.org/2000/svg\" height=\"24px\" viewBox=\"0 -960 960 960\">\n",
              "    <path d=\"M120-120v-720h720v720H120Zm60-500h600v-160H180v160Zm220 220h160v-160H400v160Zm0 220h160v-160H400v160ZM180-400h160v-160H180v160Zm440 0h160v-160H620v160ZM180-180h160v-160H180v160Zm440 0h160v-160H620v160Z\"/>\n",
              "  </svg>\n",
              "    </button>\n",
              "\n",
              "  <style>\n",
              "    .colab-df-container {\n",
              "      display:flex;\n",
              "      gap: 12px;\n",
              "    }\n",
              "\n",
              "    .colab-df-convert {\n",
              "      background-color: #E8F0FE;\n",
              "      border: none;\n",
              "      border-radius: 50%;\n",
              "      cursor: pointer;\n",
              "      display: none;\n",
              "      fill: #1967D2;\n",
              "      height: 32px;\n",
              "      padding: 0 0 0 0;\n",
              "      width: 32px;\n",
              "    }\n",
              "\n",
              "    .colab-df-convert:hover {\n",
              "      background-color: #E2EBFA;\n",
              "      box-shadow: 0px 1px 2px rgba(60, 64, 67, 0.3), 0px 1px 3px 1px rgba(60, 64, 67, 0.15);\n",
              "      fill: #174EA6;\n",
              "    }\n",
              "\n",
              "    .colab-df-buttons div {\n",
              "      margin-bottom: 4px;\n",
              "    }\n",
              "\n",
              "    [theme=dark] .colab-df-convert {\n",
              "      background-color: #3B4455;\n",
              "      fill: #D2E3FC;\n",
              "    }\n",
              "\n",
              "    [theme=dark] .colab-df-convert:hover {\n",
              "      background-color: #434B5C;\n",
              "      box-shadow: 0px 1px 3px 1px rgba(0, 0, 0, 0.15);\n",
              "      filter: drop-shadow(0px 1px 2px rgba(0, 0, 0, 0.3));\n",
              "      fill: #FFFFFF;\n",
              "    }\n",
              "  </style>\n",
              "\n",
              "    <script>\n",
              "      const buttonEl =\n",
              "        document.querySelector('#df-311643a4-a46a-4723-82a0-bea693aad29f button.colab-df-convert');\n",
              "      buttonEl.style.display =\n",
              "        google.colab.kernel.accessAllowed ? 'block' : 'none';\n",
              "\n",
              "      async function convertToInteractive(key) {\n",
              "        const element = document.querySelector('#df-311643a4-a46a-4723-82a0-bea693aad29f');\n",
              "        const dataTable =\n",
              "          await google.colab.kernel.invokeFunction('convertToInteractive',\n",
              "                                                    [key], {});\n",
              "        if (!dataTable) return;\n",
              "\n",
              "        const docLinkHtml = 'Like what you see? Visit the ' +\n",
              "          '<a target=\"_blank\" href=https://colab.research.google.com/notebooks/data_table.ipynb>data table notebook</a>'\n",
              "          + ' to learn more about interactive tables.';\n",
              "        element.innerHTML = '';\n",
              "        dataTable['output_type'] = 'display_data';\n",
              "        await google.colab.output.renderOutput(dataTable, element);\n",
              "        const docLink = document.createElement('div');\n",
              "        docLink.innerHTML = docLinkHtml;\n",
              "        element.appendChild(docLink);\n",
              "      }\n",
              "    </script>\n",
              "  </div>\n",
              "\n",
              "\n",
              "<div id=\"df-73d1b0a7-bd57-4b49-a6e1-7af57870aa80\">\n",
              "  <button class=\"colab-df-quickchart\" onclick=\"quickchart('df-73d1b0a7-bd57-4b49-a6e1-7af57870aa80')\"\n",
              "            title=\"Suggest charts.\"\n",
              "            style=\"display:none;\">\n",
              "\n",
              "<svg xmlns=\"http://www.w3.org/2000/svg\" height=\"24px\"viewBox=\"0 0 24 24\"\n",
              "     width=\"24px\">\n",
              "    <g>\n",
              "        <path d=\"M19 3H5c-1.1 0-2 .9-2 2v14c0 1.1.9 2 2 2h14c1.1 0 2-.9 2-2V5c0-1.1-.9-2-2-2zM9 17H7v-7h2v7zm4 0h-2V7h2v10zm4 0h-2v-4h2v4z\"/>\n",
              "    </g>\n",
              "</svg>\n",
              "  </button>\n",
              "\n",
              "<style>\n",
              "  .colab-df-quickchart {\n",
              "      --bg-color: #E8F0FE;\n",
              "      --fill-color: #1967D2;\n",
              "      --hover-bg-color: #E2EBFA;\n",
              "      --hover-fill-color: #174EA6;\n",
              "      --disabled-fill-color: #AAA;\n",
              "      --disabled-bg-color: #DDD;\n",
              "  }\n",
              "\n",
              "  [theme=dark] .colab-df-quickchart {\n",
              "      --bg-color: #3B4455;\n",
              "      --fill-color: #D2E3FC;\n",
              "      --hover-bg-color: #434B5C;\n",
              "      --hover-fill-color: #FFFFFF;\n",
              "      --disabled-bg-color: #3B4455;\n",
              "      --disabled-fill-color: #666;\n",
              "  }\n",
              "\n",
              "  .colab-df-quickchart {\n",
              "    background-color: var(--bg-color);\n",
              "    border: none;\n",
              "    border-radius: 50%;\n",
              "    cursor: pointer;\n",
              "    display: none;\n",
              "    fill: var(--fill-color);\n",
              "    height: 32px;\n",
              "    padding: 0;\n",
              "    width: 32px;\n",
              "  }\n",
              "\n",
              "  .colab-df-quickchart:hover {\n",
              "    background-color: var(--hover-bg-color);\n",
              "    box-shadow: 0 1px 2px rgba(60, 64, 67, 0.3), 0 1px 3px 1px rgba(60, 64, 67, 0.15);\n",
              "    fill: var(--button-hover-fill-color);\n",
              "  }\n",
              "\n",
              "  .colab-df-quickchart-complete:disabled,\n",
              "  .colab-df-quickchart-complete:disabled:hover {\n",
              "    background-color: var(--disabled-bg-color);\n",
              "    fill: var(--disabled-fill-color);\n",
              "    box-shadow: none;\n",
              "  }\n",
              "\n",
              "  .colab-df-spinner {\n",
              "    border: 2px solid var(--fill-color);\n",
              "    border-color: transparent;\n",
              "    border-bottom-color: var(--fill-color);\n",
              "    animation:\n",
              "      spin 1s steps(1) infinite;\n",
              "  }\n",
              "\n",
              "  @keyframes spin {\n",
              "    0% {\n",
              "      border-color: transparent;\n",
              "      border-bottom-color: var(--fill-color);\n",
              "      border-left-color: var(--fill-color);\n",
              "    }\n",
              "    20% {\n",
              "      border-color: transparent;\n",
              "      border-left-color: var(--fill-color);\n",
              "      border-top-color: var(--fill-color);\n",
              "    }\n",
              "    30% {\n",
              "      border-color: transparent;\n",
              "      border-left-color: var(--fill-color);\n",
              "      border-top-color: var(--fill-color);\n",
              "      border-right-color: var(--fill-color);\n",
              "    }\n",
              "    40% {\n",
              "      border-color: transparent;\n",
              "      border-right-color: var(--fill-color);\n",
              "      border-top-color: var(--fill-color);\n",
              "    }\n",
              "    60% {\n",
              "      border-color: transparent;\n",
              "      border-right-color: var(--fill-color);\n",
              "    }\n",
              "    80% {\n",
              "      border-color: transparent;\n",
              "      border-right-color: var(--fill-color);\n",
              "      border-bottom-color: var(--fill-color);\n",
              "    }\n",
              "    90% {\n",
              "      border-color: transparent;\n",
              "      border-bottom-color: var(--fill-color);\n",
              "    }\n",
              "  }\n",
              "</style>\n",
              "\n",
              "  <script>\n",
              "    async function quickchart(key) {\n",
              "      const quickchartButtonEl =\n",
              "        document.querySelector('#' + key + ' button');\n",
              "      quickchartButtonEl.disabled = true;  // To prevent multiple clicks.\n",
              "      quickchartButtonEl.classList.add('colab-df-spinner');\n",
              "      try {\n",
              "        const charts = await google.colab.kernel.invokeFunction(\n",
              "            'suggestCharts', [key], {});\n",
              "      } catch (error) {\n",
              "        console.error('Error during call to suggestCharts:', error);\n",
              "      }\n",
              "      quickchartButtonEl.classList.remove('colab-df-spinner');\n",
              "      quickchartButtonEl.classList.add('colab-df-quickchart-complete');\n",
              "    }\n",
              "    (() => {\n",
              "      let quickchartButtonEl =\n",
              "        document.querySelector('#df-73d1b0a7-bd57-4b49-a6e1-7af57870aa80 button');\n",
              "      quickchartButtonEl.style.display =\n",
              "        google.colab.kernel.accessAllowed ? 'block' : 'none';\n",
              "    })();\n",
              "  </script>\n",
              "</div>\n",
              "    </div>\n",
              "  </div>\n"
            ]
          },
          "metadata": {},
          "execution_count": 138
        }
      ]
    },
    {
      "cell_type": "code",
      "source": [
        "col_names = []\n",
        "for n in range(1, 11):\n",
        "  col_names.append(\"Trial \" + str(n))\n",
        "col_names"
      ],
      "metadata": {
        "colab": {
          "base_uri": "https://localhost:8080/"
        },
        "id": "uDM3iYcOE3v5",
        "outputId": "764c304f-8636-4b4b-b860-3dc58f287af2"
      },
      "execution_count": null,
      "outputs": [
        {
          "output_type": "execute_result",
          "data": {
            "text/plain": [
              "['Trial 1',\n",
              " 'Trial 2',\n",
              " 'Trial 3',\n",
              " 'Trial 4',\n",
              " 'Trial 5',\n",
              " 'Trial 6',\n",
              " 'Trial 7',\n",
              " 'Trial 8',\n",
              " 'Trial 9',\n",
              " 'Trial 10']"
            ]
          },
          "metadata": {},
          "execution_count": 139
        }
      ]
    },
    {
      "cell_type": "code",
      "source": [
        "# di dataframe, kita bisa kasih judul kolom dan judul baris\n",
        "\n",
        "pd.DataFrame(dummy_data, columns=col_names)"
      ],
      "metadata": {
        "colab": {
          "base_uri": "https://localhost:8080/",
          "height": 143
        },
        "id": "BXYn-xzgEmNb",
        "outputId": "774a37f8-6859-442a-f51e-872866d7fe3f"
      },
      "execution_count": null,
      "outputs": [
        {
          "output_type": "execute_result",
          "data": {
            "text/plain": [
              "   Trial 1  Trial 2  Trial 3  Trial 4  Trial 5  Trial 6  Trial 7  Trial 8  \\\n",
              "0      1.0      3.0      3.0      4.0      5.0      2.0      3.0      3.0   \n",
              "1      3.0      4.0      2.0      6.0      3.0      4.0      2.0      6.0   \n",
              "2      2.0      5.0      6.0      3.0      4.0      1.0      3.0      1.0   \n",
              "\n",
              "   Trial 9  Trial 10  \n",
              "0      5.0       5.0  \n",
              "1      3.0       2.0  \n",
              "2      3.0       3.0  "
            ],
            "text/html": [
              "\n",
              "  <div id=\"df-174ca1e4-6746-4002-bd26-89b6fa070310\" class=\"colab-df-container\">\n",
              "    <div>\n",
              "<style scoped>\n",
              "    .dataframe tbody tr th:only-of-type {\n",
              "        vertical-align: middle;\n",
              "    }\n",
              "\n",
              "    .dataframe tbody tr th {\n",
              "        vertical-align: top;\n",
              "    }\n",
              "\n",
              "    .dataframe thead th {\n",
              "        text-align: right;\n",
              "    }\n",
              "</style>\n",
              "<table border=\"1\" class=\"dataframe\">\n",
              "  <thead>\n",
              "    <tr style=\"text-align: right;\">\n",
              "      <th></th>\n",
              "      <th>Trial 1</th>\n",
              "      <th>Trial 2</th>\n",
              "      <th>Trial 3</th>\n",
              "      <th>Trial 4</th>\n",
              "      <th>Trial 5</th>\n",
              "      <th>Trial 6</th>\n",
              "      <th>Trial 7</th>\n",
              "      <th>Trial 8</th>\n",
              "      <th>Trial 9</th>\n",
              "      <th>Trial 10</th>\n",
              "    </tr>\n",
              "  </thead>\n",
              "  <tbody>\n",
              "    <tr>\n",
              "      <th>0</th>\n",
              "      <td>1.0</td>\n",
              "      <td>3.0</td>\n",
              "      <td>3.0</td>\n",
              "      <td>4.0</td>\n",
              "      <td>5.0</td>\n",
              "      <td>2.0</td>\n",
              "      <td>3.0</td>\n",
              "      <td>3.0</td>\n",
              "      <td>5.0</td>\n",
              "      <td>5.0</td>\n",
              "    </tr>\n",
              "    <tr>\n",
              "      <th>1</th>\n",
              "      <td>3.0</td>\n",
              "      <td>4.0</td>\n",
              "      <td>2.0</td>\n",
              "      <td>6.0</td>\n",
              "      <td>3.0</td>\n",
              "      <td>4.0</td>\n",
              "      <td>2.0</td>\n",
              "      <td>6.0</td>\n",
              "      <td>3.0</td>\n",
              "      <td>2.0</td>\n",
              "    </tr>\n",
              "    <tr>\n",
              "      <th>2</th>\n",
              "      <td>2.0</td>\n",
              "      <td>5.0</td>\n",
              "      <td>6.0</td>\n",
              "      <td>3.0</td>\n",
              "      <td>4.0</td>\n",
              "      <td>1.0</td>\n",
              "      <td>3.0</td>\n",
              "      <td>1.0</td>\n",
              "      <td>3.0</td>\n",
              "      <td>3.0</td>\n",
              "    </tr>\n",
              "  </tbody>\n",
              "</table>\n",
              "</div>\n",
              "    <div class=\"colab-df-buttons\">\n",
              "\n",
              "  <div class=\"colab-df-container\">\n",
              "    <button class=\"colab-df-convert\" onclick=\"convertToInteractive('df-174ca1e4-6746-4002-bd26-89b6fa070310')\"\n",
              "            title=\"Convert this dataframe to an interactive table.\"\n",
              "            style=\"display:none;\">\n",
              "\n",
              "  <svg xmlns=\"http://www.w3.org/2000/svg\" height=\"24px\" viewBox=\"0 -960 960 960\">\n",
              "    <path d=\"M120-120v-720h720v720H120Zm60-500h600v-160H180v160Zm220 220h160v-160H400v160Zm0 220h160v-160H400v160ZM180-400h160v-160H180v160Zm440 0h160v-160H620v160ZM180-180h160v-160H180v160Zm440 0h160v-160H620v160Z\"/>\n",
              "  </svg>\n",
              "    </button>\n",
              "\n",
              "  <style>\n",
              "    .colab-df-container {\n",
              "      display:flex;\n",
              "      gap: 12px;\n",
              "    }\n",
              "\n",
              "    .colab-df-convert {\n",
              "      background-color: #E8F0FE;\n",
              "      border: none;\n",
              "      border-radius: 50%;\n",
              "      cursor: pointer;\n",
              "      display: none;\n",
              "      fill: #1967D2;\n",
              "      height: 32px;\n",
              "      padding: 0 0 0 0;\n",
              "      width: 32px;\n",
              "    }\n",
              "\n",
              "    .colab-df-convert:hover {\n",
              "      background-color: #E2EBFA;\n",
              "      box-shadow: 0px 1px 2px rgba(60, 64, 67, 0.3), 0px 1px 3px 1px rgba(60, 64, 67, 0.15);\n",
              "      fill: #174EA6;\n",
              "    }\n",
              "\n",
              "    .colab-df-buttons div {\n",
              "      margin-bottom: 4px;\n",
              "    }\n",
              "\n",
              "    [theme=dark] .colab-df-convert {\n",
              "      background-color: #3B4455;\n",
              "      fill: #D2E3FC;\n",
              "    }\n",
              "\n",
              "    [theme=dark] .colab-df-convert:hover {\n",
              "      background-color: #434B5C;\n",
              "      box-shadow: 0px 1px 3px 1px rgba(0, 0, 0, 0.15);\n",
              "      filter: drop-shadow(0px 1px 2px rgba(0, 0, 0, 0.3));\n",
              "      fill: #FFFFFF;\n",
              "    }\n",
              "  </style>\n",
              "\n",
              "    <script>\n",
              "      const buttonEl =\n",
              "        document.querySelector('#df-174ca1e4-6746-4002-bd26-89b6fa070310 button.colab-df-convert');\n",
              "      buttonEl.style.display =\n",
              "        google.colab.kernel.accessAllowed ? 'block' : 'none';\n",
              "\n",
              "      async function convertToInteractive(key) {\n",
              "        const element = document.querySelector('#df-174ca1e4-6746-4002-bd26-89b6fa070310');\n",
              "        const dataTable =\n",
              "          await google.colab.kernel.invokeFunction('convertToInteractive',\n",
              "                                                    [key], {});\n",
              "        if (!dataTable) return;\n",
              "\n",
              "        const docLinkHtml = 'Like what you see? Visit the ' +\n",
              "          '<a target=\"_blank\" href=https://colab.research.google.com/notebooks/data_table.ipynb>data table notebook</a>'\n",
              "          + ' to learn more about interactive tables.';\n",
              "        element.innerHTML = '';\n",
              "        dataTable['output_type'] = 'display_data';\n",
              "        await google.colab.output.renderOutput(dataTable, element);\n",
              "        const docLink = document.createElement('div');\n",
              "        docLink.innerHTML = docLinkHtml;\n",
              "        element.appendChild(docLink);\n",
              "      }\n",
              "    </script>\n",
              "  </div>\n",
              "\n",
              "\n",
              "<div id=\"df-5ef8f2e6-5972-4124-a304-d7ef0879e526\">\n",
              "  <button class=\"colab-df-quickchart\" onclick=\"quickchart('df-5ef8f2e6-5972-4124-a304-d7ef0879e526')\"\n",
              "            title=\"Suggest charts.\"\n",
              "            style=\"display:none;\">\n",
              "\n",
              "<svg xmlns=\"http://www.w3.org/2000/svg\" height=\"24px\"viewBox=\"0 0 24 24\"\n",
              "     width=\"24px\">\n",
              "    <g>\n",
              "        <path d=\"M19 3H5c-1.1 0-2 .9-2 2v14c0 1.1.9 2 2 2h14c1.1 0 2-.9 2-2V5c0-1.1-.9-2-2-2zM9 17H7v-7h2v7zm4 0h-2V7h2v10zm4 0h-2v-4h2v4z\"/>\n",
              "    </g>\n",
              "</svg>\n",
              "  </button>\n",
              "\n",
              "<style>\n",
              "  .colab-df-quickchart {\n",
              "      --bg-color: #E8F0FE;\n",
              "      --fill-color: #1967D2;\n",
              "      --hover-bg-color: #E2EBFA;\n",
              "      --hover-fill-color: #174EA6;\n",
              "      --disabled-fill-color: #AAA;\n",
              "      --disabled-bg-color: #DDD;\n",
              "  }\n",
              "\n",
              "  [theme=dark] .colab-df-quickchart {\n",
              "      --bg-color: #3B4455;\n",
              "      --fill-color: #D2E3FC;\n",
              "      --hover-bg-color: #434B5C;\n",
              "      --hover-fill-color: #FFFFFF;\n",
              "      --disabled-bg-color: #3B4455;\n",
              "      --disabled-fill-color: #666;\n",
              "  }\n",
              "\n",
              "  .colab-df-quickchart {\n",
              "    background-color: var(--bg-color);\n",
              "    border: none;\n",
              "    border-radius: 50%;\n",
              "    cursor: pointer;\n",
              "    display: none;\n",
              "    fill: var(--fill-color);\n",
              "    height: 32px;\n",
              "    padding: 0;\n",
              "    width: 32px;\n",
              "  }\n",
              "\n",
              "  .colab-df-quickchart:hover {\n",
              "    background-color: var(--hover-bg-color);\n",
              "    box-shadow: 0 1px 2px rgba(60, 64, 67, 0.3), 0 1px 3px 1px rgba(60, 64, 67, 0.15);\n",
              "    fill: var(--button-hover-fill-color);\n",
              "  }\n",
              "\n",
              "  .colab-df-quickchart-complete:disabled,\n",
              "  .colab-df-quickchart-complete:disabled:hover {\n",
              "    background-color: var(--disabled-bg-color);\n",
              "    fill: var(--disabled-fill-color);\n",
              "    box-shadow: none;\n",
              "  }\n",
              "\n",
              "  .colab-df-spinner {\n",
              "    border: 2px solid var(--fill-color);\n",
              "    border-color: transparent;\n",
              "    border-bottom-color: var(--fill-color);\n",
              "    animation:\n",
              "      spin 1s steps(1) infinite;\n",
              "  }\n",
              "\n",
              "  @keyframes spin {\n",
              "    0% {\n",
              "      border-color: transparent;\n",
              "      border-bottom-color: var(--fill-color);\n",
              "      border-left-color: var(--fill-color);\n",
              "    }\n",
              "    20% {\n",
              "      border-color: transparent;\n",
              "      border-left-color: var(--fill-color);\n",
              "      border-top-color: var(--fill-color);\n",
              "    }\n",
              "    30% {\n",
              "      border-color: transparent;\n",
              "      border-left-color: var(--fill-color);\n",
              "      border-top-color: var(--fill-color);\n",
              "      border-right-color: var(--fill-color);\n",
              "    }\n",
              "    40% {\n",
              "      border-color: transparent;\n",
              "      border-right-color: var(--fill-color);\n",
              "      border-top-color: var(--fill-color);\n",
              "    }\n",
              "    60% {\n",
              "      border-color: transparent;\n",
              "      border-right-color: var(--fill-color);\n",
              "    }\n",
              "    80% {\n",
              "      border-color: transparent;\n",
              "      border-right-color: var(--fill-color);\n",
              "      border-bottom-color: var(--fill-color);\n",
              "    }\n",
              "    90% {\n",
              "      border-color: transparent;\n",
              "      border-bottom-color: var(--fill-color);\n",
              "    }\n",
              "  }\n",
              "</style>\n",
              "\n",
              "  <script>\n",
              "    async function quickchart(key) {\n",
              "      const quickchartButtonEl =\n",
              "        document.querySelector('#' + key + ' button');\n",
              "      quickchartButtonEl.disabled = true;  // To prevent multiple clicks.\n",
              "      quickchartButtonEl.classList.add('colab-df-spinner');\n",
              "      try {\n",
              "        const charts = await google.colab.kernel.invokeFunction(\n",
              "            'suggestCharts', [key], {});\n",
              "      } catch (error) {\n",
              "        console.error('Error during call to suggestCharts:', error);\n",
              "      }\n",
              "      quickchartButtonEl.classList.remove('colab-df-spinner');\n",
              "      quickchartButtonEl.classList.add('colab-df-quickchart-complete');\n",
              "    }\n",
              "    (() => {\n",
              "      let quickchartButtonEl =\n",
              "        document.querySelector('#df-5ef8f2e6-5972-4124-a304-d7ef0879e526 button');\n",
              "      quickchartButtonEl.style.display =\n",
              "        google.colab.kernel.accessAllowed ? 'block' : 'none';\n",
              "    })();\n",
              "  </script>\n",
              "</div>\n",
              "    </div>\n",
              "  </div>\n"
            ]
          },
          "metadata": {},
          "execution_count": 140
        }
      ]
    },
    {
      "cell_type": "code",
      "source": [
        "# judul baris namanya index\n",
        "\n",
        "pd.DataFrame(dummy_data, columns=col_names, index=[\"Andi\", \"Budi\", \"Calvin\"])"
      ],
      "metadata": {
        "colab": {
          "base_uri": "https://localhost:8080/",
          "height": 143
        },
        "id": "AOgKDRMbFB3u",
        "outputId": "9dcf7564-b73d-4a59-8c49-774d5e7fa5ab"
      },
      "execution_count": null,
      "outputs": [
        {
          "output_type": "execute_result",
          "data": {
            "text/plain": [
              "        Trial 1  Trial 2  Trial 3  Trial 4  Trial 5  Trial 6  Trial 7  \\\n",
              "Andi        1.0      3.0      3.0      4.0      5.0      2.0      3.0   \n",
              "Budi        3.0      4.0      2.0      6.0      3.0      4.0      2.0   \n",
              "Calvin      2.0      5.0      6.0      3.0      4.0      1.0      3.0   \n",
              "\n",
              "        Trial 8  Trial 9  Trial 10  \n",
              "Andi        3.0      5.0       5.0  \n",
              "Budi        6.0      3.0       2.0  \n",
              "Calvin      1.0      3.0       3.0  "
            ],
            "text/html": [
              "\n",
              "  <div id=\"df-e3e4bc55-bdd1-4737-847d-0ba377d1f05b\" class=\"colab-df-container\">\n",
              "    <div>\n",
              "<style scoped>\n",
              "    .dataframe tbody tr th:only-of-type {\n",
              "        vertical-align: middle;\n",
              "    }\n",
              "\n",
              "    .dataframe tbody tr th {\n",
              "        vertical-align: top;\n",
              "    }\n",
              "\n",
              "    .dataframe thead th {\n",
              "        text-align: right;\n",
              "    }\n",
              "</style>\n",
              "<table border=\"1\" class=\"dataframe\">\n",
              "  <thead>\n",
              "    <tr style=\"text-align: right;\">\n",
              "      <th></th>\n",
              "      <th>Trial 1</th>\n",
              "      <th>Trial 2</th>\n",
              "      <th>Trial 3</th>\n",
              "      <th>Trial 4</th>\n",
              "      <th>Trial 5</th>\n",
              "      <th>Trial 6</th>\n",
              "      <th>Trial 7</th>\n",
              "      <th>Trial 8</th>\n",
              "      <th>Trial 9</th>\n",
              "      <th>Trial 10</th>\n",
              "    </tr>\n",
              "  </thead>\n",
              "  <tbody>\n",
              "    <tr>\n",
              "      <th>Andi</th>\n",
              "      <td>1.0</td>\n",
              "      <td>3.0</td>\n",
              "      <td>3.0</td>\n",
              "      <td>4.0</td>\n",
              "      <td>5.0</td>\n",
              "      <td>2.0</td>\n",
              "      <td>3.0</td>\n",
              "      <td>3.0</td>\n",
              "      <td>5.0</td>\n",
              "      <td>5.0</td>\n",
              "    </tr>\n",
              "    <tr>\n",
              "      <th>Budi</th>\n",
              "      <td>3.0</td>\n",
              "      <td>4.0</td>\n",
              "      <td>2.0</td>\n",
              "      <td>6.0</td>\n",
              "      <td>3.0</td>\n",
              "      <td>4.0</td>\n",
              "      <td>2.0</td>\n",
              "      <td>6.0</td>\n",
              "      <td>3.0</td>\n",
              "      <td>2.0</td>\n",
              "    </tr>\n",
              "    <tr>\n",
              "      <th>Calvin</th>\n",
              "      <td>2.0</td>\n",
              "      <td>5.0</td>\n",
              "      <td>6.0</td>\n",
              "      <td>3.0</td>\n",
              "      <td>4.0</td>\n",
              "      <td>1.0</td>\n",
              "      <td>3.0</td>\n",
              "      <td>1.0</td>\n",
              "      <td>3.0</td>\n",
              "      <td>3.0</td>\n",
              "    </tr>\n",
              "  </tbody>\n",
              "</table>\n",
              "</div>\n",
              "    <div class=\"colab-df-buttons\">\n",
              "\n",
              "  <div class=\"colab-df-container\">\n",
              "    <button class=\"colab-df-convert\" onclick=\"convertToInteractive('df-e3e4bc55-bdd1-4737-847d-0ba377d1f05b')\"\n",
              "            title=\"Convert this dataframe to an interactive table.\"\n",
              "            style=\"display:none;\">\n",
              "\n",
              "  <svg xmlns=\"http://www.w3.org/2000/svg\" height=\"24px\" viewBox=\"0 -960 960 960\">\n",
              "    <path d=\"M120-120v-720h720v720H120Zm60-500h600v-160H180v160Zm220 220h160v-160H400v160Zm0 220h160v-160H400v160ZM180-400h160v-160H180v160Zm440 0h160v-160H620v160ZM180-180h160v-160H180v160Zm440 0h160v-160H620v160Z\"/>\n",
              "  </svg>\n",
              "    </button>\n",
              "\n",
              "  <style>\n",
              "    .colab-df-container {\n",
              "      display:flex;\n",
              "      gap: 12px;\n",
              "    }\n",
              "\n",
              "    .colab-df-convert {\n",
              "      background-color: #E8F0FE;\n",
              "      border: none;\n",
              "      border-radius: 50%;\n",
              "      cursor: pointer;\n",
              "      display: none;\n",
              "      fill: #1967D2;\n",
              "      height: 32px;\n",
              "      padding: 0 0 0 0;\n",
              "      width: 32px;\n",
              "    }\n",
              "\n",
              "    .colab-df-convert:hover {\n",
              "      background-color: #E2EBFA;\n",
              "      box-shadow: 0px 1px 2px rgba(60, 64, 67, 0.3), 0px 1px 3px 1px rgba(60, 64, 67, 0.15);\n",
              "      fill: #174EA6;\n",
              "    }\n",
              "\n",
              "    .colab-df-buttons div {\n",
              "      margin-bottom: 4px;\n",
              "    }\n",
              "\n",
              "    [theme=dark] .colab-df-convert {\n",
              "      background-color: #3B4455;\n",
              "      fill: #D2E3FC;\n",
              "    }\n",
              "\n",
              "    [theme=dark] .colab-df-convert:hover {\n",
              "      background-color: #434B5C;\n",
              "      box-shadow: 0px 1px 3px 1px rgba(0, 0, 0, 0.15);\n",
              "      filter: drop-shadow(0px 1px 2px rgba(0, 0, 0, 0.3));\n",
              "      fill: #FFFFFF;\n",
              "    }\n",
              "  </style>\n",
              "\n",
              "    <script>\n",
              "      const buttonEl =\n",
              "        document.querySelector('#df-e3e4bc55-bdd1-4737-847d-0ba377d1f05b button.colab-df-convert');\n",
              "      buttonEl.style.display =\n",
              "        google.colab.kernel.accessAllowed ? 'block' : 'none';\n",
              "\n",
              "      async function convertToInteractive(key) {\n",
              "        const element = document.querySelector('#df-e3e4bc55-bdd1-4737-847d-0ba377d1f05b');\n",
              "        const dataTable =\n",
              "          await google.colab.kernel.invokeFunction('convertToInteractive',\n",
              "                                                    [key], {});\n",
              "        if (!dataTable) return;\n",
              "\n",
              "        const docLinkHtml = 'Like what you see? Visit the ' +\n",
              "          '<a target=\"_blank\" href=https://colab.research.google.com/notebooks/data_table.ipynb>data table notebook</a>'\n",
              "          + ' to learn more about interactive tables.';\n",
              "        element.innerHTML = '';\n",
              "        dataTable['output_type'] = 'display_data';\n",
              "        await google.colab.output.renderOutput(dataTable, element);\n",
              "        const docLink = document.createElement('div');\n",
              "        docLink.innerHTML = docLinkHtml;\n",
              "        element.appendChild(docLink);\n",
              "      }\n",
              "    </script>\n",
              "  </div>\n",
              "\n",
              "\n",
              "<div id=\"df-ff2abe12-1846-4ce2-a219-6563950f4146\">\n",
              "  <button class=\"colab-df-quickchart\" onclick=\"quickchart('df-ff2abe12-1846-4ce2-a219-6563950f4146')\"\n",
              "            title=\"Suggest charts.\"\n",
              "            style=\"display:none;\">\n",
              "\n",
              "<svg xmlns=\"http://www.w3.org/2000/svg\" height=\"24px\"viewBox=\"0 0 24 24\"\n",
              "     width=\"24px\">\n",
              "    <g>\n",
              "        <path d=\"M19 3H5c-1.1 0-2 .9-2 2v14c0 1.1.9 2 2 2h14c1.1 0 2-.9 2-2V5c0-1.1-.9-2-2-2zM9 17H7v-7h2v7zm4 0h-2V7h2v10zm4 0h-2v-4h2v4z\"/>\n",
              "    </g>\n",
              "</svg>\n",
              "  </button>\n",
              "\n",
              "<style>\n",
              "  .colab-df-quickchart {\n",
              "      --bg-color: #E8F0FE;\n",
              "      --fill-color: #1967D2;\n",
              "      --hover-bg-color: #E2EBFA;\n",
              "      --hover-fill-color: #174EA6;\n",
              "      --disabled-fill-color: #AAA;\n",
              "      --disabled-bg-color: #DDD;\n",
              "  }\n",
              "\n",
              "  [theme=dark] .colab-df-quickchart {\n",
              "      --bg-color: #3B4455;\n",
              "      --fill-color: #D2E3FC;\n",
              "      --hover-bg-color: #434B5C;\n",
              "      --hover-fill-color: #FFFFFF;\n",
              "      --disabled-bg-color: #3B4455;\n",
              "      --disabled-fill-color: #666;\n",
              "  }\n",
              "\n",
              "  .colab-df-quickchart {\n",
              "    background-color: var(--bg-color);\n",
              "    border: none;\n",
              "    border-radius: 50%;\n",
              "    cursor: pointer;\n",
              "    display: none;\n",
              "    fill: var(--fill-color);\n",
              "    height: 32px;\n",
              "    padding: 0;\n",
              "    width: 32px;\n",
              "  }\n",
              "\n",
              "  .colab-df-quickchart:hover {\n",
              "    background-color: var(--hover-bg-color);\n",
              "    box-shadow: 0 1px 2px rgba(60, 64, 67, 0.3), 0 1px 3px 1px rgba(60, 64, 67, 0.15);\n",
              "    fill: var(--button-hover-fill-color);\n",
              "  }\n",
              "\n",
              "  .colab-df-quickchart-complete:disabled,\n",
              "  .colab-df-quickchart-complete:disabled:hover {\n",
              "    background-color: var(--disabled-bg-color);\n",
              "    fill: var(--disabled-fill-color);\n",
              "    box-shadow: none;\n",
              "  }\n",
              "\n",
              "  .colab-df-spinner {\n",
              "    border: 2px solid var(--fill-color);\n",
              "    border-color: transparent;\n",
              "    border-bottom-color: var(--fill-color);\n",
              "    animation:\n",
              "      spin 1s steps(1) infinite;\n",
              "  }\n",
              "\n",
              "  @keyframes spin {\n",
              "    0% {\n",
              "      border-color: transparent;\n",
              "      border-bottom-color: var(--fill-color);\n",
              "      border-left-color: var(--fill-color);\n",
              "    }\n",
              "    20% {\n",
              "      border-color: transparent;\n",
              "      border-left-color: var(--fill-color);\n",
              "      border-top-color: var(--fill-color);\n",
              "    }\n",
              "    30% {\n",
              "      border-color: transparent;\n",
              "      border-left-color: var(--fill-color);\n",
              "      border-top-color: var(--fill-color);\n",
              "      border-right-color: var(--fill-color);\n",
              "    }\n",
              "    40% {\n",
              "      border-color: transparent;\n",
              "      border-right-color: var(--fill-color);\n",
              "      border-top-color: var(--fill-color);\n",
              "    }\n",
              "    60% {\n",
              "      border-color: transparent;\n",
              "      border-right-color: var(--fill-color);\n",
              "    }\n",
              "    80% {\n",
              "      border-color: transparent;\n",
              "      border-right-color: var(--fill-color);\n",
              "      border-bottom-color: var(--fill-color);\n",
              "    }\n",
              "    90% {\n",
              "      border-color: transparent;\n",
              "      border-bottom-color: var(--fill-color);\n",
              "    }\n",
              "  }\n",
              "</style>\n",
              "\n",
              "  <script>\n",
              "    async function quickchart(key) {\n",
              "      const quickchartButtonEl =\n",
              "        document.querySelector('#' + key + ' button');\n",
              "      quickchartButtonEl.disabled = true;  // To prevent multiple clicks.\n",
              "      quickchartButtonEl.classList.add('colab-df-spinner');\n",
              "      try {\n",
              "        const charts = await google.colab.kernel.invokeFunction(\n",
              "            'suggestCharts', [key], {});\n",
              "      } catch (error) {\n",
              "        console.error('Error during call to suggestCharts:', error);\n",
              "      }\n",
              "      quickchartButtonEl.classList.remove('colab-df-spinner');\n",
              "      quickchartButtonEl.classList.add('colab-df-quickchart-complete');\n",
              "    }\n",
              "    (() => {\n",
              "      let quickchartButtonEl =\n",
              "        document.querySelector('#df-ff2abe12-1846-4ce2-a219-6563950f4146 button');\n",
              "      quickchartButtonEl.style.display =\n",
              "        google.colab.kernel.accessAllowed ? 'block' : 'none';\n",
              "    })();\n",
              "  </script>\n",
              "</div>\n",
              "    </div>\n",
              "  </div>\n"
            ]
          },
          "metadata": {},
          "execution_count": 141
        }
      ]
    },
    {
      "cell_type": "markdown",
      "source": [
        "## latihan pendek\n",
        "- buatlah data tabular 2 dimensi menggunakan numpy random random\n",
        "- masukkan data tersebut ke sebuah pandas DataFrame\n",
        "- berikan judul kolom dan judul baris"
      ],
      "metadata": {
        "id": "ZZbMVyCqFfV9"
      }
    },
    {
      "cell_type": "code",
      "source": [
        "pd.DataFrame([[1,2,3], [4,5,6]], columns=[\"A\", \"B\", \"C\"], index=[\"I\", \"II\"])"
      ],
      "metadata": {
        "colab": {
          "base_uri": "https://localhost:8080/",
          "height": 112
        },
        "id": "fl8eLUemFTsU",
        "outputId": "b185b699-3dc8-4f25-ab28-771ebe6da897"
      },
      "execution_count": null,
      "outputs": [
        {
          "output_type": "execute_result",
          "data": {
            "text/plain": [
              "    A  B  C\n",
              "I   1  2  3\n",
              "II  4  5  6"
            ],
            "text/html": [
              "\n",
              "  <div id=\"df-85532f33-0cee-48c1-8380-4cb88ba2426c\" class=\"colab-df-container\">\n",
              "    <div>\n",
              "<style scoped>\n",
              "    .dataframe tbody tr th:only-of-type {\n",
              "        vertical-align: middle;\n",
              "    }\n",
              "\n",
              "    .dataframe tbody tr th {\n",
              "        vertical-align: top;\n",
              "    }\n",
              "\n",
              "    .dataframe thead th {\n",
              "        text-align: right;\n",
              "    }\n",
              "</style>\n",
              "<table border=\"1\" class=\"dataframe\">\n",
              "  <thead>\n",
              "    <tr style=\"text-align: right;\">\n",
              "      <th></th>\n",
              "      <th>A</th>\n",
              "      <th>B</th>\n",
              "      <th>C</th>\n",
              "    </tr>\n",
              "  </thead>\n",
              "  <tbody>\n",
              "    <tr>\n",
              "      <th>I</th>\n",
              "      <td>1</td>\n",
              "      <td>2</td>\n",
              "      <td>3</td>\n",
              "    </tr>\n",
              "    <tr>\n",
              "      <th>II</th>\n",
              "      <td>4</td>\n",
              "      <td>5</td>\n",
              "      <td>6</td>\n",
              "    </tr>\n",
              "  </tbody>\n",
              "</table>\n",
              "</div>\n",
              "    <div class=\"colab-df-buttons\">\n",
              "\n",
              "  <div class=\"colab-df-container\">\n",
              "    <button class=\"colab-df-convert\" onclick=\"convertToInteractive('df-85532f33-0cee-48c1-8380-4cb88ba2426c')\"\n",
              "            title=\"Convert this dataframe to an interactive table.\"\n",
              "            style=\"display:none;\">\n",
              "\n",
              "  <svg xmlns=\"http://www.w3.org/2000/svg\" height=\"24px\" viewBox=\"0 -960 960 960\">\n",
              "    <path d=\"M120-120v-720h720v720H120Zm60-500h600v-160H180v160Zm220 220h160v-160H400v160Zm0 220h160v-160H400v160ZM180-400h160v-160H180v160Zm440 0h160v-160H620v160ZM180-180h160v-160H180v160Zm440 0h160v-160H620v160Z\"/>\n",
              "  </svg>\n",
              "    </button>\n",
              "\n",
              "  <style>\n",
              "    .colab-df-container {\n",
              "      display:flex;\n",
              "      gap: 12px;\n",
              "    }\n",
              "\n",
              "    .colab-df-convert {\n",
              "      background-color: #E8F0FE;\n",
              "      border: none;\n",
              "      border-radius: 50%;\n",
              "      cursor: pointer;\n",
              "      display: none;\n",
              "      fill: #1967D2;\n",
              "      height: 32px;\n",
              "      padding: 0 0 0 0;\n",
              "      width: 32px;\n",
              "    }\n",
              "\n",
              "    .colab-df-convert:hover {\n",
              "      background-color: #E2EBFA;\n",
              "      box-shadow: 0px 1px 2px rgba(60, 64, 67, 0.3), 0px 1px 3px 1px rgba(60, 64, 67, 0.15);\n",
              "      fill: #174EA6;\n",
              "    }\n",
              "\n",
              "    .colab-df-buttons div {\n",
              "      margin-bottom: 4px;\n",
              "    }\n",
              "\n",
              "    [theme=dark] .colab-df-convert {\n",
              "      background-color: #3B4455;\n",
              "      fill: #D2E3FC;\n",
              "    }\n",
              "\n",
              "    [theme=dark] .colab-df-convert:hover {\n",
              "      background-color: #434B5C;\n",
              "      box-shadow: 0px 1px 3px 1px rgba(0, 0, 0, 0.15);\n",
              "      filter: drop-shadow(0px 1px 2px rgba(0, 0, 0, 0.3));\n",
              "      fill: #FFFFFF;\n",
              "    }\n",
              "  </style>\n",
              "\n",
              "    <script>\n",
              "      const buttonEl =\n",
              "        document.querySelector('#df-85532f33-0cee-48c1-8380-4cb88ba2426c button.colab-df-convert');\n",
              "      buttonEl.style.display =\n",
              "        google.colab.kernel.accessAllowed ? 'block' : 'none';\n",
              "\n",
              "      async function convertToInteractive(key) {\n",
              "        const element = document.querySelector('#df-85532f33-0cee-48c1-8380-4cb88ba2426c');\n",
              "        const dataTable =\n",
              "          await google.colab.kernel.invokeFunction('convertToInteractive',\n",
              "                                                    [key], {});\n",
              "        if (!dataTable) return;\n",
              "\n",
              "        const docLinkHtml = 'Like what you see? Visit the ' +\n",
              "          '<a target=\"_blank\" href=https://colab.research.google.com/notebooks/data_table.ipynb>data table notebook</a>'\n",
              "          + ' to learn more about interactive tables.';\n",
              "        element.innerHTML = '';\n",
              "        dataTable['output_type'] = 'display_data';\n",
              "        await google.colab.output.renderOutput(dataTable, element);\n",
              "        const docLink = document.createElement('div');\n",
              "        docLink.innerHTML = docLinkHtml;\n",
              "        element.appendChild(docLink);\n",
              "      }\n",
              "    </script>\n",
              "  </div>\n",
              "\n",
              "\n",
              "<div id=\"df-518fdf98-7247-41ec-8e59-a6133c40f29c\">\n",
              "  <button class=\"colab-df-quickchart\" onclick=\"quickchart('df-518fdf98-7247-41ec-8e59-a6133c40f29c')\"\n",
              "            title=\"Suggest charts.\"\n",
              "            style=\"display:none;\">\n",
              "\n",
              "<svg xmlns=\"http://www.w3.org/2000/svg\" height=\"24px\"viewBox=\"0 0 24 24\"\n",
              "     width=\"24px\">\n",
              "    <g>\n",
              "        <path d=\"M19 3H5c-1.1 0-2 .9-2 2v14c0 1.1.9 2 2 2h14c1.1 0 2-.9 2-2V5c0-1.1-.9-2-2-2zM9 17H7v-7h2v7zm4 0h-2V7h2v10zm4 0h-2v-4h2v4z\"/>\n",
              "    </g>\n",
              "</svg>\n",
              "  </button>\n",
              "\n",
              "<style>\n",
              "  .colab-df-quickchart {\n",
              "      --bg-color: #E8F0FE;\n",
              "      --fill-color: #1967D2;\n",
              "      --hover-bg-color: #E2EBFA;\n",
              "      --hover-fill-color: #174EA6;\n",
              "      --disabled-fill-color: #AAA;\n",
              "      --disabled-bg-color: #DDD;\n",
              "  }\n",
              "\n",
              "  [theme=dark] .colab-df-quickchart {\n",
              "      --bg-color: #3B4455;\n",
              "      --fill-color: #D2E3FC;\n",
              "      --hover-bg-color: #434B5C;\n",
              "      --hover-fill-color: #FFFFFF;\n",
              "      --disabled-bg-color: #3B4455;\n",
              "      --disabled-fill-color: #666;\n",
              "  }\n",
              "\n",
              "  .colab-df-quickchart {\n",
              "    background-color: var(--bg-color);\n",
              "    border: none;\n",
              "    border-radius: 50%;\n",
              "    cursor: pointer;\n",
              "    display: none;\n",
              "    fill: var(--fill-color);\n",
              "    height: 32px;\n",
              "    padding: 0;\n",
              "    width: 32px;\n",
              "  }\n",
              "\n",
              "  .colab-df-quickchart:hover {\n",
              "    background-color: var(--hover-bg-color);\n",
              "    box-shadow: 0 1px 2px rgba(60, 64, 67, 0.3), 0 1px 3px 1px rgba(60, 64, 67, 0.15);\n",
              "    fill: var(--button-hover-fill-color);\n",
              "  }\n",
              "\n",
              "  .colab-df-quickchart-complete:disabled,\n",
              "  .colab-df-quickchart-complete:disabled:hover {\n",
              "    background-color: var(--disabled-bg-color);\n",
              "    fill: var(--disabled-fill-color);\n",
              "    box-shadow: none;\n",
              "  }\n",
              "\n",
              "  .colab-df-spinner {\n",
              "    border: 2px solid var(--fill-color);\n",
              "    border-color: transparent;\n",
              "    border-bottom-color: var(--fill-color);\n",
              "    animation:\n",
              "      spin 1s steps(1) infinite;\n",
              "  }\n",
              "\n",
              "  @keyframes spin {\n",
              "    0% {\n",
              "      border-color: transparent;\n",
              "      border-bottom-color: var(--fill-color);\n",
              "      border-left-color: var(--fill-color);\n",
              "    }\n",
              "    20% {\n",
              "      border-color: transparent;\n",
              "      border-left-color: var(--fill-color);\n",
              "      border-top-color: var(--fill-color);\n",
              "    }\n",
              "    30% {\n",
              "      border-color: transparent;\n",
              "      border-left-color: var(--fill-color);\n",
              "      border-top-color: var(--fill-color);\n",
              "      border-right-color: var(--fill-color);\n",
              "    }\n",
              "    40% {\n",
              "      border-color: transparent;\n",
              "      border-right-color: var(--fill-color);\n",
              "      border-top-color: var(--fill-color);\n",
              "    }\n",
              "    60% {\n",
              "      border-color: transparent;\n",
              "      border-right-color: var(--fill-color);\n",
              "    }\n",
              "    80% {\n",
              "      border-color: transparent;\n",
              "      border-right-color: var(--fill-color);\n",
              "      border-bottom-color: var(--fill-color);\n",
              "    }\n",
              "    90% {\n",
              "      border-color: transparent;\n",
              "      border-bottom-color: var(--fill-color);\n",
              "    }\n",
              "  }\n",
              "</style>\n",
              "\n",
              "  <script>\n",
              "    async function quickchart(key) {\n",
              "      const quickchartButtonEl =\n",
              "        document.querySelector('#' + key + ' button');\n",
              "      quickchartButtonEl.disabled = true;  // To prevent multiple clicks.\n",
              "      quickchartButtonEl.classList.add('colab-df-spinner');\n",
              "      try {\n",
              "        const charts = await google.colab.kernel.invokeFunction(\n",
              "            'suggestCharts', [key], {});\n",
              "      } catch (error) {\n",
              "        console.error('Error during call to suggestCharts:', error);\n",
              "      }\n",
              "      quickchartButtonEl.classList.remove('colab-df-spinner');\n",
              "      quickchartButtonEl.classList.add('colab-df-quickchart-complete');\n",
              "    }\n",
              "    (() => {\n",
              "      let quickchartButtonEl =\n",
              "        document.querySelector('#df-518fdf98-7247-41ec-8e59-a6133c40f29c button');\n",
              "      quickchartButtonEl.style.display =\n",
              "        google.colab.kernel.accessAllowed ? 'block' : 'none';\n",
              "    })();\n",
              "  </script>\n",
              "</div>\n",
              "    </div>\n",
              "  </div>\n"
            ]
          },
          "metadata": {},
          "execution_count": 144
        }
      ]
    },
    {
      "cell_type": "code",
      "source": [
        "# misalkan kita buat data penjualan alat tulis\n",
        "# ada pensil, penghapus, buku tulis\n",
        "# kita jual, ada kolom jumlah terjual, dan kolom harga per item\n",
        "\n",
        "judul_kolom = [\"Jumlah Terjual\", \"Harga per Item\"]\n",
        "judul_baris = [\"Pensil\", \"Penghapus\", \"Buku Tulis\"]\n",
        "\n",
        "# kita perlu data 3 baris 2 kolom\n",
        "# kita gunakan numpy random random\n",
        "# kita random jumlah terjual dulu, baru harga per item\n",
        "\n",
        "jumlah_terjual = np.round(np.random.random((3, 1)) * 50 + 50, 0)\n",
        "harga_per_item = np.array([5000, 3500, 15000]).reshape((3,1))\n",
        "\n",
        "data = np.concatenate((jumlah_terjual,harga_per_item), axis=1)\n",
        "data"
      ],
      "metadata": {
        "colab": {
          "base_uri": "https://localhost:8080/"
        },
        "id": "FHQ23f5FIJ7A",
        "outputId": "21f5287f-c6bf-403a-bb5c-58dd1f5405da"
      },
      "execution_count": null,
      "outputs": [
        {
          "output_type": "execute_result",
          "data": {
            "text/plain": [
              "array([[   66.,  5000.],\n",
              "       [   71.,  3500.],\n",
              "       [   90., 15000.]])"
            ]
          },
          "metadata": {},
          "execution_count": 151
        }
      ]
    },
    {
      "cell_type": "code",
      "source": [
        "df = pd.DataFrame(data, columns=judul_kolom, index=judul_baris)\n",
        "df"
      ],
      "metadata": {
        "colab": {
          "base_uri": "https://localhost:8080/",
          "height": 143
        },
        "id": "Bg1IkWmeJQBB",
        "outputId": "f2a58b26-e29f-4e04-fcb0-304c7a207a70"
      },
      "execution_count": null,
      "outputs": [
        {
          "output_type": "execute_result",
          "data": {
            "text/plain": [
              "            Jumlah Terjual  Harga per Item\n",
              "Pensil                78.0          5000.0\n",
              "Penghapus             92.0          3500.0\n",
              "Buku Tulis            72.0         15000.0"
            ],
            "text/html": [
              "\n",
              "  <div id=\"df-f88956e8-111b-48a0-9c46-722ee847d44e\" class=\"colab-df-container\">\n",
              "    <div>\n",
              "<style scoped>\n",
              "    .dataframe tbody tr th:only-of-type {\n",
              "        vertical-align: middle;\n",
              "    }\n",
              "\n",
              "    .dataframe tbody tr th {\n",
              "        vertical-align: top;\n",
              "    }\n",
              "\n",
              "    .dataframe thead th {\n",
              "        text-align: right;\n",
              "    }\n",
              "</style>\n",
              "<table border=\"1\" class=\"dataframe\">\n",
              "  <thead>\n",
              "    <tr style=\"text-align: right;\">\n",
              "      <th></th>\n",
              "      <th>Jumlah Terjual</th>\n",
              "      <th>Harga per Item</th>\n",
              "    </tr>\n",
              "  </thead>\n",
              "  <tbody>\n",
              "    <tr>\n",
              "      <th>Pensil</th>\n",
              "      <td>78.0</td>\n",
              "      <td>5000.0</td>\n",
              "    </tr>\n",
              "    <tr>\n",
              "      <th>Penghapus</th>\n",
              "      <td>92.0</td>\n",
              "      <td>3500.0</td>\n",
              "    </tr>\n",
              "    <tr>\n",
              "      <th>Buku Tulis</th>\n",
              "      <td>72.0</td>\n",
              "      <td>15000.0</td>\n",
              "    </tr>\n",
              "  </tbody>\n",
              "</table>\n",
              "</div>\n",
              "    <div class=\"colab-df-buttons\">\n",
              "\n",
              "  <div class=\"colab-df-container\">\n",
              "    <button class=\"colab-df-convert\" onclick=\"convertToInteractive('df-f88956e8-111b-48a0-9c46-722ee847d44e')\"\n",
              "            title=\"Convert this dataframe to an interactive table.\"\n",
              "            style=\"display:none;\">\n",
              "\n",
              "  <svg xmlns=\"http://www.w3.org/2000/svg\" height=\"24px\" viewBox=\"0 -960 960 960\">\n",
              "    <path d=\"M120-120v-720h720v720H120Zm60-500h600v-160H180v160Zm220 220h160v-160H400v160Zm0 220h160v-160H400v160ZM180-400h160v-160H180v160Zm440 0h160v-160H620v160ZM180-180h160v-160H180v160Zm440 0h160v-160H620v160Z\"/>\n",
              "  </svg>\n",
              "    </button>\n",
              "\n",
              "  <style>\n",
              "    .colab-df-container {\n",
              "      display:flex;\n",
              "      gap: 12px;\n",
              "    }\n",
              "\n",
              "    .colab-df-convert {\n",
              "      background-color: #E8F0FE;\n",
              "      border: none;\n",
              "      border-radius: 50%;\n",
              "      cursor: pointer;\n",
              "      display: none;\n",
              "      fill: #1967D2;\n",
              "      height: 32px;\n",
              "      padding: 0 0 0 0;\n",
              "      width: 32px;\n",
              "    }\n",
              "\n",
              "    .colab-df-convert:hover {\n",
              "      background-color: #E2EBFA;\n",
              "      box-shadow: 0px 1px 2px rgba(60, 64, 67, 0.3), 0px 1px 3px 1px rgba(60, 64, 67, 0.15);\n",
              "      fill: #174EA6;\n",
              "    }\n",
              "\n",
              "    .colab-df-buttons div {\n",
              "      margin-bottom: 4px;\n",
              "    }\n",
              "\n",
              "    [theme=dark] .colab-df-convert {\n",
              "      background-color: #3B4455;\n",
              "      fill: #D2E3FC;\n",
              "    }\n",
              "\n",
              "    [theme=dark] .colab-df-convert:hover {\n",
              "      background-color: #434B5C;\n",
              "      box-shadow: 0px 1px 3px 1px rgba(0, 0, 0, 0.15);\n",
              "      filter: drop-shadow(0px 1px 2px rgba(0, 0, 0, 0.3));\n",
              "      fill: #FFFFFF;\n",
              "    }\n",
              "  </style>\n",
              "\n",
              "    <script>\n",
              "      const buttonEl =\n",
              "        document.querySelector('#df-f88956e8-111b-48a0-9c46-722ee847d44e button.colab-df-convert');\n",
              "      buttonEl.style.display =\n",
              "        google.colab.kernel.accessAllowed ? 'block' : 'none';\n",
              "\n",
              "      async function convertToInteractive(key) {\n",
              "        const element = document.querySelector('#df-f88956e8-111b-48a0-9c46-722ee847d44e');\n",
              "        const dataTable =\n",
              "          await google.colab.kernel.invokeFunction('convertToInteractive',\n",
              "                                                    [key], {});\n",
              "        if (!dataTable) return;\n",
              "\n",
              "        const docLinkHtml = 'Like what you see? Visit the ' +\n",
              "          '<a target=\"_blank\" href=https://colab.research.google.com/notebooks/data_table.ipynb>data table notebook</a>'\n",
              "          + ' to learn more about interactive tables.';\n",
              "        element.innerHTML = '';\n",
              "        dataTable['output_type'] = 'display_data';\n",
              "        await google.colab.output.renderOutput(dataTable, element);\n",
              "        const docLink = document.createElement('div');\n",
              "        docLink.innerHTML = docLinkHtml;\n",
              "        element.appendChild(docLink);\n",
              "      }\n",
              "    </script>\n",
              "  </div>\n",
              "\n",
              "\n",
              "<div id=\"df-4ed2af1a-6b8f-4dd5-be4e-e7b4707b9d98\">\n",
              "  <button class=\"colab-df-quickchart\" onclick=\"quickchart('df-4ed2af1a-6b8f-4dd5-be4e-e7b4707b9d98')\"\n",
              "            title=\"Suggest charts.\"\n",
              "            style=\"display:none;\">\n",
              "\n",
              "<svg xmlns=\"http://www.w3.org/2000/svg\" height=\"24px\"viewBox=\"0 0 24 24\"\n",
              "     width=\"24px\">\n",
              "    <g>\n",
              "        <path d=\"M19 3H5c-1.1 0-2 .9-2 2v14c0 1.1.9 2 2 2h14c1.1 0 2-.9 2-2V5c0-1.1-.9-2-2-2zM9 17H7v-7h2v7zm4 0h-2V7h2v10zm4 0h-2v-4h2v4z\"/>\n",
              "    </g>\n",
              "</svg>\n",
              "  </button>\n",
              "\n",
              "<style>\n",
              "  .colab-df-quickchart {\n",
              "      --bg-color: #E8F0FE;\n",
              "      --fill-color: #1967D2;\n",
              "      --hover-bg-color: #E2EBFA;\n",
              "      --hover-fill-color: #174EA6;\n",
              "      --disabled-fill-color: #AAA;\n",
              "      --disabled-bg-color: #DDD;\n",
              "  }\n",
              "\n",
              "  [theme=dark] .colab-df-quickchart {\n",
              "      --bg-color: #3B4455;\n",
              "      --fill-color: #D2E3FC;\n",
              "      --hover-bg-color: #434B5C;\n",
              "      --hover-fill-color: #FFFFFF;\n",
              "      --disabled-bg-color: #3B4455;\n",
              "      --disabled-fill-color: #666;\n",
              "  }\n",
              "\n",
              "  .colab-df-quickchart {\n",
              "    background-color: var(--bg-color);\n",
              "    border: none;\n",
              "    border-radius: 50%;\n",
              "    cursor: pointer;\n",
              "    display: none;\n",
              "    fill: var(--fill-color);\n",
              "    height: 32px;\n",
              "    padding: 0;\n",
              "    width: 32px;\n",
              "  }\n",
              "\n",
              "  .colab-df-quickchart:hover {\n",
              "    background-color: var(--hover-bg-color);\n",
              "    box-shadow: 0 1px 2px rgba(60, 64, 67, 0.3), 0 1px 3px 1px rgba(60, 64, 67, 0.15);\n",
              "    fill: var(--button-hover-fill-color);\n",
              "  }\n",
              "\n",
              "  .colab-df-quickchart-complete:disabled,\n",
              "  .colab-df-quickchart-complete:disabled:hover {\n",
              "    background-color: var(--disabled-bg-color);\n",
              "    fill: var(--disabled-fill-color);\n",
              "    box-shadow: none;\n",
              "  }\n",
              "\n",
              "  .colab-df-spinner {\n",
              "    border: 2px solid var(--fill-color);\n",
              "    border-color: transparent;\n",
              "    border-bottom-color: var(--fill-color);\n",
              "    animation:\n",
              "      spin 1s steps(1) infinite;\n",
              "  }\n",
              "\n",
              "  @keyframes spin {\n",
              "    0% {\n",
              "      border-color: transparent;\n",
              "      border-bottom-color: var(--fill-color);\n",
              "      border-left-color: var(--fill-color);\n",
              "    }\n",
              "    20% {\n",
              "      border-color: transparent;\n",
              "      border-left-color: var(--fill-color);\n",
              "      border-top-color: var(--fill-color);\n",
              "    }\n",
              "    30% {\n",
              "      border-color: transparent;\n",
              "      border-left-color: var(--fill-color);\n",
              "      border-top-color: var(--fill-color);\n",
              "      border-right-color: var(--fill-color);\n",
              "    }\n",
              "    40% {\n",
              "      border-color: transparent;\n",
              "      border-right-color: var(--fill-color);\n",
              "      border-top-color: var(--fill-color);\n",
              "    }\n",
              "    60% {\n",
              "      border-color: transparent;\n",
              "      border-right-color: var(--fill-color);\n",
              "    }\n",
              "    80% {\n",
              "      border-color: transparent;\n",
              "      border-right-color: var(--fill-color);\n",
              "      border-bottom-color: var(--fill-color);\n",
              "    }\n",
              "    90% {\n",
              "      border-color: transparent;\n",
              "      border-bottom-color: var(--fill-color);\n",
              "    }\n",
              "  }\n",
              "</style>\n",
              "\n",
              "  <script>\n",
              "    async function quickchart(key) {\n",
              "      const quickchartButtonEl =\n",
              "        document.querySelector('#' + key + ' button');\n",
              "      quickchartButtonEl.disabled = true;  // To prevent multiple clicks.\n",
              "      quickchartButtonEl.classList.add('colab-df-spinner');\n",
              "      try {\n",
              "        const charts = await google.colab.kernel.invokeFunction(\n",
              "            'suggestCharts', [key], {});\n",
              "      } catch (error) {\n",
              "        console.error('Error during call to suggestCharts:', error);\n",
              "      }\n",
              "      quickchartButtonEl.classList.remove('colab-df-spinner');\n",
              "      quickchartButtonEl.classList.add('colab-df-quickchart-complete');\n",
              "    }\n",
              "    (() => {\n",
              "      let quickchartButtonEl =\n",
              "        document.querySelector('#df-4ed2af1a-6b8f-4dd5-be4e-e7b4707b9d98 button');\n",
              "      quickchartButtonEl.style.display =\n",
              "        google.colab.kernel.accessAllowed ? 'block' : 'none';\n",
              "    })();\n",
              "  </script>\n",
              "</div>\n",
              "    </div>\n",
              "  </div>\n"
            ]
          },
          "metadata": {},
          "execution_count": 149
        }
      ]
    },
    {
      "cell_type": "code",
      "source": [],
      "metadata": {
        "id": "u3oG4NLxJg9f"
      },
      "execution_count": null,
      "outputs": []
    }
  ]
}