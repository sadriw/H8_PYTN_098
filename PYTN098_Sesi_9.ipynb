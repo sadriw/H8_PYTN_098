{
  "nbformat": 4,
  "nbformat_minor": 0,
  "metadata": {
    "colab": {
      "provenance": []
    },
    "kernelspec": {
      "name": "python3",
      "display_name": "Python 3"
    },
    "language_info": {
      "name": "python"
    }
  },
  "cells": [
    {
      "cell_type": "markdown",
      "source": [
        "# Descriptive Statistics\n",
        "Statistik yang digunakan untuk mendeskripsikan data. Menggunakan angka untuk menjelaskan sekelompok data.\n",
        "\n",
        "### Histogram\n",
        "grafik yang menunjukkan distribusi data. memperlihatkan frekuensi atau jumlah sebuah data muncul. misalkan di kelas A ada 10 orang yang skornya 30-40, maka di grafik histogramnya, value y-axis adalah 10. value x-axis adalah 30-40.\n",
        "\n",
        "berbeda dengan line chart, scatter plot, bar chart dimana value x-axis adalah nama setiap murid (ada 10 murid disini) lalu value y-axis adalah nilai masing-masing murid.\n",
        "\n",
        "histogram merangkum frekuensi nya saja. nilai setiap murid TIDAK terlihat di histogram.\n",
        "\n",
        "## Measure of Central Tendency (histogram)\n",
        "mengukur \"tengah\" data dimana\n",
        "- mean (rata-rata)\n",
        "- median (data diurut kecil ke besar, dan yang di posisi tengah adalah median)\n",
        "- mode (data yang paling sering muncul)\n",
        "\n",
        "## Measure of Spread (histogram, boxplot)\n",
        "mengukur \"penyebaran\" data biasanya dari tengah tadi\n",
        "- standard deviation\n",
        "- variance\n",
        "- quartiles/ percentiles\n",
        "- range, inter-quartile range\n",
        "\n",
        "- skewness\n",
        "- kurtosis\n",
        "\n",
        "## Correlation (scatter plot)\n",
        "mencari hubungan antara dua set data\n",
        "\n",
        "\n"
      ],
      "metadata": {
        "id": "ZEz-drMSbTpl"
      }
    },
    {
      "cell_type": "code",
      "execution_count": null,
      "metadata": {
        "id": "BrmTkKIWYz2E"
      },
      "outputs": [],
      "source": [
        "import numpy as np\n",
        "import pandas as pd\n",
        "\n",
        "import matplotlib.pyplot as plt\n",
        "import matplotlib as mpl\n",
        "mpl.style.use('ggplot')\n",
        "\n",
        "import scipy.stats"
      ]
    },
    {
      "cell_type": "code",
      "source": [
        "# import contoh data\n",
        "df_shop = pd.read_csv(\"https://raw.githubusercontent.com/stefkwan-h8/dataset/main/shopping_behavior_updated.csv\")\n",
        "df_shop.head()"
      ],
      "metadata": {
        "colab": {
          "base_uri": "https://localhost:8080/",
          "height": 313
        },
        "id": "twqOM516d_lK",
        "outputId": "9af1cf3c-0176-4204-bdf6-4d4de68022d5"
      },
      "execution_count": null,
      "outputs": [
        {
          "output_type": "execute_result",
          "data": {
            "text/plain": [
              "   Customer ID  Age Gender Item Purchased  Category  Purchase Amount (USD)  \\\n",
              "0            1   55   Male         Blouse  Clothing                     53   \n",
              "1            2   19   Male        Sweater  Clothing                     64   \n",
              "2            3   50   Male          Jeans  Clothing                     73   \n",
              "3            4   21   Male        Sandals  Footwear                     90   \n",
              "4            5   45   Male         Blouse  Clothing                     49   \n",
              "\n",
              "        Location Size      Color  Season  Review Rating Subscription Status  \\\n",
              "0       Kentucky    L       Gray  Winter            3.1                 Yes   \n",
              "1          Maine    L     Maroon  Winter            3.1                 Yes   \n",
              "2  Massachusetts    S     Maroon  Spring            3.1                 Yes   \n",
              "3   Rhode Island    M     Maroon  Spring            3.5                 Yes   \n",
              "4         Oregon    M  Turquoise  Spring            2.7                 Yes   \n",
              "\n",
              "   Shipping Type Discount Applied Promo Code Used  Previous Purchases  \\\n",
              "0        Express              Yes             Yes                  14   \n",
              "1        Express              Yes             Yes                   2   \n",
              "2  Free Shipping              Yes             Yes                  23   \n",
              "3   Next Day Air              Yes             Yes                  49   \n",
              "4  Free Shipping              Yes             Yes                  31   \n",
              "\n",
              "  Payment Method Frequency of Purchases  \n",
              "0          Venmo            Fortnightly  \n",
              "1           Cash            Fortnightly  \n",
              "2    Credit Card                 Weekly  \n",
              "3         PayPal                 Weekly  \n",
              "4         PayPal               Annually  "
            ],
            "text/html": [
              "\n",
              "  <div id=\"df-68598807-d783-4cb3-8c3b-eaeecbd36789\" class=\"colab-df-container\">\n",
              "    <div>\n",
              "<style scoped>\n",
              "    .dataframe tbody tr th:only-of-type {\n",
              "        vertical-align: middle;\n",
              "    }\n",
              "\n",
              "    .dataframe tbody tr th {\n",
              "        vertical-align: top;\n",
              "    }\n",
              "\n",
              "    .dataframe thead th {\n",
              "        text-align: right;\n",
              "    }\n",
              "</style>\n",
              "<table border=\"1\" class=\"dataframe\">\n",
              "  <thead>\n",
              "    <tr style=\"text-align: right;\">\n",
              "      <th></th>\n",
              "      <th>Customer ID</th>\n",
              "      <th>Age</th>\n",
              "      <th>Gender</th>\n",
              "      <th>Item Purchased</th>\n",
              "      <th>Category</th>\n",
              "      <th>Purchase Amount (USD)</th>\n",
              "      <th>Location</th>\n",
              "      <th>Size</th>\n",
              "      <th>Color</th>\n",
              "      <th>Season</th>\n",
              "      <th>Review Rating</th>\n",
              "      <th>Subscription Status</th>\n",
              "      <th>Shipping Type</th>\n",
              "      <th>Discount Applied</th>\n",
              "      <th>Promo Code Used</th>\n",
              "      <th>Previous Purchases</th>\n",
              "      <th>Payment Method</th>\n",
              "      <th>Frequency of Purchases</th>\n",
              "    </tr>\n",
              "  </thead>\n",
              "  <tbody>\n",
              "    <tr>\n",
              "      <th>0</th>\n",
              "      <td>1</td>\n",
              "      <td>55</td>\n",
              "      <td>Male</td>\n",
              "      <td>Blouse</td>\n",
              "      <td>Clothing</td>\n",
              "      <td>53</td>\n",
              "      <td>Kentucky</td>\n",
              "      <td>L</td>\n",
              "      <td>Gray</td>\n",
              "      <td>Winter</td>\n",
              "      <td>3.1</td>\n",
              "      <td>Yes</td>\n",
              "      <td>Express</td>\n",
              "      <td>Yes</td>\n",
              "      <td>Yes</td>\n",
              "      <td>14</td>\n",
              "      <td>Venmo</td>\n",
              "      <td>Fortnightly</td>\n",
              "    </tr>\n",
              "    <tr>\n",
              "      <th>1</th>\n",
              "      <td>2</td>\n",
              "      <td>19</td>\n",
              "      <td>Male</td>\n",
              "      <td>Sweater</td>\n",
              "      <td>Clothing</td>\n",
              "      <td>64</td>\n",
              "      <td>Maine</td>\n",
              "      <td>L</td>\n",
              "      <td>Maroon</td>\n",
              "      <td>Winter</td>\n",
              "      <td>3.1</td>\n",
              "      <td>Yes</td>\n",
              "      <td>Express</td>\n",
              "      <td>Yes</td>\n",
              "      <td>Yes</td>\n",
              "      <td>2</td>\n",
              "      <td>Cash</td>\n",
              "      <td>Fortnightly</td>\n",
              "    </tr>\n",
              "    <tr>\n",
              "      <th>2</th>\n",
              "      <td>3</td>\n",
              "      <td>50</td>\n",
              "      <td>Male</td>\n",
              "      <td>Jeans</td>\n",
              "      <td>Clothing</td>\n",
              "      <td>73</td>\n",
              "      <td>Massachusetts</td>\n",
              "      <td>S</td>\n",
              "      <td>Maroon</td>\n",
              "      <td>Spring</td>\n",
              "      <td>3.1</td>\n",
              "      <td>Yes</td>\n",
              "      <td>Free Shipping</td>\n",
              "      <td>Yes</td>\n",
              "      <td>Yes</td>\n",
              "      <td>23</td>\n",
              "      <td>Credit Card</td>\n",
              "      <td>Weekly</td>\n",
              "    </tr>\n",
              "    <tr>\n",
              "      <th>3</th>\n",
              "      <td>4</td>\n",
              "      <td>21</td>\n",
              "      <td>Male</td>\n",
              "      <td>Sandals</td>\n",
              "      <td>Footwear</td>\n",
              "      <td>90</td>\n",
              "      <td>Rhode Island</td>\n",
              "      <td>M</td>\n",
              "      <td>Maroon</td>\n",
              "      <td>Spring</td>\n",
              "      <td>3.5</td>\n",
              "      <td>Yes</td>\n",
              "      <td>Next Day Air</td>\n",
              "      <td>Yes</td>\n",
              "      <td>Yes</td>\n",
              "      <td>49</td>\n",
              "      <td>PayPal</td>\n",
              "      <td>Weekly</td>\n",
              "    </tr>\n",
              "    <tr>\n",
              "      <th>4</th>\n",
              "      <td>5</td>\n",
              "      <td>45</td>\n",
              "      <td>Male</td>\n",
              "      <td>Blouse</td>\n",
              "      <td>Clothing</td>\n",
              "      <td>49</td>\n",
              "      <td>Oregon</td>\n",
              "      <td>M</td>\n",
              "      <td>Turquoise</td>\n",
              "      <td>Spring</td>\n",
              "      <td>2.7</td>\n",
              "      <td>Yes</td>\n",
              "      <td>Free Shipping</td>\n",
              "      <td>Yes</td>\n",
              "      <td>Yes</td>\n",
              "      <td>31</td>\n",
              "      <td>PayPal</td>\n",
              "      <td>Annually</td>\n",
              "    </tr>\n",
              "  </tbody>\n",
              "</table>\n",
              "</div>\n",
              "    <div class=\"colab-df-buttons\">\n",
              "\n",
              "  <div class=\"colab-df-container\">\n",
              "    <button class=\"colab-df-convert\" onclick=\"convertToInteractive('df-68598807-d783-4cb3-8c3b-eaeecbd36789')\"\n",
              "            title=\"Convert this dataframe to an interactive table.\"\n",
              "            style=\"display:none;\">\n",
              "\n",
              "  <svg xmlns=\"http://www.w3.org/2000/svg\" height=\"24px\" viewBox=\"0 -960 960 960\">\n",
              "    <path d=\"M120-120v-720h720v720H120Zm60-500h600v-160H180v160Zm220 220h160v-160H400v160Zm0 220h160v-160H400v160ZM180-400h160v-160H180v160Zm440 0h160v-160H620v160ZM180-180h160v-160H180v160Zm440 0h160v-160H620v160Z\"/>\n",
              "  </svg>\n",
              "    </button>\n",
              "\n",
              "  <style>\n",
              "    .colab-df-container {\n",
              "      display:flex;\n",
              "      gap: 12px;\n",
              "    }\n",
              "\n",
              "    .colab-df-convert {\n",
              "      background-color: #E8F0FE;\n",
              "      border: none;\n",
              "      border-radius: 50%;\n",
              "      cursor: pointer;\n",
              "      display: none;\n",
              "      fill: #1967D2;\n",
              "      height: 32px;\n",
              "      padding: 0 0 0 0;\n",
              "      width: 32px;\n",
              "    }\n",
              "\n",
              "    .colab-df-convert:hover {\n",
              "      background-color: #E2EBFA;\n",
              "      box-shadow: 0px 1px 2px rgba(60, 64, 67, 0.3), 0px 1px 3px 1px rgba(60, 64, 67, 0.15);\n",
              "      fill: #174EA6;\n",
              "    }\n",
              "\n",
              "    .colab-df-buttons div {\n",
              "      margin-bottom: 4px;\n",
              "    }\n",
              "\n",
              "    [theme=dark] .colab-df-convert {\n",
              "      background-color: #3B4455;\n",
              "      fill: #D2E3FC;\n",
              "    }\n",
              "\n",
              "    [theme=dark] .colab-df-convert:hover {\n",
              "      background-color: #434B5C;\n",
              "      box-shadow: 0px 1px 3px 1px rgba(0, 0, 0, 0.15);\n",
              "      filter: drop-shadow(0px 1px 2px rgba(0, 0, 0, 0.3));\n",
              "      fill: #FFFFFF;\n",
              "    }\n",
              "  </style>\n",
              "\n",
              "    <script>\n",
              "      const buttonEl =\n",
              "        document.querySelector('#df-68598807-d783-4cb3-8c3b-eaeecbd36789 button.colab-df-convert');\n",
              "      buttonEl.style.display =\n",
              "        google.colab.kernel.accessAllowed ? 'block' : 'none';\n",
              "\n",
              "      async function convertToInteractive(key) {\n",
              "        const element = document.querySelector('#df-68598807-d783-4cb3-8c3b-eaeecbd36789');\n",
              "        const dataTable =\n",
              "          await google.colab.kernel.invokeFunction('convertToInteractive',\n",
              "                                                    [key], {});\n",
              "        if (!dataTable) return;\n",
              "\n",
              "        const docLinkHtml = 'Like what you see? Visit the ' +\n",
              "          '<a target=\"_blank\" href=https://colab.research.google.com/notebooks/data_table.ipynb>data table notebook</a>'\n",
              "          + ' to learn more about interactive tables.';\n",
              "        element.innerHTML = '';\n",
              "        dataTable['output_type'] = 'display_data';\n",
              "        await google.colab.output.renderOutput(dataTable, element);\n",
              "        const docLink = document.createElement('div');\n",
              "        docLink.innerHTML = docLinkHtml;\n",
              "        element.appendChild(docLink);\n",
              "      }\n",
              "    </script>\n",
              "  </div>\n",
              "\n",
              "\n",
              "<div id=\"df-3461f213-42ca-4f4c-8809-6f468e600ee9\">\n",
              "  <button class=\"colab-df-quickchart\" onclick=\"quickchart('df-3461f213-42ca-4f4c-8809-6f468e600ee9')\"\n",
              "            title=\"Suggest charts.\"\n",
              "            style=\"display:none;\">\n",
              "\n",
              "<svg xmlns=\"http://www.w3.org/2000/svg\" height=\"24px\"viewBox=\"0 0 24 24\"\n",
              "     width=\"24px\">\n",
              "    <g>\n",
              "        <path d=\"M19 3H5c-1.1 0-2 .9-2 2v14c0 1.1.9 2 2 2h14c1.1 0 2-.9 2-2V5c0-1.1-.9-2-2-2zM9 17H7v-7h2v7zm4 0h-2V7h2v10zm4 0h-2v-4h2v4z\"/>\n",
              "    </g>\n",
              "</svg>\n",
              "  </button>\n",
              "\n",
              "<style>\n",
              "  .colab-df-quickchart {\n",
              "      --bg-color: #E8F0FE;\n",
              "      --fill-color: #1967D2;\n",
              "      --hover-bg-color: #E2EBFA;\n",
              "      --hover-fill-color: #174EA6;\n",
              "      --disabled-fill-color: #AAA;\n",
              "      --disabled-bg-color: #DDD;\n",
              "  }\n",
              "\n",
              "  [theme=dark] .colab-df-quickchart {\n",
              "      --bg-color: #3B4455;\n",
              "      --fill-color: #D2E3FC;\n",
              "      --hover-bg-color: #434B5C;\n",
              "      --hover-fill-color: #FFFFFF;\n",
              "      --disabled-bg-color: #3B4455;\n",
              "      --disabled-fill-color: #666;\n",
              "  }\n",
              "\n",
              "  .colab-df-quickchart {\n",
              "    background-color: var(--bg-color);\n",
              "    border: none;\n",
              "    border-radius: 50%;\n",
              "    cursor: pointer;\n",
              "    display: none;\n",
              "    fill: var(--fill-color);\n",
              "    height: 32px;\n",
              "    padding: 0;\n",
              "    width: 32px;\n",
              "  }\n",
              "\n",
              "  .colab-df-quickchart:hover {\n",
              "    background-color: var(--hover-bg-color);\n",
              "    box-shadow: 0 1px 2px rgba(60, 64, 67, 0.3), 0 1px 3px 1px rgba(60, 64, 67, 0.15);\n",
              "    fill: var(--button-hover-fill-color);\n",
              "  }\n",
              "\n",
              "  .colab-df-quickchart-complete:disabled,\n",
              "  .colab-df-quickchart-complete:disabled:hover {\n",
              "    background-color: var(--disabled-bg-color);\n",
              "    fill: var(--disabled-fill-color);\n",
              "    box-shadow: none;\n",
              "  }\n",
              "\n",
              "  .colab-df-spinner {\n",
              "    border: 2px solid var(--fill-color);\n",
              "    border-color: transparent;\n",
              "    border-bottom-color: var(--fill-color);\n",
              "    animation:\n",
              "      spin 1s steps(1) infinite;\n",
              "  }\n",
              "\n",
              "  @keyframes spin {\n",
              "    0% {\n",
              "      border-color: transparent;\n",
              "      border-bottom-color: var(--fill-color);\n",
              "      border-left-color: var(--fill-color);\n",
              "    }\n",
              "    20% {\n",
              "      border-color: transparent;\n",
              "      border-left-color: var(--fill-color);\n",
              "      border-top-color: var(--fill-color);\n",
              "    }\n",
              "    30% {\n",
              "      border-color: transparent;\n",
              "      border-left-color: var(--fill-color);\n",
              "      border-top-color: var(--fill-color);\n",
              "      border-right-color: var(--fill-color);\n",
              "    }\n",
              "    40% {\n",
              "      border-color: transparent;\n",
              "      border-right-color: var(--fill-color);\n",
              "      border-top-color: var(--fill-color);\n",
              "    }\n",
              "    60% {\n",
              "      border-color: transparent;\n",
              "      border-right-color: var(--fill-color);\n",
              "    }\n",
              "    80% {\n",
              "      border-color: transparent;\n",
              "      border-right-color: var(--fill-color);\n",
              "      border-bottom-color: var(--fill-color);\n",
              "    }\n",
              "    90% {\n",
              "      border-color: transparent;\n",
              "      border-bottom-color: var(--fill-color);\n",
              "    }\n",
              "  }\n",
              "</style>\n",
              "\n",
              "  <script>\n",
              "    async function quickchart(key) {\n",
              "      const quickchartButtonEl =\n",
              "        document.querySelector('#' + key + ' button');\n",
              "      quickchartButtonEl.disabled = true;  // To prevent multiple clicks.\n",
              "      quickchartButtonEl.classList.add('colab-df-spinner');\n",
              "      try {\n",
              "        const charts = await google.colab.kernel.invokeFunction(\n",
              "            'suggestCharts', [key], {});\n",
              "      } catch (error) {\n",
              "        console.error('Error during call to suggestCharts:', error);\n",
              "      }\n",
              "      quickchartButtonEl.classList.remove('colab-df-spinner');\n",
              "      quickchartButtonEl.classList.add('colab-df-quickchart-complete');\n",
              "    }\n",
              "    (() => {\n",
              "      let quickchartButtonEl =\n",
              "        document.querySelector('#df-3461f213-42ca-4f4c-8809-6f468e600ee9 button');\n",
              "      quickchartButtonEl.style.display =\n",
              "        google.colab.kernel.accessAllowed ? 'block' : 'none';\n",
              "    })();\n",
              "  </script>\n",
              "</div>\n",
              "    </div>\n",
              "  </div>\n"
            ]
          },
          "metadata": {},
          "execution_count": 13
        }
      ]
    },
    {
      "cell_type": "code",
      "source": [
        "df_shop.info()"
      ],
      "metadata": {
        "colab": {
          "base_uri": "https://localhost:8080/"
        },
        "id": "DH8vc1pieEsB",
        "outputId": "97e1b815-1581-45e8-d568-24bfd8d3b7a2"
      },
      "execution_count": null,
      "outputs": [
        {
          "output_type": "stream",
          "name": "stdout",
          "text": [
            "<class 'pandas.core.frame.DataFrame'>\n",
            "RangeIndex: 3900 entries, 0 to 3899\n",
            "Data columns (total 18 columns):\n",
            " #   Column                  Non-Null Count  Dtype  \n",
            "---  ------                  --------------  -----  \n",
            " 0   Customer ID             3900 non-null   int64  \n",
            " 1   Age                     3900 non-null   int64  \n",
            " 2   Gender                  3900 non-null   object \n",
            " 3   Item Purchased          3900 non-null   object \n",
            " 4   Category                3900 non-null   object \n",
            " 5   Purchase Amount (USD)   3900 non-null   int64  \n",
            " 6   Location                3900 non-null   object \n",
            " 7   Size                    3900 non-null   object \n",
            " 8   Color                   3900 non-null   object \n",
            " 9   Season                  3900 non-null   object \n",
            " 10  Review Rating           3900 non-null   float64\n",
            " 11  Subscription Status     3900 non-null   object \n",
            " 12  Shipping Type           3900 non-null   object \n",
            " 13  Discount Applied        3900 non-null   object \n",
            " 14  Promo Code Used         3900 non-null   object \n",
            " 15  Previous Purchases      3900 non-null   int64  \n",
            " 16  Payment Method          3900 non-null   object \n",
            " 17  Frequency of Purchases  3900 non-null   object \n",
            "dtypes: float64(1), int64(4), object(13)\n",
            "memory usage: 548.6+ KB\n"
          ]
        }
      ]
    },
    {
      "cell_type": "code",
      "source": [
        "# biasanya yang shopping sama kita, umur berapa? di umur berapa paling banyak?\n",
        "# kita bisa buat histogram untuk melihat pembagian braket umur tertentu masing-masing ada berapa orang\n",
        "\n",
        "df_shop['Age'].plot(kind=\"hist\")"
      ],
      "metadata": {
        "colab": {
          "base_uri": "https://localhost:8080/",
          "height": 447
        },
        "id": "qKaLbvx7eIDj",
        "outputId": "227697de-077c-4a5b-fb0c-4f319c47cb89"
      },
      "execution_count": null,
      "outputs": [
        {
          "output_type": "execute_result",
          "data": {
            "text/plain": [
              "<Axes: ylabel='Frequency'>"
            ]
          },
          "metadata": {},
          "execution_count": 15
        },
        {
          "output_type": "display_data",
          "data": {
            "text/plain": [
              "<Figure size 640x480 with 1 Axes>"
            ],
            "image/png": "[encoded data removed]"
          },
          "metadata": {}
        }
      ]
    },
    {
      "cell_type": "code",
      "source": [
        "data_umur = df_shop['Age']"
      ],
      "metadata": {
        "id": "ndMUEKJKe0dv"
      },
      "execution_count": null,
      "outputs": []
    },
    {
      "cell_type": "code",
      "source": [
        "# buat pemisah x-ticks di x-axis nya sesuai dengan maing masing bin di histogram\n",
        "# bin adalah 1 bar di histogram\n",
        "# secara default ada 10 bin di grafik histogram buatan matplotlib\n",
        "\n",
        "# kita minta bantuan numpy untuk buat pemisahnya\n",
        "np.histogram(data_umur)"
      ],
      "metadata": {
        "colab": {
          "base_uri": "https://localhost:8080/"
        },
        "id": "r_7gy_MVeaRy",
        "outputId": "2b4d9796-49f9-40e9-bd06-c4d912c4a0e3"
      },
      "execution_count": null,
      "outputs": [
        {
          "output_type": "execute_result",
          "data": {
            "text/plain": [
              "(array([418, 384, 371, 361, 385, 422, 381, 390, 361, 427]),\n",
              " array([18. , 23.2, 28.4, 33.6, 38.8, 44. , 49.2, 54.4, 59.6, 64.8, 70. ]))"
            ]
          },
          "metadata": {},
          "execution_count": 17
        }
      ]
    },
    {
      "cell_type": "markdown",
      "source": [
        "np.histogram akan memberikan kita 2 set data. set pertama adalah count/ frekuensi. set kedua adalah pembatas setiap bin di histogram.\n",
        "\n",
        "data diatas menunjukkan di umur 18-23.2 ada 418 orang.\n",
        "di umur 23.2-28.4 ada 384 orang. di 67.8-70 ada 427 orang."
      ],
      "metadata": {
        "id": "AkStrR1je8B1"
      }
    },
    {
      "cell_type": "code",
      "source": [
        "# buat jadi visual\n",
        "freq, bin_edges = np.histogram(data_umur)\n",
        "\n",
        "data_umur.plot(kind=\"hist\")\n",
        "\n",
        "plt.xticks(bin_edges)\n",
        "\n",
        "# tambahin label di grafik\n",
        "plt.title(\"Penyebaran umur customer\")\n",
        "plt.ylabel(\"Jumlah customer\")\n",
        "plt.xlabel(\"Umur customer\")\n",
        "\n",
        "plt.show()"
      ],
      "metadata": {
        "colab": {
          "base_uri": "https://localhost:8080/",
          "height": 477
        },
        "id": "0KPN7L9be1_T",
        "outputId": "aca98504-a807-44bc-ced8-9d40fc7c8178"
      },
      "execution_count": null,
      "outputs": [
        {
          "output_type": "display_data",
          "data": {
            "text/plain": [
              "<Figure size 640x480 with 1 Axes>"
            ],
            "image/png": "[encoded data removed]"
          },
          "metadata": {}
        }
      ]
    },
    {
      "cell_type": "markdown",
      "source": [
        "## latihan pendek\n",
        "- buatlah histogram dari harga produk yang dijual.\n",
        "- produk di range harga berapa yang paling banyak terjual?\n",
        "- tambahkan filter, misalnya category produk tertentu, baru buat histogram harga lagi."
      ],
      "metadata": {
        "id": "WQ32zLRAf6x6"
      }
    },
    {
      "cell_type": "code",
      "source": [
        "df_shop[\"Purchase Amount (USD)\"]"
      ],
      "metadata": {
        "colab": {
          "base_uri": "https://localhost:8080/"
        },
        "id": "-u1_6hmlfc5S",
        "outputId": "81b864cd-0047-4ac3-e655-f180e322bf71"
      },
      "execution_count": null,
      "outputs": [
        {
          "output_type": "execute_result",
          "data": {
            "text/plain": [
              "0       53\n",
              "1       64\n",
              "2       73\n",
              "3       90\n",
              "4       49\n",
              "        ..\n",
              "3895    28\n",
              "3896    49\n",
              "3897    33\n",
              "3898    77\n",
              "3899    81\n",
              "Name: Purchase Amount (USD), Length: 3900, dtype: int64"
            ]
          },
          "metadata": {},
          "execution_count": 20
        }
      ]
    },
    {
      "cell_type": "code",
      "source": [
        "data = df_shop[\"Purchase Amount (USD)\"]\n",
        "\n",
        "# buat jadi visual\n",
        "freq, bin_edges = np.histogram(data)\n",
        "\n",
        "data.plot(kind=\"hist\")\n",
        "\n",
        "plt.xticks(bin_edges)\n",
        "\n",
        "# tambahin label di grafik\n",
        "plt.title(\"Penyebaran harga barang yang dibeli customer (USD)\")\n",
        "plt.ylabel(\"Jumlah barang\")\n",
        "plt.xlabel(\"harga barang (USD)\")\n",
        "\n",
        "plt.show()"
      ],
      "metadata": {
        "colab": {
          "base_uri": "https://localhost:8080/",
          "height": 477
        },
        "id": "wSfaY3xUimzJ",
        "outputId": "fa64760f-c919-4800-d253-5c89a0414361"
      },
      "execution_count": null,
      "outputs": [
        {
          "output_type": "display_data",
          "data": {
            "text/plain": [
              "<Figure size 640x480 with 1 Axes>"
            ],
            "image/png": "[encoded data removed]"
          },
          "metadata": {}
        }
      ]
    },
    {
      "cell_type": "markdown",
      "source": [
        "berikut histogram data harga barang yang terjual\n",
        "\n",
        "produk di range harga berapa yang paling banyak terjual? di harga antara 92-100 paling banyak terjual."
      ],
      "metadata": {
        "id": "L7lvav3KjeQD"
      }
    },
    {
      "cell_type": "code",
      "source": [
        "freq"
      ],
      "metadata": {
        "colab": {
          "base_uri": "https://localhost:8080/"
        },
        "id": "f6quefQziyLn",
        "outputId": "2763a280-0237-470f-b34f-96884bc23996"
      },
      "execution_count": null,
      "outputs": [
        {
          "output_type": "execute_result",
          "data": {
            "text/plain": [
              "array([396, 411, 390, 378, 362, 379, 370, 391, 378, 445])"
            ]
          },
          "metadata": {},
          "execution_count": 23
        }
      ]
    },
    {
      "cell_type": "code",
      "source": [
        "# ada Category apa saja?\n",
        "df_shop[\"Category\"].value_counts()"
      ],
      "metadata": {
        "colab": {
          "base_uri": "https://localhost:8080/"
        },
        "id": "7Wo0FStnj3Bq",
        "outputId": "928cc940-1ff2-49fc-f95f-4f99969b594e"
      },
      "execution_count": null,
      "outputs": [
        {
          "output_type": "execute_result",
          "data": {
            "text/plain": [
              "Clothing       1737\n",
              "Accessories    1240\n",
              "Footwear        599\n",
              "Outerwear       324\n",
              "Name: Category, dtype: int64"
            ]
          },
          "metadata": {},
          "execution_count": 25
        }
      ]
    },
    {
      "cell_type": "code",
      "source": [
        "# tambahkan filter, misalnya category produk tertentu, baru buat histogram harga lagi\n",
        "# di category ini, harga barang biasanya berapa?\n",
        "\n",
        "data_category_accessories = df_shop[df_shop[\"Category\"] == \"Accessories\"]\n",
        "data = data_category_accessories[\"Purchase Amount (USD)\"]\n",
        "\n",
        "# buat jadi visual\n",
        "freq, bin_edges = np.histogram(data)\n",
        "\n",
        "data.plot(kind=\"hist\")\n",
        "\n",
        "plt.xticks(bin_edges)\n",
        "\n",
        "# tambahin label di grafik\n",
        "plt.title(\"Penyebaran harga barang Accessories yang dibeli customer (USD)\")\n",
        "plt.ylabel(\"Jumlah barang\")\n",
        "plt.xlabel(\"harga barang (USD)\")\n",
        "\n",
        "plt.show()"
      ],
      "metadata": {
        "colab": {
          "base_uri": "https://localhost:8080/",
          "height": 477
        },
        "id": "5ds7yZggjX5a",
        "outputId": "53690f32-2d84-4850-ca58-861a8bc760dc"
      },
      "execution_count": null,
      "outputs": [
        {
          "output_type": "display_data",
          "data": {
            "text/plain": [
              "<Figure size 640x480 with 1 Axes>"
            ],
            "image/png": "[encoded data removed]"
          },
          "metadata": {}
        }
      ]
    },
    {
      "cell_type": "markdown",
      "source": [
        "# Descriptive Statistics\n",
        "## Measure of Central Tendency\n",
        "kita gunakan Python dan package2nya untuk melihat data punya \"tengah\" dimana\n",
        "- mean\n",
        "- median\n",
        "- mode\n",
        "\n",
        "sebagai contoh, kita gunakan data tentang mobil https://raw.githubusercontent.com/stefkwan-h8/dataset/main/CarPrice_Assignment.csv"
      ],
      "metadata": {
        "id": "DXKlRU0VkTaB"
      }
    },
    {
      "cell_type": "code",
      "source": [
        "df_car = pd.read_csv(\"https://raw.githubusercontent.com/stefkwan-h8/dataset/main/CarPrice_Assignment.csv\")\n",
        "df_car.head()"
      ],
      "metadata": {
        "colab": {
          "base_uri": "https://localhost:8080/",
          "height": 307
        },
        "id": "K3VrCegBkFfu",
        "outputId": "aaf6eec1-de0e-4085-e64a-70799e98fb5b"
      },
      "execution_count": null,
      "outputs": [
        {
          "output_type": "execute_result",
          "data": {
            "text/plain": [
              "   car_ID  symboling                   CarName fueltype aspiration doornumber  \\\n",
              "0       1          3        alfa-romero giulia      gas        std        two   \n",
              "1       2          3       alfa-romero stelvio      gas        std        two   \n",
              "2       3          1  alfa-romero Quadrifoglio      gas        std        two   \n",
              "3       4          2               audi 100 ls      gas        std       four   \n",
              "4       5          2                audi 100ls      gas        std       four   \n",
              "\n",
              "       carbody drivewheel enginelocation  wheelbase  ...  enginesize  \\\n",
              "0  convertible        rwd          front       88.6  ...         130   \n",
              "1  convertible        rwd          front       88.6  ...         130   \n",
              "2    hatchback        rwd          front       94.5  ...         152   \n",
              "3        sedan        fwd          front       99.8  ...         109   \n",
              "4        sedan        4wd          front       99.4  ...         136   \n",
              "\n",
              "   fuelsystem  boreratio  stroke compressionratio horsepower  peakrpm citympg  \\\n",
              "0        mpfi       3.47    2.68              9.0        111     5000      21   \n",
              "1        mpfi       3.47    2.68              9.0        111     5000      21   \n",
              "2        mpfi       2.68    3.47              9.0        154     5000      19   \n",
              "3        mpfi       3.19    3.40             10.0        102     5500      24   \n",
              "4        mpfi       3.19    3.40              8.0        115     5500      18   \n",
              "\n",
              "   highwaympg    price  \n",
              "0          27  13495.0  \n",
              "1          27  16500.0  \n",
              "2          26  16500.0  \n",
              "3          30  13950.0  \n",
              "4          22  17450.0  \n",
              "\n",
              "[5 rows x 26 columns]"
            ],
            "text/html": [
              "\n",
              "  <div id=\"df-a8757b98-602c-48f6-a497-a4feacd37fa5\" class=\"colab-df-container\">\n",
              "    <div>\n",
              "<style scoped>\n",
              "    .dataframe tbody tr th:only-of-type {\n",
              "        vertical-align: middle;\n",
              "    }\n",
              "\n",
              "    .dataframe tbody tr th {\n",
              "        vertical-align: top;\n",
              "    }\n",
              "\n",
              "    .dataframe thead th {\n",
              "        text-align: right;\n",
              "    }\n",
              "</style>\n",
              "<table border=\"1\" class=\"dataframe\">\n",
              "  <thead>\n",
              "    <tr style=\"text-align: right;\">\n",
              "      <th></th>\n",
              "      <th>car_ID</th>\n",
              "      <th>symboling</th>\n",
              "      <th>CarName</th>\n",
              "      <th>fueltype</th>\n",
              "      <th>aspiration</th>\n",
              "      <th>doornumber</th>\n",
              "      <th>carbody</th>\n",
              "      <th>drivewheel</th>\n",
              "      <th>enginelocation</th>\n",
              "      <th>wheelbase</th>\n",
              "      <th>...</th>\n",
              "      <th>enginesize</th>\n",
              "      <th>fuelsystem</th>\n",
              "      <th>boreratio</th>\n",
              "      <th>stroke</th>\n",
              "      <th>compressionratio</th>\n",
              "      <th>horsepower</th>\n",
              "      <th>peakrpm</th>\n",
              "      <th>citympg</th>\n",
              "      <th>highwaympg</th>\n",
              "      <th>price</th>\n",
              "    </tr>\n",
              "  </thead>\n",
              "  <tbody>\n",
              "    <tr>\n",
              "      <th>0</th>\n",
              "      <td>1</td>\n",
              "      <td>3</td>\n",
              "      <td>alfa-romero giulia</td>\n",
              "      <td>gas</td>\n",
              "      <td>std</td>\n",
              "      <td>two</td>\n",
              "      <td>convertible</td>\n",
              "      <td>rwd</td>\n",
              "      <td>front</td>\n",
              "      <td>88.6</td>\n",
              "      <td>...</td>\n",
              "      <td>130</td>\n",
              "      <td>mpfi</td>\n",
              "      <td>3.47</td>\n",
              "      <td>2.68</td>\n",
              "      <td>9.0</td>\n",
              "      <td>111</td>\n",
              "      <td>5000</td>\n",
              "      <td>21</td>\n",
              "      <td>27</td>\n",
              "      <td>13495.0</td>\n",
              "    </tr>\n",
              "    <tr>\n",
              "      <th>1</th>\n",
              "      <td>2</td>\n",
              "      <td>3</td>\n",
              "      <td>alfa-romero stelvio</td>\n",
              "      <td>gas</td>\n",
              "      <td>std</td>\n",
              "      <td>two</td>\n",
              "      <td>convertible</td>\n",
              "      <td>rwd</td>\n",
              "      <td>front</td>\n",
              "      <td>88.6</td>\n",
              "      <td>...</td>\n",
              "      <td>130</td>\n",
              "      <td>mpfi</td>\n",
              "      <td>3.47</td>\n",
              "      <td>2.68</td>\n",
              "      <td>9.0</td>\n",
              "      <td>111</td>\n",
              "      <td>5000</td>\n",
              "      <td>21</td>\n",
              "      <td>27</td>\n",
              "      <td>16500.0</td>\n",
              "    </tr>\n",
              "    <tr>\n",
              "      <th>2</th>\n",
              "      <td>3</td>\n",
              "      <td>1</td>\n",
              "      <td>alfa-romero Quadrifoglio</td>\n",
              "      <td>gas</td>\n",
              "      <td>std</td>\n",
              "      <td>two</td>\n",
              "      <td>hatchback</td>\n",
              "      <td>rwd</td>\n",
              "      <td>front</td>\n",
              "      <td>94.5</td>\n",
              "      <td>...</td>\n",
              "      <td>152</td>\n",
              "      <td>mpfi</td>\n",
              "      <td>2.68</td>\n",
              "      <td>3.47</td>\n",
              "      <td>9.0</td>\n",
              "      <td>154</td>\n",
              "      <td>5000</td>\n",
              "      <td>19</td>\n",
              "      <td>26</td>\n",
              "      <td>16500.0</td>\n",
              "    </tr>\n",
              "    <tr>\n",
              "      <th>3</th>\n",
              "      <td>4</td>\n",
              "      <td>2</td>\n",
              "      <td>audi 100 ls</td>\n",
              "      <td>gas</td>\n",
              "      <td>std</td>\n",
              "      <td>four</td>\n",
              "      <td>sedan</td>\n",
              "      <td>fwd</td>\n",
              "      <td>front</td>\n",
              "      <td>99.8</td>\n",
              "      <td>...</td>\n",
              "      <td>109</td>\n",
              "      <td>mpfi</td>\n",
              "      <td>3.19</td>\n",
              "      <td>3.40</td>\n",
              "      <td>10.0</td>\n",
              "      <td>102</td>\n",
              "      <td>5500</td>\n",
              "      <td>24</td>\n",
              "      <td>30</td>\n",
              "      <td>13950.0</td>\n",
              "    </tr>\n",
              "    <tr>\n",
              "      <th>4</th>\n",
              "      <td>5</td>\n",
              "      <td>2</td>\n",
              "      <td>audi 100ls</td>\n",
              "      <td>gas</td>\n",
              "      <td>std</td>\n",
              "      <td>four</td>\n",
              "      <td>sedan</td>\n",
              "      <td>4wd</td>\n",
              "      <td>front</td>\n",
              "      <td>99.4</td>\n",
              "      <td>...</td>\n",
              "      <td>136</td>\n",
              "      <td>mpfi</td>\n",
              "      <td>3.19</td>\n",
              "      <td>3.40</td>\n",
              "      <td>8.0</td>\n",
              "      <td>115</td>\n",
              "      <td>5500</td>\n",
              "      <td>18</td>\n",
              "      <td>22</td>\n",
              "      <td>17450.0</td>\n",
              "    </tr>\n",
              "  </tbody>\n",
              "</table>\n",
              "<p>5 rows × 26 columns</p>\n",
              "</div>\n",
              "    <div class=\"colab-df-buttons\">\n",
              "\n",
              "  <div class=\"colab-df-container\">\n",
              "    <button class=\"colab-df-convert\" onclick=\"convertToInteractive('df-a8757b98-602c-48f6-a497-a4feacd37fa5')\"\n",
              "            title=\"Convert this dataframe to an interactive table.\"\n",
              "            style=\"display:none;\">\n",
              "\n",
              "  <svg xmlns=\"http://www.w3.org/2000/svg\" height=\"24px\" viewBox=\"0 -960 960 960\">\n",
              "    <path d=\"M120-120v-720h720v720H120Zm60-500h600v-160H180v160Zm220 220h160v-160H400v160Zm0 220h160v-160H400v160ZM180-400h160v-160H180v160Zm440 0h160v-160H620v160ZM180-180h160v-160H180v160Zm440 0h160v-160H620v160Z\"/>\n",
              "  </svg>\n",
              "    </button>\n",
              "\n",
              "  <style>\n",
              "    .colab-df-container {\n",
              "      display:flex;\n",
              "      gap: 12px;\n",
              "    }\n",
              "\n",
              "    .colab-df-convert {\n",
              "      background-color: #E8F0FE;\n",
              "      border: none;\n",
              "      border-radius: 50%;\n",
              "      cursor: pointer;\n",
              "      display: none;\n",
              "      fill: #1967D2;\n",
              "      height: 32px;\n",
              "      padding: 0 0 0 0;\n",
              "      width: 32px;\n",
              "    }\n",
              "\n",
              "    .colab-df-convert:hover {\n",
              "      background-color: #E2EBFA;\n",
              "      box-shadow: 0px 1px 2px rgba(60, 64, 67, 0.3), 0px 1px 3px 1px rgba(60, 64, 67, 0.15);\n",
              "      fill: #174EA6;\n",
              "    }\n",
              "\n",
              "    .colab-df-buttons div {\n",
              "      margin-bottom: 4px;\n",
              "    }\n",
              "\n",
              "    [theme=dark] .colab-df-convert {\n",
              "      background-color: #3B4455;\n",
              "      fill: #D2E3FC;\n",
              "    }\n",
              "\n",
              "    [theme=dark] .colab-df-convert:hover {\n",
              "      background-color: #434B5C;\n",
              "      box-shadow: 0px 1px 3px 1px rgba(0, 0, 0, 0.15);\n",
              "      filter: drop-shadow(0px 1px 2px rgba(0, 0, 0, 0.3));\n",
              "      fill: #FFFFFF;\n",
              "    }\n",
              "  </style>\n",
              "\n",
              "    <script>\n",
              "      const buttonEl =\n",
              "        document.querySelector('#df-a8757b98-602c-48f6-a497-a4feacd37fa5 button.colab-df-convert');\n",
              "      buttonEl.style.display =\n",
              "        google.colab.kernel.accessAllowed ? 'block' : 'none';\n",
              "\n",
              "      async function convertToInteractive(key) {\n",
              "        const element = document.querySelector('#df-a8757b98-602c-48f6-a497-a4feacd37fa5');\n",
              "        const dataTable =\n",
              "          await google.colab.kernel.invokeFunction('convertToInteractive',\n",
              "                                                    [key], {});\n",
              "        if (!dataTable) return;\n",
              "\n",
              "        const docLinkHtml = 'Like what you see? Visit the ' +\n",
              "          '<a target=\"_blank\" href=https://colab.research.google.com/notebooks/data_table.ipynb>data table notebook</a>'\n",
              "          + ' to learn more about interactive tables.';\n",
              "        element.innerHTML = '';\n",
              "        dataTable['output_type'] = 'display_data';\n",
              "        await google.colab.output.renderOutput(dataTable, element);\n",
              "        const docLink = document.createElement('div');\n",
              "        docLink.innerHTML = docLinkHtml;\n",
              "        element.appendChild(docLink);\n",
              "      }\n",
              "    </script>\n",
              "  </div>\n",
              "\n",
              "\n",
              "<div id=\"df-e557c5ac-15bb-43c5-81db-9452f712adb4\">\n",
              "  <button class=\"colab-df-quickchart\" onclick=\"quickchart('df-e557c5ac-15bb-43c5-81db-9452f712adb4')\"\n",
              "            title=\"Suggest charts.\"\n",
              "            style=\"display:none;\">\n",
              "\n",
              "<svg xmlns=\"http://www.w3.org/2000/svg\" height=\"24px\"viewBox=\"0 0 24 24\"\n",
              "     width=\"24px\">\n",
              "    <g>\n",
              "        <path d=\"M19 3H5c-1.1 0-2 .9-2 2v14c0 1.1.9 2 2 2h14c1.1 0 2-.9 2-2V5c0-1.1-.9-2-2-2zM9 17H7v-7h2v7zm4 0h-2V7h2v10zm4 0h-2v-4h2v4z\"/>\n",
              "    </g>\n",
              "</svg>\n",
              "  </button>\n",
              "\n",
              "<style>\n",
              "  .colab-df-quickchart {\n",
              "      --bg-color: #E8F0FE;\n",
              "      --fill-color: #1967D2;\n",
              "      --hover-bg-color: #E2EBFA;\n",
              "      --hover-fill-color: #174EA6;\n",
              "      --disabled-fill-color: #AAA;\n",
              "      --disabled-bg-color: #DDD;\n",
              "  }\n",
              "\n",
              "  [theme=dark] .colab-df-quickchart {\n",
              "      --bg-color: #3B4455;\n",
              "      --fill-color: #D2E3FC;\n",
              "      --hover-bg-color: #434B5C;\n",
              "      --hover-fill-color: #FFFFFF;\n",
              "      --disabled-bg-color: #3B4455;\n",
              "      --disabled-fill-color: #666;\n",
              "  }\n",
              "\n",
              "  .colab-df-quickchart {\n",
              "    background-color: var(--bg-color);\n",
              "    border: none;\n",
              "    border-radius: 50%;\n",
              "    cursor: pointer;\n",
              "    display: none;\n",
              "    fill: var(--fill-color);\n",
              "    height: 32px;\n",
              "    padding: 0;\n",
              "    width: 32px;\n",
              "  }\n",
              "\n",
              "  .colab-df-quickchart:hover {\n",
              "    background-color: var(--hover-bg-color);\n",
              "    box-shadow: 0 1px 2px rgba(60, 64, 67, 0.3), 0 1px 3px 1px rgba(60, 64, 67, 0.15);\n",
              "    fill: var(--button-hover-fill-color);\n",
              "  }\n",
              "\n",
              "  .colab-df-quickchart-complete:disabled,\n",
              "  .colab-df-quickchart-complete:disabled:hover {\n",
              "    background-color: var(--disabled-bg-color);\n",
              "    fill: var(--disabled-fill-color);\n",
              "    box-shadow: none;\n",
              "  }\n",
              "\n",
              "  .colab-df-spinner {\n",
              "    border: 2px solid var(--fill-color);\n",
              "    border-color: transparent;\n",
              "    border-bottom-color: var(--fill-color);\n",
              "    animation:\n",
              "      spin 1s steps(1) infinite;\n",
              "  }\n",
              "\n",
              "  @keyframes spin {\n",
              "    0% {\n",
              "      border-color: transparent;\n",
              "      border-bottom-color: var(--fill-color);\n",
              "      border-left-color: var(--fill-color);\n",
              "    }\n",
              "    20% {\n",
              "      border-color: transparent;\n",
              "      border-left-color: var(--fill-color);\n",
              "      border-top-color: var(--fill-color);\n",
              "    }\n",
              "    30% {\n",
              "      border-color: transparent;\n",
              "      border-left-color: var(--fill-color);\n",
              "      border-top-color: var(--fill-color);\n",
              "      border-right-color: var(--fill-color);\n",
              "    }\n",
              "    40% {\n",
              "      border-color: transparent;\n",
              "      border-right-color: var(--fill-color);\n",
              "      border-top-color: var(--fill-color);\n",
              "    }\n",
              "    60% {\n",
              "      border-color: transparent;\n",
              "      border-right-color: var(--fill-color);\n",
              "    }\n",
              "    80% {\n",
              "      border-color: transparent;\n",
              "      border-right-color: var(--fill-color);\n",
              "      border-bottom-color: var(--fill-color);\n",
              "    }\n",
              "    90% {\n",
              "      border-color: transparent;\n",
              "      border-bottom-color: var(--fill-color);\n",
              "    }\n",
              "  }\n",
              "</style>\n",
              "\n",
              "  <script>\n",
              "    async function quickchart(key) {\n",
              "      const quickchartButtonEl =\n",
              "        document.querySelector('#' + key + ' button');\n",
              "      quickchartButtonEl.disabled = true;  // To prevent multiple clicks.\n",
              "      quickchartButtonEl.classList.add('colab-df-spinner');\n",
              "      try {\n",
              "        const charts = await google.colab.kernel.invokeFunction(\n",
              "            'suggestCharts', [key], {});\n",
              "      } catch (error) {\n",
              "        console.error('Error during call to suggestCharts:', error);\n",
              "      }\n",
              "      quickchartButtonEl.classList.remove('colab-df-spinner');\n",
              "      quickchartButtonEl.classList.add('colab-df-quickchart-complete');\n",
              "    }\n",
              "    (() => {\n",
              "      let quickchartButtonEl =\n",
              "        document.querySelector('#df-e557c5ac-15bb-43c5-81db-9452f712adb4 button');\n",
              "      quickchartButtonEl.style.display =\n",
              "        google.colab.kernel.accessAllowed ? 'block' : 'none';\n",
              "    })();\n",
              "  </script>\n",
              "</div>\n",
              "    </div>\n",
              "  </div>\n"
            ]
          },
          "metadata": {},
          "execution_count": 28
        }
      ]
    },
    {
      "cell_type": "code",
      "source": [
        "df_car.info()"
      ],
      "metadata": {
        "colab": {
          "base_uri": "https://localhost:8080/"
        },
        "id": "QWOafUCtknT_",
        "outputId": "c07d9d95-4b1c-48ba-fee2-5fb168833548"
      },
      "execution_count": null,
      "outputs": [
        {
          "output_type": "stream",
          "name": "stdout",
          "text": [
            "<class 'pandas.core.frame.DataFrame'>\n",
            "RangeIndex: 205 entries, 0 to 204\n",
            "Data columns (total 26 columns):\n",
            " #   Column            Non-Null Count  Dtype  \n",
            "---  ------            --------------  -----  \n",
            " 0   car_ID            205 non-null    int64  \n",
            " 1   symboling         205 non-null    int64  \n",
            " 2   CarName           205 non-null    object \n",
            " 3   fueltype          205 non-null    object \n",
            " 4   aspiration        205 non-null    object \n",
            " 5   doornumber        205 non-null    object \n",
            " 6   carbody           205 non-null    object \n",
            " 7   drivewheel        205 non-null    object \n",
            " 8   enginelocation    205 non-null    object \n",
            " 9   wheelbase         205 non-null    float64\n",
            " 10  carlength         205 non-null    float64\n",
            " 11  carwidth          205 non-null    float64\n",
            " 12  carheight         205 non-null    float64\n",
            " 13  curbweight        205 non-null    int64  \n",
            " 14  enginetype        205 non-null    object \n",
            " 15  cylindernumber    205 non-null    object \n",
            " 16  enginesize        205 non-null    int64  \n",
            " 17  fuelsystem        205 non-null    object \n",
            " 18  boreratio         205 non-null    float64\n",
            " 19  stroke            205 non-null    float64\n",
            " 20  compressionratio  205 non-null    float64\n",
            " 21  horsepower        205 non-null    int64  \n",
            " 22  peakrpm           205 non-null    int64  \n",
            " 23  citympg           205 non-null    int64  \n",
            " 24  highwaympg        205 non-null    int64  \n",
            " 25  price             205 non-null    float64\n",
            "dtypes: float64(8), int64(8), object(10)\n",
            "memory usage: 41.8+ KB\n"
          ]
        }
      ]
    },
    {
      "cell_type": "code",
      "source": [
        "# mean\n",
        "# berapa rata-rata harga mobil?\n",
        "\n",
        "# menggunakan pandas untuk mencari mean\n",
        "df_car[\"price\"].mean()"
      ],
      "metadata": {
        "colab": {
          "base_uri": "https://localhost:8080/"
        },
        "id": "1ZjftlLskpl3",
        "outputId": "46ade583-2fab-4bdb-a953-5226526809c0"
      },
      "execution_count": null,
      "outputs": [
        {
          "output_type": "execute_result",
          "data": {
            "text/plain": [
              "13276.710570731706"
            ]
          },
          "metadata": {},
          "execution_count": 30
        }
      ]
    },
    {
      "cell_type": "markdown",
      "source": [
        "median adalah titik tengah di sebuah set data.\n",
        "\n",
        "misalkan harga mobilnya adalah `[10rb, 20rb, 24rb, 100rb]` (data 4 mobil), maka mediannya adalah `(20+24)/2`\n",
        "\n",
        "sebelum mencari median kita perlu mengurutkan data dulu dari kecil ke besar, dan kita ambil antara 1 angka tengah (data ganjil) atau 2 angka tengah yang dibagi dua (data genap)\n",
        "\n",
        "misalkan harga mobilnya adalah `[10rb, 20rb, 22rb, 24rb, 100rb]` (data 5 mobil), maka mediannya adalah `22rb`\n",
        "\n",
        "median memberitahu kita kalau stengah dari semua data yang ada di dataset kita diatas angka ini. dibawah angka ini juga."
      ],
      "metadata": {
        "id": "Tk0Bu86JlNhU"
      }
    },
    {
      "cell_type": "code",
      "source": [
        "# median\n",
        "# berapa median harga mobilnya?\n",
        "\n",
        "# menggunakan pandas untuk mencari median\n",
        "df_car[\"price\"].median()"
      ],
      "metadata": {
        "colab": {
          "base_uri": "https://localhost:8080/"
        },
        "id": "Q29m5N3Uk-nP",
        "outputId": "cca775e6-7fba-42ad-faf6-b1f504b71d64"
      },
      "execution_count": null,
      "outputs": [
        {
          "output_type": "execute_result",
          "data": {
            "text/plain": [
              "10295.0"
            ]
          },
          "metadata": {},
          "execution_count": 31
        }
      ]
    },
    {
      "cell_type": "markdown",
      "source": [
        "mode adalah satu data yang paling sering muncul.\n",
        "\n",
        "biasanya kurang berguna untuk data yang sifatnya continuous seperti harga mobil, berat badan, tinggi badan, jarak, waktu, yang terus berjalan tanpa pemisah nominal yang pasti (10.000 10.500 beda 10.501 beda lagi)"
      ],
      "metadata": {
        "id": "q3EXJznlmXvv"
      }
    },
    {
      "cell_type": "code",
      "source": [
        "# mode\n",
        "# mobil harga berapa yang paing sering terjual?\n",
        "df_car[\"price\"].mode()"
      ],
      "metadata": {
        "colab": {
          "base_uri": "https://localhost:8080/"
        },
        "id": "2jMNcw6CmEuZ",
        "outputId": "bb2632f1-e5ae-4dbe-99a0-cd560a8cee31"
      },
      "execution_count": null,
      "outputs": [
        {
          "output_type": "execute_result",
          "data": {
            "text/plain": [
              "0      5572.0\n",
              "1      6229.0\n",
              "2      6692.0\n",
              "3      7295.0\n",
              "4      7609.0\n",
              "5      7775.0\n",
              "6      7898.0\n",
              "7      7957.0\n",
              "8      8495.0\n",
              "9      8845.0\n",
              "10     8916.5\n",
              "11     8921.0\n",
              "12     9279.0\n",
              "13    13499.0\n",
              "14    16500.0\n",
              "15    18150.0\n",
              "Name: price, dtype: float64"
            ]
          },
          "metadata": {},
          "execution_count": 32
        }
      ]
    },
    {
      "cell_type": "markdown",
      "source": [
        "pandas memberi tahu semua angka yang jumlahnya sama. mobil harga 5572, 6229, ... sama banyaknya."
      ],
      "metadata": {
        "id": "G0UbrGFHm1Om"
      }
    },
    {
      "cell_type": "code",
      "source": [
        "def buat_hist(data, label=\"\", labely=\"\", labelx=\"\", size=(12,6)):\n",
        "  freq, bin_edges = np.histogram(data)\n",
        "  data.plot(kind=\"hist\", figsize=size)\n",
        "  plt.xticks(bin_edges)\n",
        "\n",
        "  plt.title(label)\n",
        "  plt.ylabel(labely)\n",
        "  plt.xlabel(labelx)\n",
        "\n",
        "  plt.show()"
      ],
      "metadata": {
        "id": "HBbZdc7ZmzMh"
      },
      "execution_count": null,
      "outputs": []
    },
    {
      "cell_type": "code",
      "source": [
        "buat_hist(data = df_car[\"price\"], label=\"Penyebaran data Harga Mobil (USD)\", labely=\"Jumlah Mobil\", labelx=\"Harga Mobil (USD)\")"
      ],
      "metadata": {
        "colab": {
          "base_uri": "https://localhost:8080/",
          "height": 569
        },
        "id": "VVmm6M96nN2i",
        "outputId": "c75ceb97-6e2d-47cc-b638-5935ac73b5ae"
      },
      "execution_count": null,
      "outputs": [
        {
          "output_type": "display_data",
          "data": {
            "text/plain": [
              "<Figure size 1200x600 with 1 Axes>"
            ],
            "image/png": "[encoded data removed]"
          },
          "metadata": {}
        }
      ]
    },
    {
      "cell_type": "markdown",
      "source": [
        "dari histogram, mean, median, dan mode untuk harga mobil kita mengetahui bahwa:\n",
        "- rata-rata harga mobil 13276\n",
        "- median di 10295\n",
        "- mode ada banyak, salah satunya 5572\n",
        "- histogram menunjukkan paling banyak mobil di harga antara 5118-9146"
      ],
      "metadata": {
        "id": "YPMctC-voB8h"
      }
    },
    {
      "cell_type": "markdown",
      "source": [
        "## latihan pendek\n",
        "- hitunglah mean, median, dan mode sebuah set data. misalkan carlength, biasanya panjang mobil berapa sih?\n",
        "- buatlah histogram\n",
        "\n",
        "berikan sedikit komentar"
      ],
      "metadata": {
        "id": "W_IlYoUPoUMo"
      }
    },
    {
      "cell_type": "code",
      "source": [
        "def buat_hist(data, label=\"\", labely=\"\", labelx=\"\", size=(12,6)):\n",
        "  print(\"mean:\", data.mean())\n",
        "  print(\"median:\", data.median())\n",
        "  print(\"mode:\", data.mode()[0])\n",
        "\n",
        "  freq, bin_edges = np.histogram(data)\n",
        "  data.plot(kind=\"hist\", figsize=size)\n",
        "  plt.xticks(bin_edges)\n",
        "\n",
        "  plt.title(label)\n",
        "  plt.ylabel(labely)\n",
        "  plt.xlabel(labelx)\n",
        "\n",
        "  plt.show()"
      ],
      "metadata": {
        "id": "rXNHsQkFnYe3"
      },
      "execution_count": null,
      "outputs": []
    },
    {
      "cell_type": "code",
      "source": [
        "buat_hist(df_car[\"carlength\"], label=\"Distribusi Panjang Mobil\", labely=\"Jumlah Mobil\", labelx=\"Panjang Mobil\")"
      ],
      "metadata": {
        "colab": {
          "base_uri": "https://localhost:8080/",
          "height": 621
        },
        "id": "7oL5ZZ55qTKp",
        "outputId": "32fc2a82-2785-4471-a34c-96ab73614997"
      },
      "execution_count": null,
      "outputs": [
        {
          "output_type": "stream",
          "name": "stdout",
          "text": [
            "mean: 174.04926829268288\n",
            "median: 173.2\n",
            "mode: 157.3\n"
          ]
        },
        {
          "output_type": "display_data",
          "data": {
            "text/plain": [
              "<Figure size 1200x600 with 1 Axes>"
            ],
            "image/png": "[encoded data removed]"
          },
          "metadata": {}
        }
      ]
    },
    {
      "cell_type": "markdown",
      "source": [
        "rata-rata panjang mobil ada di 174inch atau sekitar 4.4 meter. median di 173.2 inch, tidak jauh berbeda dengan rata-ratanya. mean dan median yang berdekatan menunjukkan kalau data 'sepertinya' terdistribusi secara normal.\n",
        "\n",
        "modenya di 157.3inch. tapi seperti biasa untuk data yang sifatnya continuous seperti panjang, mode tidak terlalu menjelaskan datanya."
      ],
      "metadata": {
        "id": "asVVSQURq1qF"
      }
    },
    {
      "cell_type": "markdown",
      "source": [
        "# Mean\n",
        "sebenarnya selain rata-rata biasa mean, ada beberapa jenis mean lainnya.\n",
        "- weighted\n",
        "- geometric\n",
        "- harmonic\n",
        "\n",
        "**weighted mean** digunakan saat bobot setiap nilai berbeda. kita tanyakan juga bobotnya berapa. misalkan data tentang peer dan ujian, dimana setiap peer 10% dan setiap ujian 20%. ujian dianggap lebih penting. lalu ujian akhir 30% dianggap paling penting.\n",
        "\n",
        "contoh data: [100, 20, 100, 70, 80, 50] untuk total 100% dimana 3 peer, 2 ujian, dan 1 ujian akhir\n",
        "\n",
        "tergantung nilai mana yang adalah ujian akhir, rata2 student ini bisa sangat berbeda"
      ],
      "metadata": {
        "id": "11ZHUGetrc8q"
      }
    },
    {
      "cell_type": "code",
      "source": [
        "nilai = np.array([100, 20, 100, 70, 80, 50])\n",
        "\n",
        "# mean\n",
        "print(\"mean:\", nilai.mean())\n",
        "\n",
        "# weighted mean\n",
        "bobot = np.array([0.1, 0.1, 0.1, 0.2, 0.2, 0.3])\n",
        "print(\"weighted mean 1:\", np.average(nilai, weights=bobot))\n",
        "\n",
        "\n",
        "bobot = np.array([0.3, 0.2, 0.2, 0.1, 0.1, 0.1])\n",
        "print(\"weighted mean 2:\", np.average(nilai, weights=bobot))"
      ],
      "metadata": {
        "colab": {
          "base_uri": "https://localhost:8080/"
        },
        "id": "F1KxIu1qqc17",
        "outputId": "e2d6ad32-f35d-4d6b-b5af-d89b4607d1d9"
      },
      "execution_count": null,
      "outputs": [
        {
          "output_type": "stream",
          "name": "stdout",
          "text": [
            "mean: 70.0\n",
            "weighted mean 1: 67.0\n",
            "weighted mean 2: 74.00000000000001\n"
          ]
        }
      ]
    },
    {
      "cell_type": "markdown",
      "source": [
        "**geometric mean** kita gunakan saat alat ukur antara angka yang mau kita rata-rata berbeda.\n",
        "\n",
        "misalkan kita mau beli barang, ada seller A yang punya 8500 reviews, dengan rating 4.5 bintang. ada seller B yang punya 7900 reviews, dengan rating 4.9 bintang. seller mana yang \"rata-rata\" lebih baik?\n",
        "\n",
        "kita kalikan 8500*4.5 lalu di akar.semua angka yang beda beda cara ukurnya jadi sebuah angka gabungan. kita gunakan angka gabungan ini sebagai rata-rata\n",
        "\n",
        "namanya adalah geomeric mean karena secara visual dia tetap mengambil jumlah area/ volume yang sama."
      ],
      "metadata": {
        "id": "TA3N4RBKstyt"
      }
    },
    {
      "cell_type": "code",
      "source": [
        "seller_A = np.array([8500, 4.5])\n",
        "seller_B = np.array([7900, 4.9])\n",
        "\n",
        "print(\"A:\", scipy.stats.gmean(seller_A))\n",
        "print(\"B:\", scipy.stats.gmean(seller_B))"
      ],
      "metadata": {
        "colab": {
          "base_uri": "https://localhost:8080/"
        },
        "id": "GRF_dKXQstNJ",
        "outputId": "6ee817eb-2671-4baa-b131-9861c4f50d25"
      },
      "execution_count": null,
      "outputs": [
        {
          "output_type": "stream",
          "name": "stdout",
          "text": [
            "A: 195.5760721560796\n",
            "B: 196.74857051577263\n"
          ]
        }
      ]
    },
    {
      "cell_type": "markdown",
      "source": [
        "dari geometric mean nya, kita bisa tentukan kalau seller B sedikit lebih baik"
      ],
      "metadata": {
        "id": "L5pdtvdltt1R"
      }
    },
    {
      "cell_type": "markdown",
      "source": [
        "**harmonic mean** digunakan saat data memiliki outlier yang membuat rata-rata biasa terlalu jauh dari kenyataan.\n",
        "\n",
        "kita hitung harmonic mean dengan meng-inverse data. hitung rata-rata. baru inverse balik.\n",
        "\n",
        "contoh: di sebuah perusahaan startup ada 3 karyawan `[100, 80, 4]` dengan gaji yang sangat berbeda. berapa rata-rata gaji di perusahaan ini?"
      ],
      "metadata": {
        "id": "KTwnUh2ct0Ho"
      }
    },
    {
      "cell_type": "code",
      "source": [
        "gaji = np.array([100, 80, 50, 120, 90, 4])\n",
        "\n",
        "print(\"mean:\", gaji.mean())\n",
        "print(\"harmonic mean:\", scipy.stats.hmean(gaji))"
      ],
      "metadata": {
        "colab": {
          "base_uri": "https://localhost:8080/"
        },
        "id": "WOx687HlsfBi",
        "outputId": "fc953b68-aef7-4734-dddb-f253db769d94"
      },
      "execution_count": null,
      "outputs": [
        {
          "output_type": "stream",
          "name": "stdout",
          "text": [
            "mean: 74.0\n",
            "harmonic mean: 19.23419412288513\n"
          ]
        }
      ]
    },
    {
      "cell_type": "markdown",
      "source": [
        "harmonic mean memberikan bobot yang lebih tinggi ke nilai nilai kecil. jadi jika kita punya data yang kebanyakan nilainya kecil, dengan beberapa nilai yang (jarang) besar, maka harmonic mean lebih menunjukkan \"tengah\" daripada mean biasa."
      ],
      "metadata": {
        "id": "PwIcm6qkwHlP"
      }
    },
    {
      "cell_type": "code",
      "source": [
        "gaji = np.array([100, 80, 4, 3.5, 4.2, 2, 3, 6])\n",
        "\n",
        "print(\"mean:\", gaji.mean())\n",
        "print(\"harmonic mean:\", scipy.stats.hmean(gaji))"
      ],
      "metadata": {
        "colab": {
          "base_uri": "https://localhost:8080/"
        },
        "id": "bhwyUhlnwSnv",
        "outputId": "08693be5-effe-439a-e82c-6a742e3a4573"
      },
      "execution_count": null,
      "outputs": [
        {
          "output_type": "stream",
          "name": "stdout",
          "text": [
            "mean: 25.3375\n",
            "harmonic mean: 4.453575452316257\n"
          ]
        }
      ]
    },
    {
      "cell_type": "markdown",
      "source": [
        "\n",
        "- coba cari weighted mean, geometric mean, dan harmonic mean."
      ],
      "metadata": {
        "id": "cbagY0zHuf_e"
      }
    },
    {
      "cell_type": "markdown",
      "source": [
        "## Measure of Spread\n",
        "menghitung penyebaran data\n",
        "- standard deviation (dan temannya variance)\n",
        "- min, max, range\n",
        "- percentile\n",
        "  - quartile adalah percentile ke 25, 50, dan 75\n",
        "  - nama lain percentile ke 50, adalah median, juga quartile 2\n",
        "  - inter-quartile range, adalah perbedaan antara Q3 dan Q1\n",
        "\n",
        "- skewness\n",
        "- kurtosis\n"
      ],
      "metadata": {
        "id": "qJX7ot-fwr7t"
      }
    },
    {
      "cell_type": "code",
      "source": [
        "df_car['carlength']"
      ],
      "metadata": {
        "colab": {
          "base_uri": "https://localhost:8080/"
        },
        "id": "-fiaxFO-uPWD",
        "outputId": "e9af62da-7bc0-48b5-b4a1-6da52a013aba"
      },
      "execution_count": null,
      "outputs": [
        {
          "output_type": "execute_result",
          "data": {
            "text/plain": [
              "0      168.8\n",
              "1      168.8\n",
              "2      171.2\n",
              "3      176.6\n",
              "4      176.6\n",
              "       ...  \n",
              "200    188.8\n",
              "201    188.8\n",
              "202    188.8\n",
              "203    188.8\n",
              "204    188.8\n",
              "Name: carlength, Length: 205, dtype: float64"
            ]
          },
          "metadata": {},
          "execution_count": 52
        }
      ]
    },
    {
      "cell_type": "code",
      "source": [
        "buat_hist(df_car[\"carlength\"], label=\"Distribusi Panjang Mobil\", labely=\"Jumlah Mobil\", labelx=\"Panjang Mobil\", size=(6,3))"
      ],
      "metadata": {
        "colab": {
          "base_uri": "https://localhost:8080/",
          "height": 390
        },
        "id": "GEJ6GtQpxp55",
        "outputId": "c7290beb-a388-4331-c2aa-7ebaf248c696"
      },
      "execution_count": null,
      "outputs": [
        {
          "output_type": "stream",
          "name": "stdout",
          "text": [
            "mean: 174.04926829268288\n",
            "median: 173.2\n",
            "mode: 157.3\n"
          ]
        },
        {
          "output_type": "display_data",
          "data": {
            "text/plain": [
              "<Figure size 600x300 with 1 Axes>"
            ],
            "image/png": "[encoded data removed]"
          },
          "metadata": {}
        }
      ]
    },
    {
      "cell_type": "code",
      "source": [
        "# diatas adalah \"tengah\" datanya, \"penyebarannya\" bagaimana?\n",
        "df_car[\"carlength\"].std()"
      ],
      "metadata": {
        "colab": {
          "base_uri": "https://localhost:8080/"
        },
        "id": "ilCmeVUux4yP",
        "outputId": "a4ccc704-d65c-4260-c8a7-83b72e581df4"
      },
      "execution_count": null,
      "outputs": [
        {
          "output_type": "execute_result",
          "data": {
            "text/plain": [
              "12.33728852655518"
            ]
          },
          "metadata": {},
          "execution_count": 55
        }
      ]
    },
    {
      "cell_type": "markdown",
      "source": [
        "secara kasar, biasanya panjang mobil ada di 174 +- 12 inch\n",
        "\n",
        "nanti cara benarnya secara statistik untuk mendapat range rata-rata \"confidence interval\" ada di sesi berikut."
      ],
      "metadata": {
        "id": "AqMsIMRoyDav"
      }
    },
    {
      "cell_type": "markdown",
      "source": [
        "selain standard deviation yang menunjukkan penyebaran data dari mean, kita bisa lihat juga min dan max. lalu range."
      ],
      "metadata": {
        "id": "LJ7UeuCdyrbu"
      }
    },
    {
      "cell_type": "code",
      "source": [
        "print(\"min\", df_car[\"carlength\"].min())\n",
        "print(\"max\", df_car[\"carlength\"].max())\n",
        "print(\"range\", df_car[\"carlength\"].max() - df_car[\"carlength\"].min())"
      ],
      "metadata": {
        "colab": {
          "base_uri": "https://localhost:8080/"
        },
        "id": "iTILGZBexzur",
        "outputId": "f47a5167-cead-447e-ba58-544ddaf769a9"
      },
      "execution_count": null,
      "outputs": [
        {
          "output_type": "stream",
          "name": "stdout",
          "text": [
            "min 141.1\n",
            "max 208.1\n",
            "range 67.0\n"
          ]
        }
      ]
    },
    {
      "cell_type": "markdown",
      "source": [
        "top 10% students minimal nilainya berapa?\n",
        "\n",
        "dengan satu angka percentil ke-90, kita bisa tau student yang dapat nilai sekian atau lebih masuk peringkat 10% teratas."
      ],
      "metadata": {
        "id": "tQLuZ-L2zgMB"
      }
    },
    {
      "cell_type": "code",
      "source": [
        "# percentile dan quartile\n",
        "# 10% mobil terpanjang minimal berapa inch?\n",
        "\n",
        "df_car[[\"carlength\"]].quantile(0.9)"
      ],
      "metadata": {
        "colab": {
          "base_uri": "https://localhost:8080/"
        },
        "id": "ZZpT1k9Hy49F",
        "outputId": "a8fe380e-6a00-4cad-fd22-87fe9f91f970"
      },
      "execution_count": null,
      "outputs": [
        {
          "output_type": "execute_result",
          "data": {
            "text/plain": [
              "carlength    188.8\n",
              "Name: 0.9, dtype: float64"
            ]
          },
          "metadata": {},
          "execution_count": 60
        }
      ]
    },
    {
      "cell_type": "markdown",
      "source": [
        "jika sebuah mobil panjangnya 188.8inch atau lebih, maka dia termasuk top 10% mobil terpanjang."
      ],
      "metadata": {
        "id": "RAYhhRIdz_zx"
      }
    },
    {
      "cell_type": "markdown",
      "source": [
        "biasanya kita mau tau quartiles nya, 3 angka Q1 Q2 Q3\n",
        "- Q1 = Quartile 1 = Percentile 25\n",
        "- Q2 = Quartile 2 = Percentile 50 = median\n",
        "- Q3 = Quartile 3 = Percentile 75\n",
        "\n",
        "bahkan kalau di boxplot, selain 3 angka ini kita juga belikat min dan max yang ada di dalam IQR\n",
        "- IQR = Inter-Quartile Range = Q3-Q1\n",
        "- min max yang di boxplot biasanya:\n",
        "  - max `Q3 + 1.5*IQR`, angka yang lebih besar dari ini dianggap outlier\n",
        "  - min `Q1 - 1.5*IQR`, angka yang lebih kecil dari ini dianggap outlier"
      ],
      "metadata": {
        "id": "g3GxfTWf0NBk"
      }
    },
    {
      "cell_type": "code",
      "source": [
        "df_car[[\"carlength\"]].quantile([0.25, 0.50, 0.75])"
      ],
      "metadata": {
        "colab": {
          "base_uri": "https://localhost:8080/",
          "height": 143
        },
        "id": "frIizEpTzr1v",
        "outputId": "95caceb8-8e33-4833-a21d-cae0c9119c7e"
      },
      "execution_count": null,
      "outputs": [
        {
          "output_type": "execute_result",
          "data": {
            "text/plain": [
              "      carlength\n",
              "0.25      166.3\n",
              "0.50      173.2\n",
              "0.75      183.1"
            ],
            "text/html": [
              "\n",
              "  <div id=\"df-1e77e36a-aaa5-4c53-9eb8-503129e0f9e2\" class=\"colab-df-container\">\n",
              "    <div>\n",
              "<style scoped>\n",
              "    .dataframe tbody tr th:only-of-type {\n",
              "        vertical-align: middle;\n",
              "    }\n",
              "\n",
              "    .dataframe tbody tr th {\n",
              "        vertical-align: top;\n",
              "    }\n",
              "\n",
              "    .dataframe thead th {\n",
              "        text-align: right;\n",
              "    }\n",
              "</style>\n",
              "<table border=\"1\" class=\"dataframe\">\n",
              "  <thead>\n",
              "    <tr style=\"text-align: right;\">\n",
              "      <th></th>\n",
              "      <th>carlength</th>\n",
              "    </tr>\n",
              "  </thead>\n",
              "  <tbody>\n",
              "    <tr>\n",
              "      <th>0.25</th>\n",
              "      <td>166.3</td>\n",
              "    </tr>\n",
              "    <tr>\n",
              "      <th>0.50</th>\n",
              "      <td>173.2</td>\n",
              "    </tr>\n",
              "    <tr>\n",
              "      <th>0.75</th>\n",
              "      <td>183.1</td>\n",
              "    </tr>\n",
              "  </tbody>\n",
              "</table>\n",
              "</div>\n",
              "    <div class=\"colab-df-buttons\">\n",
              "\n",
              "  <div class=\"colab-df-container\">\n",
              "    <button class=\"colab-df-convert\" onclick=\"convertToInteractive('df-1e77e36a-aaa5-4c53-9eb8-503129e0f9e2')\"\n",
              "            title=\"Convert this dataframe to an interactive table.\"\n",
              "            style=\"display:none;\">\n",
              "\n",
              "  <svg xmlns=\"http://www.w3.org/2000/svg\" height=\"24px\" viewBox=\"0 -960 960 960\">\n",
              "    <path d=\"M120-120v-720h720v720H120Zm60-500h600v-160H180v160Zm220 220h160v-160H400v160Zm0 220h160v-160H400v160ZM180-400h160v-160H180v160Zm440 0h160v-160H620v160ZM180-180h160v-160H180v160Zm440 0h160v-160H620v160Z\"/>\n",
              "  </svg>\n",
              "    </button>\n",
              "\n",
              "  <style>\n",
              "    .colab-df-container {\n",
              "      display:flex;\n",
              "      gap: 12px;\n",
              "    }\n",
              "\n",
              "    .colab-df-convert {\n",
              "      background-color: #E8F0FE;\n",
              "      border: none;\n",
              "      border-radius: 50%;\n",
              "      cursor: pointer;\n",
              "      display: none;\n",
              "      fill: #1967D2;\n",
              "      height: 32px;\n",
              "      padding: 0 0 0 0;\n",
              "      width: 32px;\n",
              "    }\n",
              "\n",
              "    .colab-df-convert:hover {\n",
              "      background-color: #E2EBFA;\n",
              "      box-shadow: 0px 1px 2px rgba(60, 64, 67, 0.3), 0px 1px 3px 1px rgba(60, 64, 67, 0.15);\n",
              "      fill: #174EA6;\n",
              "    }\n",
              "\n",
              "    .colab-df-buttons div {\n",
              "      margin-bottom: 4px;\n",
              "    }\n",
              "\n",
              "    [theme=dark] .colab-df-convert {\n",
              "      background-color: #3B4455;\n",
              "      fill: #D2E3FC;\n",
              "    }\n",
              "\n",
              "    [theme=dark] .colab-df-convert:hover {\n",
              "      background-color: #434B5C;\n",
              "      box-shadow: 0px 1px 3px 1px rgba(0, 0, 0, 0.15);\n",
              "      filter: drop-shadow(0px 1px 2px rgba(0, 0, 0, 0.3));\n",
              "      fill: #FFFFFF;\n",
              "    }\n",
              "  </style>\n",
              "\n",
              "    <script>\n",
              "      const buttonEl =\n",
              "        document.querySelector('#df-1e77e36a-aaa5-4c53-9eb8-503129e0f9e2 button.colab-df-convert');\n",
              "      buttonEl.style.display =\n",
              "        google.colab.kernel.accessAllowed ? 'block' : 'none';\n",
              "\n",
              "      async function convertToInteractive(key) {\n",
              "        const element = document.querySelector('#df-1e77e36a-aaa5-4c53-9eb8-503129e0f9e2');\n",
              "        const dataTable =\n",
              "          await google.colab.kernel.invokeFunction('convertToInteractive',\n",
              "                                                    [key], {});\n",
              "        if (!dataTable) return;\n",
              "\n",
              "        const docLinkHtml = 'Like what you see? Visit the ' +\n",
              "          '<a target=\"_blank\" href=https://colab.research.google.com/notebooks/data_table.ipynb>data table notebook</a>'\n",
              "          + ' to learn more about interactive tables.';\n",
              "        element.innerHTML = '';\n",
              "        dataTable['output_type'] = 'display_data';\n",
              "        await google.colab.output.renderOutput(dataTable, element);\n",
              "        const docLink = document.createElement('div');\n",
              "        docLink.innerHTML = docLinkHtml;\n",
              "        element.appendChild(docLink);\n",
              "      }\n",
              "    </script>\n",
              "  </div>\n",
              "\n",
              "\n",
              "<div id=\"df-1d931494-64b3-44ed-9a7b-52f341b6855e\">\n",
              "  <button class=\"colab-df-quickchart\" onclick=\"quickchart('df-1d931494-64b3-44ed-9a7b-52f341b6855e')\"\n",
              "            title=\"Suggest charts.\"\n",
              "            style=\"display:none;\">\n",
              "\n",
              "<svg xmlns=\"http://www.w3.org/2000/svg\" height=\"24px\"viewBox=\"0 0 24 24\"\n",
              "     width=\"24px\">\n",
              "    <g>\n",
              "        <path d=\"M19 3H5c-1.1 0-2 .9-2 2v14c0 1.1.9 2 2 2h14c1.1 0 2-.9 2-2V5c0-1.1-.9-2-2-2zM9 17H7v-7h2v7zm4 0h-2V7h2v10zm4 0h-2v-4h2v4z\"/>\n",
              "    </g>\n",
              "</svg>\n",
              "  </button>\n",
              "\n",
              "<style>\n",
              "  .colab-df-quickchart {\n",
              "      --bg-color: #E8F0FE;\n",
              "      --fill-color: #1967D2;\n",
              "      --hover-bg-color: #E2EBFA;\n",
              "      --hover-fill-color: #174EA6;\n",
              "      --disabled-fill-color: #AAA;\n",
              "      --disabled-bg-color: #DDD;\n",
              "  }\n",
              "\n",
              "  [theme=dark] .colab-df-quickchart {\n",
              "      --bg-color: #3B4455;\n",
              "      --fill-color: #D2E3FC;\n",
              "      --hover-bg-color: #434B5C;\n",
              "      --hover-fill-color: #FFFFFF;\n",
              "      --disabled-bg-color: #3B4455;\n",
              "      --disabled-fill-color: #666;\n",
              "  }\n",
              "\n",
              "  .colab-df-quickchart {\n",
              "    background-color: var(--bg-color);\n",
              "    border: none;\n",
              "    border-radius: 50%;\n",
              "    cursor: pointer;\n",
              "    display: none;\n",
              "    fill: var(--fill-color);\n",
              "    height: 32px;\n",
              "    padding: 0;\n",
              "    width: 32px;\n",
              "  }\n",
              "\n",
              "  .colab-df-quickchart:hover {\n",
              "    background-color: var(--hover-bg-color);\n",
              "    box-shadow: 0 1px 2px rgba(60, 64, 67, 0.3), 0 1px 3px 1px rgba(60, 64, 67, 0.15);\n",
              "    fill: var(--button-hover-fill-color);\n",
              "  }\n",
              "\n",
              "  .colab-df-quickchart-complete:disabled,\n",
              "  .colab-df-quickchart-complete:disabled:hover {\n",
              "    background-color: var(--disabled-bg-color);\n",
              "    fill: var(--disabled-fill-color);\n",
              "    box-shadow: none;\n",
              "  }\n",
              "\n",
              "  .colab-df-spinner {\n",
              "    border: 2px solid var(--fill-color);\n",
              "    border-color: transparent;\n",
              "    border-bottom-color: var(--fill-color);\n",
              "    animation:\n",
              "      spin 1s steps(1) infinite;\n",
              "  }\n",
              "\n",
              "  @keyframes spin {\n",
              "    0% {\n",
              "      border-color: transparent;\n",
              "      border-bottom-color: var(--fill-color);\n",
              "      border-left-color: var(--fill-color);\n",
              "    }\n",
              "    20% {\n",
              "      border-color: transparent;\n",
              "      border-left-color: var(--fill-color);\n",
              "      border-top-color: var(--fill-color);\n",
              "    }\n",
              "    30% {\n",
              "      border-color: transparent;\n",
              "      border-left-color: var(--fill-color);\n",
              "      border-top-color: var(--fill-color);\n",
              "      border-right-color: var(--fill-color);\n",
              "    }\n",
              "    40% {\n",
              "      border-color: transparent;\n",
              "      border-right-color: var(--fill-color);\n",
              "      border-top-color: var(--fill-color);\n",
              "    }\n",
              "    60% {\n",
              "      border-color: transparent;\n",
              "      border-right-color: var(--fill-color);\n",
              "    }\n",
              "    80% {\n",
              "      border-color: transparent;\n",
              "      border-right-color: var(--fill-color);\n",
              "      border-bottom-color: var(--fill-color);\n",
              "    }\n",
              "    90% {\n",
              "      border-color: transparent;\n",
              "      border-bottom-color: var(--fill-color);\n",
              "    }\n",
              "  }\n",
              "</style>\n",
              "\n",
              "  <script>\n",
              "    async function quickchart(key) {\n",
              "      const quickchartButtonEl =\n",
              "        document.querySelector('#' + key + ' button');\n",
              "      quickchartButtonEl.disabled = true;  // To prevent multiple clicks.\n",
              "      quickchartButtonEl.classList.add('colab-df-spinner');\n",
              "      try {\n",
              "        const charts = await google.colab.kernel.invokeFunction(\n",
              "            'suggestCharts', [key], {});\n",
              "      } catch (error) {\n",
              "        console.error('Error during call to suggestCharts:', error);\n",
              "      }\n",
              "      quickchartButtonEl.classList.remove('colab-df-spinner');\n",
              "      quickchartButtonEl.classList.add('colab-df-quickchart-complete');\n",
              "    }\n",
              "    (() => {\n",
              "      let quickchartButtonEl =\n",
              "        document.querySelector('#df-1d931494-64b3-44ed-9a7b-52f341b6855e button');\n",
              "      quickchartButtonEl.style.display =\n",
              "        google.colab.kernel.accessAllowed ? 'block' : 'none';\n",
              "    })();\n",
              "  </script>\n",
              "</div>\n",
              "    </div>\n",
              "  </div>\n"
            ]
          },
          "metadata": {},
          "execution_count": 61
        }
      ]
    },
    {
      "cell_type": "code",
      "source": [
        "df_car[\"carlength\"].quantile([0.25, 0.50, 0.75])"
      ],
      "metadata": {
        "colab": {
          "base_uri": "https://localhost:8080/"
        },
        "id": "_Ftks4c71FLP",
        "outputId": "124e4b99-6289-4039-e5b1-adb5114fc332"
      },
      "execution_count": null,
      "outputs": [
        {
          "output_type": "execute_result",
          "data": {
            "text/plain": [
              "0.25    166.3\n",
              "0.50    173.2\n",
              "0.75    183.1\n",
              "Name: carlength, dtype: float64"
            ]
          },
          "metadata": {},
          "execution_count": 64
        }
      ]
    },
    {
      "cell_type": "code",
      "source": [
        "[q1, q2, q3] = df_car[\"carlength\"].quantile([0.25, 0.50, 0.75])\n",
        "print(q1, q2, q3)"
      ],
      "metadata": {
        "colab": {
          "base_uri": "https://localhost:8080/"
        },
        "id": "yj-IB9e-037Z",
        "outputId": "14ad3426-32b8-4ee4-d3a7-a655663fbb64"
      },
      "execution_count": null,
      "outputs": [
        {
          "output_type": "stream",
          "name": "stdout",
          "text": [
            "166.3 173.2 183.1\n"
          ]
        }
      ]
    },
    {
      "cell_type": "code",
      "source": [
        "# iqr\n",
        "iqr = q3-q1\n",
        "print(\"IQR\", iqr)"
      ],
      "metadata": {
        "colab": {
          "base_uri": "https://localhost:8080/"
        },
        "id": "00tRqWlT1A7e",
        "outputId": "979d2792-a132-49ca-85e2-97bb8d49d459"
      },
      "execution_count": null,
      "outputs": [
        {
          "output_type": "stream",
          "name": "stdout",
          "text": [
            "IQR 16.799999999999983\n"
          ]
        }
      ]
    },
    {
      "cell_type": "code",
      "source": [
        "print(\"max dalam IQR\", q3 + 1.5*iqr)\n",
        "print(\"min dalam IQR\", q1 - 1.5*iqr)"
      ],
      "metadata": {
        "colab": {
          "base_uri": "https://localhost:8080/"
        },
        "id": "vm-YUx7u1LOJ",
        "outputId": "548d4640-b075-44c4-ff48-68e5fa790882"
      },
      "execution_count": null,
      "outputs": [
        {
          "output_type": "stream",
          "name": "stdout",
          "text": [
            "max dalam IQR 208.29999999999995\n",
            "min dalam IQR 141.10000000000002\n"
          ]
        }
      ]
    },
    {
      "cell_type": "markdown",
      "source": [
        "boxplot menunjukkan semua angka ini secara visual"
      ],
      "metadata": {
        "id": "YO-rJGLK1XRJ"
      }
    },
    {
      "cell_type": "code",
      "source": [
        "df_car[\"carlength\"].plot(kind=\"box\")"
      ],
      "metadata": {
        "colab": {
          "base_uri": "https://localhost:8080/",
          "height": 447
        },
        "id": "mBNmNEN21VIF",
        "outputId": "8cafc68b-3daa-44fb-f8bc-f36a4fda40df"
      },
      "execution_count": null,
      "outputs": [
        {
          "output_type": "execute_result",
          "data": {
            "text/plain": [
              "<Axes: >"
            ]
          },
          "metadata": {},
          "execution_count": 69
        },
        {
          "output_type": "display_data",
          "data": {
            "text/plain": [
              "<Figure size 640x480 with 1 Axes>"
            ],
            "image/png": "[encoded data removed]"
          },
          "metadata": {}
        }
      ]
    },
    {
      "cell_type": "code",
      "source": [],
      "metadata": {
        "id": "DEzSBb051aEG"
      },
      "execution_count": null,
      "outputs": []
    },
    {
      "cell_type": "markdown",
      "source": [
        "skewness\n",
        "\n",
        "untuk data yang terdistribusi secara normal seperti carlength diatas, apakah bentuk histogram datanya miring miring atau simetris?\n",
        "\n",
        "\n",
        "kurtosis\n",
        "\n",
        "apakah histogramnya lancip ke atas atau tumpul?"
      ],
      "metadata": {
        "id": "mvIqBGe-12KA"
      }
    },
    {
      "cell_type": "code",
      "source": [
        "df_car[[\"carlength\"]].skew()"
      ],
      "metadata": {
        "colab": {
          "base_uri": "https://localhost:8080/"
        },
        "id": "80ntEN8u2Aed",
        "outputId": "ec99f3cb-7077-43a2-c3b7-c53320666a8a"
      },
      "execution_count": null,
      "outputs": [
        {
          "output_type": "execute_result",
          "data": {
            "text/plain": [
              "carlength    0.155954\n",
              "dtype: float64"
            ]
          },
          "metadata": {},
          "execution_count": 73
        }
      ]
    },
    {
      "cell_type": "markdown",
      "source": [
        "karena skewness hampir 0, dan positive, artinya distribusi datanya hampir simetris, sedikit miring ke arah kiri"
      ],
      "metadata": {
        "id": "6tA3yyki2czU"
      }
    },
    {
      "cell_type": "code",
      "source": [
        "df_car[[\"carlength\"]].kurtosis()"
      ],
      "metadata": {
        "colab": {
          "base_uri": "https://localhost:8080/"
        },
        "id": "zY9z9IfJ2C1F",
        "outputId": "aad9589d-fb86-4e11-afcb-e7a7882f48a7"
      },
      "execution_count": null,
      "outputs": [
        {
          "output_type": "execute_result",
          "data": {
            "text/plain": [
              "carlength   -0.082895\n",
              "dtype: float64"
            ]
          },
          "metadata": {},
          "execution_count": 74
        }
      ]
    },
    {
      "cell_type": "markdown",
      "source": [
        "boleh review materi yang barusan dipelajari. boleh kumpulkan q&a yang mau di explore.\n",
        "\n",
        "summarize\n",
        "\n",
        "- histogram\n",
        "- mean, median, mode\n",
        "- mean yang spesial (weighted, harmonic, geometric)\n",
        "- standard deviation\n",
        "- min, max, range\n",
        "- percentiles, quartiles, inter-quartile range\n",
        "- boxplot\n",
        "- skewness, kurtosis"
      ],
      "metadata": {
        "id": "qkau8Bop29wH"
      }
    },
    {
      "cell_type": "markdown",
      "source": [
        "# Correlation\n",
        "hubungan antara 2 set data\n",
        "\n",
        "r\n",
        "\n",
        "correlation coefficient r\n",
        "\n",
        "r ini menunjukkan bagaimana 2 set data ter-korelasi. apakah positif atau negatif. apakah kuat atau lemah.\n",
        "\n",
        "r = 1 --> korelasi positif kuat, sempurna, 1 banding 1\n",
        "\n",
        "jika berat badan (kg) dan tinggi (cm) badan memiliki korelasi r=1, maka setiap kg yang ditambah ke berat badan, tinggi akan ikutan naik 1cm.\n",
        "\n",
        "r = 0 --> tidak ada korelasi sama sekali\n",
        "\n",
        "jika berat badan (kg) dan tinggi (cm) badan memiliki korelasi r=0, maka tidak peduli berat badannya berapa, tidak ada hubungan dengan tinggi badan. bisa saja berat banget pendek atau tinggi. bisa saja enteng banget pendek atau tinggi.\n",
        "\n",
        "r = -1 --> korelasi negatif kuat, sempurna, 1 banding 1\n",
        "\n",
        "jika berat badan (kg) dan tinggi (cm) badan memiliki korelasi r=1, maka setiap kg yang ditambah ke berat badan, tinggi akan turun 1cm.\n",
        "\n",
        "nilai r yang ada di antara -1 dan 1, menunjukkan korelasi antara dua set data."
      ],
      "metadata": {
        "id": "Ds44Ytwp2416"
      }
    },
    {
      "cell_type": "code",
      "source": [
        "df_car[[\"carlength\",\"carwidth\"]]"
      ],
      "metadata": {
        "colab": {
          "base_uri": "https://localhost:8080/",
          "height": 423
        },
        "id": "Vth-iShJ2XVj",
        "outputId": "f01b6f78-2db6-4c83-add7-8e3238e236b1"
      },
      "execution_count": null,
      "outputs": [
        {
          "output_type": "execute_result",
          "data": {
            "text/plain": [
              "     carlength  carwidth\n",
              "0        168.8      64.1\n",
              "1        168.8      64.1\n",
              "2        171.2      65.5\n",
              "3        176.6      66.2\n",
              "4        176.6      66.4\n",
              "..         ...       ...\n",
              "200      188.8      68.9\n",
              "201      188.8      68.8\n",
              "202      188.8      68.9\n",
              "203      188.8      68.9\n",
              "204      188.8      68.9\n",
              "\n",
              "[205 rows x 2 columns]"
            ],
            "text/html": [
              "\n",
              "  <div id=\"df-243d3f32-64b3-4cde-8e88-15d344bfb962\" class=\"colab-df-container\">\n",
              "    <div>\n",
              "<style scoped>\n",
              "    .dataframe tbody tr th:only-of-type {\n",
              "        vertical-align: middle;\n",
              "    }\n",
              "\n",
              "    .dataframe tbody tr th {\n",
              "        vertical-align: top;\n",
              "    }\n",
              "\n",
              "    .dataframe thead th {\n",
              "        text-align: right;\n",
              "    }\n",
              "</style>\n",
              "<table border=\"1\" class=\"dataframe\">\n",
              "  <thead>\n",
              "    <tr style=\"text-align: right;\">\n",
              "      <th></th>\n",
              "      <th>carlength</th>\n",
              "      <th>carwidth</th>\n",
              "    </tr>\n",
              "  </thead>\n",
              "  <tbody>\n",
              "    <tr>\n",
              "      <th>0</th>\n",
              "      <td>168.8</td>\n",
              "      <td>64.1</td>\n",
              "    </tr>\n",
              "    <tr>\n",
              "      <th>1</th>\n",
              "      <td>168.8</td>\n",
              "      <td>64.1</td>\n",
              "    </tr>\n",
              "    <tr>\n",
              "      <th>2</th>\n",
              "      <td>171.2</td>\n",
              "      <td>65.5</td>\n",
              "    </tr>\n",
              "    <tr>\n",
              "      <th>3</th>\n",
              "      <td>176.6</td>\n",
              "      <td>66.2</td>\n",
              "    </tr>\n",
              "    <tr>\n",
              "      <th>4</th>\n",
              "      <td>176.6</td>\n",
              "      <td>66.4</td>\n",
              "    </tr>\n",
              "    <tr>\n",
              "      <th>...</th>\n",
              "      <td>...</td>\n",
              "      <td>...</td>\n",
              "    </tr>\n",
              "    <tr>\n",
              "      <th>200</th>\n",
              "      <td>188.8</td>\n",
              "      <td>68.9</td>\n",
              "    </tr>\n",
              "    <tr>\n",
              "      <th>201</th>\n",
              "      <td>188.8</td>\n",
              "      <td>68.8</td>\n",
              "    </tr>\n",
              "    <tr>\n",
              "      <th>202</th>\n",
              "      <td>188.8</td>\n",
              "      <td>68.9</td>\n",
              "    </tr>\n",
              "    <tr>\n",
              "      <th>203</th>\n",
              "      <td>188.8</td>\n",
              "      <td>68.9</td>\n",
              "    </tr>\n",
              "    <tr>\n",
              "      <th>204</th>\n",
              "      <td>188.8</td>\n",
              "      <td>68.9</td>\n",
              "    </tr>\n",
              "  </tbody>\n",
              "</table>\n",
              "<p>205 rows × 2 columns</p>\n",
              "</div>\n",
              "    <div class=\"colab-df-buttons\">\n",
              "\n",
              "  <div class=\"colab-df-container\">\n",
              "    <button class=\"colab-df-convert\" onclick=\"convertToInteractive('df-243d3f32-64b3-4cde-8e88-15d344bfb962')\"\n",
              "            title=\"Convert this dataframe to an interactive table.\"\n",
              "            style=\"display:none;\">\n",
              "\n",
              "  <svg xmlns=\"http://www.w3.org/2000/svg\" height=\"24px\" viewBox=\"0 -960 960 960\">\n",
              "    <path d=\"M120-120v-720h720v720H120Zm60-500h600v-160H180v160Zm220 220h160v-160H400v160Zm0 220h160v-160H400v160ZM180-400h160v-160H180v160Zm440 0h160v-160H620v160ZM180-180h160v-160H180v160Zm440 0h160v-160H620v160Z\"/>\n",
              "  </svg>\n",
              "    </button>\n",
              "\n",
              "  <style>\n",
              "    .colab-df-container {\n",
              "      display:flex;\n",
              "      gap: 12px;\n",
              "    }\n",
              "\n",
              "    .colab-df-convert {\n",
              "      background-color: #E8F0FE;\n",
              "      border: none;\n",
              "      border-radius: 50%;\n",
              "      cursor: pointer;\n",
              "      display: none;\n",
              "      fill: #1967D2;\n",
              "      height: 32px;\n",
              "      padding: 0 0 0 0;\n",
              "      width: 32px;\n",
              "    }\n",
              "\n",
              "    .colab-df-convert:hover {\n",
              "      background-color: #E2EBFA;\n",
              "      box-shadow: 0px 1px 2px rgba(60, 64, 67, 0.3), 0px 1px 3px 1px rgba(60, 64, 67, 0.15);\n",
              "      fill: #174EA6;\n",
              "    }\n",
              "\n",
              "    .colab-df-buttons div {\n",
              "      margin-bottom: 4px;\n",
              "    }\n",
              "\n",
              "    [theme=dark] .colab-df-convert {\n",
              "      background-color: #3B4455;\n",
              "      fill: #D2E3FC;\n",
              "    }\n",
              "\n",
              "    [theme=dark] .colab-df-convert:hover {\n",
              "      background-color: #434B5C;\n",
              "      box-shadow: 0px 1px 3px 1px rgba(0, 0, 0, 0.15);\n",
              "      filter: drop-shadow(0px 1px 2px rgba(0, 0, 0, 0.3));\n",
              "      fill: #FFFFFF;\n",
              "    }\n",
              "  </style>\n",
              "\n",
              "    <script>\n",
              "      const buttonEl =\n",
              "        document.querySelector('#df-243d3f32-64b3-4cde-8e88-15d344bfb962 button.colab-df-convert');\n",
              "      buttonEl.style.display =\n",
              "        google.colab.kernel.accessAllowed ? 'block' : 'none';\n",
              "\n",
              "      async function convertToInteractive(key) {\n",
              "        const element = document.querySelector('#df-243d3f32-64b3-4cde-8e88-15d344bfb962');\n",
              "        const dataTable =\n",
              "          await google.colab.kernel.invokeFunction('convertToInteractive',\n",
              "                                                    [key], {});\n",
              "        if (!dataTable) return;\n",
              "\n",
              "        const docLinkHtml = 'Like what you see? Visit the ' +\n",
              "          '<a target=\"_blank\" href=https://colab.research.google.com/notebooks/data_table.ipynb>data table notebook</a>'\n",
              "          + ' to learn more about interactive tables.';\n",
              "        element.innerHTML = '';\n",
              "        dataTable['output_type'] = 'display_data';\n",
              "        await google.colab.output.renderOutput(dataTable, element);\n",
              "        const docLink = document.createElement('div');\n",
              "        docLink.innerHTML = docLinkHtml;\n",
              "        element.appendChild(docLink);\n",
              "      }\n",
              "    </script>\n",
              "  </div>\n",
              "\n",
              "\n",
              "<div id=\"df-af7445a7-b0f5-4ca9-8dbe-9d5f62b181fd\">\n",
              "  <button class=\"colab-df-quickchart\" onclick=\"quickchart('df-af7445a7-b0f5-4ca9-8dbe-9d5f62b181fd')\"\n",
              "            title=\"Suggest charts.\"\n",
              "            style=\"display:none;\">\n",
              "\n",
              "<svg xmlns=\"http://www.w3.org/2000/svg\" height=\"24px\"viewBox=\"0 0 24 24\"\n",
              "     width=\"24px\">\n",
              "    <g>\n",
              "        <path d=\"M19 3H5c-1.1 0-2 .9-2 2v14c0 1.1.9 2 2 2h14c1.1 0 2-.9 2-2V5c0-1.1-.9-2-2-2zM9 17H7v-7h2v7zm4 0h-2V7h2v10zm4 0h-2v-4h2v4z\"/>\n",
              "    </g>\n",
              "</svg>\n",
              "  </button>\n",
              "\n",
              "<style>\n",
              "  .colab-df-quickchart {\n",
              "      --bg-color: #E8F0FE;\n",
              "      --fill-color: #1967D2;\n",
              "      --hover-bg-color: #E2EBFA;\n",
              "      --hover-fill-color: #174EA6;\n",
              "      --disabled-fill-color: #AAA;\n",
              "      --disabled-bg-color: #DDD;\n",
              "  }\n",
              "\n",
              "  [theme=dark] .colab-df-quickchart {\n",
              "      --bg-color: #3B4455;\n",
              "      --fill-color: #D2E3FC;\n",
              "      --hover-bg-color: #434B5C;\n",
              "      --hover-fill-color: #FFFFFF;\n",
              "      --disabled-bg-color: #3B4455;\n",
              "      --disabled-fill-color: #666;\n",
              "  }\n",
              "\n",
              "  .colab-df-quickchart {\n",
              "    background-color: var(--bg-color);\n",
              "    border: none;\n",
              "    border-radius: 50%;\n",
              "    cursor: pointer;\n",
              "    display: none;\n",
              "    fill: var(--fill-color);\n",
              "    height: 32px;\n",
              "    padding: 0;\n",
              "    width: 32px;\n",
              "  }\n",
              "\n",
              "  .colab-df-quickchart:hover {\n",
              "    background-color: var(--hover-bg-color);\n",
              "    box-shadow: 0 1px 2px rgba(60, 64, 67, 0.3), 0 1px 3px 1px rgba(60, 64, 67, 0.15);\n",
              "    fill: var(--button-hover-fill-color);\n",
              "  }\n",
              "\n",
              "  .colab-df-quickchart-complete:disabled,\n",
              "  .colab-df-quickchart-complete:disabled:hover {\n",
              "    background-color: var(--disabled-bg-color);\n",
              "    fill: var(--disabled-fill-color);\n",
              "    box-shadow: none;\n",
              "  }\n",
              "\n",
              "  .colab-df-spinner {\n",
              "    border: 2px solid var(--fill-color);\n",
              "    border-color: transparent;\n",
              "    border-bottom-color: var(--fill-color);\n",
              "    animation:\n",
              "      spin 1s steps(1) infinite;\n",
              "  }\n",
              "\n",
              "  @keyframes spin {\n",
              "    0% {\n",
              "      border-color: transparent;\n",
              "      border-bottom-color: var(--fill-color);\n",
              "      border-left-color: var(--fill-color);\n",
              "    }\n",
              "    20% {\n",
              "      border-color: transparent;\n",
              "      border-left-color: var(--fill-color);\n",
              "      border-top-color: var(--fill-color);\n",
              "    }\n",
              "    30% {\n",
              "      border-color: transparent;\n",
              "      border-left-color: var(--fill-color);\n",
              "      border-top-color: var(--fill-color);\n",
              "      border-right-color: var(--fill-color);\n",
              "    }\n",
              "    40% {\n",
              "      border-color: transparent;\n",
              "      border-right-color: var(--fill-color);\n",
              "      border-top-color: var(--fill-color);\n",
              "    }\n",
              "    60% {\n",
              "      border-color: transparent;\n",
              "      border-right-color: var(--fill-color);\n",
              "    }\n",
              "    80% {\n",
              "      border-color: transparent;\n",
              "      border-right-color: var(--fill-color);\n",
              "      border-bottom-color: var(--fill-color);\n",
              "    }\n",
              "    90% {\n",
              "      border-color: transparent;\n",
              "      border-bottom-color: var(--fill-color);\n",
              "    }\n",
              "  }\n",
              "</style>\n",
              "\n",
              "  <script>\n",
              "    async function quickchart(key) {\n",
              "      const quickchartButtonEl =\n",
              "        document.querySelector('#' + key + ' button');\n",
              "      quickchartButtonEl.disabled = true;  // To prevent multiple clicks.\n",
              "      quickchartButtonEl.classList.add('colab-df-spinner');\n",
              "      try {\n",
              "        const charts = await google.colab.kernel.invokeFunction(\n",
              "            'suggestCharts', [key], {});\n",
              "      } catch (error) {\n",
              "        console.error('Error during call to suggestCharts:', error);\n",
              "      }\n",
              "      quickchartButtonEl.classList.remove('colab-df-spinner');\n",
              "      quickchartButtonEl.classList.add('colab-df-quickchart-complete');\n",
              "    }\n",
              "    (() => {\n",
              "      let quickchartButtonEl =\n",
              "        document.querySelector('#df-af7445a7-b0f5-4ca9-8dbe-9d5f62b181fd button');\n",
              "      quickchartButtonEl.style.display =\n",
              "        google.colab.kernel.accessAllowed ? 'block' : 'none';\n",
              "    })();\n",
              "  </script>\n",
              "</div>\n",
              "    </div>\n",
              "  </div>\n"
            ]
          },
          "metadata": {},
          "execution_count": 75
        }
      ]
    },
    {
      "cell_type": "markdown",
      "source": [
        "apakah ada korelasi antara panjang dan lebar mobil?"
      ],
      "metadata": {
        "id": "nkXyRJaI7mjp"
      }
    },
    {
      "cell_type": "code",
      "source": [
        "df_car[[\"carlength\",\"carwidth\"]].corr()"
      ],
      "metadata": {
        "colab": {
          "base_uri": "https://localhost:8080/",
          "height": 112
        },
        "id": "yNjiS2mS7lpT",
        "outputId": "0fc756a4-20a5-4f27-c3cd-1e241d16826a"
      },
      "execution_count": null,
      "outputs": [
        {
          "output_type": "execute_result",
          "data": {
            "text/plain": [
              "           carlength  carwidth\n",
              "carlength   1.000000  0.841118\n",
              "carwidth    0.841118  1.000000"
            ],
            "text/html": [
              "\n",
              "  <div id=\"df-b942d353-98da-4e8b-99cc-b2534172226f\" class=\"colab-df-container\">\n",
              "    <div>\n",
              "<style scoped>\n",
              "    .dataframe tbody tr th:only-of-type {\n",
              "        vertical-align: middle;\n",
              "    }\n",
              "\n",
              "    .dataframe tbody tr th {\n",
              "        vertical-align: top;\n",
              "    }\n",
              "\n",
              "    .dataframe thead th {\n",
              "        text-align: right;\n",
              "    }\n",
              "</style>\n",
              "<table border=\"1\" class=\"dataframe\">\n",
              "  <thead>\n",
              "    <tr style=\"text-align: right;\">\n",
              "      <th></th>\n",
              "      <th>carlength</th>\n",
              "      <th>carwidth</th>\n",
              "    </tr>\n",
              "  </thead>\n",
              "  <tbody>\n",
              "    <tr>\n",
              "      <th>carlength</th>\n",
              "      <td>1.000000</td>\n",
              "      <td>0.841118</td>\n",
              "    </tr>\n",
              "    <tr>\n",
              "      <th>carwidth</th>\n",
              "      <td>0.841118</td>\n",
              "      <td>1.000000</td>\n",
              "    </tr>\n",
              "  </tbody>\n",
              "</table>\n",
              "</div>\n",
              "    <div class=\"colab-df-buttons\">\n",
              "\n",
              "  <div class=\"colab-df-container\">\n",
              "    <button class=\"colab-df-convert\" onclick=\"convertToInteractive('df-b942d353-98da-4e8b-99cc-b2534172226f')\"\n",
              "            title=\"Convert this dataframe to an interactive table.\"\n",
              "            style=\"display:none;\">\n",
              "\n",
              "  <svg xmlns=\"http://www.w3.org/2000/svg\" height=\"24px\" viewBox=\"0 -960 960 960\">\n",
              "    <path d=\"M120-120v-720h720v720H120Zm60-500h600v-160H180v160Zm220 220h160v-160H400v160Zm0 220h160v-160H400v160ZM180-400h160v-160H180v160Zm440 0h160v-160H620v160ZM180-180h160v-160H180v160Zm440 0h160v-160H620v160Z\"/>\n",
              "  </svg>\n",
              "    </button>\n",
              "\n",
              "  <style>\n",
              "    .colab-df-container {\n",
              "      display:flex;\n",
              "      gap: 12px;\n",
              "    }\n",
              "\n",
              "    .colab-df-convert {\n",
              "      background-color: #E8F0FE;\n",
              "      border: none;\n",
              "      border-radius: 50%;\n",
              "      cursor: pointer;\n",
              "      display: none;\n",
              "      fill: #1967D2;\n",
              "      height: 32px;\n",
              "      padding: 0 0 0 0;\n",
              "      width: 32px;\n",
              "    }\n",
              "\n",
              "    .colab-df-convert:hover {\n",
              "      background-color: #E2EBFA;\n",
              "      box-shadow: 0px 1px 2px rgba(60, 64, 67, 0.3), 0px 1px 3px 1px rgba(60, 64, 67, 0.15);\n",
              "      fill: #174EA6;\n",
              "    }\n",
              "\n",
              "    .colab-df-buttons div {\n",
              "      margin-bottom: 4px;\n",
              "    }\n",
              "\n",
              "    [theme=dark] .colab-df-convert {\n",
              "      background-color: #3B4455;\n",
              "      fill: #D2E3FC;\n",
              "    }\n",
              "\n",
              "    [theme=dark] .colab-df-convert:hover {\n",
              "      background-color: #434B5C;\n",
              "      box-shadow: 0px 1px 3px 1px rgba(0, 0, 0, 0.15);\n",
              "      filter: drop-shadow(0px 1px 2px rgba(0, 0, 0, 0.3));\n",
              "      fill: #FFFFFF;\n",
              "    }\n",
              "  </style>\n",
              "\n",
              "    <script>\n",
              "      const buttonEl =\n",
              "        document.querySelector('#df-b942d353-98da-4e8b-99cc-b2534172226f button.colab-df-convert');\n",
              "      buttonEl.style.display =\n",
              "        google.colab.kernel.accessAllowed ? 'block' : 'none';\n",
              "\n",
              "      async function convertToInteractive(key) {\n",
              "        const element = document.querySelector('#df-b942d353-98da-4e8b-99cc-b2534172226f');\n",
              "        const dataTable =\n",
              "          await google.colab.kernel.invokeFunction('convertToInteractive',\n",
              "                                                    [key], {});\n",
              "        if (!dataTable) return;\n",
              "\n",
              "        const docLinkHtml = 'Like what you see? Visit the ' +\n",
              "          '<a target=\"_blank\" href=https://colab.research.google.com/notebooks/data_table.ipynb>data table notebook</a>'\n",
              "          + ' to learn more about interactive tables.';\n",
              "        element.innerHTML = '';\n",
              "        dataTable['output_type'] = 'display_data';\n",
              "        await google.colab.output.renderOutput(dataTable, element);\n",
              "        const docLink = document.createElement('div');\n",
              "        docLink.innerHTML = docLinkHtml;\n",
              "        element.appendChild(docLink);\n",
              "      }\n",
              "    </script>\n",
              "  </div>\n",
              "\n",
              "\n",
              "<div id=\"df-7a9d2ee7-f6a0-4bc0-9caf-f8b395ecfb1b\">\n",
              "  <button class=\"colab-df-quickchart\" onclick=\"quickchart('df-7a9d2ee7-f6a0-4bc0-9caf-f8b395ecfb1b')\"\n",
              "            title=\"Suggest charts.\"\n",
              "            style=\"display:none;\">\n",
              "\n",
              "<svg xmlns=\"http://www.w3.org/2000/svg\" height=\"24px\"viewBox=\"0 0 24 24\"\n",
              "     width=\"24px\">\n",
              "    <g>\n",
              "        <path d=\"M19 3H5c-1.1 0-2 .9-2 2v14c0 1.1.9 2 2 2h14c1.1 0 2-.9 2-2V5c0-1.1-.9-2-2-2zM9 17H7v-7h2v7zm4 0h-2V7h2v10zm4 0h-2v-4h2v4z\"/>\n",
              "    </g>\n",
              "</svg>\n",
              "  </button>\n",
              "\n",
              "<style>\n",
              "  .colab-df-quickchart {\n",
              "      --bg-color: #E8F0FE;\n",
              "      --fill-color: #1967D2;\n",
              "      --hover-bg-color: #E2EBFA;\n",
              "      --hover-fill-color: #174EA6;\n",
              "      --disabled-fill-color: #AAA;\n",
              "      --disabled-bg-color: #DDD;\n",
              "  }\n",
              "\n",
              "  [theme=dark] .colab-df-quickchart {\n",
              "      --bg-color: #3B4455;\n",
              "      --fill-color: #D2E3FC;\n",
              "      --hover-bg-color: #434B5C;\n",
              "      --hover-fill-color: #FFFFFF;\n",
              "      --disabled-bg-color: #3B4455;\n",
              "      --disabled-fill-color: #666;\n",
              "  }\n",
              "\n",
              "  .colab-df-quickchart {\n",
              "    background-color: var(--bg-color);\n",
              "    border: none;\n",
              "    border-radius: 50%;\n",
              "    cursor: pointer;\n",
              "    display: none;\n",
              "    fill: var(--fill-color);\n",
              "    height: 32px;\n",
              "    padding: 0;\n",
              "    width: 32px;\n",
              "  }\n",
              "\n",
              "  .colab-df-quickchart:hover {\n",
              "    background-color: var(--hover-bg-color);\n",
              "    box-shadow: 0 1px 2px rgba(60, 64, 67, 0.3), 0 1px 3px 1px rgba(60, 64, 67, 0.15);\n",
              "    fill: var(--button-hover-fill-color);\n",
              "  }\n",
              "\n",
              "  .colab-df-quickchart-complete:disabled,\n",
              "  .colab-df-quickchart-complete:disabled:hover {\n",
              "    background-color: var(--disabled-bg-color);\n",
              "    fill: var(--disabled-fill-color);\n",
              "    box-shadow: none;\n",
              "  }\n",
              "\n",
              "  .colab-df-spinner {\n",
              "    border: 2px solid var(--fill-color);\n",
              "    border-color: transparent;\n",
              "    border-bottom-color: var(--fill-color);\n",
              "    animation:\n",
              "      spin 1s steps(1) infinite;\n",
              "  }\n",
              "\n",
              "  @keyframes spin {\n",
              "    0% {\n",
              "      border-color: transparent;\n",
              "      border-bottom-color: var(--fill-color);\n",
              "      border-left-color: var(--fill-color);\n",
              "    }\n",
              "    20% {\n",
              "      border-color: transparent;\n",
              "      border-left-color: var(--fill-color);\n",
              "      border-top-color: var(--fill-color);\n",
              "    }\n",
              "    30% {\n",
              "      border-color: transparent;\n",
              "      border-left-color: var(--fill-color);\n",
              "      border-top-color: var(--fill-color);\n",
              "      border-right-color: var(--fill-color);\n",
              "    }\n",
              "    40% {\n",
              "      border-color: transparent;\n",
              "      border-right-color: var(--fill-color);\n",
              "      border-top-color: var(--fill-color);\n",
              "    }\n",
              "    60% {\n",
              "      border-color: transparent;\n",
              "      border-right-color: var(--fill-color);\n",
              "    }\n",
              "    80% {\n",
              "      border-color: transparent;\n",
              "      border-right-color: var(--fill-color);\n",
              "      border-bottom-color: var(--fill-color);\n",
              "    }\n",
              "    90% {\n",
              "      border-color: transparent;\n",
              "      border-bottom-color: var(--fill-color);\n",
              "    }\n",
              "  }\n",
              "</style>\n",
              "\n",
              "  <script>\n",
              "    async function quickchart(key) {\n",
              "      const quickchartButtonEl =\n",
              "        document.querySelector('#' + key + ' button');\n",
              "      quickchartButtonEl.disabled = true;  // To prevent multiple clicks.\n",
              "      quickchartButtonEl.classList.add('colab-df-spinner');\n",
              "      try {\n",
              "        const charts = await google.colab.kernel.invokeFunction(\n",
              "            'suggestCharts', [key], {});\n",
              "      } catch (error) {\n",
              "        console.error('Error during call to suggestCharts:', error);\n",
              "      }\n",
              "      quickchartButtonEl.classList.remove('colab-df-spinner');\n",
              "      quickchartButtonEl.classList.add('colab-df-quickchart-complete');\n",
              "    }\n",
              "    (() => {\n",
              "      let quickchartButtonEl =\n",
              "        document.querySelector('#df-7a9d2ee7-f6a0-4bc0-9caf-f8b395ecfb1b button');\n",
              "      quickchartButtonEl.style.display =\n",
              "        google.colab.kernel.accessAllowed ? 'block' : 'none';\n",
              "    })();\n",
              "  </script>\n",
              "</div>\n",
              "    </div>\n",
              "  </div>\n"
            ]
          },
          "metadata": {},
          "execution_count": 77
        }
      ]
    },
    {
      "cell_type": "code",
      "source": [
        "df_car[[\"carlength\",\"carwidth\"]].plot(kind=\"scatter\", x=\"carlength\", y=\"carwidth\")"
      ],
      "metadata": {
        "colab": {
          "base_uri": "https://localhost:8080/",
          "height": 470
        },
        "id": "bmfdA_WH74tu",
        "outputId": "84cebc83-73ff-4155-bed2-f927ddf3f1fa"
      },
      "execution_count": null,
      "outputs": [
        {
          "output_type": "execute_result",
          "data": {
            "text/plain": [
              "<Axes: xlabel='carlength', ylabel='carwidth'>"
            ]
          },
          "metadata": {},
          "execution_count": 79
        },
        {
          "output_type": "display_data",
          "data": {
            "text/plain": [
              "<Figure size 640x480 with 1 Axes>"
            ],
            "image/png": "[encoded data removed]"
          },
          "metadata": {}
        }
      ]
    },
    {
      "cell_type": "markdown",
      "source": [
        "seperti yang terlihat di grafik scatter plot diatas, ada korelasi positif, semakin panjang mobilnya, sepertinya semakin lebar juga mobilnya.\n",
        "\n",
        "angka korelasi r lumayan tinggi dan positif di 0.84"
      ],
      "metadata": {
        "id": "gVJMIJXw8UGU"
      }
    },
    {
      "cell_type": "markdown",
      "source": [
        "apakah mobil semakin panjang maka semakin mahal?"
      ],
      "metadata": {
        "id": "N4XH4vKD8f8b"
      }
    },
    {
      "cell_type": "code",
      "source": [
        "df_car.columns"
      ],
      "metadata": {
        "colab": {
          "base_uri": "https://localhost:8080/"
        },
        "id": "0zYf_VQZ8o4K",
        "outputId": "5c35872b-6bda-4c59-e797-aed06b5b79ce"
      },
      "execution_count": null,
      "outputs": [
        {
          "output_type": "execute_result",
          "data": {
            "text/plain": [
              "Index(['car_ID', 'symboling', 'CarName', 'fueltype', 'aspiration',\n",
              "       'doornumber', 'carbody', 'drivewheel', 'enginelocation', 'wheelbase',\n",
              "       'carlength', 'carwidth', 'carheight', 'curbweight', 'enginetype',\n",
              "       'cylindernumber', 'enginesize', 'fuelsystem', 'boreratio', 'stroke',\n",
              "       'compressionratio', 'horsepower', 'peakrpm', 'citympg', 'highwaympg',\n",
              "       'price'],\n",
              "      dtype='object')"
            ]
          },
          "metadata": {},
          "execution_count": 81
        }
      ]
    },
    {
      "cell_type": "code",
      "source": [
        "df_car[[\"carlength\",\"price\"]].corr()"
      ],
      "metadata": {
        "colab": {
          "base_uri": "https://localhost:8080/",
          "height": 112
        },
        "id": "M4d8wwV_7qUM",
        "outputId": "537a8d59-ca6c-4ffb-f8f1-25e71780d9ab"
      },
      "execution_count": null,
      "outputs": [
        {
          "output_type": "execute_result",
          "data": {
            "text/plain": [
              "           carlength    price\n",
              "carlength    1.00000  0.68292\n",
              "price        0.68292  1.00000"
            ],
            "text/html": [
              "\n",
              "  <div id=\"df-628a0faf-70e2-4112-8ddd-01b72e274f7f\" class=\"colab-df-container\">\n",
              "    <div>\n",
              "<style scoped>\n",
              "    .dataframe tbody tr th:only-of-type {\n",
              "        vertical-align: middle;\n",
              "    }\n",
              "\n",
              "    .dataframe tbody tr th {\n",
              "        vertical-align: top;\n",
              "    }\n",
              "\n",
              "    .dataframe thead th {\n",
              "        text-align: right;\n",
              "    }\n",
              "</style>\n",
              "<table border=\"1\" class=\"dataframe\">\n",
              "  <thead>\n",
              "    <tr style=\"text-align: right;\">\n",
              "      <th></th>\n",
              "      <th>carlength</th>\n",
              "      <th>price</th>\n",
              "    </tr>\n",
              "  </thead>\n",
              "  <tbody>\n",
              "    <tr>\n",
              "      <th>carlength</th>\n",
              "      <td>1.00000</td>\n",
              "      <td>0.68292</td>\n",
              "    </tr>\n",
              "    <tr>\n",
              "      <th>price</th>\n",
              "      <td>0.68292</td>\n",
              "      <td>1.00000</td>\n",
              "    </tr>\n",
              "  </tbody>\n",
              "</table>\n",
              "</div>\n",
              "    <div class=\"colab-df-buttons\">\n",
              "\n",
              "  <div class=\"colab-df-container\">\n",
              "    <button class=\"colab-df-convert\" onclick=\"convertToInteractive('df-628a0faf-70e2-4112-8ddd-01b72e274f7f')\"\n",
              "            title=\"Convert this dataframe to an interactive table.\"\n",
              "            style=\"display:none;\">\n",
              "\n",
              "  <svg xmlns=\"http://www.w3.org/2000/svg\" height=\"24px\" viewBox=\"0 -960 960 960\">\n",
              "    <path d=\"M120-120v-720h720v720H120Zm60-500h600v-160H180v160Zm220 220h160v-160H400v160Zm0 220h160v-160H400v160ZM180-400h160v-160H180v160Zm440 0h160v-160H620v160ZM180-180h160v-160H180v160Zm440 0h160v-160H620v160Z\"/>\n",
              "  </svg>\n",
              "    </button>\n",
              "\n",
              "  <style>\n",
              "    .colab-df-container {\n",
              "      display:flex;\n",
              "      gap: 12px;\n",
              "    }\n",
              "\n",
              "    .colab-df-convert {\n",
              "      background-color: #E8F0FE;\n",
              "      border: none;\n",
              "      border-radius: 50%;\n",
              "      cursor: pointer;\n",
              "      display: none;\n",
              "      fill: #1967D2;\n",
              "      height: 32px;\n",
              "      padding: 0 0 0 0;\n",
              "      width: 32px;\n",
              "    }\n",
              "\n",
              "    .colab-df-convert:hover {\n",
              "      background-color: #E2EBFA;\n",
              "      box-shadow: 0px 1px 2px rgba(60, 64, 67, 0.3), 0px 1px 3px 1px rgba(60, 64, 67, 0.15);\n",
              "      fill: #174EA6;\n",
              "    }\n",
              "\n",
              "    .colab-df-buttons div {\n",
              "      margin-bottom: 4px;\n",
              "    }\n",
              "\n",
              "    [theme=dark] .colab-df-convert {\n",
              "      background-color: #3B4455;\n",
              "      fill: #D2E3FC;\n",
              "    }\n",
              "\n",
              "    [theme=dark] .colab-df-convert:hover {\n",
              "      background-color: #434B5C;\n",
              "      box-shadow: 0px 1px 3px 1px rgba(0, 0, 0, 0.15);\n",
              "      filter: drop-shadow(0px 1px 2px rgba(0, 0, 0, 0.3));\n",
              "      fill: #FFFFFF;\n",
              "    }\n",
              "  </style>\n",
              "\n",
              "    <script>\n",
              "      const buttonEl =\n",
              "        document.querySelector('#df-628a0faf-70e2-4112-8ddd-01b72e274f7f button.colab-df-convert');\n",
              "      buttonEl.style.display =\n",
              "        google.colab.kernel.accessAllowed ? 'block' : 'none';\n",
              "\n",
              "      async function convertToInteractive(key) {\n",
              "        const element = document.querySelector('#df-628a0faf-70e2-4112-8ddd-01b72e274f7f');\n",
              "        const dataTable =\n",
              "          await google.colab.kernel.invokeFunction('convertToInteractive',\n",
              "                                                    [key], {});\n",
              "        if (!dataTable) return;\n",
              "\n",
              "        const docLinkHtml = 'Like what you see? Visit the ' +\n",
              "          '<a target=\"_blank\" href=https://colab.research.google.com/notebooks/data_table.ipynb>data table notebook</a>'\n",
              "          + ' to learn more about interactive tables.';\n",
              "        element.innerHTML = '';\n",
              "        dataTable['output_type'] = 'display_data';\n",
              "        await google.colab.output.renderOutput(dataTable, element);\n",
              "        const docLink = document.createElement('div');\n",
              "        docLink.innerHTML = docLinkHtml;\n",
              "        element.appendChild(docLink);\n",
              "      }\n",
              "    </script>\n",
              "  </div>\n",
              "\n",
              "\n",
              "<div id=\"df-c0251d80-53ac-4603-89c1-39e9ec3173b0\">\n",
              "  <button class=\"colab-df-quickchart\" onclick=\"quickchart('df-c0251d80-53ac-4603-89c1-39e9ec3173b0')\"\n",
              "            title=\"Suggest charts.\"\n",
              "            style=\"display:none;\">\n",
              "\n",
              "<svg xmlns=\"http://www.w3.org/2000/svg\" height=\"24px\"viewBox=\"0 0 24 24\"\n",
              "     width=\"24px\">\n",
              "    <g>\n",
              "        <path d=\"M19 3H5c-1.1 0-2 .9-2 2v14c0 1.1.9 2 2 2h14c1.1 0 2-.9 2-2V5c0-1.1-.9-2-2-2zM9 17H7v-7h2v7zm4 0h-2V7h2v10zm4 0h-2v-4h2v4z\"/>\n",
              "    </g>\n",
              "</svg>\n",
              "  </button>\n",
              "\n",
              "<style>\n",
              "  .colab-df-quickchart {\n",
              "      --bg-color: #E8F0FE;\n",
              "      --fill-color: #1967D2;\n",
              "      --hover-bg-color: #E2EBFA;\n",
              "      --hover-fill-color: #174EA6;\n",
              "      --disabled-fill-color: #AAA;\n",
              "      --disabled-bg-color: #DDD;\n",
              "  }\n",
              "\n",
              "  [theme=dark] .colab-df-quickchart {\n",
              "      --bg-color: #3B4455;\n",
              "      --fill-color: #D2E3FC;\n",
              "      --hover-bg-color: #434B5C;\n",
              "      --hover-fill-color: #FFFFFF;\n",
              "      --disabled-bg-color: #3B4455;\n",
              "      --disabled-fill-color: #666;\n",
              "  }\n",
              "\n",
              "  .colab-df-quickchart {\n",
              "    background-color: var(--bg-color);\n",
              "    border: none;\n",
              "    border-radius: 50%;\n",
              "    cursor: pointer;\n",
              "    display: none;\n",
              "    fill: var(--fill-color);\n",
              "    height: 32px;\n",
              "    padding: 0;\n",
              "    width: 32px;\n",
              "  }\n",
              "\n",
              "  .colab-df-quickchart:hover {\n",
              "    background-color: var(--hover-bg-color);\n",
              "    box-shadow: 0 1px 2px rgba(60, 64, 67, 0.3), 0 1px 3px 1px rgba(60, 64, 67, 0.15);\n",
              "    fill: var(--button-hover-fill-color);\n",
              "  }\n",
              "\n",
              "  .colab-df-quickchart-complete:disabled,\n",
              "  .colab-df-quickchart-complete:disabled:hover {\n",
              "    background-color: var(--disabled-bg-color);\n",
              "    fill: var(--disabled-fill-color);\n",
              "    box-shadow: none;\n",
              "  }\n",
              "\n",
              "  .colab-df-spinner {\n",
              "    border: 2px solid var(--fill-color);\n",
              "    border-color: transparent;\n",
              "    border-bottom-color: var(--fill-color);\n",
              "    animation:\n",
              "      spin 1s steps(1) infinite;\n",
              "  }\n",
              "\n",
              "  @keyframes spin {\n",
              "    0% {\n",
              "      border-color: transparent;\n",
              "      border-bottom-color: var(--fill-color);\n",
              "      border-left-color: var(--fill-color);\n",
              "    }\n",
              "    20% {\n",
              "      border-color: transparent;\n",
              "      border-left-color: var(--fill-color);\n",
              "      border-top-color: var(--fill-color);\n",
              "    }\n",
              "    30% {\n",
              "      border-color: transparent;\n",
              "      border-left-color: var(--fill-color);\n",
              "      border-top-color: var(--fill-color);\n",
              "      border-right-color: var(--fill-color);\n",
              "    }\n",
              "    40% {\n",
              "      border-color: transparent;\n",
              "      border-right-color: var(--fill-color);\n",
              "      border-top-color: var(--fill-color);\n",
              "    }\n",
              "    60% {\n",
              "      border-color: transparent;\n",
              "      border-right-color: var(--fill-color);\n",
              "    }\n",
              "    80% {\n",
              "      border-color: transparent;\n",
              "      border-right-color: var(--fill-color);\n",
              "      border-bottom-color: var(--fill-color);\n",
              "    }\n",
              "    90% {\n",
              "      border-color: transparent;\n",
              "      border-bottom-color: var(--fill-color);\n",
              "    }\n",
              "  }\n",
              "</style>\n",
              "\n",
              "  <script>\n",
              "    async function quickchart(key) {\n",
              "      const quickchartButtonEl =\n",
              "        document.querySelector('#' + key + ' button');\n",
              "      quickchartButtonEl.disabled = true;  // To prevent multiple clicks.\n",
              "      quickchartButtonEl.classList.add('colab-df-spinner');\n",
              "      try {\n",
              "        const charts = await google.colab.kernel.invokeFunction(\n",
              "            'suggestCharts', [key], {});\n",
              "      } catch (error) {\n",
              "        console.error('Error during call to suggestCharts:', error);\n",
              "      }\n",
              "      quickchartButtonEl.classList.remove('colab-df-spinner');\n",
              "      quickchartButtonEl.classList.add('colab-df-quickchart-complete');\n",
              "    }\n",
              "    (() => {\n",
              "      let quickchartButtonEl =\n",
              "        document.querySelector('#df-c0251d80-53ac-4603-89c1-39e9ec3173b0 button');\n",
              "      quickchartButtonEl.style.display =\n",
              "        google.colab.kernel.accessAllowed ? 'block' : 'none';\n",
              "    })();\n",
              "  </script>\n",
              "</div>\n",
              "    </div>\n",
              "  </div>\n"
            ]
          },
          "metadata": {},
          "execution_count": 82
        }
      ]
    },
    {
      "cell_type": "code",
      "source": [
        "df_car.plot(kind=\"scatter\",\n",
        "           x=\"carlength\",\n",
        "           y=\"price\")"
      ],
      "metadata": {
        "colab": {
          "base_uri": "https://localhost:8080/",
          "height": 470
        },
        "id": "L819pETu8lTA",
        "outputId": "3c91a998-f51f-49c3-ee0d-f548d2a1de6f"
      },
      "execution_count": null,
      "outputs": [
        {
          "output_type": "execute_result",
          "data": {
            "text/plain": [
              "<Axes: xlabel='carlength', ylabel='price'>"
            ]
          },
          "metadata": {},
          "execution_count": 83
        },
        {
          "output_type": "display_data",
          "data": {
            "text/plain": [
              "<Figure size 640x480 with 1 Axes>"
            ],
            "image/png": "[encoded data removed]"
          },
          "metadata": {}
        }
      ]
    },
    {
      "cell_type": "markdown",
      "source": [
        "sepertinya semakin panjang mobilnya, memang semakin mahal\n",
        "\n",
        "korelasinya tidak sekuat makin panjang maka makin lebar."
      ],
      "metadata": {
        "id": "69UgQe8q8_Ug"
      }
    },
    {
      "cell_type": "markdown",
      "source": [
        "![image.png](data:image/png;base64,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)"
      ],
      "metadata": {
        "id": "TxpfEwqB9JV4"
      }
    },
    {
      "cell_type": "markdown",
      "source": [
        "![image.png](data:image/png;base64,iVBORw0KGgoAAAANSUhEUgAAAlgAAAGQCAIAAAD9V4nPAAAgAElEQVR4Aey9B3Qcx5Wojbf/27fhf/9699/d57AOu5YsWYkiJQaQBGhlWVo5ypZly7YcJNtaydbasmRbtmUlBgCTEBjAnElgpnsCcs45Ts6xY3X3IDBITKLe6R5yNEQYTMJMz6B45vA0OlRX37pVX4Vb9+Z9CP9BCUAJQAlACUAJrGAJ5K3gb4efDiUAJQAlACUAJfAhBCFUAigBKAEoASiBFS0BCMIVXfzw46EEoASgBKAEIAihDkAJQAlACUAJrGgJQBCu6OKHHw8lACUAJQAlAEEIdQBKAEoASgBKYEVLAIJwRRc//HgoASgBKAEoAQhCqANQAlACUAJQAitaAhCEK7r44cdDCUAJQAlACUAQQh2AEoASgBKAEljREoAgXNHFDz8eSgBKAEoASiAREF6N+PcB/LfCJBAu/FRVnnCCV69eXWGyXOmfG1n0KVGnyARXunBX3veHSz8BXYoPhKGm6sqVK5evXLks/LsE/2WtBC5evPj++xdmz56Znp05/957Fy5cvHjx4lJfEyr2y1euXPnggw+uXr2agM5FPnL16tUrwr/LlwWNunR5qQzA69khgYsXL164eCH0W0SvrunS5csfqVPCGhVqBD/44AO+dbrWNC2sS3MytrTKZ4e8YS6vqdOly5c/iL9digOEV69eff/997lg8MLFi++9//758++dO//euXPnz8JfFkrgzNmzgGW8mMfinhiztnswN0ETM7OzUQr03Lnz586ff++99wVkXrrEN19XEm65Pvzww6mpqfcEAL/33vvn33ufVyeoUVmoS3NaAEGFzs3MzPpJtxe3+0k3FwyePXt+vmqFSvzChYuXLvGtWKh3FdlPivE41J0CAAh9u7AuLdQ0neUzhlE+D2bz4naGBWfPnpufsTlfBP8UvwTOnT9//jzfNr1/4cKVDz6IUXPCt8UHQpvN9uvfvDI1M0sBBv6yWgIYhesdfUebf/zu6bzt1XkVui29eqWf8Eb/KJIGU9MzZ8/xWnfh4sVLQuOVMAt/8fOf641mCrDRXwqvZpcESAACpN/sGmkc2qnueatpeJfJOYSRAZrhFvwQQZ2E7tWlS4l1rT744IOLFy/m5eUt2TSRNGX3GTvHTyLdf9L1bR8xNwdIP0nTC2YMnswuCbBc8Oy5c2fOnr18+XKYcDEexArC0ISzzW5/6+13pmfP0AwLf9krAQoAd8AmV98kRdYo1FsU6kIZuqFYlTdkaiABFf27GJYNBoMzMzPnzp2/cOHi5cuXP4i//xVi5+t/+IPZagMsF/2N8GpWSYCjABg2N5RpN5SoviBB7ipR3bSr5tFBYw0FaJph5n8LxwWnZ2bPnD373vvvX4qfhaHh4PsXLmxYv2EqatNEAtru0x9sfHp7dZ4EubtE9cViVV7b6JEA6Z+fK5GcoQCgeKFdG3iIJFfizAZgWJbjWI67ePFijPwL3xYTCAVV4yffLRbL2++8C0EoTj2IPVckoBuHSiXIajm6SYqsLlHdIkHuLFbefLrjFVfAGi0dlsNwEsdJwLAzs7Pnz7938SLfi4+XhaH7//D730MQRpN2FnY3KYbxYLbKuifl6CaFujD0kyB3H2z8idk9tGCnB8MJwLBTM9Nnz50Lda3immP44IMPLl++cv78+SVBiFNEdeerJaovhjp/CnUhr//ovxidg+IrBY4ENBuccfoNRle/xTOMkT7AcARNCFyE45AFJEBQtD+AYRjx3nvvhwkX40HsILxy6dIlk9kMQSi+OrOATkTPJMNOHW99ToKsKtduVHa+3jhUqesrrqz7WmXd/U6/BbDBxR4HLOfx+d0eL06Qwamps+fOvX/hQgKDwitX+En83/3udxCEi4k6O8/zzfegWVOhfSxMQZ436s0VuvuHTPUsNzP/u5wuN4YTLMvNzp557z1+UBgvCC9evHz23Ln8DfnRR4QUABLks5EZU6gLi5SfaRnZFyC98zOWwTOkMHruN9QgXW8dbXnheOvLjUOVDp+BYgBO4QsOrDOYW5G8OoATdqfL5facO38+Rv6Fb4sDhBcvXjIaTRCEIin1ZLJB0GTdYMnJ9v+2e40Wz+C4vcnk7rP7DEPmOnfAFiVlwHJOl9tmc/j8AZbjZs+cEaazLl+9Gt/qdGhE+LvXIAjj7sREKR0RXOJBOGBCKnSPR/JGrt5cri0cMNYuCEKTxer1+SkaTM/M8HMMly7FNcEQWiA8c/ZsLCAsVv1dZMYU6sJi5edaR/f7CY8IpPeRMjDs1KBJV669T4KskqHrpMg9UvQutPsdp98oMPKjO0WV7QxmBrCcL4AZTRaL1Xb27Nkw4WI8iA+EBoPxnXfh1GjWayEFgBeze3HngFF9rOWVg43PH2n+VdPwXi/uiK7KDBe02p1Gs8Xt8dIAzMzws6OhEWHsvfjQog4/InztNTgijC7wrLvKLz9j1nJ+RFgQRo4UWXuw8ccGZ+/8z6EAM6E3uNwegqSCU9PnBCOsK1euxNh+ffjhhx988MGFCxdnZ8/k52+MPiIkAKnq+oMEWR3OmFxdUKzKMzqH52cso2c4EpAHG3+iUG/+KKv8VPP6Pr2WZhjIwvmlA1jO6w+MTxr0BtPsmTOx60/ozqVBGNo7ePny5QsXLur1BgjC+WWQjWdIQA6Y0FLNFhm6Vo5ulKHrZei9dQMKH+6K8jkMF7TY7HqDyelyUxQ9Pc134UMGDrFvKxQWdS5fvfrha6++CkEYRdrZegmAXn21RPVFGbpBWIReW6rZ0D15asEFQgowYxOTDqcbJ0guyE+2X7h0MUYQhrc1X7hwYWZmduNSICRpwuEzKjS3SFR3CTq/YYcyr3l4f4D0iUrUgA06A4bdNU+GKRg6KFZ9umNMiVMYRvEmuKLKc8YzE1q1GRkbH5/Uz8zOph6EH3744dWrVyNAuBUay2S81JPPAAWYCt19kRYNcnSzDP2i2TUKFrfRYLig2WobnzQ4nK5IEMY1lyWMCCEIs35eIYoS8uM8e/vJ9hf31X/zVPuvxm1tFMNQDJj/CAWYkbEJm90pgDB49txZfh9YPCPCK1euxAhCmmECpM+LOWsHdhxqevp463P9Rg1GBsRmfgLYoBuz7K751lwQKj/RPloFWH7+eb4kV/gZwHJur39oZGxsYhKCMJcbl5QqOmf1jJaobplT04qUn+zVK0l60R0UDBc0Wazjk3q74wYQxj4vGupXXbkCQZjjuopRfmEXGqAAIGhiMe2lADM8Om6zOzEM57jgmeUFIS9zimF420vATzASgBQbBUOC4oIzp9tfjayecnRjZd3Xx2xtLDe9mDBX8nkBhL6h4dGx8cmZGTgiXHw0s5K1ZP63uwPWEtXN12tagbCiU1Ck/NigqV7Y77VwM30NhBMQhAvLZ76c4ZnoEkg/CKPnRyRXCZp0Byz76r9Xqrm/lN/pu6VC+1D72DGaYUmapMACY2uR5DxT2YAghE1SIhKgADjd/nKp5kuVtd/dX//c/vqf7K55ak/tEw6fOcr2CQjCTNXzXH0vBOEiJcsRNEkxdNvYPrTnTV3f9nFbC09BQIlzCLvIVyTSNCWWFARh+mSdWAmJ8ymcwh0+fcvIXrt3lKBJjArYvKMOnz76LiUIQnGWZvbmCoJw8bLjKEADluOCsyw3TQIaInBxWbEQhBCEiUmAoxjG6bfUD5bua/jKoabvdY6fcAds0WddIAijVEV4KQEJQBDGLDRoJhqtoYMgjCadmJVsxSVCAdrhM1bWP16k/LQM3SBF1hUp/+Zk268FzzIcy02HfnMECEE4RyDwzyQlAEGYpADh4yEJQBCuOIalRPUJmtT1bStW3Rr2uyhBVu+t+5bTb3b6DUOmpn59/bC5xeGbZLmZ8DARgjAlwoeJhCUAQRgWBTxIRgIQhBCEiUiAAqBUc2/Y/Ycc3VShu3/C3jVu7ajq+L0Mvb1I+fcK9Rpl559MrkGGnQrpKARhMnV1+Z/lsm6fNQTh8mtFIu1D1uUKgnBFFHPK9ZICYGfNffLrPpwkqttq+xV238Sp9t9LkbtCgJSrN8vQe0+1vxogvaFBIQRhygsidQnyO9YpBoCs8jkCQZg6BVjRLSEE4You/oRrEU7h7WMHdyg/EZoaLVL+w5CpZchUu1P3eJiOobgBe2q/NW5vEUDIQRAmLPDle5ACNBec9RHOIbNu0tFOAZrJnj3XEITLpxgrKmUIQgjCRCRAAcZPeE+0vbCj+mMydN3Wqrxhc0efAS3Xfik8Xypsty/YqXusW3+K4fjZUQhCsTUuPPZYrn3s0MGGn+2u+fqe2m+faH3N4OxhuVmxZXXB/EAQLigWeDJeCUAQJoKBeKWcXffzUeZZluGmKAZE8ZdGM2yA9PUbUVXX79Q9f3b49KOWxj21X5erPwqpKldvrqz9jjDO4AcaEIRi0wSOm+0YO7xT95gwjuc9BMnRDSdaf+sKGMMmTmLLc2R+MgJCPuw7ACw3EzKNJmi4Sz3rW1EIwqwvwsh2IfljwHJGV6+27+2qjt+0jx/wE54onmIohsFIjKBJ4UcQNK7sfFOObrjueo2PMK7u2coFrw0vIAiTL6AUpiCELMcPN70U2XcRBvQbWkeOhEsthW9MeVKZACEf571HX7W75okyzQMn219y+AwETab802CC6ZQABCEE4UcSACw3YFJLkFVydJNcvVmC3H20+UWrJ1pAiTnK6iNcys4/l2u/XKZ5sEL7mLZ3K80AfogpOHGFIJwjrsz+CdgpV8B0oOEnkcu6CnWhBLmtrr8SgnDB0gmQ3obBsiLlJ0O9PTm6qViVZ/VOCj6VPqpKCz4LT4pWAhCEK013GZrhBMvAuZ4mKEAbXb0ydH3keK5Y9dna/nKM9MU4UUbQJMvNOPyTg2a1G7Oy3AxBEWGjfAhCUTUEgA16MOvBxuduHBEWSpG7Ggb2QRAuVFiM1TNRpMqLrCNSZN2x1p/ivJ6LojERqipfzUWSn6zIBgShKHQ3bbqCU5gPd7sCdnfA4Se8FGDCr2a4YO1Acan6S5GVXIZu2N/wHb2jZ8GwqOFn5x7wQWqo+XOqEIRzBZXpppMLnqkbKC/VFF4fFPJrhPsbvj/p6Azv/hRbniPzk+ap0QDh7Zw4Wqz6fGQdUagLi1X/I0BikRlL/zEJaIz0u/zWYUuD2TXiwz0kTUVW8PRnKYveCEG4UkBIAYDT+Kil9XDzD4tVeTtrCuoHy92YQ4h3yuOQ5WbUPW8KQVv4tb3QT45u3F376IS9K/5mcYEOKQSh2JoGCgAf4dD0Fu+qeVyGrlKoeQr2G7SAZbMifGu6QUj6O8ePFis/F64goYNiZV7GQejDPa2jB+Xq23dU/83WqrwTrS+YXcNZUYhiqBQQhCsFhDTD9Bs0JcjHpchawThw4w5lnrqnyEe4BUXkKAYMmWvmTI2WqG473f4Hh8+QEmWFIEyJGFObCGC5AOkdNOmahw+1jx2fsLcDlotxJjy1OUkgtTSDkGZYu88oQ/9dhuaHWVis/A9l1x8xKpMjQoLG28eOlqj+WY5uFDK2RYKs3l37kBd3RYkPmoDAc/URCMIVAkKOoPEK3QORm/zk6OZSzdpRa3soaDUfqAWQSNfbRcp/kiL3yND8EtWtFbqHhkz1IEUzeBCE4mxHQpsBuOAsF5wFbDBbKMjHi097hHrBlcRhufqOYuVnJao7i5R/d6jxJzbvRNgiLP1FDFjO5h0/3PQjKXJvGM8KdaEUWds2tj+DGUu/KBJ+IwThigAhYIM272ip5sHIeqJQF+6ozuudrGHYYFiB3AFz53jVibZfVdY9rundMWHvxkivMH3KJr/8DkEYljM8SIkE0g9CCjAYGRi1tNYP7lT3vNM5ftrqGRVC/S2wFpCSb1wyEYadMrlGKnSb5ehHW3hDfp20/e8AdkU0cUtKKfoNEIQrQktC9oFydPMcEBYp8/oNdSG3LyFFAQxLAMLmnbR6xn2Ei2aAwdmtd3YRNEYzH1nWRNeqxa5CEC4mGXg+MQmkH4ShfDJs0E96nH4jSZPx2ZGlaHLlRnHxI8JjLT+XImsiK7gMWdc5cQQuE94oq4UbfAjCheUSi+yy6x7Acmj3G5GTJ1JkzYHG75vcQ/PMO3ngETSpd/Qda3l5T+239tX/4HjLr43OgSQrFQRhdumM+HObKRBel0yyXcPr6STbCpGA6p6okiCfvT4o3CJF7t2pK8QoDBqOxiJkCMJkVTAWKYvhHgrQPtx9rOXHRcp/kSJripX/UaG7b8TcsNiEJ0b6J+1tQ+bahiHFrppHi5Wf3l37VZtXn8ySAwShGDQhl/KQaRCKpfXgfTxRWNvYYSn6mWLlv22ryjve9jOH34TTeC4V9/J9CwShWFR5+co4nDIJKJwiJh1dDUPyfqPKi7tIQC1oVEYxTID09Rmqew2n3AFLgPQqO98sVn1C17cNowLhBOM9gCCMV2Lw/ugSgCAMy4cCNEGTHswxYe9w+S0ETQiOgsUyZg3nU5wHEIQrCIQhFSQAGaD8wpwJH3pg/o8E1LC5pkxToBA21+/UPdKjV3ow6/GW3x5o+GYyrqQgCOdLG55JRgIQhMlIDz4blgAE4QIkCEtnBR7gFOH0G+Xqa8F1edszdFOp5h6Le7zPgFR1/jcE4QrUCtF+MgRhAkVDAooEwIPZ9Y5Op99E8kNJsfiHi/45BE2SAFg8I3pHFwVApPvG6A8ueRWCEILwBgkANqjq/r3sxggSJapba/qlRlfvmLUpQPqX1KrFboAjwsUkA88nJgEIwnjlxnuYorCa/hIJcnOJ6pZi5b8da/mpj/AkaQcXbzZivx9c843MUgyweSf2NzxVorqpRHVruXZz18RxIZ0UbFyBILwBA7EXT67eCdjgsdbnr9ueXXO0JkHuVna9bnL1CzsoElc7CMJcVZuEvwuwQeGXoFJBEMYreRJQdf2lMvSjKR8Zmn+k+TmhaotrQVHw/+fyYvzPR3gwyn+s9Zdh11dydFOZ5r4efRXDTccrhPn3QxBCEM6VANL9J8EN20ceR4tVN9X0Sby4I8luIwTh/Bq4ks94MJvVPWl2jVs9E37Cm8BGVQjCuPQHsJze0bm/4Zk5Uz7l2kcHTOrMugWY9yGMw2esG5Dvq39iX/0TdQMKh884am3eW/dUeK+kDL33WPNvAqR3MdP3eWnObevCN0AQLiqasIxW1AEJKLN7SKFeJew4LBAcNa2Rq++csHUn0E7NER0E4RyBrNg/KQCcfrOmZ5sU/fS2qrxy7fqWkf1e3B2vdzcIwrhUiOVmBow1ZdrN14ONXOvslmkeaByuYIMzodQowAA2yHLTIeeLcb0iJTdTAHhx14nWl7dX/5UMzZeh+UXKj1fW/acPd7eN7i/V3BdioRzNP9z0gs07IiA8qZYcgjAp8aWk1Jc5Eea6g7Q4vrTfoD3Y+AMJ8vFi1f97sPHZnkklRvrn7buPI8HQN0IQLnNZx10iGcoPH+S9uvMPO5T/KlfznS3Bse0/dYwfx0hfXFmCIIxLXIANjtva99Z/Z86IsEzzcJ+hOrTwARiOpEmbd3zc1jFh67R5xxluOt4OSly5mn9zgPD1TFZtq8pTqLdcH/9tKVJ+onlktwezlmkeCZ2UoWuPtfzGfy1sQFLKD0GYlPjmF6FIzlAACNF3gdk9ZHT18tEBYw7USTGAYYNm9/CIuW3Y3GZ2j5CATJ6CNMNCEIpEPTKbDQKQRmdfierfrrdx/LhEiqzbW/91h88Ul8cyCMK4ipJiGILGtb0Sieqm8KBQiqw53PTjAOnlGw0+FImvV48ebXlxV83Du2sfPdH6mxFLU6Q74rjemNjNATJwpPkHc2gtQzccbv4ezXDl2sdC1uxydF3r6CGWuzaQTexdoacgCHMShAzNMHafvm6g7Ejzfx1u+jnaXWRwdMcFs/DcSFxPRddFCMLo8lkhVzEKaxndI0XuiQShQl24rTrP6tbHpW8QhAnojNNv0fZtK1b9XZHyX7dV5VV3vGr1jNMME+orj1iaK3QPSpBVcnSTHN0k5cM5PWHxjCzoeSOBt8fyiJ/0oj1vSJC7IzVEhq4/0vJDgsZLVDcXKf9Brr6tZWRvIBUzVTTDQhDmIAgBG3QFLFUdr8rQ1TJ0nQzdIEVXVdY9ZXYPJuMgLRYNjn4PBGF0+ayQqyQgJ+wdxcob4rzL0Y27au53+MwQhMuqBhTDUAD4CY/DZ+03qG0eoxCzkJ8yohnWjVk1vdslqi/eSKANmt530jkoxCl83Na+vTovIhtb3j2dN2xuxCls0t4zbG50+CwB0heXtkQRLARhDoKQAnSfQVui+kxk9EEZuu5k28uxT5BGUZqEL0EQJiy6HHuQoMnKui9LkfXhlm5H9V83Du3y4s64bLLgiDBRxeAAG+RXTFhOaBNCGycYm3f8VPsrc6JYKNQFx1p+kV7DGSZABjrHT22vzpMgd0uQu4tVf6vr2+HDXTTDCCyn45pCX1JKEIS5B0LGjVm0fdtLVLeHW5nQgQxdm6oO1JKKteANEIQLimUFniRowuk3761/rER1ixS5t0T1GVXXG+6ALV47eAjCFCoPxTBOvxHtfluC3BnZdMjVm5Hu19MLQpZmGJwmTO7BpuHy5pGKSUdXgPQnbx26mLggCHMPhKwPdzUN7ylW3RSpzQp1Qbn2PgjCxWoCPJ9mCYS8Qk/YOzrGD9m84yQgE2jmIAhTW2qA5QaNdXL1qpA1b7gDbXL3ETSZ2nfFkhoJ6ADlD1B+wZvaMu73hyDMQRAClhu3dUnRW8KGYYKF+oaagR2pnU+IRZUj74EjwkhpwGOaYUmawmlMWLpOxLkMBGFqtUgI5+RrHt5fqtlSpnmwTPNgqfq+IbMusx3o1H7jgqlBEOYgCGmG9RGuhsGdZZr7FepNcjS/VPOlE22/wmlciMySsU+GIFywEq74k4kgMCQ0CMKUK4+w84o1uwd6Dae7Jo95cUfOUxBajWYMCSlX3zkJAnYKp/FhS42y8+2TbX9oGt6VcQrCfYRzygj+mbwEIAiTl+FCKXDCZglAAToBdxwLJSj2lhaOCMVeQglrFQV4w6pg8Exw6gwXnE2zb4gFsw1HhAuKBZ5MWAIQhAmLLrYHEx+sx5a+WJpfCEKxlAQNGIb37zfDcjPCSl4cK8OClUEc92dKRyEIMyX5XH0vBGGulmyavwuCUBQgJAFN0oTe0dNvqOs31Jlc/M732KbmOZabcvgNRlc/RvpZbiadDiDiVVYIwnglBu+PLgEIwujygVdjlAAEoShAiFFY8/C+ffVPlSCfKlF96kDDD4fNjQSNRy9Fhpv24Lauierqjj8fbf6Frk8xbG4ELJtksKToL03mKgRhMtKDz86XAAThfJnAMwlIAIIw8yAkAT1gVEuQz4djTkqQVTt1Xza7RqKUqLDDxlvbX6ZQr5civCs1CXLHntqvDZpq0r71NVYZQhBGKVB4KQEJQBAmIDT4yHwJQBDG2ojPl12qzpCAPtL84zAFQ5tYi5SfahmpjBJhhOGmRi2Nu2u/Lkc3hjfOy9GNR5t/hVMBWvAcmKocpiodCMJUSRKmE5IABOGSmgDYKWGRZaWYvSwpkAVvgCDMPAgpABTqVZF+QRXqQglyl7r3LTdmW7DYaIblgrP1A/ukyF1hCgoHm/fUfmvU2igYPYtO9SEIFytNeD4xCUAQRpcbG5yx+Uadfj1J85HUxGxAEP1DlvsqBKEoQHi89bk5wbeKlZ9rGz0QID2LaQAXnG0ePiRX3zsHhJV1T+sdnSFf8os9m6nzEISZknyuvheCcLGSZdgpo7NnX/33d+q+UqH7yqHG5yftHekPsbtY9sR2HoIw8yAkaNzg7CtS/ksYaXJ0Y4Vuk90bLUgpYIMT9rZ99d+Vo5vCDyrUm0+0vUqzbLzOi9OjlxCE6ZHzynkLBOFCZc0RNGH1jpRrr0VyF8LY5h9oeMbg6GG46YUeyXwzmNlcQRCKQgMICh80aSq0D5dpHirVPLi/4WmTa4igo7kh5jfIs2zj0J5y7cPCtGpBqXpLZd13Dc7uzKpUlLdDEEYRDrxEMxxBkyRNkTSN0zhOLWE1TTMsBOGCasMFZ1Vdf1Kot0R0kQtLVJ+vH6hM2K3rgi/KmZMQhKIAoaBPTID0DpiQcVsLCSgKgCV9wZC87xi211B1vPXXBxp+hnS/6QwYxNzjgyDMmYYj5R9CMQwJ6FFLU3Xnbw83PVPd9YrNO0HQRPQXQRAuKB8uOLun9pk5ZgdSZHVVx+t230QCUT4WfEsunYQgFA8I+RBcPAIZOvbYpLyHXJbjgrPBIO9HLbM+tZesGBCES4poJd/QOXFCoV4rRdbI0HwpslahXj1o0tJsNJsvCMIFFYYLzh5q+kXkcFCwv7td21vsw53XTcr5CLcLPr4CT0IQigqEobW9aDU/q3UUgjCri2/5Mg9YzujsO9DwrIznX2HoJ1dv3l37DT9vL7Zoew1BuGChADY4YFIr1BvCBgQydH2ZprDfUMNyMzTDeDCb3af3Ex6GnYI4hNEnxEbBHM8PBOGCzRY8yQVneiZRufruObN5FbrHh8y6KMtaEIQLKg+/zgrIxsHK3bWPFSn/sVj18Z26R1pHDmGkP0D6Ri1ttf2yqo5X20aPmlxDFLP0KsyCb8mlk3BEmOPsEZWyQhCKqjjSlpnQZh42OMMFZ7ng7Pz3csHZrglEit42F4TaxwbNGsFl4MLTJBCE84UZPkPQxJi1rWsc7Z5Qj1paMcpH0mTb6GE5emex6iYpsrpI+fHKuieMzj5xGpmHPyQNBxCEEITpkwAEYRqqtNheEQr0avdNdE1UNw8f6xg7ZXT1zvEOH54alSKR+2ILKuue9OKOKHN3EIRRipsCDMtNc8EZNjjDcFMMOzVh796peyjSiZUM3XCk+WdRxtxR0s+lSxCE6cNALulNYt8CQZiY3LL6KZabMTgHT7S+rFCvK1H9hwxddajxp6OWRoYNRnwXQwG6c/y4HL2rROt0p1wAACAASURBVHWLDFlXorpdht46am0RFggXHg7C7RMRAly6HWPYYK9eV6T82/Aq7PWDLzn8k7HFuln6LXFlSTw3QxDmbNGKR8nCOYEgDItCOAi37+GDHNRGd8CCdr8rQW6/Pu1ZIEM37K172k+4I42cARvEKVzv6KsfVBxt+XH9oMziGcdp7EaJzZVPFo0IARvMLGxYbrpPX7e9Ou86/64ZJZVqHnT4IAg5t9c3NDw6Nj45MzP7YZz/8mK5/+rVq5cvX75w4aJeb3jn3a3Ts2eiKze8mqsSgCCMLFmCd//IMdwUAcjI87l0zLBTk/bu3bWPR7qGV6gLS9X39RtVc2bkAMu7RPHizgDh8+LOWOSQFSCkAM1yMz7C6Q6YWW4mEv+xfGOq7mG4ab2jd3ftYzI0P4KFBZV1X80soVP1gcmkA0eEc/uYyUgTPhtdAhCEIfmQgGK46WFLbd1gSd2A1OweYrhp0UaRjF6m0a8y3PSErWtnzQNhO/5QE1yqub978vgcEEZPasGr4gchw067A2Z1z7u7ar6xU/fVI83PG53dDDu14Ocs60kKAII3ljkqRW8JFQdPRM29Fs8IQedsVyxGkUIQQhCmTwIQhDTDkjRFAbq687fhXnmZZkvr6GHBip2Osd5my22ADRqcvfsbnp7jU75M88CotVEYCic1LSx6EDKugPF0+x9k6Ef7I8s0Dxkz5AeRAoAEdL8RPdz8bIXuQaTndXfAkpM9sHgrCARh+jAQb9nk3v0QhDTDstxMy8ieSD+QcnRzmXbzgDG02TmnFFIYhRDto8cV6nUK9WZhmbBAod5yuv23ws7uZD9W5CBkuZnuCZUMvfP6+ui1ZbkDDT9igzMZqeCC70YasMGQHSlOLeHELiOZTP9LIQiTrYrpL7PsfWOWg5DDKRwjsQC/K5nfmAx471+LOj1ZrJgYLri/4Ufh4WDooER1U/3AHhKQgElqhLTYSzN7Hqex1tHD++q/v7vmycra76l73qEYOiVNsJhBCBgOpwI1fYoS1RfnFPeumm/afWMZmSDNrCaI9u0QhBCE6ZNAVoMQp3Gze6Sq89cHGp481PS9zvGjfsK3pGP0OTUfsEFXwLyr5ptzWkaJ6nZtryRAegW4pq9E5mRvmf6keIe4vLWI3tHpxixcMGQwkgLkixyEJE3WD+yRILfOKe7dNU96MGucJip8lyvOR3JNkZZJP6GLNagoaZVA9oIQsMFBo7ZUky9F7pGhG2To+hLVvys73xCsDOJr0INTZ482vyTn5wmvTZQp1AUS5AutI0cBH0gyl39CvJTI7YORH8sIw+v4RthiBqEwDT49YmnZqXtEhq67XtwFMvReTc/2BT3sLFL6DGA5jAo4/AaH3+QKWIRY82CRmyNFCo9jlQAcEcYqKah2yUsga0HI+An3gYafyiPszuXopp26R/sM6njjXgEmOG5rLdfeJ0FWydB8GZovQW4/2vwLs3t4BcyVLdBpACxHAsrhN5g9w26Mb+Vjn3AWOQhphsEoX/vYsZ26h0tUN5Wobpar71R1veXFbLGbqFAAeDFn10TVibZfHWp6Bul+c8zawQcrBblmWpV8C5NwChCEEITpk0B2gpCjGDBird9T++Qckwcpckf9wF4uGN++WN5agQHD5mZl5xuVdf9ZWfeEtneH0TlIATqKL7GEa7i4H+RHgRgV6NUjys4/H299Ud2zfcBYg1O4MOe8ADXnfI7oQcgy7BRG+sas7U1DB+oHdvUbat2YmWHjCBMfILxNQ7slyL9JkLtlaMjnzheGLQ0rT1uWsaWCIFxG4c6ptOE/r/sA5B0QL6LNXMb9UIRzm8KDbAUhAEZXT2Xd0zfOZxbK0LsbB/fHC0J+B4Www9rh1xudg0bngAe38ZNd8dvdpLBoMpUURvrbxw7L1WsEn2pri5SflqB5FvewEJiTWXIJVvwgFATL+/wkaRKnMJabjn28SzMsw02ZXKMK9T2Ru+Dl6MZdNY/iFJ6pUsu990IQphWEgtXAtAez9eqV7WNHuyZOzokpTzH8egBgOR/h8OJ2lpsWJkCW7hpnhWpmJwj5gMk0w5xo+80cb8WVdU/pHV0J2y9QDMOwvCvkrCi75cgkYIMOn1mG3iq08lukyD2V9U9M2vt9uHPU2jRqbbR4hoPBM7kSfYJLwCSYBGTXRPWO6r+/vsR4bV1ZiqyxekZy0rRqOTRtyTQhCNMKQpabsXhGqzr+UKF7pFx7X4X2oUONPze5+oSmlgtt8bF6xpCutw83vXio8b90fcVOvzFnun5ZC0KWAsCN2Q82fr9EdYsEWSUMX1Z1T56Mq3e/ZG1M4gYuGyPpkIDqN2p3VPNuoOXoxt21D1rcYxO21tPtf95b953Kuu8cany+Y+w4v4hIUwsKJ0tGhIk3MoDlhs1t26ryIjeeCuHmV7kCpgTIuqAY4UkIwsR1NH7tYdwBi7pnuxRdLUyyFSjUBXI0f2/dMzgVoABguCmrZ3J/w9NydIMczRdMMwr21T+NU9hiDUH8eUjn9859V/aCUJjPpDAS65o4UTcobRyucPiMJE2JoSWiAE0Ckp9LzELriUl7r9DKFxYp/7FnEnX6J480v8Trv3oz/0M37tQ93jNZvZiNZc6DkGGnrJ7xyvqv3DgbkX+w8ansqvsizy0E4dzGevkKjGGnDM6+vfXfiJzu5x0Qa+7rNVSRgPLhrobBihLVLZHTIFJkTfv4QSInHEBkNQgFxeACpM9Pev2kl6RpMQzCABv04c6O8YPdk8dNrgF+LSp7cAhYzuEz7arZIkXWlWnzrZ7J1pGDZZovRRolydD1p9r+ECC9NFhgZ0XOg5BmGGHcrJOr75Ch6+XqzVLknj21j3hxJ3QQmsK2GoIwjSAUHBDvqnloAQfE+hMkoJx+06n2/5YiayJBKEc3nmh7IeGFqBTqSvJJZT8I06ctsUgbsMFhc014U0epZnPtgCJAerPH7oYhATlu65Spb9tV85DTZ0K7JDI0MjZvoRzdtK/+mTFby4IftQJAyJtWUYCx+ya1fVuPtT7fOrrHT3ghBWOpILHfA0GYvqaNYadM7qGDjd+PnOVQqAvLNA8MW3QkoFwBK9L9Zwly1xwQnmx/KTdWxSEIY6+ZS93JETRpdg8IDjyvGVDI1QUK9dreSVQwTUyfYi+V1Wg5ofgRD23xjDQOyT2Yo2FwV+QXCWuHG442/9Lh11MrdEQYkh4nOChnmGvWc9FEmkxxZNezFGBwCscpwuEzuAM2fm9loqbXEISpUSkSUF7c6Sfc8w2+MSrAT6YR/JQaQWPtoydl6Dp+CZBfBdkkV+cfbXkJCP5EAqS3e7JagtwcYaZfIENXD5gQMidC1kEQprCh4YKz6p63StVbIrtNEmSVsvMNHhtM1ngeoQC/TULwAR2cdLTvrXtaCF4orKDz/nc21/WXM1xwwYnolTAiTKHO5FJSlLADtc+AlOvW76j+X0XKvOrOV51+c8h+7fri/QLT6QsKAYIwWRBSDOMnPJP2rsahisahcqNz0E94wzj04+4xa/up9l8eaPyWrn+7xTOG01jL8OF99T+orHtqf/0PT7f/0Ys7hMBs/N5bN2ZHut8s1WyWoqslyF1l2vuQ7jcJOkc8xEMQLlgJEzvJBWf31T0bSUGFulCGrD3W8pLZPSgac9Y46hcFaMCy7WPHDjT8qFz7QLn2/t21X9P1yXyEczGuQxAmpjw58BROYaOW5u3VeaGVJrm6oER1U8vIPj/h8eIOD+b0Yo7YzccgCOOoqPO1R6Cgt3Fw97aqvBLVrcWqW4qUeY1D/CQ+zbAETdQNKLZW5UmRe2XohiLlp/fXP2N0DQKWtXiGRqz1BmcXYNnwTsHQJkIv7mwfO4Z0bUe6ijsnThA0kUXmD/NFFHkGgjBSGkkeM9yUpvfdiMkDfoJUgtym7tnhxe3ZCEKaD9eAc8EzJldfx/ixjrFjQ+ZaYS5k0X20EIRJalGUx4V9rny0JnHqEk7hB5q+HY5zKUXuqhtQeHGn3t6n7d12qOl7tQMlRueQMKW8dCMPQbi0jKLoCkZh/Qb19uobdvlsq8obs7URgDS5+ouUn4zYALSlSPkZZdcbbsxKMwzFLOQ4g18IARwfq4z3RsG7ngFZM8cVRVChSxCES4oo9hsoAMzuob1135Qgd8nRTXJ0owS5q1x735C5QWi8klLs2LOR6jtDzGO4IO93SXDIEs2jJgRhquXPq03I9ZUXdxqdgwZHv807Dlh+l/NyvCvhNAMkJjS8fP9Phq490vycw2fs1SMydE2J6jbBF91tpZr8YXOjYGm4aF8qlAEIwqTaiwDhP9b6UykSdi0f6pWvUXX/HqcJbd87czrsMjS/su4/Le5QKLLom6CXKLmEFSiDD0IQplb4DDc1ae9Sdr6xs+a+3bWPHm/9ZZ9ey+80yMWghguKDoJwQbEkdVIwSrK4x+r6y/bWfX1nzX2nO14dNNbR1+aukmowk8rYjYFZMBIr164PzYsWKz/VPYHoHR2Vdd+JNEWUo/n76p9xBa4tHEZ5OwRhUuWKU8TBpqfCw/PQgo0UWXuq/Zc4hev6txUr/50PMnCdlDI0f2/9VyyeFRqTE4IwSlVM4FLIY5/TbzI4+o3OAbtPT9LEdTOBpBQ7gcxk5BEIwpSLnfd75zecbPtNiepmGe/ZY5MUWV2hu3/QVMPwgUHEolc4hbePHd6hzFOoC4uU/3PU0tVv0JRr74vchKpQF+yu/cawpUZYY442tIAgnF+uoYFaNKmFtSFA+msHSoqUn4uc/9xR/Y+dE8cw0u/0G5uH96A9bx5ufrZY9S9ydFOR8lNo9zsezBZOYUUdQBAuU3GHfJbGFcBomXKS5mQhCFMucJab7hpXytA7I4kiV28+0PBs2Joh5S9NIEE+OhXuahqqLFLmvXkyb9jUNmDUVmgfiMy2Ql2wq+ZrAyY1BOF8zkU7QwFA8g6r6JAZ55LFQwHg8Jv2NXy1WHmTUAAFxcqb9jV8zeEzMuw0TmMWz4DJ3ecjXGPW9jLtnQcafmh2j4hz8XnJj03+BgjC5GUIU4iUAARhpDSSPxYiAPt0vVKJ6otzDJJ31zzpDBhE5dmDAoyf8FrcY/0Gtd2nN7sH9zc8Gzk/J1dvOtj4nBd3LLnACUeEH3GRYacIGh8wob2G0xP2Vi44K3j4XGJoSALa6bfo+rbL0C/I0C/o+rbbvXouONtvUB1oeG5v3ff31f9Q2fkXq3fET3g9mD3hLZ/Ja3nGU4AgzHgR5FgGIAhTXaAcYNmmoYPFqs/cCMKCXTVPBkivOD17CM53AMNOtY0dlKvvkSHr5OhGGbJWjq4bNtfGMvCAILwGQpabtniGDzX+vEzzUJn24QrtY0j3WzTLxOLKiAIAIzGCpgg+5BjOsFP9RmRXzVdDY8SQZ+1Tbb/34raVTEEhuFrQZLGOT+jtDhdF0dPTM+fPv3fp0qWrV69+GPO/q1evXrly+erVD1979VWz1SbOmpnq5umj7hpMOVICEISR0kjJMctNj1pbdtc+Ibg14K3/Qr+6QanIPRYJfueBxTOMdL9+rOU5Te+b7oCVpMlYxAJBeK2JcfgmjjS/GHbbKPjC3qLp2b6Y2/vFhAtYjqCxw40vytWbwjqkUBeUagrax07Em9pib8nS83BEmKUFJ9psQxCmvGiEWUSmdfRwmWbL9fW2gmMtL5CAjH1/espzFXOCHEZhoSEgCajYA9hBEPIg5IKzbaNHFer86wXPd4Lk6s37639k903EU/wcCWiDs2tv3ffmuEyUILfV9u+BIIQjwpirNBwFLi2BHAIhh1OEn/QKu1+W/vDl1CLejS3DBs3uobpBqab37WFzDcNN43wAnCXWiZYzV8srEwhCXr5ccLauv1KC3BYxhisUTG+/OWRe2vQ2svh58xnfxP6GH83ZQShFVzUM7ocghCCM1JbsOWZohgPstZ94sp0bICRpfuwybmtrGJL36qucfgvOD2uWt+lfMn2S30A/xXIzsSwPLZmayG+AIOS1jQ3OdIyfLNPw8AuzUK7etK/+hzbv2GJ+DhcpWo73fdWzIxRWN5SaDF23t/7pSUcnw04t8lSGlT49ucreqVFRGculp7DCb6EAoADtJzwOn8XhNTt9Fj/hEclWjZwAIePwGZVdfypRfUaiurNY9fkS5J/GrG1icqyYswPBsJJDEF4jkMOnP9rykhRZJbgqKJCh+TJ0bf1ABcu72otbD5x+Q3XHG2WawhLVTRLki/sbnukYO5Ulk+zLiOSsAyFggyQgXQGTzTtp80zgNB6uOSvmgKMAbfNOot1vSJBPbKvOk6lvbRgq9xEeml1GVYlRvDkAQoImGocqS5DPRvTCCxTqe+Pvgme+OGIsNRHeBkHIaw8fBYYNTti6qjv/uKvmy3L1qv0NT9cP7BKcF8dNQX6Iyc24MUvPJNI8dLRl+Lje0U0CUtibmEhqItSbxLKUXSAEbBCn8GFzQ1XH7/bUfflI84+6JqpdAVNi3x75FMtNs8EZNjjDh5dLNIJaZILLd0wxAKewYy0v8R5NhfkSObpJhq6uHZBTgFpye9byZSyUcg6A0OweOtryX1LkhnDECvWWuoGSbPYZm2VUhiAMFRi/PsxyM06/YczaNmisNzh7McqfpLcqlpsJ+Q5m2CmhyVjRFMyu7RMUwxA0MWSqL9MWCD5886XI2hLVJ5Huv+A0njAAGG7aRzhHzC3dE5ruCc2ko1tYDRKvYgA22GdQ7dQ9HjFeKZShG/bXP2t09S0355ZMP9tBCFjO4Ow92PiDSA+ZwnrKFlXX6yvcpGDJ0g/dEGpjueBsMusXEIRzey4MN81yWdBVj1FLRHVbFo0IAcM5fIYTbS9LVHeEl40FP/d3T9rbEzYf8OL22n5Fhe6BYuX/KVZ9Yl/9t9pGjxA8WWONIJrmAuWCZ5qG9giW9B9tKZOrN++ueWLApM34kCXbQUgxjMNvqOr4Y4nqBks9GbqhY/xwLDvB06wPy/a6RPqCFAAB0turR5qGDreOHNM7eigAEttYDEE4F4Thkga8mdxUYmINJwIPIiWQRSBk2Cmze3R37UNzthXL0Y0d4weFUMlxV91g8EzL8EG5Oj/kMl/A6oadui8PGLUMNx0pKPEcAzbYo6+aMyKUoxv31T8zYW/LeEud7SAUCpoZMOrKNJulyJrQrq0S1R0n23+JUYGEJx7Eoz+L5YQPQscwweCZ4NSZYPCMsEUtvr4gBWgf4UG63yrTbi5R3SRF76ise2rIVEdQiSzkQxDOByFH0pTgQwE4/HqM8rPcTA5r5GKauhznswuEFvfYnrovy9D8G0eE+V2TRxIAIWCDftJ9ovW3cybBZOhatLsoOHVmOQSefJoUoDHKf7DxORkajjVWIEPXqHu2CYnH13gln585KeQACEOT8KOWpiPNPxFiKdyq6X3HR3jiNFaf346J+Uxov3UP0vXO8Zbfo91bze5BwUo2js4lH/Z8UCZF7pCjm0M1VIrcs7PmEVfAmoB5IwThXHUh+cXC6R79qb11P6ys/e7++mdbRw/hNJaAcOdUWvhnFoGQYhgPbtP1SYuUn4oILVIgV6/2k54EihKwQTdmOdbyshzdcCNZ71V2bBMtCGmGJQBp9YwdbvpRieo/SlQ3S5CbVV1/ClB+MfQOcwCENMMChsMpzE/4fLjPT/gCZMg6IcOdjASUPMZHcAobNjeUaR5QqDcJ/cKNu2qeMLkG49o9iZGYQnN3mIKhOlWs+lz35CmMDMSYk/BtEIRzQciwU+1j+0o19wuuYQqE//Obh/djlF/kBn7hQhXtQRaBkG+eWM7pN55se6VEdasc3SxD8+Xqu4bMOjLBUN28O+PT7X+RoXPsA/N1fbJgcBlHhPwkf/xbgCK1iKBJEtBm9/Cko8PiGSUBEPzRz607kY+k5zg3QJgeWS3fWyhA4zSO03hsa+ecF3NX6AojFx3k6MbdtY9i8cxqRkaoD/csJchdNf1FPsId78dCEN5QmQHDBUhvmeaRsGT5WXs+rPxX9Y7ejJsGxFu6Yrs/u0AosDDoxR3t4wdPd7xc07fV6Tcls82Z5WYGTZrr3tjDbvyetXmXKzIXCWjAcEZXn2DhyQkzujcovNg0JN78QBDGK7HU3k/SvII5/Ia2sf1tY/sdfgPN8NOeUd5CATBmbStSfiyyjRWC637M5p2I8uCcSziFH299PhzzPJRakfIfx23tBO8NLj49hyCMlBdHAHLUWi+M2T+ykVOoC3dU5/UbGkTufD3esk///VkHQpphSZqPT8mwU7FHqVxMsCSgWG5mwIhU1n13p+4rO3VfOdL8C6Orl+VmFnskmfOADY5Zm3bVPCZFVkmRuw80PG1wdueY8RcEYTIakvyzDDvVPLJbjq6TXfvdUzcgIeloG0wpAIbN9UXKj88BYbHyE0bnQOzmVwHSN2ptliKrwlN3MnT9ibb/8hO+BJaxIAhvACEJqAl7mzAvegMIi1X/Z9DYBEGYZM3JRhAm+ck3Ps7bYQn+izG7b8LumwBx9ltvTC1SdeceA3Zq3NayU/d4eAJKhubvqvmqwdkdeyLivxOCMINlxAh7TCu0j0b4VS4o1z7YPXkyat+O8+LuUs3ayFA/MjS/XFcQe7CI0MIqBehBk3Zf/Q/21H57T+1T1Z1/cAUsFBNtPLqYuCAIb2hBAMNPH+2v/0FkmGMpsvpI83MW92gyGzYXK4AVdX7Fg/Casgk7c4LLqk4MF6zueGvOeqQcXYd2b4/aSN1QHcSvnBCEGSwjhptSdr4jQ9dGju1k6D0nW1+nGCrKsjRGBbomTijUm6TIKhm6VorcXaF9uN+gSmDqHrAcRvkMzi6bdywZUUAQzq35DDs1Ye842PgTCfIFCXK7FLltX/13hkyNYnAolUxJi+FZCML0lAJgp9yY+WjzLyP7c8K2xbUnW18naDxnJkghCNOjUfPfAtggRvlPtP4uYl8NP4smQ9cfbXnZg1uj9PMAGyRoomviVFXHmyfbXlN1bR0y6fi98ImadIVWJRN+PGQZ5/b6hoZHx8YnZ2ZmYw4Tfu3GvFgeuHr16uXLly9cuKjXG955d+v07DIayM0vsATOsNyMydXfMnxU2ytrGT4yae9OYN9YAu/N+UcgCNNTxIDlcBo72fb7eb31tdUdbwLeWXYcG7bSk+fE3gJBmJjcUvIUF5xRdxfJP9pgGgLhuuqOv1Ag2ogw9HaGxyHuwW0kIBk2SYVM8nHeRByCcO6gMGQuyHIzOIUx3NR1T6EL3JYSfVo5iYgehMlWJ/EUJRec7Z6oUqg3hldiZGh+meb+IXNdLhk/ZwSEwjYq3jGKeIo7IzkBbNDg7NtV84SED9qzWY7yznF26r48Zm2NMd7ctTUCEXTLIAij4S2ZsXZGVFPkLxUbCCnAMOxUyM8TFzwT3exb5LKdnz2M8neOn6zQFRQp//8dyr+q0H2pV48QvGuI3GnB0wxCigEUoCYd7eO2FrtvIpckOV9/ljzDu0kD9KSjr7rjdwrNXQrNXSfaXhqzdhCAFK3v3MU+CoIwGggXkxo8n5gERAZC3jBq3NZS01eGdkkaBnc7/HqGFanPzwQEDtipAOm1efT9Bt2IpdXm0WNUIMf6dukEIQkoV8Cs7HzzQMMP9zc8c7jphe6JKpzCoiyGJVBq2fYIQzOMK2CxuCcs7glXwJqlq0gQhBCE6ZOAeEBIAT7MXvdE9Z7ar4Xs1hTqjQcbnrN5R4SwkemTyXI0fIANAvZaQGkhtjBFMUxOttdpBCHfbTrc9LwQuztfjm4UIghu6jfqcCpuh17LUeiZS5OfYBBULghYLktnjCEIs7vJy5z2JyI38YCQYacMjr69dd+MdIEtRzcebnqeCy7L9va0lBTfPRd66GaLZ4ifx2N4XwAx/gRSZtkqadpAiNN4v1EpQe6M3CogRe452vxTd8CWM1a4MapK7t0GQRhrM5F7ZZ/+LxIPCFluesDQWKT835HtmkJdWKZ5yOYby87BE79gY/fqT7e/Uqp5qFz7aGXd18dszQSgohc07yWLDZKAtHgGA6SXYYMi8SMaPduhq2kEIdYyumdOHHkZ73zxcafPDEEYS2GJ+R4IQgjC9ElAfCD8m/kgtHqz0nMCX5MDtiMtP4lsrIuU/2Jw9i2+T5kTvGmTjcOloUh4pZotur7tGCmKyBKxtJvpAyGFdU8eDYUMDOuMAML/hCCMpaREfg8EYfowIHJVSEP2xANChpsetbSXajaEY+QKrVvBTt1X45pOTIPQYnwFTmH9Bu2O6r8ON9OhwL/HW5+LEi+J5aa1vdsV6o3hp+ToWrRna7a4j0gbCEma9mD2Ct2DYZd1CnWBBLm9cWiXF3fGWEYivE3QjdyxIk5YwhCEEITpk4B4QEgzjI9w1g+Uy9Ub5OgGOZovQ9dXaB/tmTwZ3gIlGFjyS25ZMfHlxmzqnr9IeB/EN7jJ3aH8n4vEjeKjBJhcvZV1343wFVkoRzdV1j45YqnPCvvStIFQcL9ODZvrdtU8Wa59sExzX4X2y4JzS2tYYRJuhdP/oBBvGXP6rcOWeot7NED6SUCmPxvieSMEYfowIJ5Sz1ROxARCluGmvbijaXjv0eaXDze9eKz5lT59NcvNhFbIKADcAZvBMaB39LsCdowKRBlXxSbP5bVD8RPulpHKIuVnIkEoRzfvrLl/kZxzFAMGzdrdNd9QqAsinioo027pmjjFBWdj+65M1qB0gjBkG+nwTbaNHWga2jVo0uBUIBvtJCnAuDGHtm9rsepjRcpPFSn/17GWn7kCtkX0JJPlmzYNhCBcEcWcNn2K/iJRgTCUVYYL+gmXGzMTNHadgnyMiAl718HG7+2ozttalbez5kv9Rh1GYYm1FLxnIobfrQHYZAPkRhUvZ3KNlGrWh9ex5OimIuXfd4wfoRaOD8ePCMdsjbtrn7xhRKjevFP3SJ8ByYpYK2kGoSB/hgvOcsFZwAazbtt4SH9I0CLyZAAAIABJREFUQKm63pQgd4Q7QDJ03bGWFwOkN6qC5XJTCUGYy6UrNrUWIQivb4GaCs9/koB2+IwVNQUSVWiacYsMXS9B/mHE0kzEE0GbT5nhKCGwe/ck0jS8d8BQ5wqYhTXI5RgdcjhN9BnQAw0/KFZ9bHt1XoXuvpr+MoHfCwemoQDwE+6Tbb+JDFIhRdYcb/2Vw2dIjPppVrlMgDDrW4xxW+veuqcjFjsLFeqCCt1jfQYlwwbTXIIieR0EYdartUg0KZZsiBOEc3LuJ7yd48d2VP+rQr0lPGEoQdacbH8Ro7A5N0f/k6CJYXPDvvpvFyn/plj52WLV355qf83mnVzcjDMpbRTGKJTROdCnr+2Z0I1Z2/ClRrEMN2VyDZ5q/80OZV6x6t+LlP/fsZYXDM4BIVBiFthQQBBG18D5Vxluqt+I7qp5PHIaQNg4tKVpaDcXFHtEhPlflJIzKxeEWWELkJIyFk8iWQFCH+HS9r0jQe4OU5DfWoBu3FP7CBbniNAdsO2pfTzSgGWH8l/VvW9j5PL5IuFNe1huRvhNLzmqC/kBcfqNY9bulpGDI+ZWu1dPM1njURqCMIHaPW5fYES4U/d4n0EZnhdJINmsfmQlghCwQS44SwIyOHVW2Eq88MRRVperODOfFSAMkL6uyZNFyk9EglCGrD/c/P0A6Y9dsBQAY7a2IuXfR6Yj2Nx/CiPjG1nG/tIE7qQA732N4aaFVUw+XHAWecmCIIy/xHnHC5re7VLeS841Iykpsvp46y8x0hd/aknNYYjndVkHwqQWV0iaYrmZASN6qv2PR5v/W9n59qSjE7Dskh1n8RRYVuckK0DIuyjzW8q0d0uRtaHZUTm6eUd13qilJa4pTQrQAyZNkfKTN4KwcGtVXmAZR4TJNExJVa6MaCYEYQJipwDw4q6GQUWJ6lPFyk/vUP4PtOfPHsyxkpvB7AAh7weZZVlumqDJZGKKMtx018SxCu1jcnW+HM2Xqzfuqnmi31gD+HgicXhlTED54CM0wy4zCLlkdCOygHAKN7r69zd8c0f1/y5Wfk6hvq1XjwgLhPEtm9k8E0WqvEgQytGNlXVxT7FG5g0eR0oAgjBSGrEfU4AmKMKDOUetTe6AHafwuDp5sb8oW+4UOwgJmmTYKZtvrHV0j7bvnSGzlmJoIT5A3L1XfmcYZqnQPh7ZMMnQdUebf2ZxD6/YyfF0aurygZCgCYwKYFQAp/BUrP4yJE1hJGZ2D+sd3X7Cg1N4ArbyfsKt69tWrPx8WOW2VeWNWpoDSc1BLesejGQGlBl4FoIwyfqbRdPgSX5p9MfFDkKWm+mePFGufUiYzi6QqzcdbX7Jg9njj6HKkYDqnjxRqrk/3CqF/CuWaTeOWTuyYtdU9LIU/9VlAiFBk+6AtXPicNvYvkl7B3Gtext3VylpAXI4hWGUn6DxUFKA4QKkr2GwTPBhtqVcWzhiaUy4600BQNCEw6efdLRjvCsQuLbNQhAmrbQZ6L5kKs+h4GsBvobOdaMjdhCa3f2VtU/L1ZvC9JKr12t6i1ku3lg5PAh79afng1ChXj1iaYMgTIN2phqEr5mtVsByfQZVsepzMmStFFkrRW9X92z1YPY0z3WTgMbIwJC5pmm4fMikJSgSv77XArBBnMLcAQvNMCSgE+2Dczbv5Im2/5IgN0tUd5ao/rV5eDc+z4qVYhgBxliA9OE8j+Oby02DDqT2FRCEqZVnrqZGAd5EyI3ZuiZPNI9UmN1DBE2QETgUNQiDwTM1fYpIj8CCIXv+gYYfG5zd8W5MJmna6TdU6B6L3EAjRe490vy8xTO6YneSplP1Uw3C3+lNeoOrKzLegkJdIEW+0DpymI4nFF/yQjC5Bg40/qBE9XkpsrpEdcuumgdMrkHBW1toYMolGdrJ5Tcdb32hRPXFcI9we/VfdU0cC48+aYalAO3FHANG3Ym2F6o7fztmbfMTnkS5mx0DBQjC5FV3BaTAU3DM2lpRs6VYeZMEWb29Oq+68zeRRuDiBuHUGaRrhwxdG678Agg37at/ZtzeItTw+Ka/WG6mebhyZ81jUmSVDL1Xity9U/dYv6GGBFSaBxArQPkWaElTC8I/vv66w+HV9r1TGrHzXaEulCJrTrX91uodTQ8DBBs8h7LzL4I9+jWH13J00/6G76bOHp2ZtPcUKW+wuxEm9r8Qjh1IAeDyW061v7q1Kk+GrJMi9xQp87S92wOEN4fHhRCEK7MlieurARu0uMcq674iRe65jpItJaovanrfClcNUYOQ5aY7x0+Uax8M73cRIsusPdr8S8FVVdzTPhSgAcP2G9XKzq2n219HurYNmuqFNZv4gBpXMcCbwxJIKQivvvvuu06nD+15I9IFjADCtcdaXjS5+tMTUInhpobN9btqHrkxolNhufaRXsPpBLprYXGFDwia7Jo4OX8nxo7qjwWIa3u/AqSve7J6a1VehDS2bK3KG7PGt+sj/NKsOIAgzIpiymwmKQb0G2q23VA1+A6rDL07vLggahBSgPHijtPtr0mQO2R8rJyNUmRNufbBPr1GmMlMhF4UAIJvZcJLOAiaYLmlvW9kthRz6e0pBeGHv33lt1abo2Vkz41eEwslyG1o97sezBru7i2rDFluZshUX6F7IHLKXaEuLNc+3DF+KCXWyBQAI5aW7dWRkCuUqzeXatbgFBH6Oi/uOtL8Qxmy7nqfN1TV159qf4m4fs+yyiEjiUMQZkTsWfVSDqfxttEjRcp/i6waCnWhBFnlxqwhI3NRg1DYeTZl807UD5Tvq39yd+0jJ9teHjDWkYBMctYLMPyaTSrs7BeYAMwqLUlr/lMLwtdefc1ksXhx5+Hmn5SobpWhG2Vofonqtp26x4bNjUIpJNJVirf4ABvUO7r3139Pht4AoXLtYwZnT2Jbfebkga+lmONo8wvhKEtCZIn/p230YNgG1Yu7DjR+W4ZuiKztMnT9yfb/mm8jNyf97P0TgjB7yy6dOR82Nc9ZWZCjm3fVPBDOg9hBSDFAiBtnt7hHTa4hm2ecYqDVeFrpFdaV5A9SDcJXzVYbYHlzSl1f8e7aByvrnjjd8cqwuVEwmEyblBiCJpqH98rQO0MDMoHHNyHdf6EASGD34YJy5qNYuIaOt/5yh5KPDKXQ3N48vM9HeATQ8l/qJzwNQ+U3jhr5qdERS8NyujZNm5AXfhEE4YLaAk/eKAHOFbAqO98oUv6NHN0kVxfIkHU7lHnD5sawaYjYQRj6HophGHbqeiTouJcGbxTKwjUK3pMGCSwHCGlBN9wBi91rdPiM7oAN5yP/pTeaDMsGSH+vXrm/4VvbqvMq6x7vGD/qw10pzAZg+PCBroDV6Bw2OkdsHr2PcEXOi1AAOHzGE22/3l6dJ0M3yND126ry0O63UhFSWLxVBoIwDdU2B15BAdrltzQO7SzTrpWinzrY9NSYrTNA+sP91OwAYQwlEXKvlY6psBgyI96GI7OZXw4QXl+E4z1HX5/uTn9XiX97gPR7MKfTb/NgTj/hSSEFw6UmTOlzfIBfnvQLfKbTb24c3nmo6btHWp5tHz/sxV3hZ3PyAIIwJ4t1OT6KBHSA9LkDDlfA7sVd/E6BiBqUIyAkABn6UTScOBUvhpcThMl+NQlolpvhgvyPYYOJ2hKH/J9lrENGAZp3NUfyG+oDpC+yqi9H45LxNCEIM14E2ZUBvivJLOCUOOtBSAKK4aYnHZ2dE0c6xg/6iVTOR2VXGYs/t6IFIcNOm1x9R5p/VqH9yq6ar9cOlPiIHB9LiV9bYskhBKEgpYx1vGIpo6y4RywgxCg/CUiCJgVT71jLlaQpCtC1/QqFerNc+CnUW0atjddXE5MdJWRFEWZRJsUKQs7s7t+p+2p4u6oc3VDV8boXd4RNUbJIyCsqqyschARNEDRpdg+5AzYKAOh+NmHlzzwISUATNDlo0mr73tH0vTVuayUBHfaXEf3DWG66ZeSgXH1vuAkT9m89anB2RX8QXs2IBMQJQi44c7z1lUh/tgp1QZmmoHP8BBeczYig4EtjlMBKBqHgPLmqVLO6RPUFKfIFtOdNV8CcqkhkMco/Z27LMAhJmiJp6lT7S8Wqm6TIvVLkHgnyH7X9CpzC5rsFEWwEQtO7vJkAxTB27/iJ1l/f6GqyUKEuUHb+JRg8kzOFlDMfIkIQMuyUM2DYX/+jOdvhJcjt2p5SwRIn1vmJnCmmLPqQFQtCgiZ79ad3VP9teAxQpPykqusvgm93OBMWtwQyDEKGDTYOlcvQ/PAuYGGG886eSVVEOAg+aq4bszl8ZrvX5MVd18PzMnpn96Gmn87ZRCxXbzzW/EpwCoIwbm1Y7hZQhCAEbNCLOw42Pn/jiLBQityl7ZULnrshCEWnSGFFzRQIGTZ43U3/Ara74ewt3wFBE1L0lnCzGTooQf52zNp53Y5avKW2fGJJOOUMgxCw3O6aJ0tUn5MgtwseUQsU6sIS1c21/eUEjQOW47ckM8DoGqrqeFWhvk2Kfqa66/dG52DITbYHs1V1/EmK3B2pEKXqLbX9UjYYb5wmqDfLLgERgpD3XsQGNb075BE+WeRofrn2wX6DNv5oX8suw4Srek4+mGYQhvZfuwIWq2fc6hl3Bcwk77443V0lwAYNzq45nowU6sIi5T93jp+6Pk6AqhiHBDIJQsBwBIXVDezsHFPV9e881faqFL1ZhuZLVLdpeksCpBewQQowNu/47tr/lCKr5ShvESNB7thb95TB0cewUyw3PWDUlWnuE65uFJyR3l1Z9027Tw/nykXY8IkThIBh7b6J0+2vFas+WaK6pUR1s0K9tmmoUogdkZn+vgjLTpxZSjMISUBN2DuRrr/sqXt0d+3D1Z2vGxx9Ah3TykLAcB7MJkXuiBwAKNSFxaq/HjQ2LLjBVJzFJ55cZRKEgivRoNHVpXf0TDo6HP7JPr1uV83DJarPto0eC8mIC55But9WqDdHFrkUuUPTU0wCErBBjPL16TXHWl7YXfvorpqHVF1/nrD1XJ+1iKNHIJ4iyeGciBOENMOy3IzdO94zoakfqGgY3D1iafMRLoadjloWaW37ouZk5er58oPwo1ImaMLpN1boCotVX5Ch+XJ0Y7Hyc/vqn7Z7Dek31wRsEO15u1j52XDDWKy86XDzc3afYTk8OeS8+mUShASNd45XnWz77Z7aJ440v9A4uM+NWUYtLcrO1x0+U2hIF5w6c7jpv+URi4hCnJ17Tnf80YvbQ55ECBq3+wwm17DJNez0G/jgEgBuqxdj4yhaENIMCxiO4ftVfpwKCDOiH7WAC7YCFABc8Exw6gwnmGWFnRYueDM8uUwSWFYQUgwTGf2boMn6QVlkbGSFesuO6n9qGtrlS7sHH4phPJgd7X57hzKvSPnxImXekebn9I6Qk3cx1v1lUoBUJZspEHIMN9U2erxMs0WGrpWjm2Toehm6Bul614vbnH6TQDJ+VioYPHOq7XcK9aZwx0cIn3GHqnMrTmPXl4V5B1cRzkihHohUAmIGYahGXXc8sYQASUBbvcPNw/tUnTsah3Y7/HqhxYTzqEvILVXNVjid5QAhBfj2hAKU3tk1Yq3zk56Q4R4FmMPN34+07BNi2m3Y3/ANL5YB9wuA5by40+Ac6po4NWZtdwWsJE2mf8EyXBZZfZAZEFIMY/EMHWp6PtJCQaEuqNA92mdQRVooAHaq11BVqv5SGIRydFOF7uF+A8pw0Weu0l0ns1oP0pN58YMwFjmQgJ50dOypfapMs0WKrC7VbN5X/71Jey9BEznv0iwW+aTznmUAIUMLdgmqrjcra5/eU/utAw3P9+hPAzbIb/TqeFGGrg+3RXynXHUX2vOGB3ek86sj3sU7niVoPizd9VEBbPcSkUDGQDhma95X/705Qb3LtPe3jOyfv4u5cai0RHWzFLlHiqyWoauahnaSNBl2HB6hFomIAD6eNgnkBggphtld81jkph0JsupUx689mAP2x9OmS6EXpRyEgA26Apaqjtf4mSp+ImqzHM0v1RSOWhtwCjO5BoVA53zQ49BvhzJv0t5D0tfCI6f58+HrUiWBTIEQ6B0dBxqevTG2eEG59qGO8SNzQCj4UQPugKV5ZGfb2H6Hz8DP3cNVQCb7qJ8TIOQMzh6J6rZwUxg62F6dZ3XroZ1CqhqmGNNJLQinZ89QDBg01hcp/zmyfOXo5v0N3wYsh1GB1tF9UvQ2IdDVhhLVx7smTmMUFmNu4W2ilUCGQAgYgsaRrnfk6hu20u+v/5HNO7Kg3QFJUxiF4RSWw+G2RaslqcpYboBQ7+xeEIQWCMK0d85SDkKcxtvGjkRaY4aIKEXWhHo5BCBt3vHOiYPt4/stnoUbq1TVF5hO2iSQGRDyRnosZ/EMHWl6qUz7UKnmvjLNA5V1T/foT80ZDqZNEPBFaZBAToCQ9WB2GXp32LWVQl0oR/MrdAV2rxGu06RBiyJfkXIQEjTRMX68WPWZyBGhcJwfHu6TNCV4uyaEeaklrIsjcwuPRSuBjIEwJBGSxjsnjtX2S5qHd7kCRn7nA02JVlgwY0lK4BoIJ/V2h4ui6OnpmfPn37t06dLVq1c/jPnf1atXr1y5fPXqh6+9+qrZassEe5jW0UqFeqMMXRcyeFao87snTgdIX5LygY/HK4HUgnBq9gzDTpndY7tqHpaha0MslKsLpMjddQMlN+ZtgZh2N96QfSsXKzn/6QPh+xcu6vWGd97dOj0b9gLKkTQFWI4LzrLcDJzzzHlFZLig2Wqb0BsiQXjxYpaBkKRpgiJaR/cdaX55f/33jzb/qmviFE4FwiOGnC9H8XwgBZiR0Qmb3YnhBMcFz5w7+/6FC1euXIm5W/XhlStXLly4MDMzuzF/4xTfNDE4FejTq/fUfkuO3itF7qzQ/V/23gO8jePaH8V73/v+792Sm3uTe5ObxLFTbMtNsixZhRIlV9mxLdckrnJPbMe2bMe9V1kSGwAWiZQoqjcSjWDvvXcCRO/A9l2AADvB9r5diCBYRAEkAALg8IOtxWJ2duY3Z85v5syZM/dcrPjcBBuYs5oBvUUmAsEjwhGGCPcfONg/OETZeqc/dspm97h23wcXEYiAze5QqNRdEqlGq3PNCIeGhp3OscnJCe81FzMjHJ+cnProw49UGq211y0/wUOMtFp77QMwbuzR11ownc3umJbh4JUBvJGy9ZK23raOLpVaC0EwZbX1DwyMjIz6RIQTExMjIyMOR9+2bdtdqsnaayespMLQXN5+urglo0mWTVhJwkp6aCrQypGGgLXXbjRDLa3t7Z3ddofDe3XkSsny5gGX5hoddUokknt33ZeXXyDKFouyxdniHPBZVQgIRKK6+oYemUKrM2AYbrc7lkCEU1NTExM0cX7w/gfHMo4LGVmiJSr44pSTKxSLRGJxdk7uqmrHEKpsTo5EKtNodRCMWG22gcHB0VGnr0Q4OjrqcPSxWKzcvPxpccrOyc0vK62qrKgtKCgVibOzxaCJI1ldi7LFxaVl3ZKeru4eh6PPG17zTOMDEY6MjCIIwuPxz5w5m5FxIu3IkeSUFG5iMoeTyOEksjlc8IlgBDicxMTEZDaHU1lVo1RpDEYTQZCOvr7hYZ9nhAwRjo+Pj7e1tQkEwvPnLxw/cerIkfRDh1ITk5I5XFqcGIkKhlBxuIlsIL3B7bx0+3KTuInJickpqalHFEq13mBCsUtLzqNOp2uc5KmnFrmemJgYHXX29w/k5OReuHjx5KnTR48eO3QoNSk5Je3I0fT0DG5iUgR3TFA1DieRy03icBN5AqFCqe6RKfv6+hcRmAV/8oUIR0cHBgb7+vpxgjRbII1OL1eqemQKiVQukcok0h7wiVwEZNIeeY9MoVCplSqNVqe3QLDVauvvHxgZGRkbG/NJc01NTY2P08prhJEoymqzQIhOb1SqNT1yhbTHJU4yIFSRLU5SmUKmUKnUGrVGa7HABEnaHYyBwUdxmpiYcDrHBoeGBweHbL12GMH0BpNKrZUplNOyBFRTZCMg75HJZQqlQqlWabRqjW5gYHBBtlvkpvdEODHqdA4ODtntDoIgIRgxmMwarV6l1ipVGiWtH8EnohFQa1QarUan1xtNFgjGcMJudwwMXDJk+eQ16jKNOsfGhoaH+/r6KcoGI6jRbNHqDGqNTqkG4hTRguRSFIw4qbU6vcFoMlswnLDZevv7B4aHfR5XTUxMjI2NDY8M9/cPWG29KIabzBat3qjW6IB2Wh1qWcMMp3RavcFotpjM0NDQ0CKct+BPXhHh1NTU5OTkGK25RvoHBnrtdpKiMByHEdQCwWYLBD6rAQELBMMIiqI4SVK23t7+gQHXAqGv00GXODHOfqMDg4N2h4OyWjEcRxAUghELBAOhinhxskAwBCMwjCAohhOkzdbb19c3ODjsWiD0dVw1Pj4+Ojo6ODjk6Ouz2mw4QdCyBNGyFPFIggqaLRCjNBhZwgmcIEZGRhdku0VuekuErlE8M/IaGRga7O/vdzgctl67rbfXagOfVYGArbfXZrfbHY6+/v6BwcHh4RGnkzaK+qq2XOI4MTHh4sLBoSFGnPrsDkevHUjUqpGl3l5bb28vI1ADg4NDw8OjTufY2Nj4+LivEuWSpdHR0aGh4YHBAYejr5dRTUA7rRLlTKumXlqYHI4+R59jbGxsEc5b8CcfiNDlO+ocGxsZHR0eHhlijPKDg0Pgs9oQGB4eGR4ZXZrOckvh5OSky6g1yojT8PAwkKjVJkiDg0NDQ8PDwyMjI6NLZkHPcdXo6BhQTatQitxVHhqi1cj4uA+7uVzy4wMRuiaFrsGX0znGfJyjo+CzahBwuv7GXH8TzJ+vg3c3EboMpC5xGhu7JE5O56oBE3Sc2eJEuxEzEuUpId5fu6RxfHzcJZxAO61CzexkLApjY2NLUEq+EeHk9J9b7GjJWx0fp3NkYKC/r5/5DAwOO2kjzvzP+MS40zkyODDgTjk06plybGSYNiy7fu0fHBoZWyCT+dmGwh1aVV1SVnT7u2TBe1W1YMppgaJnh5dIcSFUQ6H6/i3D+MT46MiQW6L6B4eGnePjEwsKw8T4hHN4cEaiBkdok7SrPOMTE87RYc98Rmjj4oL5hNZN/4rTfEFy5e/fVgvZ3JyjQ/3T2onWKs6xsYVlidZObmnpW1iPjY2ODPYPDo+M0YsXIVvlOQWbo5oW1DaL3PSNCOdk5Ba+CL+Ympwc6zPUZbx6y79v2PX4n3et/8ktfztRp+2n42XOqjo9yxlzaKpPvXvnLdEPPfboXdexWPf+WCDrd04wCSeGKWXu/j//nPXHex557MGoa66558tcKTx8iVNmZRXKX+aIgb++hnKV/Vs2GrExsu3cl/f9Yd39f33myftuXXPPu+dbUWZlY86raEPMENl+5OmrWNfd9fhfdl3373d8eboed04Hdx3vU+fs+9O119/56JOPRf3yF/d8kqe207/NySaEv/pLfjzzCeHq+r1oU1OjNrnomztY/xn9yF8eu2vdjQ9/Ke6wjMwXAm/02NTUlNOh5T3F2nusg9mV7vfiBjRDTxnw6XpZROjTm8I48eRYr074Cmvth6fr4MGpqUFL/emP1rBeztFZx6fV0XTtRpD2zDdvvfuLU/Xo6ITTqq0592UUa1tyu43WZ6NUc/wW1vb3TtUoHWPjw3gX//snWb/8rhnt99mkPf0+8G94IjCqE3278/aXD4m7eqempnplOSlvbdnxdrZueIHqDHYfvpu1/ZOMWrV1fMouERx44KePHS5WjtBJR4wFP969cQ9b0ISOTo1a6o+/v+Omvxxs9jnC1AKvBbfCBIFxa93XLNbjifkd5PjUpEOVF/vKH3YfrNf1zlVO3umxIUyZ8+Z/37HvgtTnXelhAthCxQREuBAqs+9NjFL1X6y56+ssndsXaUzD+/q+//6iyjE6KzrwhN1U8c36hw+VQk53Fqj4k12sV3IcU1Oj/XX/ZG389mL3DO0ZSn78E+u9SmhkVjbuZ8FFhCJgq2e/uunpMz0zYuLUnXly3d/YJfSIadbfmDbjZda6jyrdPwzjdbG33/AdT94/NUXVxuxZ94xHPhMw7xHW3QfEhll5gC8RjMC4Iinqf56Mq3NvnZskJWffuOnv/HZq9iaCRfXYxNTUgEna2d5WdeHAYywW68mYTECEESE1k5Mjpo6mdqmJ0LXXVpVXt5twnwPQMUBMjg62fv6zO/bzVR64TKj5+7b97MuuwVGPYdeEA276/saHMipVbsacmpoihB/c/Iu3K4cmnY68J1l/PVxBzuTjaDr01o1PXtQNj3lkM/MzuAopBPotqo52DWRRdDfV1dRUNRtmKxrvy2qrP/36rx8XIo6Z8c/YCCJ44ZrXOPX0DNHzT3H42dt37GueSTk1YOk8+f43PIXVSVSnP/Prv5eh/e5fx5xo3td72QKp+45nXuA6ZBBwIpLmxi6TzSJpqKmuaeoyUJ46w5di6o/u/Nl9nHZPWwLZJPj4v1/INJGM1eBSZovrMefUFNUsOHf2/EXehXNp/9j8wI9gRuhLK4Ru2okRDfdGFmvXe9+//tgjL33Izuo2Lc1gNDlMZD76mxePN816fLjp2Eu/eSyTGPRgMCdpLnie9Zq4AfaEZaD4qw3/88gpy9jEsCJ1x7ovMmUzv+oLv9i+K11Guld8Zn4CV6GGwIjswnf3XrvnvdcfeuyFf7z72UG+emZC51NZnYoczt23H1D0egjPpLNXkbz1zi9yFbPZFRG9sXXdF3WzxnCTo72wmRiZsjae/+zaP5/DhmZMDFNTU4O4yYT3e4ilT2UDiYODAHz2URbrjn/Gvnn//S+8fzAtW0IucegyVPzBVWvfKpylnEbUFUfu33xAhnje9VqPTQyZTjyy7pvzYEYYHFEI7FsmJwjxSyzW1mf2izotKGHrH3LOUhdev31yYkiZtHHTWxdls9We7MLbm7YnKfsmZlTOhB1u+e66+47MRHnAAAAgAElEQVRWKDyT6k6+te6Xmw60DExNjcBt/AP//DGvB3VOTTmtyryEL/efq0VHljoY9LoSIKEfEDDVHdt7Neu3n+Y29Vhw0to3m7F8eEF/W+a31z5wDLF7juLH7MiF3b/bm9Vq98xppD5x91VP8yFjW965o4dTklNS008JamUII2A6MeeZuxPrtK3VojPph5OTD6dlnM+p1npqP8+8wHXoIDDW8MWOm36/4eXTLWoIoxz9w0ukwakp5OzL12z6omlW1SbMdede+P27dRbrTLbe67FhuyZ9922ACGdBGrZfJsY7vvvFb5/bV0DNEJVHZaQXv/vyi8/n/X36z3f3i6SUx0h9anJiSBLzxy17M+We7DY1Jb+4d8uGWInDgwinxntNJZ/9dldSkdltk5hQpL++6/c/veHLKlo/DeqEr/0n6zc7n9774Yd7X7jvKtYNrx9tsC6Roj2qAy4Dj4CtI+fLG//vz8sUfQuMqAYhVfYPb/7z03kS9fnnXyVc7JldOnvT+S/+508Z6BwiRDMf+skbFxopz8RU/r4H1z/80Y9vPPrSD+fKO9Sy6hOfPL31ng+yWs3jgwr+wb/e8/K7f9v9/FeJwlaNqjUn8Y2ttz5/8GIXuUARPbMF1yuMgO7kozde9+rpOdN/V6HG9WXnY7/65LPP5gjTZx+9982pmm7r7KIbM567evNXzbNuTlrqLrz0b69VWDzsrd7rMUCEs8AM8y8T+vQdP38opmyWWpmp01AvQRD4An8YaR8am6VGJob06Xdu/MeFntkzgJ7zb264J10/x+FzGOo4//ef3v5eWoVlaGyUlOXEv7px165t/3nDFxX2qf6GAw/fev22l5LFDVoU1bYXJr+x+6Z/3/pxrmYUrBHOtE1oXg3KSpOjWR+3WHpnScelwk6MDtsJbAF5wgmC7HX7MbhSD3Xxf7ztgaPQHCKEzu1e+z6/c5avHp6zb/dt/+c3Tx7XOQYZx6wJp93YxNv7m1dOqST1YvaTLNZGdpPWNkgb1yedgxRc//2NGz8/0zgrl9BEdBWXChN8eOtPnsoiFxykT4709ZILKiectmzNMR+R/Dd+d/tnDbOEctxUe+a5tZ+1QJ6y6rUeA0QYSZLpyH3zv+76oMjta7f0uk0O23OfZf31UDnumYe1POWv//FysX14rixP9unrz7yz8V+uXr9p49U/i/rgYk/R99uvuveQfADnvch68COhdmjKdZ775OSUUy86uId1fwY0PHu66fkmcB0SCCA1F97+/dtii3X2eGgpZZvQFR565NcfNls9RlETo9bm79Y8vq/EOEuljdRyH1vz3++XEB7vGSdUxe9e+3p+U25W+iusXRlQr4eJ1TmgOnT/hg+Odvp8EI3HG8BlYBEYqN33l6sezkD88Zbxmq+uuWFP5iy3hH5JEXvzfYc12IDHG7zWY4AIPVAL98uRth/v3Ph8qsYP9Zh0DqmStm38/ESbx1hsqO3EpzdsSzYNLUxgdEgG5m9yatJ8bu9NV71TMTSqSd615a0j8llFGpdf+HbLrQeVQ57ep7NSgC8hgYBdkfvDjsdOtOJzZndLKtxoF/+TjdFpaqvbSWrSOahJ/dPmj491z+FZzdkXNt7ydYPnwuE4qan46I+v5nfXF1/49N+fuog73Ib4qSnnkOHYw+s+ONLhQY5LKiN4KHAIaI+9GLXhu8a5Y+ilvdAqfOaXUV+Xegz5JyxVp1+94dMiqNdDY015rccAES6tIULyKcupJ2585LtKT0GYVc6m+J233nD9H6+d/fnDL1ishw43orN97iadA5rjj1/9GreWmBZdopb72q0PH5cNM5rMFR9scmpqotdc9fm1j6YW6d2qydmd9MLWDR+WDk5NDtR/ec39H4v1ntxpEsc8d817xf1gI+Gs5gm5L05DU/oT6/c1qC/jidKv60q9l8X61VyJuva6Nbc+Fzd7BYcOKyM/+83uaz8utbn2zUxODNvqP7km+tuznYzEMvHIJyYZaetJ3rM16ttat0BNjVkVpV/8vw8nd0AOpOrY0//xUiHUe4lQJydGBuTJUbf8M41ZkQ45FEGBGAQcZR/de9Pfsy83IRyXZx786/r/+cMf5minq1msrd+K62cZpuj8iJzXN+5847R5Gl2HsjJ+x9oDdWoHLUCXghcylvMr6LFLGQAinEYy/P8dLP3Hf968N9Pkp5pMDFpbYu++/r53U+t1BKWrTXv3/l/fnSB1uPzWHQUvsFi/e0VES+gQJD2/h7XujYQcNWFFpUVxL9x58x2fVjK+0WOjZtGbOzbufiejtAvt70OV1RkfPr3xxr+LtHawROinlgpQNuNIp/gfrGfFco9ICct7la3xzPt/Wvv4N3y5bcAmz/32kQ27P0htc+2SQDt5b7JYz2SZSXp62FvDfXrr2oe/ONFo6h2wqgq5e7de/cyRMhmddljBj33p+hte5uR22wb7LK1Z3z6+8d693Gpkln11eSUFT/sZgbHmlEd+vfOw2m9zdqf2zPMbNj/91dkupBdXFB18as2tnwv1hGvs1Pb9ThbrPxKMdCUW12PT1Ry2a44+cPPX5ySraZ05QiPLaC588v53Au1lJ4TTbe79vxODUEPG12+/vOe5PXtefvvrjEbI7Tw40Jj00fvfpNS43LkmBkwt/APvv/7ic3teePHVvV8dqTbPWNMmhkwVGfv2vvLi88899/zzr+z95kiFxgaUlvfNsEIpB/WdWR9/fkENey66LLMs42iLMOHTt195/rnnX/nHZ/HnWlx7Iqampih1Zdo7L3IrsV6X8WDUUnvux/ffevXFPc/tefmtTxNEzXr3CuCkVZGf/uP7b7zy/HN7Xvrb3m8OZUuIGZ/5ZRYRPB4IBKCitE/fPSz16+DXIRXFvP8GLSAvvP4JVyibWR1Untv/6Xtf8tFLNVlEj03XdaTPnP3dxxlFareQTf8Swf9GKBFGcIuBqgEEAAIAAYCAXxEAROhXOEFmAAGAAEAAIBBuCAAiDLcWA+UFCAAEAAIAAb8iAIjQr3CCzAACAAGAAEAg3BAARBhuLQbKCxAACAAEAAJ+RQAQoV/hBJkBBAACAAGAQLghAIgw3FoMlBcgABAACAAE/IoAIEK/wgkyAwgABAACAIFwQwAQYbi1GCgvQAAgABAACPgVAUCEfoUTZAYQAAgABAAC4YYAIMJwazFQXoAAQAAgABDwKwKACP0KJ8gMIAAQAAgABMINAUCE4dZioLwAAYAAQAAg4FcEABH6FU6QGUAAIAAQAAiEGwLLJcJJ1+mhHtWeBH+Ri4BHO/v5cmx8fGyM/oxP0MdSRS6EoGbTp1v7WYLmZhcxQLsrFjE1ClBF3EAt4cJnIpx0nZ49celvfHxiYHCgf2BocHB0YHBkYLCf1mXjEy6ldrn/j49PjI9POJ1jTied+orpL5cPuB9MBOh2mpig/2P+5o+BfJI/lyBNTtJi0Nc/6OgbhDA9Qpjtjv6BwSGXYASzduBdQUPA1f39IkVzRM6tnZhX0JolaJUKxItcunFk1DkyQn+YTjER7pUKGFAu/USL1RJUk89EODU1daklnGMjI067ox8jkMaenOqOC43SbDOi7esbGhwaHB11LvLpHxjstTscjiGHY6jX3tfXPzAyMrpIevBTiCDgdDpH6f7IDHYYTTZHE3n/lebU8fGR0VG7fUCuby1oPHKx4ousym/LWk/pLPK+/uFhIBKLdqIQEYklFMNJ/42N0nJ0SZCWoLnmSJorBxf/jY3RI2xaVsMcwKGhYVtvb699wILqYdzkcAwBVXm5NnUpJkayxibm2SnnSMv8r74RIQRBWTxeX/8AZeulP1ab0tDOr9qXmvdosviuw7m7L1Z80amqtNn6KCv96/wPabURFIkReKM0W1gTK6g+UNlxGsER0mqdnxjcCTUESKutr39geHhkZGTUpcaWMP7q7Oyoqa219/VZbb2k1abQt54q/gdbuC5BsCFBcBtXtDW79oDOIr+cCIUaJqA8S0CAtNoGh4ZoQRodpc3h4+PL4cLJyUmn05mQkODwUE1LKFXIPWJzyHVN2bWxZ0rfP1v2YWnrCROstdLadQHVuspvklZbr90xNDw8NDw8Pj4+n+oWv+MDEU5OTqrU6q+/+dbm6MMIEsVxBEP41d9zhFs4ou1cUTRHtJ0t3JhZ+aUR1iI4jhHkQh/KgloKmrjJ4vs5ws1s4e2J2XeK6/dDKIQR1ELpF8wE3FwZBFCcsNpsjr6+/v7+oeFhelDP2EsXF7I5v5aUlFzIzKJsvRhBUlYHv/prjmgbV7TD9eEIt3FEG+u7cyirA8hDpCKA4oTd7ujr6xscHBweHlmCFHkK1fj4+Ojo6A1rbrTZI0dmEByV65uP5j/DEW1h06pyE1cUldfAMUDqSJWK5dQLJUiCstodjl673el0eoqHN9deEaHb8q5QKr//4YdemggplMDbFEVpeX/hiqJntJho++Hc3U09OSRlX7BWFtTSpiiJF1zHcKdL922PF9xc03XRjJgWfATcDCkEUAzHCdJm6+3v7x8eHnYt5nk5nHclKy0pyeTxKVsvTloNkDot7ym3/Lgu4gU35dQnmBEjToKx0cqMeIIhcjhOUZTd7hgcHBwZHR1f6qTQZWMfHh7esnmLa4wejMIvPMr3Z2ORlP1s2ZscoccYkZ5p3NIqK7+cdo2Mii+5FihOYBiOYfjIyIg35OeZxlsidPmzyOXy73/YxxAh3eQt8rzUvCc8iZArik4W31XTlXm54bwJ1mfXfhsvWO+p+xIEm86WvcZMCv0pSUsGFDx4OQRwkjJZILPZguGErdc+MDg4MjI6NkY70HhK1eWuJyfpZMVFxVmXiJCyoMa0vKc9hYEr2hHPvyG3PglCLTgwEgRe4V6urQN7n6RMZguMoARJORx9w8MjTueYl1I0R7omJmh/q4GBwS1bIocIcdKqNcuSsu+b0zXi+NcWNqdaUDPoGvPlE0JQg9FkNlmGhobmCMkVv3pPhONO51iPrGeaCOkZYaeq7Ej+U1zaLjpt16JnhA80SLMvN2aBUOhs2WtswSb3I1zRDrZwy/GipyAUglCItrjSHwzGEBTH5tcW3FlBBHCS0ukNGq3OAsGU1do/QK8XOp1jLoa7orS5/LmKCotcROgyjV6o+MBTGJhx1aa67mzSurBRYQWrD17tLwRwklJrdQaTGUExW699cGhodNQ5Pu7VcGqOmE1MTIyOOvv6+7du2RoxM8JFiLCoOQ0Q4Xw5xEnKDMFKlVqj1Q0MDMwRkit+9YEIR0edUqn0+33uGSFFUFZ+9Q+M5qLXCLmi7RzhlszKLw2QCiUWXiM0IfqK9ow4/vWeui9ecEtuw0EIsaiN3bzqjw7l3nGi+Pm67kwItaCXXWsEc8cVQAAnKZVGK1MoDUYTQZKOvr6hIdo66jUR0p7NhQWFbiJEcFxj6j6S/2yiaAdHGMURRXFF24U1+/UWOUYQ88Ud3IkMBHCSkimU6ksjKtvAAG1aWAYRjjr6+iKJCDGCZEyjb80yjQqjksTb2hVVJEWvr4OPJwI4SRnNlm5JT49M0dfXf0Xmm5PAWyIcGxsfGRmVdEt+mCFCuiXMiIFX9d2R/KeTxHel5f01s/JrtbHrctNBptyU3qzKKHyWLVzPEW7lCLcmCNYfyX9CbezRmmSJ2VsSBLdzhNvZwi3xguvzGjgQagEK0bO9V/aaoKwKlVoilWn1Bgwj7L2OQXrPn9Mbo9allebJyQIPInSJhNrUJardf6r4vTMl7xe3HDEhOuA5tbINHei34yQlkcoUKrXRbCFIqp/ZQLW0ZcKJiYmRkVGHo2/r1siZEWIEieCoQt9yNP85joj2lGELNyVm7yhqTjNCGhSMEeeNA3CS0hvN7Z1dXZIeh6NvDs9d8euVidClv8bGxoaHR7tpIvzRvUbo6i0wBneqy8paM9qVJQiOEOQVRisQCsl0LbyqbzIKXz5e9Mr58k9k2maUwE4Uv+y53MgRbkvOuaNZVrAorYJhUVARICirTKHs6pZqtDoUxXp77YODtFHLm83RLqeGiYmJeURIIhhGWR0ESft9kZSdXvSeJ+jgTiQhQFDWzm6pXKE0Gk04TvQx+0Zdi83eb8hxBSihd6OOjNjtjqitURFjGnW1NUH2KvTN4rr4s2UfXaz4srrzohkxXFHBRpKceF8XhghNLW3t7V3ddofjisw3J8GVidAV72psbGxkZGEiRHECxXHGO4ZAvF7VQ3FMoqmRaGpgDMIIQm3qOpz7uKe9lCvaEcf/bWV7JgXWikKGFQjK2iNXdnR1qzRaNxE6nU4vvUZdsR/mE+G0uAMf0aAOa6ZhX4GXEpS1o0vSI6dt7J5E6KUgeWqxCCZCpoHoTQEmWAdjEGm1g7ng5YSWdl8wGJtb29s7ulaGCJmSLUGFEShBuJYSURxXm7oP5yxIhFmXc0C9HCLgfuAQYIhQQROhOhBEuAIaOXBYgZwXQYAhwm6ZXKk3ACK8stjjpBVsJVpEnDCCvESELW00EdpXYka4ePkW/ZVCmT1pEGZGcfRk8d/Ywq3uSSFbuCkt788dygqctC6ayZXFCDzuLwQuEWEnIEIgdctCABChv7okyMeFQFgTIUlQvSpDp6j2YI+2SaHvSC94PJZ3dbxgbRz/erbwhsr20wiGgJYOHQQAEYZOW4R1SWgi7AQzwmUNJsJaAPxe+DAmQhQnjLBGXBcXz78+o/D5Hl2DEdJVd54X1/1Y0MTt0bYwsWaA30QI9RZAhH7vwKszQ0CEq7PdA1frMCZCgurtUJYfyX/CtY/iSN5TeQ0J7coima5Ba5YhGMJET5ghQmAoD5wYeZkzIEIvgQLJFkcAEOHi+IBffUUgjImQpOzNPQUpOXe74o5yRNsTs+84lPPI0fw9TT3ZTFgZ2gfHFV+GsvapTV1GWEtQvQiGgn1mvgqKX9IDIvQLjCATQIRABvyLQHgTYau8ODX3Ac/oCVzRjkM5D7XKc5mdGIw3DWXrUJamFzybKLozUXTXhYp3jJCW2Wi/BFfVEDIz+lcOgpMbIMLg4BzxbwFEGPFNHOQKhjERojhugFT86h/Ywo1uZ1GuaMepkjcxknDN+Qiqt11Rlpb3MGfaoZRDhzN9CMZhEIk0yKKGMQed9MgVHQHwGkUwlAkziyE4huCo9xtSgw8CeOPyEQgBIiRAyKrlt2Po5BDGRMhs/rCqTd0Xyj9NFt+flH1nSs6Dp0reNEBqF8nR3jSQVlzHnhObNFF0R0lLCthWEXwpDNCMEMYQnUV5ofLteMHVcfz/PVP2d4mmFsVxEGIm+E0cnDeuHBESFsSst2g7lOU92iYzYqL90kEko5AJ2bFk8QtrIiTkulaVQao2dTdI+YXNyfWSTAOkVBmlWpPMFW5bqm04Xfo6cyjlpQMumLnjzgsVH4KN9ksWmiU/GCAiNECaw7n3JAguGQbiBbem5T3YraoBm4iX3FIh/uCKECFKEBbUXNctiBOwYni/PJDJOpL/sERTj2DglJuwXzMKYyIkKXujJCdZfEt23f52RbnaKG+Vl+Y1xLGFa2q7LzBBZwiFoe18+fsJs88v5Ip28qu/ADFIg6/sAkGEKI4XNCWwhZs9zeMxvN/kNSTRtgEQXzj8R+vzBXVFiBDG4KaenBgei3PpLPGd8fx16QWPqY1SMOSa30bhdSd8iZAgqd4WWdGhnHvi+Dcc5P3bgSxWDO8/4vg3pYgfaOoRWVAThFpgDC5tPc4WrnM71DAXW9oURcDEH3xJDQQRkpT9QsW7nvHWuaIdCYIN58rfURjagl9H8MYgILAiRIji+JH8hzjCKI8h184Dmay6bj5ERzwO+1nRaq5COBKha1MEjuBIj7bhZPE/EgS3ukWTI9x+JP/PSkNHvURQ150NYZDeos6pj0sQrInlXxPD++9DOXeWtBxDCfxyRx6uZmkIdN0DQYQEaeVVf8IRzhzvzBxSfwu/+iu1qRsMdwLdpiuS/4oQIYLjMTyWW9W4LuL5t+TU/6izKFcEh3kvpcDGsHmYeDVACT8idBGY1qwqbE6R69qae4pS6EnhdfGCdXH8NUnZmxulOQZIfTj33qTsnU09+QRpNVjULT0lxS3ple0XO1U1ZsQAvAqXJi7LfCoQRIjgaIeyPF5w9bTBagdHuD2O/1/VnZkIjswmQpeaWOa2Gb9k4lXnXCbaEfz4ihAhiuMZRX/1DGjMFe08kMWq6cpitmOtZJvSJxDQh5C7ziGYiSISwTLg36qFExEyLY13a6oNkKq2i3+QxxLV7teYpD3a5oImrqDmm4KmZKm2xQhrsmsPJAjWxgtu5ld/pzX34CRFkDYIs6A4RlA24EzoXxnyPrdAECGK4zCG1Hbx4oU/jeH9Mob3szjBf+U1cAyQ1rNgOElvKkUJfHljIArFMdqcQJ8XtkxCXUm96YlMOF6vCBHCKNwqLz6YxXKvs8Txb0rL+5PKIFnRNcJLh/Ao9K2tioIudQVj7gJc6Fv/ChsiRHBUb1FcrPjiQvnHPbp6Ue2+OP6NXFHU+fKPGntEGnOPXNcs1zc1SgUXKz7jirZwRTvYgtvPlL4l0zW5pgVMxDWgvHyTD/9qyUAQoauEFtSs0HfXdmXWS4SdqhoTbHC5Dbt+xQkSxqB2ZVGLPE9jklDWPs9fva4jhVOURFPbLMvp0TUQpNUVtMHrx1cS+Qgr5IoQIYrjFtRS05WZLL5tfybrQBbrVMkrEk09jMGzDQ9BbWictJoRU3Fzakbhq0fzn0wv2MOv/tYI62Fw3oAvq7bhQoT0SPxk8Wts4W0ZhX+X0UT4Qzx/LVcUzRFFsYU3mRFLcUtKRuGrh3J2c0SXDmNKEGw8V/aOXN+8gmIaYQpomdUJHBG6ThRDMATBUcZTdGbEQ1L2Hm39ubL30/L+kpr7eEbhK+VtJy2oyTcuJCm1qSur8quj+c+k5j5+NP+5vAauGZlFt8sEBzzuPQIrQoR0vEaCMCMmg0Ur07bKtK0meOUXWcywsbrzAlt4K1u4hSPaxhFGsYW3ZVZ9DIjQe3EKl/MIKRiD2xRFHNpFPjo19/HmnuzmnsI4/i9c69UxvF819+RJtDVs4RZP78F4we9KWk4AFvRJIAKaOKBEuGDJEQzTmqXHCl5iBCOaGTltSxHfW9PJo6x9Cz4y/yaCoTAGZVZ+4c6EK9qeKIrOqecSlBXYSOcjFug7K0WEHvUKkcgylMGiPZK/m1F9M1ul4/hXyXQtTFDloE5PPfAJs/eGxYyQJsLKjuMux2WOaEt2bZwJ1gprfojj30CbQIVb0/IfhFCkuUecILiNI9rOEW1nC9eLag+YEH34tk3klTz4REhaHSWtaUnZd3s6+7GFGy9WfKYxSbycFBKUtbb74qGcBz2HWRxh1PGilyWaauB+HHxBDQEiDBFFT+nMmgNZ83xZBbcWNScx59CFSDlDvRhhQ4QN0ixXvFCOaHtKzq76bgGEWaq7zpwofulE8UtFLUkwhuCk1QCpytqP5NT/2KkqA4vGwddQi78x+ERotfZdKP+MK9rmMZmLZgu3nCh+tVtT7aW1gLI6SluPJYnv8mRTjmj7oZw/NUiEIDLD4o0eiF8BEU6jSukt2mTxJrf/jktE4/jXtsjyVtyXdbqQoc6C4WIapY9SMsH6lJwHmUlhNEe4jSPakNsQZ0L0lNVBUnb30B5lYi4TpA2mXednFoq8bBKcoIBPjZdYLSFZ8ImQsjpy6uNSxLuO5D17rODvxwr+ll7wSor4T2dL35HrW7yMO0NS9prO8yk5982ZER4rfKFLXcnMCH2WtCWgBx5xIwCI0A2FCdHnN7LjBTdyRdtdoz22cPPRgicgFHanARdXRCAsZoT0gALFsS5VxdH8Pcniu5Oy70wW33eh4kO5vp0grfMq6bNWwkmrBTXrLWqtSaU1qQyQDsYgL7XkvLeHwfBnpcocfCJEcaJNUVzZcVJl7LSgFgi1WFBTiyy3uuMiiuPMoMer9lIZOk8Wv8Gh/RHonfsc0Ta2cCO/6nufnW588WRbqWYK/fcCInS3EYpjGqPsXNl7h3IeSMq+I1l8d0bhi3JdK+PL6pVsu7NazRdhQ4T0IT6kTWXsqGg/WdaaUdudZYS0BGlbPl3hBAVjSHNPXnrBXw5ksX7MZJ0ofrpTWc3MKcF2HH/2peATIUaQJNVrRkylrceOFuxOL3yMV/25RN0wb6/9FapJWR3tytKzpe+l5NwTL7ghNXd3ZuWXPdoGYBddEe0JiNANO0oQCI5CqKVewittPVbZcVprli1fK7rzXyUX4USETJMQlNVBWR1+3BdPkLbmnoIk8c4EwQaXhZ0t3MwRrVMaOleJEAStmsEnQhQnLIjpYuWHcfw1bOFWtnBLHP+mZPHdLbIigrJ5X3EUxyirQ2XsrOsWFDYea5bl6S0KknJ4nwNI6UcEABHOBpPCCAInrS7dyKwTgRH8FYa2swEkw44IfavenNou+NUIaYQ1++P413q6QnBFO7KqPgVHNS2I2JJvBp8IcdJa03U+MftOz8ZNEKzLqvrGCM8KPeNdpQiSss9ZlvbuQf/L7Wp+LyDC1dz6gaj7aidClCBk+uZz5e+4T7Ob1pjRR/KeBUToX5kLPhFarX1ZVV95Orkw+222nCh+pVtT5aXXqH9BALktHwFAhMvHEOTgicBqJ0KMIAwWFTMjXDNNga59qTszKz+mrH3LC00J5gGzEAg+EVLWPnHdgcTsnZ6NyxZuOlXyhlRbvzqXUqzWPqutj6R63b7WnhohLK4BEYZFM4VRIQERkjhpbZSKk8RR7rjyzPEFN0g1dUZIY4J1S9iGEUYSEMyiBp0I6ch83ZpqxjQa7ebCBMGNeQ1Jq286SK8kdarKcuoSeFU/VLSfMEJqBEfCcTQAiDCY3XY1vAsQIYnhBIpj9d38xOyoGN6vY3nXJIlvb1MUm1HTmdI38hqSEBwB80K/dIagEyHpYrt6CS+O/7sEwfp4wU1/TwIAACAASURBVK1x/GvPlb+nMUl9JUIEx0iql6TsJNWL4KhfAAlmJjAKN0pFyeL7ufTej01J2XefKnktTE9XB0QYTMlZDe8CREjb7lCcPp1Hb1FLNLWdqgoEQw2Q6nTp62zh5rT8J1oVRSTVuxqkIdB1XAkivNS+aqO0qDmxuCWluSfXjJh8CknMUKBdqqnLb4wX1HxV3JKstygJ0gen00AD603+aqM0QXALhw6y4zL+R8cLbs5tiJtzXpU3Wa14GkCEK94EEVYAQISXFrFQHFPoW6s6T1d0ZIhqv04UufwMo7mizWWtp4DXjF/kfqWIECNIBEPNqMmCmpi4U76FXCApR52Edzh3N0MhO7minam5T3SrK/Hw2R1vRk0VHcfi+bdMsyDNhRxh1OHcewwWbdgZ/wER+qU/gkzcCAAidBEhhRJ4izzvcO6j9CZC4cyomSvaAojQLS7LvFhBIlxGyYkebcPxwldcoW6niWT7mdJ3wiisjBkxFbUkxQtunS6/e1L4v3qzxk9ESFlQC4JjCIYhOAahkJ+yvTRU9WxBQISeaIDr5SMAiNDdzQgzYjhVstd1xoVLX3CEUUfy/9qmKMYXCOTmfhBceItAOBIhZXVUd15IFt8xew9GdFreX9qVheESaNR1kFkc/4+eRJgguO1c+Zsm2LB8PYISOIKjDVLhqdKXOKK1vOqPpNp6X1dhvS8GIELvsQIpvUEAEOGMEicpe7Ms91jh8xzhJrZwM1t4e0rOfcXNxwjKCo7a8UaYrpgmTImQOZT8rnlE+OcWeX64ECFGkDCGXKj4kC1cz9g8otjCjYnZO1rlRczUbaYXXLERL5OAyG9MSBCsc50JmiDYkJR9d6usIEBcCIjwMq2w/HZcpTkAIpxpeIQJo9WlqsitTzxX9iGval9dN9+MGBmXUd9WlYCYLohAOBIhQdraFMWpeY/NMRWkFzyvNnaF0QgJxhATbMiuiz1Z/I+MwhfOl3/SKBVbUPPyDZg4SbXK8w/l7HZFJHdNOhMEG04Vv2OENIHYrQiIcMH+BW4uGQFAhDNE6DrjAidIq7XPAKlQ2l3eDlhwybI1/8FwJEIUxyyoqbAplS3ckCC4LUGwMUFwG1e0pbztDHPySTiNkOgDN0hKoW/pUlWYYD1BzT+5ZVZ3mN+CC96hrH3FLWlJs6MWcITbjhU816EqDcSkGRDhgg0Bbi4ZAUCEC/d8nLR6f0bPktFfbQ+GIxHSx55QvUZIXdWReb78/bNlezMrP63rzoYwcxhNBz0lze9BmSmro6w1PUk8K6ArRxh1rOD5LlVFIDbsRzoRhtPoylO0wvcaEOHCRBi+LRrKJQ9TIkRwjCB7ScqmNfeojF1KQwd9+AkBAvxf6js4SXWqKg7lPORpPWYLN1wo/9iM+METZ75IRzIR4gRK4CgOpCuomhkQoSfcFLNeAoZjnpj48zo8iZCO09alripqOprXcKhBKoQxiFHNS5cTnKBw0hZBrsh0bKaqjnPc7Nvj+DfG89fG8X9/tODPEnUd4yyzdKDmU6DrTiQSIYVgKGV1mBFDt7pSZeygAx1jdAAj5nClPsYOTyx/QfdykK7y+4AILyl6FCcQHENxjDmP15/af5VLmGf1w44IURyHUHNl+/mj+U9xRJvZwtsO5z7Er/reBOtcSsqzdt5cIxgdpw3BYK1ZqjX3WG19gfAl8aYk/k2Dk1YLYpJqGgubE8X1P1a0n9KZ1Yv4o7oc06w2Ovw3M72mJ93efyKPCBEcw0mqtivrXNnHxwpfOFn8j7K2DJyglIb20taj+Y1JVR2nzYgRJbBVaIqgF6oCvIENECHd/XDShuJot7qyTpIp0VSRlB1GYTD48l4xeZky7IiQpHrbFeVpeY8wuwKYaCyi7VxRdGFT4uXPpr/sBMil/Vvl+aeK304veCG94MWsyq/Vxs5IskMYII0eUptgPaO5FrbvoQRhQnR5DXHHC988VfxOcUuaCdYSpA9RDCOPCK3WvqqOC4dyH+QIt3CE21Jy7tdDqjZ58aGcR5LEdydm70gW33uq5HW1sQfFMS+7W7gnYyifwAlSZ5FpTBKcpONDBahSgAhJgrRpzbKsyq+TxLuSxfeniB88X/4ugqMQzYU+jFJB4isiEDQiRHAUJXAmRrYP6nVe+el4Q8XNGfGC6z33oXNFO47mPwdhlnnuVLQRFaINpwtzIUnZW+UFR/OfZLYZbOfSnLr9dMk7OouMieK98FPzSrUsmXSF1SXo6OH0B8HQIM8wYBQ2wYajBU8lZt/BBD7dzhFuEdXu15nl3tc0wogQJXCFvvVU8Zuu6EUc0XZx/T4TYkwSb/NYdnXFho01wXrvgQrnlLSJTqZrOV70QkrOIyni3WdKX1cZu32KEux99QERknqLQljzY8Ks6FPRWVUfg0Db3ouRlymDQ4Q4aTXB+qrOU2l5T6QXPFnYzKYDjSJGLwvpToaTVjOiz66LixfcPIcIU3P/rDZ14R5xt1EcQ3BEoqlt6hHpLSqMoJd83FnRVgeCQnD4YsVXbOEmj9yik8R3lbVmBCuYLQGhlm51zfmKtw/nPni+4m2ZrhlexkkaCI7SMdXoUaPFtWffs8oLXhNUb3bdd547Drmi6ATBdQ2SXJz0digQcURIdChL0wuecwV3ZAu3dKpKW2R5cfxrPURlB0e4LUm8QR+GsWEXlITFb+KkVW3sOZRzp3sowBFuP5SzM0Ax4lc7EZJUb5u8IjH79tk9c0di9j1qkyQy1m8WF7hg/hocItSZ5fzqb2L5f2BiwUSzBZvS8u6DZ9OSl7WmrI6aTiFbePOcsDLpBS/i5MzMDCetMl3TyeJXE+i4LZviBTcXNrFncyE9uezRNZwoem12zNIdbOFGXtV+q63PyyItJ5kZMTVKc+L4P3cpXI5wW5zgf9oUpUsYJbiKYYL1ZW3HksTb4vjXJ4u3NkgFVzTckZQ9Kfs+T/3OFe2I49+QW5+gtyi9jEQTgUSoKksv2ONS+mzhZqm2rrjlULxg3RygDmSxdH6LDTsjwMsRqgA9a4A0Rc0pcfzrPBGI599S2pa6yNrzkgsDiLC3UVIUw/t/POHminYkZt9V03U2aAarJbdfeD0YBCJEcLS+OzuW/1+eDZog2FDQlLAEowpOUHJ9y7myf9JhyegDjLZzhFGHch6ol2QRHidzKQ3tp0ve9gxpzRZuKWpO9EyD4rjG1H265B2OcItn2djCTcKaWKs1GESot2gO597BFka5C8Cmo+neb0ZMvgoSShBGWFPUnBrL/yVH5Dr0OPpg1k8bJPzFt1eSlP1QjuscD1fgb/r/cfwbxXUxOot8lRIhjpsRY2blN4y1IJojjKrpOq3Ud8bxr/IcgbGFm9IL/myAVsNR4ZQR1p8ofpYt3OyWVa5oB1u49WTxc4GYn6x2IiRob4jKZHG0x4kTdM9MzL5LqqkFROirflw8feCJkNCYe4Q1X8fz13r2H45o+9GCx5fmeEZRDpm2iVf1zZH8p9Py/nyi6M3qrnOU1eG2fNJRuTt4CYJZ8ay5ouhDOY+bEJ3HSymCsuY3pnBFUW7zA0cYlZr7SKuiMAinG6IE0aWqOZDF8kSGK9pxMOunXaoqLxnI3b4EaZVqmhKz18/pOGzhDYufWoyT1tyGGLbwdncxOKLtCYI1dd1iJnOvrKMRNiN0odqtrjpT+m5idnSC4NaLFe8hGMqv/ipBSIdv5QijEoQbOcKNTdIclxXa3RCRemGE9ZlVH3gOLrmiHQmCjfyazxYXMAYQgpHnhX21FkRstRMhRpA6s4xf/W284AamS9OMGC+4Oavyc2bFwqtuuSCy4OZ8BAJPhKTWLBPWfhfPn7WqxxFFp+Xt9uAkH4xCKI4zLIV3qipa5LkGSE1SDgTD3B4xlNVR3nYxlvdLt2Z3XaTmPqEyts9hOK25R1C9LzF7e7xgTbxgTVreY8XNxxAMZiL5+VCq+dhe8Q6K4x3Kihje/zennAez/lWiqfWVCHGSbJGV7c+cS6ts4SaJtmYRqGF660jPqZK34gVrEgTr4wVr2cIN2bU/6syKRZ6aU7vIIkLax0qiqVEZJQpDa1nrCXFdUl7DYTOiNyNGcV18RuFL6QXPnirZW9VxDkIh71GaA1p4fTUjxrpuQbzgtx5rhFvjBL/pUJYvOhQgcNKqh1Rqk0RtkrpHq+66Mw5uC2h1QIT02EGqacqq+vJQzr0c0brDubsE1Qe0JokbO3DhLwSCQIQwBtV1CWL5P52219Hz+1je70tbU5djUUFd8T4IHJsX8oOy2ms6BfPXEVNznzAhrl0EMwxHUnYDpKzuzCxqOl7UdKJVXkT7m9Drlwt0Tn/BPp0PZYR0aXkPJAg2cEU7XXSYILg9JedOM+yzaRQnqXZFVQxvPhHepjFJ5/nTziDgqqnK2FnUdIxX9a2gel9p60mdWUGQVu/DqUQaERJEm6LoZMmeyvaLMl27ytCtNHQ19ZS0yIr1FqVUW9euLNaYpAS9nS4IcuLZWCt2zbi8GfMaEpLFO+P4vz3I+8nh3PsLmw4xi/2XA4GAMahLVZffmJRV9Rmv+vMmaSGzM8eGEbQTOU5SEGpGcITeuorP2roKiJB0RSLWmmUtsuIGSW6bvNQE68Lo8PFpNbdiIut9AYJAhPR40KIR1vwYx/95PP+WeMGtsfz/OF/+gR5SzR8eel9yJqUr8NBcnHGSUhm6Tpe8yfj40atlHGFUHH9NcUvaZRyPCdJqZ8KFOEiql+mQl+vYc9/lY4HnPg6jUHNPfkrOnbG83yYINsTwrkrOiW6RFSIY4mvOOEkpDV0nil+J49/gnmLG8W8+V/72Ff1lmHcRJGU3whozYsBJEqdZcJZiWrw8kUWEtArSmKTHi147kMVKyt6SmrvrcO69jBF7a5ui0AVXkHe5LI5/sH4lzLChVV5S3nauvPV8u6IcxuDL92Ka51rlJSk5u+L418ULbo0XrIsXXF/UnAbRR6wQOrOytktY0HS4uDmjVV4yJytAhDPKgqBsJGWndRMIIxmYDZRBIEKMoEM16szq6o6L/Oqvsqo+qekSqOnduIEiG5R5o0TTmFX1WSz/5/szWal595S2HjfC2tATJArGkA5lZU59wvnyd/MbkjqUVUxAJR9IyK0EERxpV5Qfzf/LQR4rhndVDI91puxNpaFz/qTZ/cici+mIIT43TYQRIQMLUd15kSPaGs9fmyDYGC+4LV5wE7/m62mHXp8hmgN1+H4lKTtOkgRpZUJYXHbZDyUIvUXJ+LXNbE/iCLel5f1VYWjVWVTM+tdvY/l/iOH9Olm8vaz1BGOBuAQsIMIZIgxfWQmXkgeFCEmXGQTGILVJojJ2oUzwqkBDhOCozqyUalq71c0KfacR1gbF2rlE6TVYVEpDhxHSMDbMyyqXxUHDSSuMISqDtEGSU9F+qk1erjZ2B2cFKxKJkIRQS6M053zF3qMFu08U7yltTddb1IEbwC3euOH2K709qVNV7t6C4rJScETbjxe+pjK2l7ediONf7V4uYZyP1kg1DTB2KWoKIMIlqpJwE5SQqGawiNBdWZfzmPtrAC9QgsAJiiCtBBNNO/TmgvPrvkT+myP5jFXTFU+HjoY159cAfY1IIsRJK4SaDZBGa1bqzCojpGM8rfzTTAFqiJDJ1kWEZcfooAQzu4M4oqgzpR8ZIM3xoqfZgpmZIrMTY1N23XduHzFAhEHqui53XtfKkGdEkpCRpGDgEHQiDEalVlULXr6yQbXdRSQRurBlTiahFvU2AlK9AAIoTpgRw4WKTzkekZs4wq2nSz40QrrUvHs8t8+6FvIzK99zGzAAES6A6eV7+9ITQxjUoSw7V773RPGrBU1sg0XlxW6Ypb8uEFVYfp6ACJePIciBOSrZ2tHZLZMr9QYTjhN9ff3DwyNjY+OTk5NTPv6Nj4+PjIzY7Y6orVE2RzDCGoAWDBACOEF2qSoP5z7KFm7iCLcx2+GiSlpTjbCG2Vt8i9uriyvaES9YW9t9AZhGg8oxZsRY0pLm9q/jCLel5t2vMcmW4K0XIBkKTraACIODc8S/JYJnhBHfdgGtIE5alYb2/Ka4CxV7L1S806YopB2yCEqqaUkSb3UHf+AIo44WPObpqAxmhEFgREJp6I7j/+us8Qh/rbh+n4X26w1CAULlFYAIV1VzT1eWgjAYYoIGWBAzMu2eMP2rWzgpCINMiMGbeG+ACOeh54ZxtV8gOIIzS/UE48yFESTt141jUm39qZLXkrLvS8zelVt/wIKYpj1yacQAEQZcboywrrT1SBx/1lE+tP9S9o0WhI7Zv3o+gAhXT1tP15TRQZoGYe3Xx4uezG+KUxmljD1qlg8IgqMmWN8qLy5s5tZ0nTNCusUDKwMinIZ3FWmP5VTZFauBoGxaM32gI0nZUY/gUIAIgyFGJlhf1Jzstou654UxPJYZEOHgkNPp9HJpZ3x8fGJioqCgMIvHp2zLOWgwGO2+nH4bMc+iON4qL07J2RHHv5kt3BrPXxfDY7XJS2ZviyZk2ubTJa/H8H4SL1gby/t9kni9Qt+5SNg5QIQRIyFBrgjjHbOAYxeYEQZcJ8IY0qNtieP/zB1qmSvaGce/8Xz5XgsCTKOACAMugUHWNe7X0Wd36Fozip6JF6x3j/84oujE7PUW1OwOqGaANNl1sQd5P3OnYQujUnK2WRCz5yqOO1vgLOMJBbj2CwKACIOghigzYs5r5MTxfxUvWJcg2BjD+0V6wbNSbQOMXtrO6Ze2DP1MgGk09NvIjyUkSFuXqiGWPz8e6eYGKZ85FYsiSBvjyHC725HBRYcJgtsbpQIIgxaMSwBmhH5spuBkheIEQfWSlN3zbLLgvNqbtwAiDAIRkgiOGWF9Rfu5zMpPz5W/k1PPkajrmJ2FC0zSvWm2ME0DiDCEG87/osgQYWMc/989D9Vj9jJvrpNcdBOhRN3EEd3oYS+h46RzhFGVHRnMauICBQNEGMKCtIBGJaheI6ztUlU3SPI7lBUak5SyOi433V+RqgEiXKDZAtQSKIGrjF1yfQsdaHg1+ci48QRE6IYilC4oJkCr/6Pw4ASlNHSeLnl99vGQ0VzRWiOsc+lBxnzadrz4uQTBRrdplCvaGcP7lUzXOHspcaarAiIMJfmZaZfLlUpnUeQ2cI/kPxov+H1q7p+yqr7sVNVSVsfl0gf/PiDCK7eiX1vF/+rGr8ULLBqACEOvsSiCssn1LW2KIrWx02rt8+84HcGxpp58bvb6WP51jLPM2oM8Vr1E5OkIg2BodWdmLP//TmCCYHGEUQez/iWvgc2UZJZzqRs9QIRuKEL+ghawvAYuW3g7E/wsmo7zKVh3uvQtlbErdAoPiDCwqn92Sy98js/sNMEsT7DfBYgwpNoaJyi9RZ5bzz1e9Lej+U+dLH6juPmoGdH7lwshFJZqGnLqDxwrfExc94NE02RBTW5PGXqbF44bYV19t+BY4V8OZLEO595R3naM2eO1gFHUBSAgwpASpEUKgxK4TNdwtOA5T9M3R7Q9WXx3TWcmc6BEsLXQgqUFRBikZkBwDMERBEfDIRxzoDABRLhgJ1yRmyiOmRGDoHo/RxTFEUZxRNs5wqgk8V15DVyrrd+vRaJgDDbCOhNsNECaBeUfxTEItZhggwHSm2CjCTYsXgBAhIvjEzK/0rGwm2U5qXmPz1knjhfcmN9whLKGSkw7QISBUvpuWYQxhDm7taO8Pb1RKjAxqyP+HXS73xXiF4AIQ6eBSKq3RV6YlveYp7smR7Q9veD5Hm2j54wtdMrsLgkgQjcUIX9ByPVNR/P3eM4IuaLolJx767r5obNMCIgwGEQoqv06QbCBK9rJHBT5oERTj+CI+wSQkBdlv0EEiDB02pqyOmq6MpPFd80eqken5j3RIs9DCXzBfQshUn5AhCHSEN4Ug7I6smsPJIp2up2h2MItZ0r/qTX3eC4Ve5NV4NIAIvSbll+wkSyIpbT1UBx/jacQHM69Q2WUrsIjNwERLigkK3KTpOy1XbwU8T1ziDAt78+tigJAhNONQkGoBcZQjanHBBtgDGXiA1928XL6qcBqlfB6C0KvAWv41V+liB9Myr43SbzreNFrcn1zSG0oBEQYWJFFcTxJvMl9MrKLDg9m/Z8GSc5qO3rCFRCkR67o6OxWqbUoivX22gdBiLUV20hDqIydZ0rf5Qi3THMh7dF3vvwzBEcWXMkLHf0bxBkh0aksP1rwaCz/N7G8X5wrf1Ohb1+d6xrLaX0Exyiro0dbXye52KYogOk4CQv7Ay/nLct5FhBhYIkQwfEY3s/d00HXRQzvV7XdWSbkCh4By2nX0HwWzAhDql0oa1+rvOhE0atJ2XckCG5NFt99pvSfKkMHQfo5jitOUv61fwSHCHHS2iovTBbfy6bHCvQ2f7bw9vSCZ5SGdhTHQtl0HFJi5i4MTHsLYgiO+VcY3Pkv5wIQYWCJEMXx1LxdzAYauiNNEyGrWVa4CseVgAiX01f9/ixKj9P7JJq6stYT2TWcyo4zGlO3vz3aCSOkVeq7lIYuA6T2VxWCQIQ4QaE4erHiC7bQc6f/Dq5oK+1YGzLujv6CNCj5uPaPhaJhGRBhYIkQwbHa7swEwR8TBLdzhNs5wm2x/KvOlb2rt6hDcFgU6M4AiDDQCC8pf4KyOqzWPr9HvUJwTGXsLmw6dKzwifTCx3Pq42W6liWVcG4nDQYRkjadRXa65B33dNA1ik0Q3JZVuc9qCxW/f7/gCTIBRDi3j/lXJlAchzCosuPcieIXksSbk3O2CWv2MUfMoN69iGImjhESjwYQoXeNHliZDE4ZcJLSmpXnyv8Zw/tPtnAzW7glhve/xwqf1ppllwuc5n3BgkKEFISZz5Z+NGdGyBFuEtXEAiL0vrHCIiUgwoArHRTHEQyW61u7VLVd6jq9RcW45F35vSiOE6RVa5Z2qSs1JonV2sd4G4eiYcFLWQdE6CVQEZDMgpqqOy8c5HkePbEzlvf7wmYuE277yvK/CAhBIELat4u0lrUe54i2urdacoRbk8X3tStLmWPtllWFRWoHfgo+AoAIgyPNBE5aCcpGUDamjb3xmKIgzFLRfvZ8+ccZhS+eK/uwvO20BTGG9coiIMLg9/CVeqPOosyu+352uO0dbOHWUyXPL1+Gg0OEGEFaEHNRcwpHdFMM739jeP/LFa2vlwgZTxlvunBwdEvEv4XCSWugRx6ACENTjAiUwIqb05PFd7GFmzjCrWzhpsTsHXkNSQRlDV93NUCEK0VLwX+v3qLMqf8xjn+z20eM8brceqb05eWHrQkaEeKk1QTrlfruBml2gzRba1JaUFOglXLwGys03+iSExTHtOYenUWGk9TyjeqXqykgwtAkQrJTWZ5e8KynuylHtP1o/jNSbS0zoA5LAykgwsv1w8i7jxJ4p7J6jmn0YNZ/NvWIIRRaZn2DRoTucoas37+7hBF3QSAYKtU0ni3beyTv2SN5z16s+MAAaRHcS+8K3xQ7IELf8AqOtJGUnQl/dff0TmfXvovoFPF9VR1n/O3gHjwEABEGR35C5C0mWF/YlBQnuIYO6i3cFsv7fVbVhxbUsvziBZ8Il19mkINPCOAEpdB3HMq5myPaxqhBOih8RtGzJljvUz5eJgZEGDwa8LJJMIIkKXuDRHgo509zItUezn24USokSKv3WYVUSkCEwW8OCIUtqJn5WIJvVIcxuENZzqv+mFf9UYs8b/luMi4AAREGX5CC/EYDpM5vTIjj3+hpWo/n31LRfsyMmPxeGECEIUeECI5aUItc33Kq5C2OcKtbDjiibSeKXtdZZMv3NfC7GHmZISBCL4HySzIUx1CckGrrSloPl7Qe6lCWIsxmHr9k7nUmtIELI0h6gYc2avnHx2RVESGCYzCG6MzKLnWVRFNrQcz+Gk943YjBV5KUEdIdLXiY7aEAmTXmzRcq3gqEAgREGPw2XuyNKEHoLKrytmMqg6RVUXS86JXE7Ds4wi2J2TvTC/bUSwUU5Qhh8V2saiDWaPAbrrA5MUGwNkGwPkFwW7zgJn71lxbUvHxfleBXZM4bVw8RojhhgDRlbRmJ2etjeb+N4f0iNe9OpaELZoYXc2CJpK9GWH+27LUEwaywPgmCDaK6bwJxZgUgwivo7iDLlgHS5tQn7LvIyqz8TGdWKvQtRc2pmRXf5TckynSNlNWBYBhGEEZYZ0aMOBFmLjNgRhg0cSIoW213ZpL4Hg/rejRXFFXUfIik/BxKNGiVcr9o1RAhAaNQvSTnQBaLI9zuMg6xhVuSxOtNsCEQEyM3wit+YUHNNV2ZcYLfeWzijEoQXN8qL2IOAPGz3gZE6GdAlyNAOEm1ySti+CyuaGcs748nip5rlOaqjTKdWUVQNhTHURw3QNoOZVVJ69HytpPd6noLYgqj/gCIcDni4cuzdJDrrMrv5kRFYQtvP1v6UQRsAFg1REhqTD1nyl5nTjOdCVYcz19X3n4MxmBfRCKEFJ03xcZJqxHSiWq/TxLvjOP/MY7/h8O5uwubUhh15/8JACDC0JEPCsagivbTzL7dHVzRTrZw88Gsf0kSbz2ce5fa1I2TlAHS5dazY3isWN7vYni/ZAt/U9lxHkLh4DtBeCPK89MAIpyPSSDu4AQFY/D5ss/mEeHmM6XvGSBluO+EWyVEiJNWtVF2OPcOz21Uru2YgtrPIj1YMYHimBHS1nULSppPlTSfapEVYATuZVguX7sVIMLQIUISJfAGSV7MrKhUOzjCbfGC6w2QGsGQms6LB7NmYlZxhNvi+P9Xl6omXBbPARH62j+XnN5q689vTOGItnruwGELN/GqvsNC+/R5b6q8SogQI0iNSXaufG+84Fa30xxXtDOOf0N5e3pkzwgviQFOkFQvZXVQVofLKuaNeCwhDSDCECJCnLTKde1p+Q8zcr+TEf2dsfzrhbVf4yRlQS2nS19OEGzy6BI74vg35dYfCIQ/8RKE6YqPACK8dlftggAAIABJREFUIkT+SoCTlMbcc7L4b/GCm9nCLWzhlnjBLYdzH+hS1UTATGL1ECGMIU3S/Fg+iy3c7Or4cfyb0wsf11tUgfAZ8Zf4hV0+gAhDiAgxgkQwpEVedDj3vgNZrFj+H368yLpY+b7eosIIAkKh9ILdbGGUJxHGC27NrvvO902m/jeyeyP6gAi9QclPaQiUIFSG7pz6g+kFjxwteERQ87VM1w5jUIifPu9N9VcNEdIH+JlgQ03nxdTce/ZnsQ5ksc6Vv6XQdwTIQugN+BGZBhBhaBEhTtDbrTQmRVNPXlXHKYm6UW9RurxDLYipoJEdx1/jQYQ7D2b9W213phkxei+dzCswlMCDv1AEiND7ZvJLShTH9BaVzkx/DJAmYrTn6iBCCsERV4BvCLXozCq1Ua42yunja/y3I9MvYhYBmQAiDC0idIkUTlIQCs3zkCY0JgVHdI3bhSyOf+Px4qf0FrUP+5Rx3ATr2hQFHcoSC2rGSWswnU4BEa6IysAJKux22iwO1CogQsIE61rl+V2qcpTAcMKK4QRO0s7ADDL+iUuwOMir6ldAhKFIhJcRQcKMGFWGrqyqj+L4V3FEa7PrvqOXCuidhV7VAiet9ZKLSdn3JYvvT8redbzopW51LUHSGzO8zGGZyQARLhNA8LgLgcgmQpy0VXacSM7+k6ufnih+Ocj9dBWKGSBCrygkZCSDQDDEzVv0zkKvY1bBGNKpKmMLt7gtq2zh5pPFL8t1rQTpOiUx4FAAIlxQkFB6AdhiQU0Biqy/4EvD+mYEE2Eo9NOwlo2lFR4QYcC1/9IaZpGnaL2JQRAKQRhsRoxeciFJ2Y8VPu1mQddFDO/nFW3nmXWIYLjPACKc16wEjCEGSFvTda64JUmiqYMiwpllXjX93MsimAhDoZ8Guvn8nj+M0ZHlEQwzLzXACCBCP3dRv7fxnAxRHDcjxg5lRVbVB2fKXqnpukCf0eVF4EGSsidl3zeHCOP41xU0HaJDjQQlWhsgwjmtCWOIVNPEEf0hjr8mXrA+lvdvwppvfVv09c4qPue94f41solwxftpGIkHimNm2NipqmT04d+KW5KXtrEEEGGYEaEJ1hc1p+7PYiUINrKFWw5m/Syj+K96i8ZtL72cEJOUPS3vCc/t1VzRjjj+70tbj8MYFJzYNIAIPVsHxXG9RcMRXeOxJWbn/kxWaWu6CTZ4pgTXcxCIbCJcqJ/+Lpj9dA7aofzVBOtLW4/F8lkJgg1s4eYY3tXHi5/UmhVe2sncVQNEGE5EiOJYt7qeCUbqDjxIRyXNb0y44qnfOElVd55NENw8Ha4pOl6wLjX3IYm6gQhWFGZAhO6OhxGkGTFWd56J5V/rOU3nCKNS8+4xQLrgDE08yxNG1xFMhAv107VpeY9JNU1B66fhIgk4QfVoW+MFP3FHJGfC7tyUWfm+r8G2ABGGExHqIXVBEzeWf52n6mQmeeuvOCNEcMyCmgsaD6flPxzH/2W84I8ni//eIBFbUB/2IC6zhwAi9ATQjBgLmzmzo2ft4IiiE4S/0lu0gAg9sZpzHcFEyPRT0+x++rdGaT6EWXzYJbU6DOYW1FzVcT6G94vZ+nBHLP9fr6gP50gUIMLwIkIVc2qz5576HVxRNEd0kxcNT2/Vh1BLp6qqriunvjtPrmtFcGR6Z1IwcABE6Nn9YAxplRftz6QPG3H35ATBhlMlLzHLhMFoEc/yhNF1BBMhRgdMR2b1U30bgqPBWcUPjgzgpJWJ5rFcBz0zYqpsPxPD+5W7+7guYnn/4oU+nNW/ABHOgiM4crDktyA42qmsnh2Ve2cs77qc+gPMGRRXrguK4yTVS1J2krIzu+mDujMXEOGcpjdCuosVHzOnzW3jiqITBBti+axWWYmvhp052Ub814gmQhIjqDn9NFLmghSCYyRlN8E6I6zFSZLZxLwsFSTVNMUJ/pUjip7mwp3x/HXny9/2dScSIMIrk0coqRXKBOtzGzgHaGeZTcw5Tf+VXvgIvTgcrE3xy0EDEOEc9FAc15rlhc0pKTlRsXzWyZIXW2RF4RJCfU5dgvk10okwvJSSl6WljwbTW1SlrcfOl392vvzT3IZEhaEdI4jl6C4TbMhvTNyf6XKW2RLL+0Nq3p0qowTx8bBGQIRetmKoJEPpGGmGeonoVMnzJ0v2VLSf1Jjk4RKHHhDhfLZACcIIa3Vmlcao0FvUTFMua4w8/xWRdwcQYdi1KYphKIGdLXs3MTuaLdzIFm7kCDedLn1drmsjl+Gsh+CYAdK0yAovVOzNKHoiryFWZZC4ArT6BBEgwlBhOF+ajbAgZiOstyAWE2Lw1VHYlxf5GRxAhJcDnw4HSoeRXO6qyeXyj7D7gAjDsEGJqs5THDqylduMGR0vWFPUdNhIh4Nf+uAPxXEItZhhoxkx0/GZl5QVIEI/6/owFNDgIQCIMKzEg/au+v/b+w7oJq60bZ3/23/32/3/3X/L2Xz5Ntlk90sjYEpCqLYpSQgsISQE0lgCpJCQ7AYSSgI4poTuIhd66MVgbBV3wL13S5arepdGU1RtS5ZlSf+ZEZZHcpO7sa6Oz/GdmTt37n3uO+9z7zvvfa8GQRBMT+wBO3RVNeKtBkQ44pCOdoEIpk/I3x3FDOz6mIcvAIukvxSft5srYQ/2IyiEi6UOwXS4o8OQmM+rvYAIx44GvKD3w0NAhI9Kp0MwrIahBmEps+jAzewt2dXnVBr1xHHhAUT4qAiSu54opr+bv4s0HXxIhHdyd3ElLN+J0OVAm1V97kL66mhm4K3srWxeLkGHw9o5ABAhIMKxQwAQoVsvTOQEhCBqWF1alxLFDKAy5kYxAiPpL59Le12iFA4Yt2Fs2jWqRKiGNUpIpdZoeJJaqVKsxOMujd07MiLPgmCXB8oEmsSrNVBhbVw0E/eO7poUBkXQXsisvChXi30nQhjFkkoORdJnu8qhMuadTV1R1fRgmDsHACJ8xER8RN6T8SoEEOF4IT+o5yKotlFYdTZ1CZUxv0tnBUfS58TnfzuWq077qfPoESEE4zuBlDemnUlddDyBEkb7D1rhXh/D+fZT4bG6hKk0SrlKxuLmVjalNwqrFJBiOD6ZI1htSANBsCYhf19s0qtUxhziY+HCuJztXAnb54g5uK2+vCGJFEcGn1ZG0APu5oXwZZzh2EgBEQIiHDsEABGOoGYZzaKQsvr04wkUNwu6EuG0F2Qq8UTw6BktIjQYVRplWX1qBP0x9yAgnDbletZGJaSE4Ak0weq19yEYquXl/5yx7mTi78ISnzieQGEUhspU0onBhTiNqWEop+ZKXPa+m1k7MspOCWT1CKaDEF+tmpjWmFYWHsNcTJbMKMb8C+mr6wQlPhNqLxoPEGEvoPQqZODk8BEARDh8DMegBJVGnc+6cyLx92R1Q7g2zORKWRNhUjhKRKg3moTy5ptZWyLos0htX3Qy8YkabtYEMQv3LQAIV1JzPfOrCNo0d+Uj6S8lFuxDUO1EGL5oEFSlUWNaI4rpFZAM0xo1MDwokkYwXXpZRLQnEVIZ839OX0PsXaztG5wB9DwgwgEAGjKyE+1GYjyL+G6LH436AyIcDVRHvEwY1XL4JVHMaVGMhW6VSmUsuJD+zvjKj7ulo0aELXxp47m010j7geDGNyrjlfuVMUS0z4mrLlCtoYSTHJ00h/QRDq/86eS3eFK2G7oJkiBCrA0aTAjWNIsro5nzSKFk8C10mEUnJEreoDjVCwdAhIPuDC8EJ/4hhMCo1ihVCeuFJfXCEiUkRzE9seZ0rNsOiHDiSwtRQzyAUXpZTBjtN5H0l6iMeeG0qVTGszXcLI2v5kFsaJrOR3xGkwgbLt57m4ovd8NZxPUXTnuxpD5xgnvNYFpjbnV8GO1xd7VdiTMpb1Y2pRArYR75VaoE1cE51depjOfCaH+PoM8IS/zTlfub6vilMO7QNHTbNSDCsSYDH1/1kcoGwTCCaqubsphFJ65nfnk988vUkphGUTmKGUbqEb6XA4jQd6zGN6drr8QC9t2bWVt/zniLXniQ1Zyv0qgGGnS7gmQaYBSVqgQoph9+MMlecRglItQZjTK15EHlzycSKV1zjkWR9NmnkudIVaKB2j7OmgTFDOUNaaeSgz19SYJOJa+UKPnDcSTptQvG6ySEIHK1lM0tfFB5IbHgxwJ2QrO4lljnOiz8AREOC77xkgbfn4tg+lp+waV76yPpM6mMuVTG3Ej6zFvZ25rEVWP/sQcQoe8dN945ERjFFJCcL6vnS+uF8iYiRPsATg3EQkOkuC4xMf/o7ZwfUktiGoRlGgQd8RCAo0WEBqMGQURybnLxyXDaL08m/unYXcqle+/W8osmzhrKvgUDkSj58bn7wmhPu6yjUYzAcNrzuTXXiNnSIz8ddDccghEE1cnUYr6sTgkp8MHWMOaCrmIBEU5uIsQ0CEwrOBrFmEsymARFMeenl53GtCa3bI1NAhDh2OA8ck9BiNhvvvogoJghtZR6JmVFJH0WlfEKlfHK5Xsfs7gFI25+GC0iNOJvhBrWyFSSekFFWX1yTXOuSM5T467/AwwCRg7zoWsklUbFlzYkFx8Lp/3h2F1KTNKMYk7C8GdLE6FpfdRhxJweABEOXez66JsJVCCMaiVK3s2s76geRBhMZcyJzw3FNyMc2+CWgAgnvswMtYaYClZzBAWnkpeRnTUi6dMZhUeE8sbhj9nJFRtVIux6EKKGNQT/9TKXghAEwgcJutGY73ZVYCiaRK1RKyCFTCWVKqUylUyulo7xOz6cyo/jvYAIhyJt49hhg3o0jGplKlFc9u4eRPhyYt5RLZgRPmoRQwbV+2OcGcUM6WURXmu8XK7tdfySYQb+8GrLmBBhn5oBRjElpChrYNALQ1JKjnLFNSNu+/VqLzgcbQQAEfYp7qMN/diUj2lNaaUxRGQjtxdc0JmUlcWchBE3WA3YIjAjHBCiRzcDihn6WOz8Nodf7Jo8jVTrxpEIYQSTKAUJ+XsiaAHRzOAoZmAUc2Yx565ykBvgjRQUoJwRQQAQ4SQnQuKDhzA+d19s8mvRzOAY5qLTKf9IK6VqUKTH93889INMLZapxaPkbA2IcERe2glZCG4aZfNyY5NeJ32NDo6kz6QVHBLKGobj2t6zveNIhHKVpIB9+0TCb0nNDAqn/14obxrZNvZsNTgzeggAIpzkROgSHZVGlc++mZAfwig8XNGYqkFdjnzdHz+IPb2UdYLSjHJqRjm1TlBKxJQaYQcBQISj9yZPhJIxrZFZdCQ2+VUiVPf8KMa8C+nvVjfl4DFEfLJC4+vAYNS1/ROe6Itaxo8IMalSfPn+Oq+FhhG06VlVZ+RqqW/N9Aud82hBAYjQH4QSU2nUKKbHtEZMa4RRlFhN78GCKo06tTQsnPZUBH16BH16OO2p1NKTKjy+4khyISDCR0s7DLa2ag2kQeDs6ks3s3Zdf/DvhLwDxBY5qM9ShMhUIqGMW1qf1CCsFsl5PYwWD9/WcSVC0cWM1e5IpK55YQR95v2KaECEgxWYiZMfEKE/EOEAbcS0pnxWXEzSoujubTODopkLcqqvDmGJBe5w34czKiDCifPmj05N8MkcpjWqNAqxkqsh/Cp9j2EkU0mzqi5GJ806mfhfxxMoF++tYXMLiUmhd8SQ8SNCVKYS0wr2hdNeIJlGg8MSHytvSJngoWdGp8cH0C2PykMBEU6SjhyywMEIBsFQXPbeSPrL5Hebynj5dvY+CIb6YjWvJ7pi8yOoVgHJlJACxQw95wGACL1Am6yHMOoKsdZtdei/pcTiCiS7+gqVMTOKscAlh1TGvNMpy/hSTk8D6TgSoUqj4vCLT6e8Gk57PoqxgMqYF0b7S1z2drlaPkECW/cPNbjaKwKACP2eCIklFjezdlIZczyJcM7NrJ0ylciXoJGuQG4ieXNpXUpaaWx66ekSTgqx36aHKgRE2OtLCE5CCMyVsG5lfRdJf4kshDFJSzLKY1BM7wXROBIh/glTA1U1Zd7N23s+7R+X7q3LKDvLk7B7Dvu86gwOJzICgAj9nQg1CIpguuTi8CimR6DhKOa85OJwH73eYVQrkjcll4RFJ82NoL0QTnuOyghIK42Rqz32QgNEOJF1wbjWDWHzcq/c3+T17S2GGcwoPNLTPj+OROhy54EQWCCrrxeWNwjK5WrJuEIHNNgIIACIcARAnASvQZOo8kL6uxH0GVGMhVGMhRH0GRfS320SVfrWNAxGsbyaO1TGdNLGPUHRzPkF7FvkldSACH3D0+9kEoIRnrQ2LntnzxnhvYroCTUjJPcggmr7cW0l5xy5tNvE4k74nbT4ACY2WDM1IEIgRjgCKo2KK2bTCkNOpcw7lTKPVhjCFbN9jlKI8GWcu3khEfSZZLtWNDP4yv0tZNd5QIQ+vMN+KpAwqs2tuRHNnO0eS1EZ886mviWSN/UMzza+M8Jx7EQ1DCGYDtMaR2ml7zg2beQejcfGG2ysH0CEfqp3eoqdElIqIIVcJZOrZApI4ft+3BCCNIkrb+d8G0mf7UmEQefT1gMi7Ak1ONMbAohSo8pn3Yhizg6nPRNGe/pG1ieNospeV1D4IRFCsAbFDM3iqpyaS+llEeUNDA0CE+oeTA0f6nA1AZFQ0Vhcd7dOUIBpDcRwwScND4jQJ5h6e2/BjW4EcKf5jLIL4bT/8STCRSklR8mB3MCMEAhSPwhARJBrhVrOERQ2iirUsKav0Zi/ESHBgvoSDuNc6qqYpKUxSUtik167k7tDrpb2OlDoB+TJegmCEblakl4WfSZlVWzSa6eSl9/I2ipSNPc0J/SKACBCtzYHiQERwFSQSgHJFZDMS5gQTF/HL7p8b0MUY76bCy+kr5OrxcSL+nDQCojQCzdwODQE/I0IYVRbJyi+cv8Tz4g2ixiFB8gDzaGBOTnuglHsQcXP0cy55M1PLt/brFBLIWTgqCCACAfU/iADjoBKo1bDGjYvN7PqTC7rEl/aoIKU7i/SalzSdPXCkts5O86mvnMmZQ2tYG/PzXcAEU4OpTPurfA3IsS0hnxWYgTdy+ISfC51nUjR7LXASaVRy1VSJaSSqaS+2wbHvU+HUwHi60zFzaxvvNaAnUpels+6jmADb6gJiBDw3MAIQDCsUMtSSk5E0qdE0GdG0GeE0/5WUkcjZNcj6gemNQnl9XK1GMUMPY02gAiH87aDe90I+B8RGnOr74bRnnSbW1yJc6lr+bJaGMW3RST+MJVGJZA23CuPufpgPbMotElUrcRX+g/8jj/SeRBUW8PNupC+1h2NwYVPTNLi1NIIsptCX80ERDjJRaSvjh/UeQTTZVVdimLMimIGdb2KQTFJS+oEha6AMuTS4Ic+5b0AC4iQDBRIDxkBfyNCFDMU1zJxl9ruIIjB0cygSxkfy9USYgkHqkEQGNWyuLmnU5aH056nMuZF0l86mfjnAnacZkQjBg+510b1xgZR2fXMrV4zwtikpZlV53suv+lZE0CEvejrnjD59xlEKG+4nbOnxxqvRUlFx3oudu4HK0CE/YADLvmOgL8RoQZBeRJ2fO7uSPo0KmNeFGNhJH12TNKCfNZNpCvsDoQgIkXT7ZwfIujTukarOFnGJi3jSdm+fCfzHf+JlhOCEQUkSy87RWXM6nJTCKIy5lzM+FAgq/NlKQUgQkCEAyAAIQhHUHj1weeeH+qDo5gLbmbt1OpMvr8VgAh9xwrk7AcBvyNCGP8A0SCsTCo+eTHjvTMpS25lb8tnxSsgmVvLI5i+ojH9TOqyKEYgiQiDY5NefVB5hhzXoh9gH91LCKoTyBrSSqPOpC4/mfiHKGbAzax/VTdl+ehMBIhwABp4dCVj5GqOyNRiWv5PkfTp5BcsJmnx/cozvpgd3DUBROiGAiSGg4DfESGCb2WFYnqJUsDhF9c05zZLqhBUS14bgGL6ysaMs6lvuCMSuN5WnAgrTk96IsTDHeP48FnNeSWc9IqG+03iakxr9DEGLCBCQIQDI4Bg2srGjFPJr0cQXBjFCIygT79070N8mc5gPj8AIhyO9gf3uhHwQyLsbjuq62v02SypvvZgawR9BmnAiptGm8XVxFaR/rD0HkEwHYoZUEzv5UzrBrDXBCDCgWmgV+D87aRKo65uzr6Tu+1EAiU6aWpS8WGuuJZgQQ+v0f5hAUTYPz7gqo8I+DMR9g0RAiFwVdP90ykrwmn4p8RI+uyTib/PrbmmgWHy3LHvEvxXGQIi9N++H9T7AKNaJaSQKkVCGU8k50tVIt83XHU/CBChGwqQGA4CgAi90CNctbUwqoVgmMMvYhSFXr7/3p28b+oF5T5HDPZrTQiI0K+73+t18uEQ332+r616iXDABkxr0KCoWqPuWRogwp6YgDP9IODS7z0zACJ0Y0IsmUf40lqelOVauauEFHK1VKGWy9VSJaRwR71w3wISPREARAiIcLgIQAgMo9omUWVC/g9nU98+m7o6q+ocjOABSL0EDhChFyDgsC8EIFij0qgaRKU8KRtBdV6yBIjQhZsSUgrlTVcffByT9Hps0vIzqcvLG1KVGmVfqILzfSEAiHC4NNAXsv5zngiuVnbx3ntUxlzXV3oqY/6t7C+61vl2IwyI0H+kYjgtxbdkYl0+nfIasSZs4d283VwJi1wgIEIFJIMQRKlRVjWlX33wcVdElaBw+h/rBOVe4wYydCDdKwKACLvVdK8AgZP9IwAhiFjJSy+LDfPceoLKmFNaTyd81boRBkTYP5jgqgZBEUyfy7ratSw6OJoZHEEPuJ3zvVDe4A5j5M9EqISUcpUkn30tPm9bRnlkk7hSoZall1Ejid1AI+kvxedulyiFQJYGhQAgwm41PSjgQGYXArhRVFx9+f4HPZbbB9IK9nr5eQMiBGLTPwKERV19NmUteQ+BaGZQFHNGUS0D//xMhM30YyJEmsU1FzPWRtCnE36hs6iMmbmsayIFNy5neyT9JSpj/s8Zb0qUIvBpsH9J87oKiBAQ4bAQgFFts5h15f56ryh/UcxAemEIgnrEfQdE6PX6gUMvBBBUx5XWnEt9l7QSDp8UhiU+nlMd746e7LdECKNYfO4PXYZQHJkoxoJzae+wuJnl9ffDaX+PpM++lrkRzAi95GrAQ0CEw6KBAfH1gwyIRMlPL4sJp/2dNIoPiqRPreFmefmOAiL0A3kY1gsFo1qJkncuda0nEQZF0J/NZyX6PREiDaLSC+kfeYbeDo5kBGRV3mgQVJxKDjyZ+Oui2gSF2nvHUCB4/SMAiHBY723/4PrJVRjVNoqqbmR9FU57MoIeEE57IZLxdFppNIRovOLOACL0E5EYTjNhFEstiYigT3dvdRJBn3Hl/uYGYZk7VohfzggxCIZruA/Op62L9tiDIjiSPu1BxbV6Qfn59KUpJeEyldQN1HA6wq/uBUQIiHAEEFBp1E1iVj7rLr3wUGpJZFl9ugxfce+9MTQgQr9SLkNtLG5jSCuNpjKfP5n4WBjtsWuZn1U356hhtYezTC2nsYkrlshgGDGZWiyWdput0+FwOAf56+zsbG9vNxiMC+Yv0BkHEUF+qK0b+uuGu4lC8usPtpI9iaIYC08lLy2tY0qVYhY3V6YS93zvxr6qj9wTAREOXS4fuc4evQpDxF5oEKwRyOolSj6C6dw6i/zQh0RYy+HxhRCk0esNbW3mjo4OH/VXZ2en3W7PyLiXkEjDdHpyySA9mRBAUJ1EwavlleSz7pTX3+NKaom1cd2hMvEZof8RoQZBYVRb05wdk7Qggj7TFUQtkhGQWhouV8tgVOvlmzaZRGK02wKIEBDhyCLQX+hRggi5rFoOTwCIcGRhn3ylIfg6ejw+Eb7frFeoTIII6xqbuBKpH80INfgeFIhKo24U1dAK9l7MWH0j67N8VpxM5d6bd/KJwRi1iCBCWUVVTQ271mA0DtKs4KQMeIPD4bDb7TabzWKxcjh1h48c1U9s+8NoDz38uXwE0zY2c2s59QKhyD0jtFo7XFO9/ueFdrsdzAj9T3i6Z4HktiOYll1X35MI7cSvf0FyqyyXanqETKNuBCAYFst5EoVQqhS55oIapL8BqPtGkOgLARjFxFJZVQ2rppYzKkTodDodDgchbR11nLpjx0+0mi1avQH8+SECeqOJJxDW1TcKxRKNBjYYjC7TqN1ud6unvhIuKXI4HBnpGYykJFNrmx8CCJrsQkBvNNU3NDXz+FK5AkGxlpbW9nZrZ+egvxG6uLC93Wo0mgIXBj5aqklnMOr0RiASI4KAzmCUK1XVrNraunqj0dSXFurr/MAzQjcRWq0djY1NFApl2otTp704NWDqtOnTAqYHBMwImA7+/AOBAAqFwkxK5vEFYqkMQVGjyWQ2Wzo6bA7HwETodDrtdrvD4cjJzqFQKFOnvDh1yosBU6fiUjQtYAYQJL95j6ZPwwWpuoYtEIoUShWm1ba2thFE6JMUeekyu91utVqNJhOhmlxCRagmIFR+I1EzAgL+649/OnL0GI8vaGhsMplavIRkwMNBEKHF0t7S2qrV6dWQRiyRNvP49Q1NnLoGVi0H/E16BNi1dbWc+vqGpiYuTyASKRS4/jK1tFos7YMhQoe1w2a2WEwtLTCCyhVKgVDU2Mzl1Dewa+smPYaggaxaDru2jlPX0NjE5fEFEqlMDWl0en2b2UwY2IdMhB1tZrPRZEJQ7KFQNXHr6hpra+tZQK78QD+zOXWc+oaGxmYuX8AXCFtbWwdkPq8MvhOh3dphbW1r0xuMMIIqlCqRRMoXirg8QTOXD/78AQEuT8AXiERiiVyhhDSw3mBsbcMH8jYb7gvqJVi9HjocDpvN1t5uNbW0YlqdGtLI5AqhSMzjC4Eg+YMINXP5XJ6AyxMKhCKJVKZSqVFMazCazBbcruCjFHmJlt1u7+iwWSztppYWTKtVQxqpTC4Q4kLlJ5CCZrrkSiAUS2VymVxhNpu9hGTAQ1+JkPCX6bRYLC0tLXq9HkHLSFQPAAASS0lEQVRQNaRRqtRyhUqmUII/f0BArlAqVWo1pIERRKvVtbS04HZRG+4pMyjvho6OjrY2s9FoxDCtBkZUakihVAFB8gcRkimUcoVKoVQpVbgcoShmMBhaW4f4gdCl3VxOWFar1SVUWq1Oo4FdQuUnkIJmuuRKpVZrNLBGA7e3tw/IfF4ZfCJC1z2dnZ0duO9oe2trm8nUYjAadXq9VqsDf/6CgE6n0+sNBoPRZGppJYyiNputs9Ph23TQU23hXGhqaTEaTXq9QavTY0CQ/AMBvKO7xKjF1NLW1mZpb7cRC0y9dJPvh52dnbilwWptM+NCZTAaCaHSAaHyF9WECxUhVUajwWjs6OjwXXhcOQdBhK6RVwdh2rJY2tvM5ta2tlbw8ysE2trazGazxYJ/GiRYcLDmrIercTo7rdYOS3u72WIBguRXEkQ0tq0VJ0Czpb3darV22HCjqI9GhV4VnEs12Ww2q9VqsbSbzRagmvxPqFpxoTKb28zmzs7OXuWkn5ODIEKXCiNkztZhs1k7OqzWDqvV2t4O/vwFAaLHO3AKtHW6FgX2I1t9XXIv/7LZ3ILkLwCCl4XgPpz+rB24ILnEaDgs6BIzYv0hvlAVF6oOG1BN/iZpVvxHCFVHx2BH506nDwvqvdSZmw7dkoeLMvj5BwKuTifG78MawrvW5LhLc43o/QNC0Erctcr9Gz4FkhWUu1hConBeBD//QcDd+0MQqkHMCMkC5047/P7nhqI70Tsm3ddJqa6spFPuZNe1CfTfXbcRT0ygRo5DVXqDs69q9Ju3l4t9lTN+53up5OicGr8mToQn94Jpn9XyJW9Xnj4LGdcLTuegw7V3NQj/P1wiJJfln2mboiz+bPhP+3/8cf/hiJ8Z1dI+w9x1omz6+YjD+0ND9/904vSdMhFG+qRrbLx/+1T4sUP7f9z/08nTtzOb4EE7Pvkn/pOj1a2CnCvUYwdCf/xx/9GYm9lCzNJnuxxWpCHj7LFDoaH7D/4UdiWbZ+kkqYBOVeF16uGDB/aHHjp+KrFGrvdpXUufDwMXHl0EHDpeEa6aQn8MPXiUepFRA5H0jVez7Ooy+sXwIwd/DNl/OOwcs4jXS2gWrOhi1IU8eHIKFCBCL4kY5KG+MOzzN+auO5xeJ1dxc6I3vzL/uyvVst5WsbRUUDe+sXj90TSWQMxOPvzPwKkfnKpUuvRUe/PdI+/PmrLu0K0KgVJQcPXb4L+uOUGrRwb9yXeQtQfZJwYCUOquVYGrtp0r4suFlYkhq6evPHFPoe1NbTmsusZbm+cEf3KCUc/l5Jzfsej5N44XKG0PJQW6f2D9gnmfXMxmcZsyIzdOe+bL603QoKNsTAxQQC2GhYCFnxO7ZW7gV+eLxWolix6ycvbqneeqe+E3p9OpLzm76/Vpbx2h16ggQc65r2dP33Itj2f1fL4l76cAyuuXpZNTKQEi9OztwR21VkRtenre0VqT1Y4PyjtNitrra6fsTCiFSWN0okgzi7rm5XXh1S121wzeKq+4/s30zxI4+KzQmH9g9fOLwiotHTZ8uOWwQIL7//7Vmst5fC9ZHFztQO5HAwFt1veL5268ILC6xto2rPbe4flBMeWiHgzmsBgbz6+cu/NCFvRQHSnTIj7705IzIjPOmkj67llzP7nJayPMRHZ9fdbJoCf253ANk1N3PRq9Oz61dMgzL3z+583xYqSVUCmdZl3x3udn77xc01MWOtiXN06ZfbgC6SBMC/Y2pIH+xROfnC1TdA/F2qS51E+WPP0fq67JehYwPk0c2acCIhwGnpbiA6umro+Tdhdh13NzQl7YdJml8KQwR/WhGdM+vdTUndOpr0k9POP961Kd3cm5uO6FBVENbe6r7agw8Z/P7KCXwO5TIDFZETCkffrU3L3pSHf7bLKcyxtf2p+t8mIwu1VXGzkteE9SfXcEqZaic+t/sfIOZHE6ZTfWBqwKzey+ZpVknX9/2k85auPkVF7diIGUJwKdwtyo1S8dq5K1uQ2Zdqvk4ttTP4+q9tRMTmdrcdTnT668DHW6s3bqlcV7n1t3I0/sdFpYtPB1T/3yr4/9kvKrPzxOAUToCfREP7JkfkGZuu1u7p2vZ1EoT249lyLynqKNRAvqLr3/YlBsM9kQ2q5sTFjz7Pf5dSS95nQ6pVeWPfFqeDk5p1WQe+mt//d9habNKbn7yUuLohrJRChI3BT4U0qVfiSqCcoYGgIdFunVd2ZtPXAj49xmCoXy4oEUAWobWlH93GUvOfTM8x/FyckCauLcC5++9JRQ4zEndHS0cGNfD9x7pYFcC2Nz+u0Utr7TqWX+878XhGZqSc8yyzk5yTlNerNbx5EuguT4IFAb++nijTdymPve/ftvHl+49qey7nnXSFXIoSqN//zxzzLlJHl12NvYx58N2p7II0uP0+nkXt629OVjVZ2EUctVAysqom+atptR6qHFKsLnP7kazAhHqpPGpJw66sv/GfD68jXfHL9yr5QjgrpHySP4+Na88OW/3ZzRSh5u27XCgpA5mxjVnhYExY03/7LkZAlZr5mbs88vp2y8L9c5nZI7O99+k1pttRHC6DCrBclfv3Uwq143grUFRQ0SAUd7a+EOCuVvr779RehpemaFENKPvMpyOrWMr/82e08JWYicnbLCGx+9FFL18BPyw4rbLBBz84yvY7O0TofV/PBnsT68s7Ps8JTn/3lHYXNYLV0X2wlT+yDbDbKPKgLy1JD1i4PnLXp/V0xSbilbMBrveDsv58Ly4AiumvxJ0GHRMt5/YtPlck9vPkt5+MZXPqXLSTzodJrUlWGvfnQ5S0YmzbKw+U8AIhxV4RjpwuH4L/7vU4v2xDf3VrDVpNdiKIp5/VA88KG5ndzzvd1NOoekHFpM2ZLVTh5uO3SikkMvrrxRLvB0+mQdmfHchtPs7rsd6sL43RTKvCtC3KrlVN/bvTT4i9P3miFYVHR9x/K1J5kcMm123whSY4SAwyw8P40yc8eFXLSXJ9rN+l6ECENRFNGaOmzk+V0vd5NOyS5veGpuaAXpjNPpUBTf3vzbL3IVGEkcHVZzQ/grc3ccu517c/fSOUveWbMq6G+/m/vvK2ylwe50am5/9pcZ/0qsTTv05ux5y95Z92bg359eF5FUpTF7cKzHc8DBmCPQWnzxiwWUN04Wddt/uutgs7QacBHqRTVpDS3eNs3u+7xTrfX3I2csiBF6+Ek5LMbUjyjrTud4fm/Bcg6ue25LstqDCFsgFnXJqzEZQnItARF64zzRj015+1577h9hjb3XU5R87tienbu+373b42/n9q0/XqnhY+Sb2hG5WCzp+ROLJBqzDU478irl80yLFxEWH5y+5naFyFNs22rPbHjxtZAclQkfwTssmpr0qE3/QaG8cU2EWG0Y6/qOec8uWP3h5999v3vnVxtWLJzzxjexeQItuWhyxUB61BFwdCLMTykr96RKeyU1S82lgzt3eYoQLlE7/v3ZoXQFSh4G2VshsahXMRLL0Fbl9U1Pzwkp92iPXV58e+OT3xQqtCQSc1jNrMO/pVDmrvrqSFyl3Oh02hBe/uXvFlPePNtoskovf/yfT8xdsuyL8/drNWaHswNmJ0d//MriQ8kcg6csejwKHIwpAtaGO4eCKFsLjKQRTncFME7BlZCvt+/yUk27d+3YcywuS9Sd0em0GWCFtKdmkojFUsigrMg4FRQcLfAiQkPKh5QPzuZ7jusM+Yc/mLolWeVFhDWRS/9x+p6IvIoHECG5Ax6FdF3Ya1OWH/ccZA+p3kju1YhIapT3jxp+NJLO05mKYlc/+V4CQjaY2WB+5raX/5XBVnk/0MC+Ebp+ZtC/LqYXlmRc2PXl1u+++mI55QOaEpZlH5/7+2WH4jI5YsJO0qZiZ8f9tPbJVSeTBGTbhneJ4HgUEXDYjfk7pi7bdUM83Ic4rNI06rHw3sToROwDmSn927/O3EZycXE6nVZB3sVVC0/Uq8lWLIfVXB/+OGXet2cqyOY0WfqeJZSvc1Sqm5/95qk5393ik+prYCeFUAJPNXsoRNJ1kBxrBBRJYRt+/VmywdorEQ6iNi11mdfPUKneUkWNOEm9XVSRl3Frw/wDLJWBNIhzWBTXVwR8cbOW7KngdNrZsZ8vWHtdQCZCh0FREBr4ZVy+mlwjQIRkNB6BNELfOGXWnhyythidWitpn70yPaTYQCq9TcY+v2DRydLeFqQ6W0UFaYyE+Nu37zBya+vK0i6unxbKxgRpRzb8+s2rHt+l8awhlDdPV4g8pZb0JJAcVQTsnfxTwdO/PlNFUiWj80DemQWP/eMUhzxrwyqZ+/76cbzMY2LptFlU8Wt+vSky2XOQVXf263lzYposufuefGbVuUbSHNJplxXHfUj52nNmOTqtAKX6gkBr1fntc9+9yWvvGF2xMrGTvn9h5R0h3C1VDoch+9vHV4c88FQ0TqeStnf1X7dlWkiRWdqQpgvLFkak13r4VgAi9KWLJ04ea/HxBY+/e0vVl1kRqsxKSbx7N8H7784tWp5QNagpmOjqpjkLQnK672mHS0+//eoROpc8lMehMXIepGVXKEgooSVXP6F8xVC16qtiP/3jm5c0pGtOZ4sg+4cpW66w1MMdOXqUCg58RsBuzNj0f5YduefZLd23W4W5zLveInQ34W583A1mNWokWwm6b+o1ZeOEvfLkx6dJbu36xru75my4VYmSDVNOp8NqqqMunPX99aZu9eZ0Qpmhb/zxywcaB5TwDmX+wUzyFyBTXerhJxfFgjX1vQI/Dif5aQffmHWcjTxcMupdA5O4IY8Wd6enXMUnphTVQt7Z+znW1lzdEfjBDVZLtxbU3N/+yrLddz1HUU6n0y5L+GH61F0F3d9hOtG6qyte/i6pxtOICoiwH8An3qVO7s+fPzNtP6tbArzqaBA3cmqqq3v8VVWyuLBucDMwrOj4FMqq6PQqqN3ptCM19KgNCz6+UiQl6AuuyaVfuZqlwr8KWpp+Xkqh/JtWKTI5nE6zsooW/uGcjy4ViS24ISxx8/8Eh8Rl1UmIWaxZVZt968d3Vx5MqNaP7sDRCxlw2I2AtfroczM33eT3NRCxwc3s6l6kqLqygi01DcpBpUOetp1C2XStiIs7vbRJ8y7sXvhaaA4fI0RYnkePux5fjK+KcNgM/MTPfx+451q+CMMFTi+toR94h7IiulZrdTrRwkNzKe+cvM8SGR1Op03Lzb2yfcXSHxls8I2wu1/HNQXlXd5I+WeGpq91nWZEyWVVVvWUq+oaDl9OtjwN2Iw2fuqJZbO/vJxRhy/BMstLGUeX/vqti2xCw7Qi/Jyb5xmVkI4YUunLj7/23yuO02rkeCgGtC4jZuvijeFpXmuhnYAIB0R9ImWQXVtLoWxIHRyhDbkBNl1z6rEVv3p29dZdP3zz4YLZ70Uk13Z52XMv7/gzhbK1tq3d4XTaTeLs2M1P/CJw47Zd33268rkX1kensbUPR4ZmiM0IfXfu7Nc3fLdv764t78xf+MGRuBJla19aeMjVBTf6iEBH04knKFP3V/c5nPKxHJ+yOczqqlu7ZlNmrf9m1/bNK2a+/m1cibiLSyt++N8UCuWI61Olw2YQZJ//LOAX89d9+cP333y4dPaK7T8XCx86l1oxDm3/Ksr/Cty4/fvdX3+4ZOGHJ+6WKFtG2QznUxNBJqfTqSu68hXldzES/Zgop3aoMi50xbTFm77b8/2Wlc/+7b3oTF6ra2CN8R5so1CePV0vc3mFdhoED46teeGZFVt+2LP9o6BZ74fG1SE9KlkYQqE8dkZMtr1Pnm6dfJFlrCYdhhk8jUqj2V8Oa6teiyLED9Ua2trdgtLRYtCiqMHqeDits7UZtWh3TnOHO6fTabfimREEgWEEQVCtvrV9EC74o9k+/yzb0W7AMJ1pEBbO4eFkbzfpMBRB8N7HdCbSAsB2oxZDtd01cdjMRh2Gi9vDvF2MiVfAbm3R48UQF4EUDa9PRvzuTnOLHtW1kpeuj/gzyAV2WloI1UQIitbQ5h4RdXaYDRiia7F265iO1of6B9c+hhYLSTd1FWkxYhhJELtOT47/k48IJ0e/gFYABAACAAGAwBghAIhwjIAGjwEIAAQAAgCBiYkAIMKJ2S+gVgABgABAACAwRggAIhwjoMFjAAIAAYAAQGBiIgCIcGL2C6gVQAAgABAACIwRAoAIxwho8BiAAEAAIAAQmJgIACKcmP0CagUQAAgABAACY4QAIMIxAho8BiAAEAAIAAQmJgL/H7RkWHsy4GVSAAAAAElFTkSuQmCC)"
      ],
      "metadata": {
        "id": "MN98-HVI9TQn"
      }
    },
    {
      "cell_type": "markdown",
      "source": [
        "korelasi yang lebih kuat, datanya lebih sedikit penyebarannya"
      ],
      "metadata": {
        "id": "qoQVhoUv9UTo"
      }
    },
    {
      "cell_type": "markdown",
      "source": [
        "## Summary of Descriptive Statistics\n",
        "\n",
        "tadi kita mencari banyak jenis angka statistik berbeda, yang masing masing kegunaannya berbeda.\n",
        "\n",
        "ada yg menjelaskan tengah, penyebaran, korelasi, bentuk distribusi data.\n",
        "\n",
        "daripada dicari satu satu manual. kita bisa pakai juga function yang cari semuanya sekaligus.\n",
        "\n",
        "seperti:\n",
        "- pandas punya describe\n",
        "- scipy stats punya describe"
      ],
      "metadata": {
        "id": "cuwYVvQp-H88"
      }
    },
    {
      "cell_type": "code",
      "source": [
        "# contoh, data mobil kita\n",
        "\n",
        "# pandas punya describe\n",
        "df_car.describe()"
      ],
      "metadata": {
        "colab": {
          "base_uri": "https://localhost:8080/",
          "height": 320
        },
        "id": "ZwsDQ4Xo8woW",
        "outputId": "eb94855f-6b51-4ca5-cf7e-1227994c065d"
      },
      "execution_count": null,
      "outputs": [
        {
          "output_type": "execute_result",
          "data": {
            "text/plain": [
              "           car_ID   symboling   wheelbase   carlength    carwidth   carheight  \\\n",
              "count  205.000000  205.000000  205.000000  205.000000  205.000000  205.000000   \n",
              "mean   103.000000    0.834146   98.756585  174.049268   65.907805   53.724878   \n",
              "std     59.322565    1.245307    6.021776   12.337289    2.145204    2.443522   \n",
              "min      1.000000   -2.000000   86.600000  141.100000   60.300000   47.800000   \n",
              "25%     52.000000    0.000000   94.500000  166.300000   64.100000   52.000000   \n",
              "50%    103.000000    1.000000   97.000000  173.200000   65.500000   54.100000   \n",
              "75%    154.000000    2.000000  102.400000  183.100000   66.900000   55.500000   \n",
              "max    205.000000    3.000000  120.900000  208.100000   72.300000   59.800000   \n",
              "\n",
              "        curbweight  enginesize   boreratio      stroke  compressionratio  \\\n",
              "count   205.000000  205.000000  205.000000  205.000000        205.000000   \n",
              "mean   2555.565854  126.907317    3.329756    3.255415         10.142537   \n",
              "std     520.680204   41.642693    0.270844    0.313597          3.972040   \n",
              "min    1488.000000   61.000000    2.540000    2.070000          7.000000   \n",
              "25%    2145.000000   97.000000    3.150000    3.110000          8.600000   \n",
              "50%    2414.000000  120.000000    3.310000    3.290000          9.000000   \n",
              "75%    2935.000000  141.000000    3.580000    3.410000          9.400000   \n",
              "max    4066.000000  326.000000    3.940000    4.170000         23.000000   \n",
              "\n",
              "       horsepower      peakrpm     citympg  highwaympg         price  \n",
              "count  205.000000   205.000000  205.000000  205.000000    205.000000  \n",
              "mean   104.117073  5125.121951   25.219512   30.751220  13276.710571  \n",
              "std     39.544167   476.985643    6.542142    6.886443   7988.852332  \n",
              "min     48.000000  4150.000000   13.000000   16.000000   5118.000000  \n",
              "25%     70.000000  4800.000000   19.000000   25.000000   7788.000000  \n",
              "50%     95.000000  5200.000000   24.000000   30.000000  10295.000000  \n",
              "75%    116.000000  5500.000000   30.000000   34.000000  16503.000000  \n",
              "max    288.000000  6600.000000   49.000000   54.000000  45400.000000  "
            ],
            "text/html": [
              "\n",
              "  <div id=\"df-f3a35560-1ff6-47fb-b8a6-96c1f9064128\" class=\"colab-df-container\">\n",
              "    <div>\n",
              "<style scoped>\n",
              "    .dataframe tbody tr th:only-of-type {\n",
              "        vertical-align: middle;\n",
              "    }\n",
              "\n",
              "    .dataframe tbody tr th {\n",
              "        vertical-align: top;\n",
              "    }\n",
              "\n",
              "    .dataframe thead th {\n",
              "        text-align: right;\n",
              "    }\n",
              "</style>\n",
              "<table border=\"1\" class=\"dataframe\">\n",
              "  <thead>\n",
              "    <tr style=\"text-align: right;\">\n",
              "      <th></th>\n",
              "      <th>car_ID</th>\n",
              "      <th>symboling</th>\n",
              "      <th>wheelbase</th>\n",
              "      <th>carlength</th>\n",
              "      <th>carwidth</th>\n",
              "      <th>carheight</th>\n",
              "      <th>curbweight</th>\n",
              "      <th>enginesize</th>\n",
              "      <th>boreratio</th>\n",
              "      <th>stroke</th>\n",
              "      <th>compressionratio</th>\n",
              "      <th>horsepower</th>\n",
              "      <th>peakrpm</th>\n",
              "      <th>citympg</th>\n",
              "      <th>highwaympg</th>\n",
              "      <th>price</th>\n",
              "    </tr>\n",
              "  </thead>\n",
              "  <tbody>\n",
              "    <tr>\n",
              "      <th>count</th>\n",
              "      <td>205.000000</td>\n",
              "      <td>205.000000</td>\n",
              "      <td>205.000000</td>\n",
              "      <td>205.000000</td>\n",
              "      <td>205.000000</td>\n",
              "      <td>205.000000</td>\n",
              "      <td>205.000000</td>\n",
              "      <td>205.000000</td>\n",
              "      <td>205.000000</td>\n",
              "      <td>205.000000</td>\n",
              "      <td>205.000000</td>\n",
              "      <td>205.000000</td>\n",
              "      <td>205.000000</td>\n",
              "      <td>205.000000</td>\n",
              "      <td>205.000000</td>\n",
              "      <td>205.000000</td>\n",
              "    </tr>\n",
              "    <tr>\n",
              "      <th>mean</th>\n",
              "      <td>103.000000</td>\n",
              "      <td>0.834146</td>\n",
              "      <td>98.756585</td>\n",
              "      <td>174.049268</td>\n",
              "      <td>65.907805</td>\n",
              "      <td>53.724878</td>\n",
              "      <td>2555.565854</td>\n",
              "      <td>126.907317</td>\n",
              "      <td>3.329756</td>\n",
              "      <td>3.255415</td>\n",
              "      <td>10.142537</td>\n",
              "      <td>104.117073</td>\n",
              "      <td>5125.121951</td>\n",
              "      <td>25.219512</td>\n",
              "      <td>30.751220</td>\n",
              "      <td>13276.710571</td>\n",
              "    </tr>\n",
              "    <tr>\n",
              "      <th>std</th>\n",
              "      <td>59.322565</td>\n",
              "      <td>1.245307</td>\n",
              "      <td>6.021776</td>\n",
              "      <td>12.337289</td>\n",
              "      <td>2.145204</td>\n",
              "      <td>2.443522</td>\n",
              "      <td>520.680204</td>\n",
              "      <td>41.642693</td>\n",
              "      <td>0.270844</td>\n",
              "      <td>0.313597</td>\n",
              "      <td>3.972040</td>\n",
              "      <td>39.544167</td>\n",
              "      <td>476.985643</td>\n",
              "      <td>6.542142</td>\n",
              "      <td>6.886443</td>\n",
              "      <td>7988.852332</td>\n",
              "    </tr>\n",
              "    <tr>\n",
              "      <th>min</th>\n",
              "      <td>1.000000</td>\n",
              "      <td>-2.000000</td>\n",
              "      <td>86.600000</td>\n",
              "      <td>141.100000</td>\n",
              "      <td>60.300000</td>\n",
              "      <td>47.800000</td>\n",
              "      <td>1488.000000</td>\n",
              "      <td>61.000000</td>\n",
              "      <td>2.540000</td>\n",
              "      <td>2.070000</td>\n",
              "      <td>7.000000</td>\n",
              "      <td>48.000000</td>\n",
              "      <td>4150.000000</td>\n",
              "      <td>13.000000</td>\n",
              "      <td>16.000000</td>\n",
              "      <td>5118.000000</td>\n",
              "    </tr>\n",
              "    <tr>\n",
              "      <th>25%</th>\n",
              "      <td>52.000000</td>\n",
              "      <td>0.000000</td>\n",
              "      <td>94.500000</td>\n",
              "      <td>166.300000</td>\n",
              "      <td>64.100000</td>\n",
              "      <td>52.000000</td>\n",
              "      <td>2145.000000</td>\n",
              "      <td>97.000000</td>\n",
              "      <td>3.150000</td>\n",
              "      <td>3.110000</td>\n",
              "      <td>8.600000</td>\n",
              "      <td>70.000000</td>\n",
              "      <td>4800.000000</td>\n",
              "      <td>19.000000</td>\n",
              "      <td>25.000000</td>\n",
              "      <td>7788.000000</td>\n",
              "    </tr>\n",
              "    <tr>\n",
              "      <th>50%</th>\n",
              "      <td>103.000000</td>\n",
              "      <td>1.000000</td>\n",
              "      <td>97.000000</td>\n",
              "      <td>173.200000</td>\n",
              "      <td>65.500000</td>\n",
              "      <td>54.100000</td>\n",
              "      <td>2414.000000</td>\n",
              "      <td>120.000000</td>\n",
              "      <td>3.310000</td>\n",
              "      <td>3.290000</td>\n",
              "      <td>9.000000</td>\n",
              "      <td>95.000000</td>\n",
              "      <td>5200.000000</td>\n",
              "      <td>24.000000</td>\n",
              "      <td>30.000000</td>\n",
              "      <td>10295.000000</td>\n",
              "    </tr>\n",
              "    <tr>\n",
              "      <th>75%</th>\n",
              "      <td>154.000000</td>\n",
              "      <td>2.000000</td>\n",
              "      <td>102.400000</td>\n",
              "      <td>183.100000</td>\n",
              "      <td>66.900000</td>\n",
              "      <td>55.500000</td>\n",
              "      <td>2935.000000</td>\n",
              "      <td>141.000000</td>\n",
              "      <td>3.580000</td>\n",
              "      <td>3.410000</td>\n",
              "      <td>9.400000</td>\n",
              "      <td>116.000000</td>\n",
              "      <td>5500.000000</td>\n",
              "      <td>30.000000</td>\n",
              "      <td>34.000000</td>\n",
              "      <td>16503.000000</td>\n",
              "    </tr>\n",
              "    <tr>\n",
              "      <th>max</th>\n",
              "      <td>205.000000</td>\n",
              "      <td>3.000000</td>\n",
              "      <td>120.900000</td>\n",
              "      <td>208.100000</td>\n",
              "      <td>72.300000</td>\n",
              "      <td>59.800000</td>\n",
              "      <td>4066.000000</td>\n",
              "      <td>326.000000</td>\n",
              "      <td>3.940000</td>\n",
              "      <td>4.170000</td>\n",
              "      <td>23.000000</td>\n",
              "      <td>288.000000</td>\n",
              "      <td>6600.000000</td>\n",
              "      <td>49.000000</td>\n",
              "      <td>54.000000</td>\n",
              "      <td>45400.000000</td>\n",
              "    </tr>\n",
              "  </tbody>\n",
              "</table>\n",
              "</div>\n",
              "    <div class=\"colab-df-buttons\">\n",
              "\n",
              "  <div class=\"colab-df-container\">\n",
              "    <button class=\"colab-df-convert\" onclick=\"convertToInteractive('df-f3a35560-1ff6-47fb-b8a6-96c1f9064128')\"\n",
              "            title=\"Convert this dataframe to an interactive table.\"\n",
              "            style=\"display:none;\">\n",
              "\n",
              "  <svg xmlns=\"http://www.w3.org/2000/svg\" height=\"24px\" viewBox=\"0 -960 960 960\">\n",
              "    <path d=\"M120-120v-720h720v720H120Zm60-500h600v-160H180v160Zm220 220h160v-160H400v160Zm0 220h160v-160H400v160ZM180-400h160v-160H180v160Zm440 0h160v-160H620v160ZM180-180h160v-160H180v160Zm440 0h160v-160H620v160Z\"/>\n",
              "  </svg>\n",
              "    </button>\n",
              "\n",
              "  <style>\n",
              "    .colab-df-container {\n",
              "      display:flex;\n",
              "      gap: 12px;\n",
              "    }\n",
              "\n",
              "    .colab-df-convert {\n",
              "      background-color: #E8F0FE;\n",
              "      border: none;\n",
              "      border-radius: 50%;\n",
              "      cursor: pointer;\n",
              "      display: none;\n",
              "      fill: #1967D2;\n",
              "      height: 32px;\n",
              "      padding: 0 0 0 0;\n",
              "      width: 32px;\n",
              "    }\n",
              "\n",
              "    .colab-df-convert:hover {\n",
              "      background-color: #E2EBFA;\n",
              "      box-shadow: 0px 1px 2px rgba(60, 64, 67, 0.3), 0px 1px 3px 1px rgba(60, 64, 67, 0.15);\n",
              "      fill: #174EA6;\n",
              "    }\n",
              "\n",
              "    .colab-df-buttons div {\n",
              "      margin-bottom: 4px;\n",
              "    }\n",
              "\n",
              "    [theme=dark] .colab-df-convert {\n",
              "      background-color: #3B4455;\n",
              "      fill: #D2E3FC;\n",
              "    }\n",
              "\n",
              "    [theme=dark] .colab-df-convert:hover {\n",
              "      background-color: #434B5C;\n",
              "      box-shadow: 0px 1px 3px 1px rgba(0, 0, 0, 0.15);\n",
              "      filter: drop-shadow(0px 1px 2px rgba(0, 0, 0, 0.3));\n",
              "      fill: #FFFFFF;\n",
              "    }\n",
              "  </style>\n",
              "\n",
              "    <script>\n",
              "      const buttonEl =\n",
              "        document.querySelector('#df-f3a35560-1ff6-47fb-b8a6-96c1f9064128 button.colab-df-convert');\n",
              "      buttonEl.style.display =\n",
              "        google.colab.kernel.accessAllowed ? 'block' : 'none';\n",
              "\n",
              "      async function convertToInteractive(key) {\n",
              "        const element = document.querySelector('#df-f3a35560-1ff6-47fb-b8a6-96c1f9064128');\n",
              "        const dataTable =\n",
              "          await google.colab.kernel.invokeFunction('convertToInteractive',\n",
              "                                                    [key], {});\n",
              "        if (!dataTable) return;\n",
              "\n",
              "        const docLinkHtml = 'Like what you see? Visit the ' +\n",
              "          '<a target=\"_blank\" href=https://colab.research.google.com/notebooks/data_table.ipynb>data table notebook</a>'\n",
              "          + ' to learn more about interactive tables.';\n",
              "        element.innerHTML = '';\n",
              "        dataTable['output_type'] = 'display_data';\n",
              "        await google.colab.output.renderOutput(dataTable, element);\n",
              "        const docLink = document.createElement('div');\n",
              "        docLink.innerHTML = docLinkHtml;\n",
              "        element.appendChild(docLink);\n",
              "      }\n",
              "    </script>\n",
              "  </div>\n",
              "\n",
              "\n",
              "<div id=\"df-4093c5b7-321a-4118-bfbc-b9894f7a0afc\">\n",
              "  <button class=\"colab-df-quickchart\" onclick=\"quickchart('df-4093c5b7-321a-4118-bfbc-b9894f7a0afc')\"\n",
              "            title=\"Suggest charts.\"\n",
              "            style=\"display:none;\">\n",
              "\n",
              "<svg xmlns=\"http://www.w3.org/2000/svg\" height=\"24px\"viewBox=\"0 0 24 24\"\n",
              "     width=\"24px\">\n",
              "    <g>\n",
              "        <path d=\"M19 3H5c-1.1 0-2 .9-2 2v14c0 1.1.9 2 2 2h14c1.1 0 2-.9 2-2V5c0-1.1-.9-2-2-2zM9 17H7v-7h2v7zm4 0h-2V7h2v10zm4 0h-2v-4h2v4z\"/>\n",
              "    </g>\n",
              "</svg>\n",
              "  </button>\n",
              "\n",
              "<style>\n",
              "  .colab-df-quickchart {\n",
              "      --bg-color: #E8F0FE;\n",
              "      --fill-color: #1967D2;\n",
              "      --hover-bg-color: #E2EBFA;\n",
              "      --hover-fill-color: #174EA6;\n",
              "      --disabled-fill-color: #AAA;\n",
              "      --disabled-bg-color: #DDD;\n",
              "  }\n",
              "\n",
              "  [theme=dark] .colab-df-quickchart {\n",
              "      --bg-color: #3B4455;\n",
              "      --fill-color: #D2E3FC;\n",
              "      --hover-bg-color: #434B5C;\n",
              "      --hover-fill-color: #FFFFFF;\n",
              "      --disabled-bg-color: #3B4455;\n",
              "      --disabled-fill-color: #666;\n",
              "  }\n",
              "\n",
              "  .colab-df-quickchart {\n",
              "    background-color: var(--bg-color);\n",
              "    border: none;\n",
              "    border-radius: 50%;\n",
              "    cursor: pointer;\n",
              "    display: none;\n",
              "    fill: var(--fill-color);\n",
              "    height: 32px;\n",
              "    padding: 0;\n",
              "    width: 32px;\n",
              "  }\n",
              "\n",
              "  .colab-df-quickchart:hover {\n",
              "    background-color: var(--hover-bg-color);\n",
              "    box-shadow: 0 1px 2px rgba(60, 64, 67, 0.3), 0 1px 3px 1px rgba(60, 64, 67, 0.15);\n",
              "    fill: var(--button-hover-fill-color);\n",
              "  }\n",
              "\n",
              "  .colab-df-quickchart-complete:disabled,\n",
              "  .colab-df-quickchart-complete:disabled:hover {\n",
              "    background-color: var(--disabled-bg-color);\n",
              "    fill: var(--disabled-fill-color);\n",
              "    box-shadow: none;\n",
              "  }\n",
              "\n",
              "  .colab-df-spinner {\n",
              "    border: 2px solid var(--fill-color);\n",
              "    border-color: transparent;\n",
              "    border-bottom-color: var(--fill-color);\n",
              "    animation:\n",
              "      spin 1s steps(1) infinite;\n",
              "  }\n",
              "\n",
              "  @keyframes spin {\n",
              "    0% {\n",
              "      border-color: transparent;\n",
              "      border-bottom-color: var(--fill-color);\n",
              "      border-left-color: var(--fill-color);\n",
              "    }\n",
              "    20% {\n",
              "      border-color: transparent;\n",
              "      border-left-color: var(--fill-color);\n",
              "      border-top-color: var(--fill-color);\n",
              "    }\n",
              "    30% {\n",
              "      border-color: transparent;\n",
              "      border-left-color: var(--fill-color);\n",
              "      border-top-color: var(--fill-color);\n",
              "      border-right-color: var(--fill-color);\n",
              "    }\n",
              "    40% {\n",
              "      border-color: transparent;\n",
              "      border-right-color: var(--fill-color);\n",
              "      border-top-color: var(--fill-color);\n",
              "    }\n",
              "    60% {\n",
              "      border-color: transparent;\n",
              "      border-right-color: var(--fill-color);\n",
              "    }\n",
              "    80% {\n",
              "      border-color: transparent;\n",
              "      border-right-color: var(--fill-color);\n",
              "      border-bottom-color: var(--fill-color);\n",
              "    }\n",
              "    90% {\n",
              "      border-color: transparent;\n",
              "      border-bottom-color: var(--fill-color);\n",
              "    }\n",
              "  }\n",
              "</style>\n",
              "\n",
              "  <script>\n",
              "    async function quickchart(key) {\n",
              "      const quickchartButtonEl =\n",
              "        document.querySelector('#' + key + ' button');\n",
              "      quickchartButtonEl.disabled = true;  // To prevent multiple clicks.\n",
              "      quickchartButtonEl.classList.add('colab-df-spinner');\n",
              "      try {\n",
              "        const charts = await google.colab.kernel.invokeFunction(\n",
              "            'suggestCharts', [key], {});\n",
              "      } catch (error) {\n",
              "        console.error('Error during call to suggestCharts:', error);\n",
              "      }\n",
              "      quickchartButtonEl.classList.remove('colab-df-spinner');\n",
              "      quickchartButtonEl.classList.add('colab-df-quickchart-complete');\n",
              "    }\n",
              "    (() => {\n",
              "      let quickchartButtonEl =\n",
              "        document.querySelector('#df-4093c5b7-321a-4118-bfbc-b9894f7a0afc button');\n",
              "      quickchartButtonEl.style.display =\n",
              "        google.colab.kernel.accessAllowed ? 'block' : 'none';\n",
              "    })();\n",
              "  </script>\n",
              "</div>\n",
              "    </div>\n",
              "  </div>\n"
            ]
          },
          "metadata": {},
          "execution_count": 84
        }
      ]
    },
    {
      "cell_type": "markdown",
      "source": [
        "dia langsung kasih:\n",
        "- count, jumlah data\n",
        "- mean, rata-rata\n",
        "- std, standard deviation\n",
        "- min,\n",
        "- q1,\n",
        "- q2,\n",
        "- q3,\n",
        "- max\n",
        "\n",
        "untuk semua kolom data yang data type nya numerik."
      ],
      "metadata": {
        "id": "LKW_L0pA-e86"
      }
    },
    {
      "cell_type": "code",
      "source": [
        "x = df_car[\"price\"]\n",
        "\n",
        "scipy.stats.describe(x, ddof=1, bias=False)"
      ],
      "metadata": {
        "colab": {
          "base_uri": "https://localhost:8080/"
        },
        "id": "T-pJvJ-e-eH0",
        "outputId": "7cc550be-2ed9-4d6c-f059-f78d66db3d59"
      },
      "execution_count": null,
      "outputs": [
        {
          "output_type": "execute_result",
          "data": {
            "text/plain": [
              "DescribeResult(nobs=205, minmax=(5118.0, 45400.0), mean=13276.710570731706, variance=63821761.57839796, skewness=1.777678156091445, kurtosis=3.0516478713963995)"
            ]
          },
          "metadata": {},
          "execution_count": 86
        }
      ]
    },
    {
      "cell_type": "markdown",
      "source": [
        "scipy stats describe memberikan informasi untuk 1 Series, 1 kolom data saja. dia kasih:\n",
        "- nobs, count, jumlah data\n",
        "- minmax, min dan max dalam sebuah tuple\n",
        "- mean, rata-rata\n",
        "- variance, kalau di akar akan dapat std\n",
        "- skewness\n",
        "- kurtosis\n"
      ],
      "metadata": {
        "id": "xmY2AmSm_u6-"
      }
    },
    {
      "cell_type": "markdown",
      "source": [
        "tergantung angka statistic yang mana yang lagi mau kita cari, kita bisa:\n",
        "- cari satu satu\n",
        "- pakai describe dari pandas, extract yg diinginkan\n",
        "- pakai describe dari scipy.stats, extract yg diinginkan"
      ],
      "metadata": {
        "id": "L0s6k7su_-Je"
      }
    },
    {
      "cell_type": "code",
      "source": [],
      "metadata": {
        "id": "uYcnJSed_kP9"
      },
      "execution_count": null,
      "outputs": []
    }
  ]
}