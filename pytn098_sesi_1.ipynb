{
  "nbformat": 4,
  "nbformat_minor": 0,
  "metadata": {
    "colab": {
      "provenance": []
    },
    "kernelspec": {
      "name": "python3",
      "display_name": "Python 3"
    },
    "language_info": {
      "name": "python"
    }
  },
  "cells": [
    {
      "cell_type": "markdown",
      "source": [
        "# Sesi 1 - Basic Python, Data Types, dan Variables\n",
        "\n",
        "## Basic Python\n",
        "Kita perlu menyiapkan file tipe .ipynb atau .py untuk mulai mengetik code Python\n",
        "\n",
        "Untuk mengetik code Python kita bisa menulis keyword, atau data. keyword termasuk:\n",
        "- print - untuk mencetak data yang ada ke display\n",
        "\n",
        "## Data Types\n",
        "primitive data type di Python termasuk:\n",
        "- integer (numerik, bulat, 1 2 3, tidak ada decimal point)\n",
        "- float (numerik, tidak bulat, 1.0, 2.43, 3.435, 0.0, asal ada decimal point nya)\n",
        "- string (text, non numerik, pakai kutip bikinnya, '' \"\")\n",
        "- boolean (true false)"
      ],
      "metadata": {
        "id": "zRuhHZwkXxU0"
      }
    },
    {
      "cell_type": "code",
      "source": [
        "# comment tidak termasuk code, cuma catatan di kotak code\n",
        "# integer\n",
        "1\n",
        "2\n",
        "3\n",
        "4\n",
        "654894651615279521975621617982179625176952186975278567451268572"
      ],
      "metadata": {
        "colab": {
          "base_uri": "https://localhost:8080/"
        },
        "id": "7crL2gyUXpsT",
        "outputId": "2ec39ac9-2802-489b-d73b-4d056b81c78d"
      },
      "execution_count": null,
      "outputs": [
        {
          "output_type": "execute_result",
          "data": {
            "text/plain": [
              "654894651615279521975621617982179625176952186975278567451268572"
            ]
          },
          "metadata": {},
          "execution_count": 1
        }
      ]
    },
    {
      "cell_type": "markdown",
      "source": [
        "code yang kita jalankan dengan klik di atas kiri kotak code, atau shift+enter di kotak code, hanya dikasih lihat line terakhir saja.\n",
        "\n",
        "data di baris terakhir saja yang di display.\n",
        "\n",
        "karena itu, kita gunakan `print()` untuk menampilkan data ke display."
      ],
      "metadata": {
        "id": "QlIP3msxZFUP"
      }
    },
    {
      "cell_type": "code",
      "source": [
        "print(1)\n",
        "print(10)\n",
        "print(-654684)\n",
        "print(99999999)"
      ],
      "metadata": {
        "colab": {
          "base_uri": "https://localhost:8080/"
        },
        "id": "LUgEjxmxZTUq",
        "outputId": "a0612031-c09f-4c90-a28a-03b5f2cca0c4"
      },
      "execution_count": null,
      "outputs": [
        {
          "output_type": "stream",
          "name": "stdout",
          "text": [
            "1\n",
            "10\n",
            "-654684\n",
            "99999999\n"
          ]
        }
      ]
    },
    {
      "cell_type": "markdown",
      "source": [
        "untuk mengecek tipe data, kita gunakan `type()`"
      ],
      "metadata": {
        "id": "bC0F_6O-ZZ94"
      }
    },
    {
      "cell_type": "code",
      "source": [
        "type(1)"
      ],
      "metadata": {
        "colab": {
          "base_uri": "https://localhost:8080/"
        },
        "id": "Eth20T0LZXlN",
        "outputId": "b7613f11-64f6-48f1-ddf7-de66c2c0628d"
      },
      "execution_count": null,
      "outputs": [
        {
          "output_type": "execute_result",
          "data": {
            "text/plain": [
              "int"
            ]
          },
          "metadata": {},
          "execution_count": 3
        }
      ]
    },
    {
      "cell_type": "code",
      "source": [
        "type(763542)"
      ],
      "metadata": {
        "colab": {
          "base_uri": "https://localhost:8080/"
        },
        "id": "CWbewloUZdou",
        "outputId": "917f7189-8751-4abf-cbce-d9bdf7a1a4a5"
      },
      "execution_count": null,
      "outputs": [
        {
          "output_type": "execute_result",
          "data": {
            "text/plain": [
              "int"
            ]
          },
          "metadata": {},
          "execution_count": 4
        }
      ]
    },
    {
      "cell_type": "markdown",
      "source": [
        "kita bisa menggunakan print dan type berbarengan untuk mendisplay type sebuah data"
      ],
      "metadata": {
        "id": "2xLxf7PkZgmX"
      }
    },
    {
      "cell_type": "code",
      "source": [
        "print(type(763542))"
      ],
      "metadata": {
        "colab": {
          "base_uri": "https://localhost:8080/"
        },
        "id": "Y_fPH9YpZe3H",
        "outputId": "684a9816-6474-4e36-91ad-9efa1f42493c"
      },
      "execution_count": null,
      "outputs": [
        {
          "output_type": "stream",
          "name": "stdout",
          "text": [
            "<class 'int'>\n"
          ]
        }
      ]
    },
    {
      "cell_type": "markdown",
      "source": [
        "class adalah data type. kita bisa bikin data type custom, misalkan kita buat tipe data khusus \"red\" \"yellow\" \"green\" tiga text ini menjadi tipe data \"color\" itu bisa bisa aja, dengan menggunakan class.\n",
        "\n",
        "tapi kita tidak akan mempelajari cara buat custom data type di kelas ini."
      ],
      "metadata": {
        "id": "LQ2MiGu_Z5pO"
      }
    },
    {
      "cell_type": "code",
      "source": [
        "# float\n",
        "print(type(0.0))\n",
        "\n",
        "# string\n",
        "print(type(\"\"))\n",
        "\n",
        "# boolean\n",
        "print(type(True))\n",
        "print(type(False))"
      ],
      "metadata": {
        "colab": {
          "base_uri": "https://localhost:8080/"
        },
        "id": "g2MShPNpZyLZ",
        "outputId": "612ac626-81fe-4b8d-d7b3-bff889bc9c79"
      },
      "execution_count": null,
      "outputs": [
        {
          "output_type": "stream",
          "name": "stdout",
          "text": [
            "<class 'float'>\n",
            "<class 'str'>\n",
            "<class 'bool'>\n",
            "<class 'bool'>\n"
          ]
        }
      ]
    },
    {
      "cell_type": "markdown",
      "source": [
        "demikian 4 tipe data paling mendasar: int, float, str, bool\n",
        "\n",
        "- integer\n",
        "- floating-point number\n",
        "- string\n",
        "- boolean\n",
        "\n",
        "## Variable\n",
        "variable adalah cara kita memegang data yang sudah diketik tadi\n",
        "\n",
        "peraturan membuat variable:\n",
        "- mulai dengan alphabet + berikan \"=\" lalu datanya\n",
        "- huruf kecil semua + kalau ada spasi, kita ganti jadi _\n",
        "- berbeda dengan keyword python\n",
        "\n",
        "contoh:\n",
        "```python\n",
        "nilai_andi = 23\n",
        "```"
      ],
      "metadata": {
        "id": "UatGAoEgaWXd"
      }
    },
    {
      "cell_type": "code",
      "source": [
        "8hacktiv"
      ],
      "metadata": {
        "colab": {
          "base_uri": "https://localhost:8080/",
          "height": 140
        },
        "id": "tQYeWemYaUF1",
        "outputId": "1f5a2d91-0bef-4f2d-da95-81e2f5662f64"
      },
      "execution_count": null,
      "outputs": [
        {
          "output_type": "error",
          "ename": "SyntaxError",
          "evalue": "ignored",
          "traceback": [
            "\u001b[0;36m  File \u001b[0;32m\"<ipython-input-7-3de9937c0668>\"\u001b[0;36m, line \u001b[0;32m1\u001b[0m\n\u001b[0;31m    8hacktiv\u001b[0m\n\u001b[0m    ^\u001b[0m\n\u001b[0;31mSyntaxError\u001b[0m\u001b[0;31m:\u001b[0m invalid decimal literal\n"
          ]
        }
      ]
    },
    {
      "cell_type": "code",
      "source": [
        "nilai=32"
      ],
      "metadata": {
        "id": "envUmEeCeMGf"
      },
      "execution_count": null,
      "outputs": []
    },
    {
      "cell_type": "markdown",
      "source": [
        "jadilah sebuah variable nilai yang menyimpan data, integer dengan value 32\n",
        "\n",
        "variable yang sudah jadi, bisa dipanggil lagi, pakai saja namanya"
      ],
      "metadata": {
        "id": "lGPTMUENeiAv"
      }
    },
    {
      "cell_type": "code",
      "source": [
        "nilai"
      ],
      "metadata": {
        "colab": {
          "base_uri": "https://localhost:8080/"
        },
        "id": "L4Aman4pehn3",
        "outputId": "f279b14d-d0ae-4e8a-d654-48a542a4946a"
      },
      "execution_count": null,
      "outputs": [
        {
          "output_type": "execute_result",
          "data": {
            "text/plain": [
              "32"
            ]
          },
          "metadata": {},
          "execution_count": 9
        }
      ]
    },
    {
      "cell_type": "code",
      "source": [
        "print(nilai)"
      ],
      "metadata": {
        "colab": {
          "base_uri": "https://localhost:8080/"
        },
        "id": "hwJoVMineqZJ",
        "outputId": "7327f173-d864-4f70-c8d3-04e90b901aea"
      },
      "execution_count": null,
      "outputs": [
        {
          "output_type": "stream",
          "name": "stdout",
          "text": [
            "32\n"
          ]
        }
      ]
    },
    {
      "cell_type": "code",
      "source": [
        "type(nilai)"
      ],
      "metadata": {
        "colab": {
          "base_uri": "https://localhost:8080/"
        },
        "id": "yFZocjjqerlx",
        "outputId": "f8f1373a-18d3-479d-8d77-fc6b0644f72a"
      },
      "execution_count": null,
      "outputs": [
        {
          "output_type": "execute_result",
          "data": {
            "text/plain": [
              "int"
            ]
          },
          "metadata": {},
          "execution_count": 11
        }
      ]
    },
    {
      "cell_type": "code",
      "source": [
        "print(type(nilai))"
      ],
      "metadata": {
        "colab": {
          "base_uri": "https://localhost:8080/"
        },
        "id": "94B-DlTles-z",
        "outputId": "3bae83db-11fe-4805-925b-960b6354a72d"
      },
      "execution_count": null,
      "outputs": [
        {
          "output_type": "stream",
          "name": "stdout",
          "text": [
            "<class 'int'>\n"
          ]
        }
      ]
    },
    {
      "cell_type": "markdown",
      "source": [
        "python tidak peduli dengan cAsE, huruf besar huruf kecil dia anggap berbeda, jadi:"
      ],
      "metadata": {
        "id": "FtYC5Cw4e8ms"
      }
    },
    {
      "cell_type": "code",
      "source": [
        "Nilai = 1\n",
        "nIlai = 2\n",
        "nilaI = 3\n",
        "NILAI = 4\n",
        "NIlai = 5\n",
        "\n",
        "# bagi python di atas adalah 5 variable berbeda\n",
        "# bagi kita, manusia, semuayna nilai, bikin bingung aja huruf besar yang mana, huruf kecil yang mana\n",
        "\n",
        "print(Nilai)\n",
        "print(nIlai)\n",
        "print(nilaI)\n",
        "print(NILAI)\n",
        "print(NIlai)\n",
        "print(nilai)"
      ],
      "metadata": {
        "colab": {
          "base_uri": "https://localhost:8080/"
        },
        "id": "-vO1EF7XeufC",
        "outputId": "35ac5755-00d0-4586-f998-2538df929504"
      },
      "execution_count": null,
      "outputs": [
        {
          "output_type": "stream",
          "name": "stdout",
          "text": [
            "1\n",
            "2\n",
            "3\n",
            "4\n",
            "5\n",
            "32\n"
          ]
        }
      ]
    },
    {
      "cell_type": "markdown",
      "source": [
        "kalau ada spasi, si python kirain nama variable udah selesai, jadi kita tempel dengan _"
      ],
      "metadata": {
        "id": "YvA67re1fdFK"
      }
    },
    {
      "cell_type": "code",
      "source": [
        "nilai andi = 80"
      ],
      "metadata": {
        "colab": {
          "base_uri": "https://localhost:8080/",
          "height": 140
        },
        "id": "COy8UidifVUq",
        "outputId": "97685904-87a5-4613-f863-74aa7956b689"
      },
      "execution_count": null,
      "outputs": [
        {
          "output_type": "error",
          "ename": "SyntaxError",
          "evalue": "ignored",
          "traceback": [
            "\u001b[0;36m  File \u001b[0;32m\"<ipython-input-14-0e105ee1df32>\"\u001b[0;36m, line \u001b[0;32m1\u001b[0m\n\u001b[0;31m    nilai andi = 80\u001b[0m\n\u001b[0m          ^\u001b[0m\n\u001b[0;31mSyntaxError\u001b[0m\u001b[0;31m:\u001b[0m invalid syntax\n"
          ]
        }
      ]
    },
    {
      "cell_type": "code",
      "source": [
        "nilai_andi = 80"
      ],
      "metadata": {
        "id": "2Cj97QBnfioO"
      },
      "execution_count": null,
      "outputs": []
    },
    {
      "cell_type": "markdown",
      "source": [
        "kalau kita gunakan keyword python sebagai variable, misalnya:\n",
        "- print\n",
        "- type\n",
        "- True\n",
        "- False\n",
        "\n",
        "kita akan kehilangan fungsi keyword tersebut karena tertimpa jadi variable, atau kita akan ketemu error\n",
        "\n",
        "contoh:\n",
        "```python\n",
        "print = \"halo\"\n",
        "print(\"asd\")\n",
        "```\n",
        "code diatas akan memberi error `'str' object is not callable` yang artinya dia tidak bisa menggunakan print, karena print adalah sebuah string, tidak bisa dipakai untuk hal lain\n",
        "\n",
        "kita sudah menimpa keyword print yang tadinya bisa digunakan untuk display data menjadi variable biasa"
      ],
      "metadata": {
        "id": "BNRJO4qNfrlS"
      }
    },
    {
      "cell_type": "code",
      "source": [
        "True = 123"
      ],
      "metadata": {
        "colab": {
          "base_uri": "https://localhost:8080/",
          "height": 140
        },
        "id": "6hnuChlCf64H",
        "outputId": "4b55d6b3-b765-4e12-b128-56d4c7bd5b63"
      },
      "execution_count": null,
      "outputs": [
        {
          "output_type": "error",
          "ename": "SyntaxError",
          "evalue": "ignored",
          "traceback": [
            "\u001b[0;36m  File \u001b[0;32m\"<ipython-input-16-cc0f27f3a6b4>\"\u001b[0;36m, line \u001b[0;32m1\u001b[0m\n\u001b[0;31m    True = 123\u001b[0m\n\u001b[0m    ^\u001b[0m\n\u001b[0;31mSyntaxError\u001b[0m\u001b[0;31m:\u001b[0m cannot assign to True\n"
          ]
        }
      ]
    },
    {
      "cell_type": "markdown",
      "source": [
        "### Latihan pendek\n",
        "Cobalah buat beberapa variable untuk menyimpan data. misalakan:\n",
        "- variable nama, untuk simpan nama kita (str)\n",
        "- variable nilai, untuk simpan angka nilai (int/ float)\n",
        "- variable kacamata, untuk simpan boolean kita pakai kacamata atau tidak (boolean)"
      ],
      "metadata": {
        "id": "lYaFI0u2gDbR"
      }
    },
    {
      "cell_type": "code",
      "source": [
        "nama = \"Stefani\"\n",
        "nilai = 90\n",
        "kacamata = False"
      ],
      "metadata": {
        "id": "zjH3PJHGf-25"
      },
      "execution_count": null,
      "outputs": []
    },
    {
      "cell_type": "markdown",
      "source": [
        "variable yang sudah dibuat, bisa kita ganti isinya, dengan \"re-assign\"\n",
        "\n",
        "```python\n",
        "# pembuatan nama variable baru\n",
        "nama_variable = data_lama\n",
        "\n",
        "# data lama akan tertimpa\n",
        "nama_variable = data_baru\n",
        "```\n",
        "\n",
        "variable di python tidak peduli dengan tipe data yang dia pegang.\n",
        "\n",
        "nilai yang awalnya kita isi integer, bisa kita ganti jadi string, atau float, atau boolean.\n",
        "\n",
        "## CRUD\n",
        "C - create, cara bikin data baru\n",
        "\n",
        "R - read, cara baca data\n",
        "\n",
        "U - update, cara ubah data\n",
        "\n",
        "D - delete, cara hapus data\n",
        "\n",
        "biasanya kita perlu mengetahui 4 cara untuk manipulasi data tipe baru, yang kita baru pelajari"
      ],
      "metadata": {
        "id": "smYuEHPShKPW"
      }
    },
    {
      "cell_type": "code",
      "source": [
        "# integer\n",
        "# create\n",
        "nilai = 100\n",
        "\n",
        "# read\n",
        "print(nilai)\n",
        "\n",
        "# update\n",
        "nilai = 98\n",
        "\n",
        "# delete\n",
        "# del nilai # kita bisa hapus variable, tapi tidak di rekomen\n",
        "# assign ke angka 0 saja\n",
        "nilai = 0"
      ],
      "metadata": {
        "colab": {
          "base_uri": "https://localhost:8080/"
        },
        "id": "ucqB51ZnhD_z",
        "outputId": "2498ffe8-5e18-4306-b0fd-8c06685fef99"
      },
      "execution_count": null,
      "outputs": [
        {
          "output_type": "stream",
          "name": "stdout",
          "text": [
            "100\n"
          ]
        }
      ]
    },
    {
      "cell_type": "code",
      "source": [
        "print(nilai)"
      ],
      "metadata": {
        "colab": {
          "base_uri": "https://localhost:8080/"
        },
        "id": "VfR_SHztiReG",
        "outputId": "460b4bf4-7edb-4e4b-9741-038830d279e0"
      },
      "execution_count": null,
      "outputs": [
        {
          "output_type": "stream",
          "name": "stdout",
          "text": [
            "0\n"
          ]
        }
      ]
    },
    {
      "cell_type": "markdown",
      "source": [
        "selain crud, kita belajar juga cara pakai datanya.\n",
        "\n",
        "untuk integer, kita bisa gunakan operator aritmatika untuk berhitung.\n",
        "\n",
        "*   \\+ tambah\n",
        "*   \\- kurang\n",
        "*   \\/ bagi\n",
        "*   \\* kali\n",
        "*   \\** pangkat\n",
        "\n"
      ],
      "metadata": {
        "id": "59OVQjsmjExV"
      }
    },
    {
      "cell_type": "code",
      "source": [
        "hasil = (1 + 2) * 3 / 4 **5\n",
        "print(hasil)\n",
        "print(type(hasil))"
      ],
      "metadata": {
        "colab": {
          "base_uri": "https://localhost:8080/"
        },
        "id": "P7oYEMx3jAFx",
        "outputId": "8340c6db-b94c-4fca-eaba-42c092c62932"
      },
      "execution_count": null,
      "outputs": [
        {
          "output_type": "stream",
          "name": "stdout",
          "text": [
            "0.0087890625\n",
            "<class 'float'>\n"
          ]
        }
      ]
    },
    {
      "cell_type": "code",
      "source": [
        "hasil = 5 + 3\n",
        "print(hasil)\n",
        "print(type(hasil))"
      ],
      "metadata": {
        "colab": {
          "base_uri": "https://localhost:8080/"
        },
        "id": "0ZZs2tqLj0ae",
        "outputId": "fcf56ad2-0ea6-4ab7-d7e4-51f332211522"
      },
      "execution_count": null,
      "outputs": [
        {
          "output_type": "stream",
          "name": "stdout",
          "text": [
            "8\n",
            "<class 'int'>\n"
          ]
        }
      ]
    },
    {
      "cell_type": "markdown",
      "source": [
        "float dan integer hampir sama, CRUD nya sama, dan bisa digunakan untuk aritmatik juga. float dan integer bisa dicampur untuk aritmatik, tapi hasilnya selalu float"
      ],
      "metadata": {
        "id": "Aw4f8z5kjn89"
      }
    },
    {
      "cell_type": "code",
      "source": [
        "hasil = 5 + 3.0\n",
        "print(hasil)\n",
        "print(type(hasil))"
      ],
      "metadata": {
        "colab": {
          "base_uri": "https://localhost:8080/"
        },
        "id": "E1qb0BPijQle",
        "outputId": "2a4cdcef-f003-4341-ef0e-d56e1ff875cd"
      },
      "execution_count": null,
      "outputs": [
        {
          "output_type": "stream",
          "name": "stdout",
          "text": [
            "8.0\n",
            "<class 'float'>\n"
          ]
        }
      ]
    },
    {
      "cell_type": "markdown",
      "source": [
        "## Tukar tipe data\n",
        "kita bisa konversi tipe data satu ke lainnya menggunakan keyword tipe data tersebut:\n",
        "- `int` untuk mengubah ke int\n",
        "- `float` untuk mengubah ke float\n",
        "- `str` untuk mengubah ke string\n",
        "- `bool` untuk mengubah ke boolean\n"
      ],
      "metadata": {
        "id": "-3dGJCPpj-U8"
      }
    },
    {
      "cell_type": "code",
      "source": [
        "print(hasil)\n",
        "print(type(hasil))"
      ],
      "metadata": {
        "colab": {
          "base_uri": "https://localhost:8080/"
        },
        "id": "cEuyDIFsj5Xl",
        "outputId": "b4669e05-aa92-4144-9faf-aed31e5c33da"
      },
      "execution_count": null,
      "outputs": [
        {
          "output_type": "stream",
          "name": "stdout",
          "text": [
            "8.0\n",
            "<class 'float'>\n"
          ]
        }
      ]
    },
    {
      "cell_type": "code",
      "source": [
        "h2 = int(hasil)\n",
        "print(h2)\n",
        "print(type(h2))"
      ],
      "metadata": {
        "colab": {
          "base_uri": "https://localhost:8080/"
        },
        "id": "76pjK55okOlV",
        "outputId": "17d1ef61-502a-4af6-a5fe-4afa7470fcee"
      },
      "execution_count": null,
      "outputs": [
        {
          "output_type": "stream",
          "name": "stdout",
          "text": [
            "8\n",
            "<class 'int'>\n"
          ]
        }
      ]
    },
    {
      "cell_type": "markdown",
      "source": [
        "kita masuk ke string dulu baru balik ke konversi tipe data"
      ],
      "metadata": {
        "id": "Kd3NZGvlkYQK"
      }
    },
    {
      "cell_type": "code",
      "source": [
        "# string\n",
        "# create\n",
        "msg = \"halo\"\n",
        "msg = 'halo juga' # update\n",
        "\n",
        "# read\n",
        "print(msg)\n",
        "\n",
        "# delete\n",
        "msg = \"\"\n",
        "msg = ''"
      ],
      "metadata": {
        "colab": {
          "base_uri": "https://localhost:8080/"
        },
        "id": "PCMzoEGZkTh2",
        "outputId": "fc06c528-f5d8-4e67-ccbb-5bfa1185bced"
      },
      "execution_count": null,
      "outputs": [
        {
          "output_type": "stream",
          "name": "stdout",
          "text": [
            "halo juga\n"
          ]
        }
      ]
    },
    {
      "cell_type": "code",
      "source": [
        "# boolean\n",
        "# create\n",
        "kacamata = True\n",
        "\n",
        "# update\n",
        "kacamata = False\n",
        "\n",
        "# read\n",
        "print(kacamata)\n",
        "\n",
        "# delete\n",
        "kacamata = False"
      ],
      "metadata": {
        "colab": {
          "base_uri": "https://localhost:8080/"
        },
        "id": "jsyy6iO0knaW",
        "outputId": "0b963eb5-c9dc-4c6d-ba3a-ec920186684b"
      },
      "execution_count": null,
      "outputs": [
        {
          "output_type": "stream",
          "name": "stdout",
          "text": [
            "False\n"
          ]
        }
      ]
    },
    {
      "cell_type": "markdown",
      "source": [
        "## Falsy\n",
        "kita set data ke arah false, sebagai default valuenya, saat kita mau hapus data tersebut\n",
        "\n",
        "falsy adalah data yang dianggap `False` oleh python\n",
        "- 0\n",
        "- 0.0\n",
        "- \"\"\n",
        "- False\n",
        "\n",
        "selain data di atas, semua data lain dianggap `True` oleh python"
      ],
      "metadata": {
        "id": "RGetvwNzkw9h"
      }
    },
    {
      "cell_type": "code",
      "source": [
        "print(nilai, hasil, msg, kacamata)"
      ],
      "metadata": {
        "colab": {
          "base_uri": "https://localhost:8080/"
        },
        "id": "jY_fEhF8kwiZ",
        "outputId": "c8e0c9de-95a4-4ea5-b9f7-264651cd8675"
      },
      "execution_count": null,
      "outputs": [
        {
          "output_type": "stream",
          "name": "stdout",
          "text": [
            "0 8.0  False\n"
          ]
        }
      ]
    },
    {
      "cell_type": "code",
      "source": [
        "# konversi ke boolean\n",
        "print(bool(nilai)) # integer 0\n",
        "print(bool(0.0)) # float 0.0\n",
        "print(bool(msg)) # string \"\"\n",
        "print(bool(False)) # boolean False"
      ],
      "metadata": {
        "colab": {
          "base_uri": "https://localhost:8080/"
        },
        "id": "Z58CdjvVlEx9",
        "outputId": "3f0fdd0e-5bd8-4226-8ece-c97815e1dfb0"
      },
      "execution_count": null,
      "outputs": [
        {
          "output_type": "stream",
          "name": "stdout",
          "text": [
            "False\n",
            "False\n",
            "False\n",
            "False\n"
          ]
        }
      ]
    },
    {
      "cell_type": "code",
      "source": [
        "# konversi ke float\n",
        "print(float(12)) # integer\n",
        "print(float(\"12.5\")) # string, tapi string harus isi angka saja. kalau ada text, akan error\n",
        "print(float(\"12\")) # string\n",
        "print(float(True)) # boolean"
      ],
      "metadata": {
        "colab": {
          "base_uri": "https://localhost:8080/"
        },
        "id": "oRY-zezsldcL",
        "outputId": "443da52d-7ef7-4b17-a5e2-791c0f20375c"
      },
      "execution_count": null,
      "outputs": [
        {
          "output_type": "stream",
          "name": "stdout",
          "text": [
            "12.0\n",
            "12.5\n",
            "12.0\n",
            "1.0\n"
          ]
        }
      ]
    },
    {
      "cell_type": "code",
      "source": [
        "# konversi ke integer\n",
        "print(int(12.5)) # float\n",
        "print(int(\"12\")) # string, tapi string harus isi angka integer saja. kalau ada text, atau ada decimal point, akan error\n",
        "print(int(True)) # boolean"
      ],
      "metadata": {
        "colab": {
          "base_uri": "https://localhost:8080/"
        },
        "id": "-421JZBtlxGy",
        "outputId": "1449d7b4-45bc-4aa6-947c-2ed5486c47e8"
      },
      "execution_count": null,
      "outputs": [
        {
          "output_type": "stream",
          "name": "stdout",
          "text": [
            "12\n",
            "12\n",
            "1\n"
          ]
        }
      ]
    },
    {
      "cell_type": "code",
      "source": [
        "# konversi ke string\n",
        "print(str(12)) # integer\n",
        "print(str(12.5)) # float\n",
        "print(str(True)) # boolean"
      ],
      "metadata": {
        "colab": {
          "base_uri": "https://localhost:8080/"
        },
        "id": "PXmxfecYl4lU",
        "outputId": "7065c983-19a5-4358-be6f-907241c305c3"
      },
      "execution_count": null,
      "outputs": [
        {
          "output_type": "stream",
          "name": "stdout",
          "text": [
            "12\n",
            "12.5\n",
            "True\n"
          ]
        }
      ]
    },
    {
      "cell_type": "markdown",
      "source": [
        "kita sudah cobain semua basic/ primitive data types nya\n",
        "\n",
        "1. berikutnya, kita bisa coba manipulasi string\n",
        "2. lalu kita bisa belajar structured data types\n",
        "\n",
        "## manipulasi string"
      ],
      "metadata": {
        "id": "LceTlGeamXqN"
      }
    },
    {
      "cell_type": "code",
      "source": [
        "\"abcd\""
      ],
      "metadata": {
        "colab": {
          "base_uri": "https://localhost:8080/",
          "height": 37
        },
        "id": "ZRY_v_0TmNEL",
        "outputId": "819d0e36-9211-4b92-fcc1-bedbcbf4040f"
      },
      "execution_count": null,
      "outputs": [
        {
          "output_type": "execute_result",
          "data": {
            "text/plain": [
              "'abcd'"
            ],
            "application/vnd.google.colaboratory.intrinsic+json": {
              "type": "string"
            }
          },
          "metadata": {},
          "execution_count": 37
        }
      ]
    },
    {
      "cell_type": "code",
      "source": [
        "msg = \"Saya mau BELAJAR bahasa Python dengan Hacktiv8!! Biar bisa Data Science~~\"\n",
        "print(msg)"
      ],
      "metadata": {
        "colab": {
          "base_uri": "https://localhost:8080/"
        },
        "id": "D7iFnG6Imn-u",
        "outputId": "2df68b03-eaf0-4672-97c2-e296c4151856"
      },
      "execution_count": null,
      "outputs": [
        {
          "output_type": "stream",
          "name": "stdout",
          "text": [
            "Saya mau BELAJAR bahasa Python dengan Hacktiv8!! Biar bisa Data Science~~\n"
          ]
        }
      ]
    },
    {
      "cell_type": "code",
      "source": [
        "# ubah caps\n",
        "\n",
        "# UPPER CASE\n",
        "print(msg.upper())"
      ],
      "metadata": {
        "colab": {
          "base_uri": "https://localhost:8080/"
        },
        "id": "UBEABEzTm01S",
        "outputId": "6aa20a6f-958d-4424-9385-964045d93541"
      },
      "execution_count": null,
      "outputs": [
        {
          "output_type": "stream",
          "name": "stdout",
          "text": [
            "SAYA MAU BELAJAR BAHASA PYTHON DENGAN HACKTIV8!! BIAR BISA DATA SCIENCE~~\n"
          ]
        }
      ]
    },
    {
      "cell_type": "code",
      "source": [
        "# lowercase\n",
        "print(msg.lower())"
      ],
      "metadata": {
        "colab": {
          "base_uri": "https://localhost:8080/"
        },
        "id": "zV9qg2J0m6ZE",
        "outputId": "ac9f34cb-e76e-47ad-cce1-56dfd717dc91"
      },
      "execution_count": null,
      "outputs": [
        {
          "output_type": "stream",
          "name": "stdout",
          "text": [
            "saya mau belajar bahasa python dengan hacktiv8!! biar bisa data science~~\n"
          ]
        }
      ]
    },
    {
      "cell_type": "code",
      "source": [
        "# Title Case\n",
        "print(msg.title())"
      ],
      "metadata": {
        "colab": {
          "base_uri": "https://localhost:8080/"
        },
        "id": "CMIIjHNym_x_",
        "outputId": "32c65eb4-d0c8-413d-895d-cfcfa651c404"
      },
      "execution_count": null,
      "outputs": [
        {
          "output_type": "stream",
          "name": "stdout",
          "text": [
            "Saya Mau Belajar Bahasa Python Dengan Hacktiv8!! Biar Bisa Data Science~~\n"
          ]
        }
      ]
    },
    {
      "cell_type": "code",
      "source": [
        "# sWAP cASE\n",
        "print(msg.swapcase())"
      ],
      "metadata": {
        "colab": {
          "base_uri": "https://localhost:8080/"
        },
        "id": "kZ2Sz-QUnFX_",
        "outputId": "f1480d10-a108-42d1-c5ef-d1ba23e52db7"
      },
      "execution_count": null,
      "outputs": [
        {
          "output_type": "stream",
          "name": "stdout",
          "text": [
            "sAYA MAU belajar BAHASA pYTHON DENGAN hACKTIV8!! bIAR BISA dATA sCIENCE~~\n"
          ]
        }
      ]
    },
    {
      "cell_type": "code",
      "source": [
        "# aritmatik\n",
        "# str + str\n",
        "# str * angka\n",
        "\n",
        "msg = \"halo\"\n",
        "\n",
        "print(msg + msg + \" \" + \"bandung\")"
      ],
      "metadata": {
        "colab": {
          "base_uri": "https://localhost:8080/"
        },
        "id": "tZtlW1INnLEy",
        "outputId": "2c8f4e7a-9561-4fe0-84cc-6c9e8c65afc2"
      },
      "execution_count": null,
      "outputs": [
        {
          "output_type": "stream",
          "name": "stdout",
          "text": [
            "halohalo bandung\n"
          ]
        }
      ]
    },
    {
      "cell_type": "code",
      "source": [
        "print(msg*3 + \" \" + \"bandung\")"
      ],
      "metadata": {
        "colab": {
          "base_uri": "https://localhost:8080/"
        },
        "id": "fohY3zHengOa",
        "outputId": "db5ddb7c-65ee-4bc6-9bbf-41e9635b8977"
      },
      "execution_count": null,
      "outputs": [
        {
          "output_type": "stream",
          "name": "stdout",
          "text": [
            "halohalohalo bandung\n"
          ]
        }
      ]
    },
    {
      "cell_type": "markdown",
      "source": [
        "# structured data types\n",
        "- list\n",
        "- tuple\n",
        "- dictionary\n",
        "\n",
        "## list\n",
        "bagaimana kalau kita perlu menyimpan data yang lebih banyak, bukan nilai andi saja, tapi nilai 1 kelas, 10 murid.\n",
        "\n",
        "kita bisa simpan semua nilai-nilai sekaligus ke dalam list []\n"
      ],
      "metadata": {
        "id": "Tev5Zy2nnr5b"
      }
    },
    {
      "cell_type": "code",
      "source": [
        "# CRUD\n",
        "# create list\n",
        "[]\n",
        "\n",
        "nilai_kelas_A = []\n",
        "print(nilai_kelas_A)\n",
        "print(type(nilai_kelas_A))"
      ],
      "metadata": {
        "colab": {
          "base_uri": "https://localhost:8080/"
        },
        "id": "rlyfxlsLnjrj",
        "outputId": "6c25fa91-f6b3-4688-e099-4f254ab84f75"
      },
      "execution_count": null,
      "outputs": [
        {
          "output_type": "stream",
          "name": "stdout",
          "text": [
            "[]\n",
            "<class 'list'>\n"
          ]
        }
      ]
    },
    {
      "cell_type": "markdown",
      "source": [
        "kita bisa juga bikin list yang sudah ada isinya"
      ],
      "metadata": {
        "id": "ZQ1oCY4tqo3d"
      }
    },
    {
      "cell_type": "code",
      "source": [
        "# create list\n",
        "nilai_kelas_A = [80, 70, 95, 98, 100]\n",
        "print(nilai_kelas_A)\n",
        "print(type(nilai_kelas_A))"
      ],
      "metadata": {
        "colab": {
          "base_uri": "https://localhost:8080/"
        },
        "id": "OBBx5sUxql5M",
        "outputId": "047995ba-8e80-4f06-9cf3-ee06cfb82e72"
      },
      "execution_count": null,
      "outputs": [
        {
          "output_type": "stream",
          "name": "stdout",
          "text": [
            "[80, 70, 95, 98, 100]\n",
            "<class 'list'>\n"
          ]
        }
      ]
    },
    {
      "cell_type": "markdown",
      "source": [
        "cara membuat list adalah dengan `[]` lalu kita bisa isi data ke dalam list menggunakan `[data, data, data,]` data nya langsung, dipisah dengan \",\"\n",
        "\n",
        "- sebuah list bisa menampung banyak data\n",
        "- sebuah list juga bisa menampung data tipe apapun, bisa campur aduk juga\n",
        "- sebuah list bahkan bisa diisi list, \"nested list\"\n",
        "\n",
        "jadi setelah membuat data list yang isinya ada banyak data lain, kita juga perlu belajar cara baca 1 atau banyak data yang di dalam list.\n",
        "\n",
        "bukan baca list saja, tapi baca isinya juga, satu satu atau banyak sekaligus\n",
        "\n",
        "### index\n",
        "list memiliki index\n",
        "\n",
        "index adalah nomor urut dari 0\n",
        "\n",
        "setiap nomor adalah nomor milik data di posisi tersebut"
      ],
      "metadata": {
        "id": "COGY7I0cq1m7"
      }
    },
    {
      "cell_type": "code",
      "source": [
        "# read\n",
        "\n",
        "# mau baca nilai pertama di nilai_kelas_A\n",
        "print(nilai_kelas_A)\n",
        "# kita gunakan index 0 untuk ambil nilai pertama\n",
        "print(nilai_kelas_A[0])\n",
        "# kita bisa gunakan juga index -5 untuk bilang angka ke 5 dari belakang/ terakhir\n",
        "print(nilai_kelas_A[-5])"
      ],
      "metadata": {
        "colab": {
          "base_uri": "https://localhost:8080/"
        },
        "id": "ayEGaqgrqxxn",
        "outputId": "a12a7d5a-6f8a-4ba8-9e2f-8ffd29f480c1"
      },
      "execution_count": null,
      "outputs": [
        {
          "output_type": "stream",
          "name": "stdout",
          "text": [
            "[80, 70, 95, 98, 100]\n",
            "80\n",
            "80\n"
          ]
        }
      ]
    },
    {
      "cell_type": "markdown",
      "source": [
        "kurung kotak yang kita gunakan untuk mengisi angka index di `nilai_kelas_A[0]` bukan list\n",
        "\n",
        "karena keyboard kita cuma punya 3 jenis kurung [] () {}\n",
        "\n",
        "setiap kurung memiliki lebih dari satu kegunaan.\n",
        "\n",
        "kurung kotak digunakan untuk membuat list [] dan juga mengakses index dari list (atau tuple)"
      ],
      "metadata": {
        "id": "OH1cTq11sKx4"
      }
    },
    {
      "cell_type": "code",
      "source": [
        "# read\n",
        "\n",
        "# mau baca nilai kedua\n",
        "print(nilai_kelas_A[1])\n",
        "# ke-4 dari terakhir\n",
        "print(nilai_kelas_A[-4])"
      ],
      "metadata": {
        "colab": {
          "base_uri": "https://localhost:8080/"
        },
        "id": "lJpR5eY1sAr1",
        "outputId": "e0b99413-ce4b-4f87-ce87-f283cdfc4eda"
      },
      "execution_count": null,
      "outputs": [
        {
          "output_type": "stream",
          "name": "stdout",
          "text": [
            "70\n",
            "70\n"
          ]
        }
      ]
    },
    {
      "cell_type": "code",
      "source": [
        "# read\n",
        "\n",
        "# mau baca nilai ketiga\n",
        "print(nilai_kelas_A[2])\n",
        "# ketiga dari terakhir\n",
        "print(nilai_kelas_A[-3])"
      ],
      "metadata": {
        "colab": {
          "base_uri": "https://localhost:8080/"
        },
        "id": "Gja_E0yEsnm8",
        "outputId": "7c0e3fe5-d3dc-4ae2-f1cd-80768d9b1e36"
      },
      "execution_count": null,
      "outputs": [
        {
          "output_type": "stream",
          "name": "stdout",
          "text": [
            "95\n",
            "95\n"
          ]
        }
      ]
    },
    {
      "cell_type": "code",
      "source": [
        "# read\n",
        "\n",
        "# mau baca nilai ke-4\n",
        "print(nilai_kelas_A[3])\n",
        "# kedua dari terakhir\n",
        "print(nilai_kelas_A[-2])"
      ],
      "metadata": {
        "colab": {
          "base_uri": "https://localhost:8080/"
        },
        "id": "ygebk7XtsrNI",
        "outputId": "aba6daf5-a10c-4b53-c66a-e69e89251574"
      },
      "execution_count": null,
      "outputs": [
        {
          "output_type": "stream",
          "name": "stdout",
          "text": [
            "98\n",
            "98\n"
          ]
        }
      ]
    },
    {
      "cell_type": "code",
      "source": [
        "# read\n",
        "\n",
        "# mau baca nilai ke-5, nilai terakhir\n",
        "print(nilai_kelas_A[4])\n",
        "\n",
        "print(nilai_kelas_A[-1])"
      ],
      "metadata": {
        "colab": {
          "base_uri": "https://localhost:8080/"
        },
        "id": "qmv136LgsuEV",
        "outputId": "141c5847-1a83-4ef9-f744-2adb6d218291"
      },
      "execution_count": null,
      "outputs": [
        {
          "output_type": "stream",
          "name": "stdout",
          "text": [
            "100\n",
            "100\n"
          ]
        }
      ]
    },
    {
      "cell_type": "markdown",
      "source": [
        "untuk mengetahui ada berapa item/data/object di dalam sebuah list, kiga gunakan keyword `len`"
      ],
      "metadata": {
        "id": "J4nyvqXetSyG"
      }
    },
    {
      "cell_type": "code",
      "source": [
        "print(len(nilai_kelas_A))"
      ],
      "metadata": {
        "colab": {
          "base_uri": "https://localhost:8080/"
        },
        "id": "Q-G7NqOdsxs_",
        "outputId": "9749dd65-854a-4bd5-ef76-32e0e60b3f4d"
      },
      "execution_count": null,
      "outputs": [
        {
          "output_type": "stream",
          "name": "stdout",
          "text": [
            "5\n"
          ]
        }
      ]
    },
    {
      "cell_type": "code",
      "source": [
        "# update\n",
        "\n",
        "print(nilai_kelas_A)\n",
        "\n",
        "nilai_kelas_A[0] = 90\n",
        "\n",
        "print(nilai_kelas_A)"
      ],
      "metadata": {
        "colab": {
          "base_uri": "https://localhost:8080/"
        },
        "id": "Yqhk1DA2teKN",
        "outputId": "add1f3e8-b442-43f6-8319-7b1fcacfa644"
      },
      "execution_count": null,
      "outputs": [
        {
          "output_type": "stream",
          "name": "stdout",
          "text": [
            "[80, 70, 95, 98, 100]\n",
            "[90, 70, 95, 98, 100]\n"
          ]
        }
      ]
    },
    {
      "cell_type": "code",
      "source": [
        "# tambahin nilai\n",
        "nilai_kelas_A.append(\"bagus\")"
      ],
      "metadata": {
        "id": "7tZ7g1JNtg3f"
      },
      "execution_count": null,
      "outputs": []
    },
    {
      "cell_type": "code",
      "source": [
        "print(nilai_kelas_A)"
      ],
      "metadata": {
        "colab": {
          "base_uri": "https://localhost:8080/"
        },
        "id": "6eoZ5bpytkvV",
        "outputId": "c4f5614e-fe78-4c22-ce9e-d2ca1f110f0d"
      },
      "execution_count": null,
      "outputs": [
        {
          "output_type": "stream",
          "name": "stdout",
          "text": [
            "[80, 70, 95, 98, 100, 'bagus']\n"
          ]
        }
      ]
    },
    {
      "cell_type": "markdown",
      "source": [
        "append bisa masukin data baru ke dalam list, dan dia tidak peduli pada tipe datanya"
      ],
      "metadata": {
        "id": "oN1Ts-h_tmZ6"
      }
    },
    {
      "cell_type": "code",
      "source": [
        "# hapus nilai\n",
        "nilai_kelas_A.remove(\"bagus\")"
      ],
      "metadata": {
        "id": "clfpBV8ztp4b"
      },
      "execution_count": null,
      "outputs": []
    },
    {
      "cell_type": "code",
      "source": [
        "print(nilai_kelas_A)"
      ],
      "metadata": {
        "colab": {
          "base_uri": "https://localhost:8080/"
        },
        "id": "Zr5M480VttPE",
        "outputId": "5da5764b-dabb-4e0d-b507-803e128a2902"
      },
      "execution_count": null,
      "outputs": [
        {
          "output_type": "stream",
          "name": "stdout",
          "text": [
            "[80, 70, 95, 98, 100]\n"
          ]
        }
      ]
    },
    {
      "cell_type": "markdown",
      "source": [
        "selain remove ada juga beberapa cara lain\n",
        "\n",
        "selain itu ada banyak juga fungsionalitas list lainnya, seperti memasukkan 2 item sekaligus, mengeluarkan beberapa item sekaligus, dan lainnya.\n",
        "\n",
        "bisa dilihat detail dan contohnya di https://www.w3schools.com/python/python_lists.asp\n",
        "\n",
        "kita tidak pakai semuanya, jadi boleh di coba jika tertarik"
      ],
      "metadata": {
        "id": "fO1TNzZstvIV"
      }
    },
    {
      "cell_type": "code",
      "source": [
        "# + dan * untuk list\n",
        "print(nilai_kelas_A + [75])\n",
        "print(nilai_kelas_A * 3)"
      ],
      "metadata": {
        "colab": {
          "base_uri": "https://localhost:8080/"
        },
        "id": "fmc98Qy2vQzO",
        "outputId": "14a870b8-67c7-4d75-dd90-92b98e6abed7"
      },
      "execution_count": null,
      "outputs": [
        {
          "output_type": "stream",
          "name": "stdout",
          "text": [
            "[80, 70, 95, 98, 100, 75]\n",
            "[80, 70, 95, 98, 100, 80, 70, 95, 98, 100, 80, 70, 95, 98, 100]\n"
          ]
        }
      ]
    },
    {
      "cell_type": "markdown",
      "source": [
        "# Tuple\n",
        "tipe data mirip list\n",
        "\n",
        "cuma, dia tidak bisa di edit\n",
        "\n",
        "cara bikin pakai ()"
      ],
      "metadata": {
        "id": "hFX8xmOetYN8"
      }
    },
    {
      "cell_type": "code",
      "source": [
        "# membuat tuple\n",
        "buah_buahan = (\"apel\", \"pisang\", \"jeruk\")\n",
        "\n",
        "# membaca tuple\n",
        "print(buah_buahan) # semua\n",
        "\n",
        "print(buah_buahan[0]) # barang pertama\n",
        "\n",
        "print(buah_buahan[-1]) # barang terakhir\n",
        "\n",
        "print(len(buah_buahan)) # ada berapa item di dalam"
      ],
      "metadata": {
        "colab": {
          "base_uri": "https://localhost:8080/"
        },
        "id": "K5MrZFFHtVh0",
        "outputId": "49208848-3f1f-4e6f-bd13-c35a9106b2b6"
      },
      "execution_count": null,
      "outputs": [
        {
          "output_type": "stream",
          "name": "stdout",
          "text": [
            "('apel', 'pisang', 'jeruk')\n",
            "apel\n",
            "jeruk\n",
            "3\n"
          ]
        }
      ]
    },
    {
      "cell_type": "markdown",
      "source": [
        "walaupun tidak bisa di append, kita bisa sedikit curang menggunakan aritmatik\n",
        "\n",
        "dua data tuple bisa dijumlahkan,\n",
        "\n",
        "tuple juga bisa dikalikan dengan angka"
      ],
      "metadata": {
        "id": "fILmOixIvAUV"
      }
    },
    {
      "cell_type": "code",
      "source": [
        "buah_buahan + buah_buahan"
      ],
      "metadata": {
        "colab": {
          "base_uri": "https://localhost:8080/"
        },
        "id": "RlQtgzBBuxNW",
        "outputId": "e22e1146-4e70-441f-b60b-06a1f4d9e383"
      },
      "execution_count": null,
      "outputs": [
        {
          "output_type": "execute_result",
          "data": {
            "text/plain": [
              "('apel', 'pisang', 'jeruk', 'apel', 'pisang', 'jeruk')"
            ]
          },
          "metadata": {},
          "execution_count": 73
        }
      ]
    },
    {
      "cell_type": "code",
      "source": [
        "buah_buahan * 3"
      ],
      "metadata": {
        "colab": {
          "base_uri": "https://localhost:8080/"
        },
        "id": "1YGodVVau30X",
        "outputId": "3c5cb2ea-dbe3-496b-8c26-f59374a0f66c"
      },
      "execution_count": null,
      "outputs": [
        {
          "output_type": "execute_result",
          "data": {
            "text/plain": [
              "('apel',\n",
              " 'pisang',\n",
              " 'jeruk',\n",
              " 'apel',\n",
              " 'pisang',\n",
              " 'jeruk',\n",
              " 'apel',\n",
              " 'pisang',\n",
              " 'jeruk')"
            ]
          },
          "metadata": {},
          "execution_count": 74
        }
      ]
    },
    {
      "cell_type": "markdown",
      "source": [
        "## dictionary\n",
        "ada saatnya kita mau lebih banyak informasi daripada angka urut saja.\n",
        "\n",
        "kita mau menggunakan keyword untuk memanggil data tertentu.\n",
        "\n",
        "contohnya nilai_kelas_A, daripada kita bilang nilai pertama index 0 nilanya berapa, kan lebih mudah kita bilang nilai Andi berapa, nilai Budi berapa. ada caranya kita bisa ubah index angka jadi text --> dictionary\n",
        "\n",
        "dictionary itu kamus, keyword selalu text, string.\n",
        "\n",
        "valuenya bebas, int float str bool list tuple dict\n",
        "\n",
        "### Create Dictionary\n",
        "dibuat dengan menggunakan {}"
      ],
      "metadata": {
        "id": "PlmjFWjNvjXP"
      }
    },
    {
      "cell_type": "code",
      "source": [
        "# create dictionary\n",
        "nilai_kelas_A = {\"andi\": 80, \"budi\": 90, \"cindy\":95, \"dendy\":100, \"edgar\":63}\n",
        "\n",
        "# read\n",
        "print(nilai_kelas_A) # seluruh dictionary\n",
        "print(nilai_kelas_A[\"andi\"]) # print punya andi aja"
      ],
      "metadata": {
        "colab": {
          "base_uri": "https://localhost:8080/"
        },
        "id": "lRgYkhyovLpw",
        "outputId": "d69033b0-8a23-49b3-fef1-ffcde7e70bcb"
      },
      "execution_count": null,
      "outputs": [
        {
          "output_type": "stream",
          "name": "stdout",
          "text": [
            "{'andi': 80, 'budi': 90, 'cindy': 95, 'dendy': 100, 'edgar': 63}\n",
            "80\n"
          ]
        }
      ]
    },
    {
      "cell_type": "code",
      "source": [
        "# update\n",
        "nilai_kelas_A[\"andi\"] = 75\n",
        "\n",
        "print(nilai_kelas_A) # seluruh dictionary\n",
        "print(nilai_kelas_A[\"andi\"]) # print punya andi aja"
      ],
      "metadata": {
        "colab": {
          "base_uri": "https://localhost:8080/"
        },
        "id": "lP9s0ofNwbEV",
        "outputId": "5070d9c7-f0c9-4a88-8c73-fac8fc0a4555"
      },
      "execution_count": null,
      "outputs": [
        {
          "output_type": "stream",
          "name": "stdout",
          "text": [
            "{'andi': 75, 'budi': 90, 'cindy': 95, 'dendy': 100, 'edgar': 63}\n",
            "75\n"
          ]
        }
      ]
    },
    {
      "cell_type": "code",
      "source": [
        "# delete\n",
        "nilai_kelas_A[\"andi\"] = 0\n",
        "\n",
        "print(nilai_kelas_A) # seluruh dictionary\n",
        "print(nilai_kelas_A[\"andi\"]) # print punya andi aja"
      ],
      "metadata": {
        "colab": {
          "base_uri": "https://localhost:8080/"
        },
        "id": "p4XpXgCcwpPi",
        "outputId": "d3620222-91ef-488f-a856-73bb73b8d4c7"
      },
      "execution_count": null,
      "outputs": [
        {
          "output_type": "stream",
          "name": "stdout",
          "text": [
            "{'andi': 0, 'budi': 90, 'cindy': 95, 'dendy': 100, 'edgar': 63}\n",
            "0\n"
          ]
        }
      ]
    },
    {
      "cell_type": "markdown",
      "source": [
        "### latihan pendek\n",
        "cobalah membuat:\n",
        "- list buah buahan\n",
        "  - tambahin 3 buah di dalam\n",
        "  - coba baca buah terakhir dan di print\n",
        "  - coba ubah buah terakhir menjai UPPER dengan teknik .upper() dari string\n",
        "- dictionary buah buahan harga\n",
        "  - coba buat dictionary dengan 3 buah dan value adalah harga\n",
        "  - coba ubah harga buah kedua menjadi 2 kali lipat"
      ],
      "metadata": {
        "id": "sxcpT2WcxjZx"
      }
    },
    {
      "cell_type": "code",
      "source": [
        "# membuat list buah buahan\n",
        "buah_buahan = [\"kelapa\", \"nangka\", \"duku\"] # tambah 3 buah di dalam\n",
        "\n",
        "# baca buah terakhir\n",
        "buah_terakhir = buah_buahan[-1]\n",
        "print(buah_terakhir, \"buah terakhir\")\n",
        "\n",
        "jumlah_buah = len(buah_buahan)\n",
        "index_terakhir = jumlah_buah - 1\n",
        "print(buah_buahan[index_terakhir], \"juga buah terakhir\")\n",
        "\n",
        "print(jumlah_buah, \"jumlah buah\")\n",
        "print(index_terakhir, \"index terakhir\")"
      ],
      "metadata": {
        "colab": {
          "base_uri": "https://localhost:8080/"
        },
        "id": "HP-yhnp1xijr",
        "outputId": "68480676-e53f-4026-d67e-1421f7ec25ca"
      },
      "execution_count": null,
      "outputs": [
        {
          "output_type": "stream",
          "name": "stdout",
          "text": [
            "duku buah terakhir\n",
            "duku juga buah terakhir\n",
            "3 jumlah buah\n",
            "2 index terakhir\n"
          ]
        }
      ]
    },
    {
      "cell_type": "code",
      "source": [
        "# ubah buah terakhir jadi UPPER\n",
        "buah_terakhir.upper()\n",
        "\n",
        "# buah_buahan[-1] = buah_buahan[-1].upper()\n",
        "buah_buahan[-1] = buah_terakhir.upper()"
      ],
      "metadata": {
        "id": "vSfkDssX1Nte"
      },
      "execution_count": null,
      "outputs": []
    },
    {
      "cell_type": "code",
      "source": [
        "print(buah_buahan)"
      ],
      "metadata": {
        "colab": {
          "base_uri": "https://localhost:8080/"
        },
        "id": "eqJUd5Mi1Yei",
        "outputId": "46832e6e-2590-40eb-c237-5c45380899dd"
      },
      "execution_count": null,
      "outputs": [
        {
          "output_type": "stream",
          "name": "stdout",
          "text": [
            "['kelapa', 'nangka', 'DUKU']\n"
          ]
        }
      ]
    },
    {
      "cell_type": "code",
      "source": [
        "# bikin dictionary buah buahan\n",
        "buah_buahan = {\"kelapa\":10000, \"nangka\": 25000, \"duku\": 25000}\n",
        "print(buah_buahan)"
      ],
      "metadata": {
        "colab": {
          "base_uri": "https://localhost:8080/"
        },
        "id": "co-62sTv1lXm",
        "outputId": "71be1f94-6485-4973-98af-502480af692b"
      },
      "execution_count": null,
      "outputs": [
        {
          "output_type": "stream",
          "name": "stdout",
          "text": [
            "{'kelapa': 10000, 'nangka': 25000, 'duku': 25000}\n"
          ]
        }
      ]
    },
    {
      "cell_type": "code",
      "source": [
        "# buah kedua kita ubah value menjadi 2 kali lipat\n",
        "# buah kedua adalah nangka\n",
        "\n",
        "harga_awal = buah_buahan[\"nangka\"]\n",
        "harga_baru = harga_awal * 2\n",
        "buah_buahan[\"nangka\"] = harga_baru\n",
        "\n",
        "print(harga_awal, \"harga awal\")\n",
        "print(harga_baru, \"harga baru\")\n",
        "print(buah_buahan[\"nangka\"])"
      ],
      "metadata": {
        "colab": {
          "base_uri": "https://localhost:8080/"
        },
        "id": "rNmpihxv14r9",
        "outputId": "1bf1d47c-9560-4499-f7f7-ee173a97ff45"
      },
      "execution_count": null,
      "outputs": [
        {
          "output_type": "stream",
          "name": "stdout",
          "text": [
            "25000 harga awal\n",
            "50000 harga baru\n",
            "50000\n"
          ]
        }
      ]
    },
    {
      "cell_type": "code",
      "source": [
        "print(buah_buahan)"
      ],
      "metadata": {
        "id": "FcvPc7If2Ogm",
        "outputId": "444383ff-c596-4f05-d8c6-c988edce5dd9",
        "colab": {
          "base_uri": "https://localhost:8080/"
        }
      },
      "execution_count": null,
      "outputs": [
        {
          "output_type": "stream",
          "name": "stdout",
          "text": [
            "{'kelapa': 10000, 'nangka': 50000, 'duku': 25000}\n"
          ]
        }
      ]
    },
    {
      "cell_type": "code",
      "source": [],
      "metadata": {
        "id": "LLVREGXj2Rae"
      },
      "execution_count": null,
      "outputs": []
    }
  ]
}