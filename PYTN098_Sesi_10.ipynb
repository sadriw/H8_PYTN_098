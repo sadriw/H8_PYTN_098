{
  "nbformat": 4,
  "nbformat_minor": 0,
  "metadata": {
    "colab": {
      "provenance": []
    },
    "kernelspec": {
      "name": "python3",
      "display_name": "Python 3"
    },
    "language_info": {
      "name": "python"
    }
  },
  "cells": [
    {
      "cell_type": "markdown",
      "source": [
        "# Inferential Statistics\n",
        "membuat statement tentang data menggunakan statistik\n",
        "\n",
        "## Terminologi\n",
        "- Sample vs Population\n",
        "- Outlier\n",
        "- Random Variable\n",
        "- Discrete vs Continuous\n",
        "- Distribution\n",
        "\n",
        "## Distribution Types\n",
        "- Uniform\n",
        "- Normal\n",
        "- dan jenis lainnya\n",
        "\n",
        "## Confidence Interval\n",
        "- mean\n",
        "- proportion\n",
        "\n",
        "## Hypothesis Testing\n",
        "- one population proportion\n",
        "- perbandingan means dari dua population\n",
        "- cara lain mencari one population proportion"
      ],
      "metadata": {
        "id": "Smjk7nkbuxC0"
      }
    },
    {
      "cell_type": "markdown",
      "source": [
        "# Terminologi\n",
        "## Sample vs Population\n",
        "contoh: kita sedang mau mengukur rata-rata berat badan orang Indonesia.\n",
        "\n",
        "kalau kita buat survey, dan ada 100 orang yang menjawab survey tersebut, kita mendapatkan \"sample\"\n",
        "\n",
        "sample adalah sebagian dari populasi.\n",
        "\n",
        "untuk mendapat data populasi orang Indonesia kita akan perlu mendapat jawaban dari keseluruhan semua orang Indonesia. pria, wanita, dewasa, anak anak, di luar negri, di dalam negri, jawa, sumatra, dan semua semua nya. kalau kita dapat semua data itu, baru bisa dibilang kita punya data \"populasi\"\n",
        "\n",
        "biasanya untuk dapat keseluruhan data sebuah populasi itu mahal, lama, dan bahkan mungkin tidak memungkinkan.\n",
        "\n",
        "karena itu pada umumnya, data yang kita miliki adalah \"sample\" atau sebagian dari populasi.\n",
        "\n",
        "dan karena data kita \"sample\" data kita tidak 100% akurat. sample yang baik sebisa mungkin ada representasi dari setiap bagian demografik. ada wanita nya, ada pria nya, ada yang muda, ada yang tua, ada dari segala jenis propinsi indonesia, dan seterusnya.\n",
        "\n",
        "kalau sample kita hanya mengambil data dari satu demografik, misalnya kita cuma survey di Hacktiv8 saja. sample nya akan jadi data berat badan murid Hacktiv8 di Indonesia.\n",
        "\n",
        "## Outlier\n",
        "pencilan\n",
        "\n",
        "data yang \"luar biasa\", berbeda jauh dari poin lainnya di sebuah dataset. data yang \"aneh\"\n",
        "\n",
        "cara tau outlier, kita bisa gunakan teknik IQR, inter-quartile range. kita bisa juga buat visualisasi boxplot.\n",
        "\n",
        "kenapa ada outlier, bisa saja natural terjadi, bisa saja kesalahan dari yang menyatat datanya, bisa juga karena alat ukur error.\n",
        "\n",
        "\n",
        "## Random Variable\n",
        "mengambil satu poin data secara random di sebuah dataset\n",
        "\n",
        "satu poin data di dataset\n",
        "\n",
        "contoh: misalkan masih di contoh diatas, dataset tentang berat badan orang Indonesia. satu random variable adalah berat badan satu orang.\n",
        "\n",
        "- Discrete Random Variable\n",
        "- Continuous Random Variable\n",
        "\n",
        "## Discrete\n",
        "nilainya terbatas, dapat dihitung. contohnya hasil lempar sebuah dadu (1,2,3,4,5,6) hanya ada enam hasil. fixed. ini adalah discrete random variable.\n",
        "\n",
        "## Continuous\n",
        "nilainya terus berjalan, tidak ada pemisah yang pasti, jumlah variable tidak terhitung. contohnya berat badan. 50kg dan 50.000001kg berbeda. tingkat akurasi sebuah continuous random variable tergantung pada alat ukurnya.\n",
        "- uang, jarak, berat, waktu, volume, ...\n",
        "\n",
        "## Distribution\n",
        "- bisa dilihat bentuknya dengan histogram\n",
        "- seberapa sering berbagai hasil berbeda di sebuah dataset terjadi\n",
        "- menunjukkan probabilitas sebuah data terjadi\n",
        "\n",
        "ada banyak jenis distribusi data\n",
        "1. uniform distribution   \n",
        "  - terjadi saat semua nilai di sebuah dataset memiliki kemungkinan yang sama\n",
        "  - contoh dadu tadi, kemungkinan dapat sebuah angka tertentu dari dadu 6 sisi, itu sama dengan angka lainnya (1/6 satu dari enam). hasil distribusi data dari lempar dadu akan membentuk uniform distribution."
      ],
      "metadata": {
        "id": "lDDJS8B2vf-G"
      }
    },
    {
      "cell_type": "code",
      "source": [
        "import pandas as pd\n",
        "import numpy as np\n",
        "import matplotlib.pyplot as plt\n",
        "\n",
        "import seaborn as sns\n",
        "import scipy.stats\n",
        "\n",
        "from statsmodels.stats.proportion import proportions_ztest\n",
        "from statsmodels.stats.weightstats import ztest"
      ],
      "metadata": {
        "id": "Vyjw1Ds-zu14"
      },
      "execution_count": null,
      "outputs": []
    },
    {
      "cell_type": "code",
      "source": [
        "# Uniform distribution\n",
        "# bikin dummy data, data buatan sendiri, yang akan bersifat uniform distribution\n",
        "# https://docs.scipy.org/doc/scipy/reference/generated/scipy.stats.uniform.html (uniform continuous random variable)\n",
        "generated_data = pd.DataFrame(scipy.stats.uniform.rvs(size=10000, loc=10, scale=30))"
      ],
      "metadata": {
        "id": "tyThaqDwvfWg"
      },
      "execution_count": null,
      "outputs": []
    },
    {
      "cell_type": "code",
      "source": [
        "# generated_data.plot(kind=\"hist\")\n",
        "sns.displot(generated_data, bins=20, kde=True)\n",
        "plt.title(\"uniform distribution\")"
      ],
      "metadata": {
        "colab": {
          "base_uri": "https://localhost:8080/",
          "height": 546
        },
        "id": "z4uOpsXf1VyR",
        "outputId": "218f98d3-7ab6-4cb6-a6b9-881ce8bd1a4b"
      },
      "execution_count": null,
      "outputs": [
        {
          "output_type": "execute_result",
          "data": {
            "text/plain": [
              "Text(0.5, 1.0, 'uniform distribution')"
            ]
          },
          "metadata": {},
          "execution_count": 35
        },
        {
          "output_type": "display_data",
          "data": {
            "text/plain": [
              "<Figure size 558.75x500 with 1 Axes>"
            ],
            "image/png": "[encoded data removed]"
          },
          "metadata": {}
        }
      ]
    },
    {
      "cell_type": "markdown",
      "source": [
        "bins dalam sebuah histogram menentukan ada berapa \"kolom\" di histogramnya.\n",
        "\n",
        "uniform distributed data artinya kemungkinan mendapatkan sebuah random variable di dataset tersebut sama besarnya dengan mendapatkan random variable yang berbeda. semua data punya kemungkinan yang sama."
      ],
      "metadata": {
        "id": "M71uNEIr1GUk"
      }
    },
    {
      "cell_type": "markdown",
      "source": [
        "2. Distribusi Normal   \n",
        "  - kebanyakan data ada di sekitar rata-rata\n",
        "  - mean, median, dan modus berdekatan, ada di nilai yang sama\n",
        "  - dikenal juga sebagai distribusi lonceng"
      ],
      "metadata": {
        "id": "kxeIrjOI2K9Z"
      }
    },
    {
      "cell_type": "code",
      "execution_count": null,
      "metadata": {
        "id": "lvoWi8q9rqGc"
      },
      "outputs": [],
      "source": [
        "# bikin dummy data untuk distribusi normal\n",
        "generated_data = np.random.normal(size=1000, loc=50, scale=10)"
      ]
    },
    {
      "cell_type": "code",
      "source": [
        "# buat visualisasi untuk distribusi normal\n",
        "# bikin plot tidak harus dari dataframe, bisa juga dengan matplotlib\n",
        "plt.hist(generated_data, bins=10)\n",
        "plt.title(\"Normal distribution\")\n",
        "plt.show()"
      ],
      "metadata": {
        "colab": {
          "base_uri": "https://localhost:8080/",
          "height": 452
        },
        "id": "OK_1SlwZ27PH",
        "outputId": "e81ba965-d77f-4a93-de48-cd1d02327481"
      },
      "execution_count": null,
      "outputs": [
        {
          "output_type": "display_data",
          "data": {
            "text/plain": [
              "<Figure size 640x480 with 1 Axes>"
            ],
            "image/png": "[encoded data removed]"
          },
          "metadata": {}
        }
      ]
    },
    {
      "cell_type": "markdown",
      "source": [
        "bisa dilihat bentuk distribusi data yang seperti lonceng. ini adalah normal distribution"
      ],
      "metadata": {
        "id": "Cwf6qRNK3kIB"
      }
    },
    {
      "cell_type": "markdown",
      "source": [
        "## latihan pendek\n",
        "cobalah untuk membuat dummy data dengan tipe distribusi uniform dan normal, dan buat histogramnya\n",
        "\n",
        "## kita lanjut ke penjelasan 5 distribusi berikut:\n",
        "\n",
        "3. Gamma   \n",
        "  - mengukur waktu antar kejadian\n",
        "  - selalu positif\n",
        "  - normal: segala jenis random variable\n",
        "\n",
        "4. Exponential   \n",
        "  - saat distribusi gamma shape nya 1\n",
        "  - menunjukkan waktu antar kejadian di Poisson\n",
        "\n",
        "5. Poisson   \n",
        "  - mengukur jumlah kejadian dalam sebuah interval waktu\n",
        "  - contoh: jumlah likes per jam, jumlah website visit per hari\n",
        "  \n",
        "6. Binomial\n",
        "7. Bernoulli"
      ],
      "metadata": {
        "id": "gP3YT3623opH"
      }
    },
    {
      "cell_type": "code",
      "source": [
        "# Gamma\n",
        "data_gamma = np.random.gamma(shape=10, scale=3, size=10000)\n",
        "plt.hist(data_gamma, bins=20)\n",
        "plt.title(\"gamma distribution\")\n",
        "plt.show()"
      ],
      "metadata": {
        "colab": {
          "base_uri": "https://localhost:8080/",
          "height": 452
        },
        "id": "LCPvdGH13n7p",
        "outputId": "789624f8-9cfe-46b2-ff24-0d64ff3ebcf6"
      },
      "execution_count": null,
      "outputs": [
        {
          "output_type": "display_data",
          "data": {
            "text/plain": [
              "<Figure size 640x480 with 1 Axes>"
            ],
            "image/png": "[encoded data removed]"
          },
          "metadata": {}
        }
      ]
    },
    {
      "cell_type": "code",
      "source": [
        "# Gamma\n",
        "data_gamma = np.random.gamma(shape=1, scale=3, size=10000)\n",
        "plt.hist(data_gamma, bins=20)\n",
        "plt.title(\"gamma distribution dengan shape 1 (exponential distribution)\")\n",
        "plt.show()"
      ],
      "metadata": {
        "colab": {
          "base_uri": "https://localhost:8080/",
          "height": 452
        },
        "id": "gpOYTb_V7PUy",
        "outputId": "36c78246-766b-4d64-bca3-a455688a1040"
      },
      "execution_count": null,
      "outputs": [
        {
          "output_type": "display_data",
          "data": {
            "text/plain": [
              "<Figure size 640x480 with 1 Axes>"
            ],
            "image/png": "[encoded data removed]"
          },
          "metadata": {}
        }
      ]
    },
    {
      "cell_type": "markdown",
      "source": [
        "jumlah waktu antar kejadian"
      ],
      "metadata": {
        "id": "ZmcJHo3b7WQA"
      }
    },
    {
      "cell_type": "code",
      "source": [
        "# exponential\n",
        "data_exponential = np.random.exponential(scale=10, size=10000)\n",
        "plt.hist(data_exponential, bins=20)\n",
        "plt.title(\"exponential distribution\")\n",
        "plt.show()"
      ],
      "metadata": {
        "colab": {
          "base_uri": "https://localhost:8080/",
          "height": 452
        },
        "id": "xI6-nN3k3GHa",
        "outputId": "f0657731-f559-4af8-d587-92b564c6e50c"
      },
      "execution_count": null,
      "outputs": [
        {
          "output_type": "display_data",
          "data": {
            "text/plain": [
              "<Figure size 640x480 with 1 Axes>"
            ],
            "image/png": "[encoded data removed]"
          },
          "metadata": {}
        }
      ]
    },
    {
      "cell_type": "code",
      "source": [
        "# poisson\n",
        "data_poisson = np.random.poisson(lam=10, size=10000)\n",
        "plt.hist(data_poisson, bins=20)\n",
        "plt.title(\"poisson distribution\")\n",
        "plt.show()"
      ],
      "metadata": {
        "colab": {
          "base_uri": "https://localhost:8080/",
          "height": 452
        },
        "id": "LhhFnY4O7L4Q",
        "outputId": "68a2b2c9-86d7-45ee-9ca0-5b5d77b80353"
      },
      "execution_count": null,
      "outputs": [
        {
          "output_type": "display_data",
          "data": {
            "text/plain": [
              "<Figure size 640x480 with 1 Axes>"
            ],
            "image/png": "[encoded data removed]"
          },
          "metadata": {}
        }
      ]
    },
    {
      "cell_type": "markdown",
      "source": [
        "6. Binomial   \n",
        "  - berapa jumlah \"sukses\" dalam sebuah set percobaan\n",
        "  - misalkan setiap orang (dari 10000org) dapat 10 tiket, tiket bisa \"menang\" atau \"kalah\" dengan kemungkinan tertentu seperti 30% kemungkinan menang\n",
        "\n",
        "7. Bernoulli   \n",
        "  - distribusi binomial dengan 1 percobaan saja\n",
        "  - saat setiap orang dapat 1 tiket saja"
      ],
      "metadata": {
        "id": "i6U2WdOq7wpn"
      }
    },
    {
      "cell_type": "code",
      "source": [
        "# binomial\n",
        "data_binomial = np.random.binomial(n=10, p=0.3, size=10000)\n",
        "plt.hist(data_binomial, bins=10)\n",
        "plt.title(\"binomial distribution\")\n",
        "plt.show()"
      ],
      "metadata": {
        "colab": {
          "base_uri": "https://localhost:8080/",
          "height": 452
        },
        "id": "Zl1oQNj97jj4",
        "outputId": "864f008a-655f-41b4-89f1-0af8cf3cc95a"
      },
      "execution_count": null,
      "outputs": [
        {
          "output_type": "display_data",
          "data": {
            "text/plain": [
              "<Figure size 640x480 with 1 Axes>"
            ],
            "image/png": "[encoded data removed]"
          },
          "metadata": {}
        }
      ]
    },
    {
      "cell_type": "code",
      "source": [
        "# binomial\n",
        "data_binomial = np.random.binomial(n=1, p=0.3, size=10000)\n",
        "plt.hist(data_binomial, bins=10)\n",
        "plt.title(\"binomial distribution tapi cuma 1 kali (bernoulli distribution)\")\n",
        "plt.show()"
      ],
      "metadata": {
        "colab": {
          "base_uri": "https://localhost:8080/",
          "height": 452
        },
        "id": "divdD0ta8ci1",
        "outputId": "ed99186b-1c1a-440c-a23a-7850e2e1b338"
      },
      "execution_count": null,
      "outputs": [
        {
          "output_type": "display_data",
          "data": {
            "text/plain": [
              "<Figure size 640x480 with 1 Axes>"
            ],
            "image/png": "[encoded data removed]"
          },
          "metadata": {}
        }
      ]
    },
    {
      "cell_type": "markdown",
      "source": [
        "sekian contoh contoh distribusi\n",
        "\n",
        "untuk kelas ini, kebanyakan data kita akan asumsikan terdistribusi secara normal.\n",
        "\n",
        "teknik yang kita gunakan untuk mencari confidence interval dan hypothesis testing nanti, sebenarnya, baiknya digunakan ke distribusi normal\n",
        "\n",
        "sebenarnya jika data distribusi tidak berbentuk normal, kita bisa gunakan teknik \"resampling\" untuk membuat data baru yang distribusi normal"
      ],
      "metadata": {
        "id": "NO_5Gxwp9OqD"
      }
    },
    {
      "cell_type": "markdown",
      "source": [
        "# Confidence Interval\n",
        "kita mau membuat statement tentang rata-rata atau proporsi\n",
        "- rata-rata berat badan orang Indonesia adalah 50-70kg\n",
        "- proporsi orang Indonsia yang beratnya diatas 100kg adalah 1-5%\n",
        "\n",
        "## tingkat keyakinan (confidence)\n",
        "tidak tertulis: berapa % confidence atau tingkat keyakinan atas interval ini? biasanya di 95%\n",
        "\n",
        "kita tidak bisa minta tingkat keyakinan di 100% karena interval akan semakin besar. banyangkan:\n",
        "- yakin di 30%, kita bisa bilang spesifik range 61-62kg - tingkat keyakinan terlalu rendah dan tidak berguna\n",
        "- yakin di 95%, 50-70kg - paling umum, tingkat keyakinan tinggi dan interval lumayan kecil\n",
        "- yakin di 99.9%, 20-100kg\n",
        "- yakin di 100%, 1kg-300kg - interval terlalu besar dan tidak berguna"
      ],
      "metadata": {
        "id": "vEhzYScP-af9"
      }
    },
    {
      "cell_type": "markdown",
      "source": [
        "formula mean\n",
        "![image.png](data:image/png;base64,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)"
      ],
      "metadata": {
        "id": "M70_se_CACmX"
      }
    },
    {
      "cell_type": "markdown",
      "source": [
        "formula proportion ![image.png](data:image/png;base64,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)"
      ],
      "metadata": {
        "id": "atAevtRRAEa9"
      }
    },
    {
      "cell_type": "markdown",
      "source": [
        "kita bisa tulis formula nya di python menggunakan numpy"
      ],
      "metadata": {
        "id": "0Rt5r4DlAPRF"
      }
    },
    {
      "cell_type": "markdown",
      "source": [
        "# Contoh 1: population proportion\n",
        "kita mau hitung confidence interval untuk proporsi sebuah dataset\n",
        "\n",
        "kita gunakan dataset heart tentang sakit jantung https://www.kaggle.com/datasets/johnsmith88/heart-disease-dataset\n",
        "\n",
        "note:\n",
        "- sex (1 = male; 0 = female)\n",
        "- target (0 = no disease; 1 = disease)\n",
        "\n",
        "**berapa proporsi wanita yang memiliki sakit jantung?**"
      ],
      "metadata": {
        "id": "fqR3Q9EyATWz"
      }
    },
    {
      "cell_type": "code",
      "source": [
        "# import data\n",
        "url = \"https://raw.githubusercontent.com/stefkwan-h8/dataset/main/heart.csv\"\n",
        "\n",
        "df_heart = pd.read_csv(url)\n",
        "df_heart.head()"
      ],
      "metadata": {
        "colab": {
          "base_uri": "https://localhost:8080/",
          "height": 206
        },
        "id": "9hZo7V3A83iG",
        "outputId": "2d9410ef-8e1a-485c-870f-a5402c6824c0"
      },
      "execution_count": null,
      "outputs": [
        {
          "output_type": "execute_result",
          "data": {
            "text/plain": [
              "   age  sex  cp  trestbps  chol  fbs  restecg  thalach  exang  oldpeak  slope  \\\n",
              "0   52    1   0       125   212    0        1      168      0      1.0      2   \n",
              "1   53    1   0       140   203    1        0      155      1      3.1      0   \n",
              "2   70    1   0       145   174    0        1      125      1      2.6      0   \n",
              "3   61    1   0       148   203    0        1      161      0      0.0      2   \n",
              "4   62    0   0       138   294    1        1      106      0      1.9      1   \n",
              "\n",
              "   ca  thal  target  \n",
              "0   2     3       0  \n",
              "1   0     3       0  \n",
              "2   0     3       0  \n",
              "3   1     3       0  \n",
              "4   3     2       0  "
            ],
            "text/html": [
              "\n",
              "  <div id=\"df-a1fd5e7a-2be6-4a87-b8f8-9c5086c25048\" class=\"colab-df-container\">\n",
              "    <div>\n",
              "<style scoped>\n",
              "    .dataframe tbody tr th:only-of-type {\n",
              "        vertical-align: middle;\n",
              "    }\n",
              "\n",
              "    .dataframe tbody tr th {\n",
              "        vertical-align: top;\n",
              "    }\n",
              "\n",
              "    .dataframe thead th {\n",
              "        text-align: right;\n",
              "    }\n",
              "</style>\n",
              "<table border=\"1\" class=\"dataframe\">\n",
              "  <thead>\n",
              "    <tr style=\"text-align: right;\">\n",
              "      <th></th>\n",
              "      <th>age</th>\n",
              "      <th>sex</th>\n",
              "      <th>cp</th>\n",
              "      <th>trestbps</th>\n",
              "      <th>chol</th>\n",
              "      <th>fbs</th>\n",
              "      <th>restecg</th>\n",
              "      <th>thalach</th>\n",
              "      <th>exang</th>\n",
              "      <th>oldpeak</th>\n",
              "      <th>slope</th>\n",
              "      <th>ca</th>\n",
              "      <th>thal</th>\n",
              "      <th>target</th>\n",
              "    </tr>\n",
              "  </thead>\n",
              "  <tbody>\n",
              "    <tr>\n",
              "      <th>0</th>\n",
              "      <td>52</td>\n",
              "      <td>1</td>\n",
              "      <td>0</td>\n",
              "      <td>125</td>\n",
              "      <td>212</td>\n",
              "      <td>0</td>\n",
              "      <td>1</td>\n",
              "      <td>168</td>\n",
              "      <td>0</td>\n",
              "      <td>1.0</td>\n",
              "      <td>2</td>\n",
              "      <td>2</td>\n",
              "      <td>3</td>\n",
              "      <td>0</td>\n",
              "    </tr>\n",
              "    <tr>\n",
              "      <th>1</th>\n",
              "      <td>53</td>\n",
              "      <td>1</td>\n",
              "      <td>0</td>\n",
              "      <td>140</td>\n",
              "      <td>203</td>\n",
              "      <td>1</td>\n",
              "      <td>0</td>\n",
              "      <td>155</td>\n",
              "      <td>1</td>\n",
              "      <td>3.1</td>\n",
              "      <td>0</td>\n",
              "      <td>0</td>\n",
              "      <td>3</td>\n",
              "      <td>0</td>\n",
              "    </tr>\n",
              "    <tr>\n",
              "      <th>2</th>\n",
              "      <td>70</td>\n",
              "      <td>1</td>\n",
              "      <td>0</td>\n",
              "      <td>145</td>\n",
              "      <td>174</td>\n",
              "      <td>0</td>\n",
              "      <td>1</td>\n",
              "      <td>125</td>\n",
              "      <td>1</td>\n",
              "      <td>2.6</td>\n",
              "      <td>0</td>\n",
              "      <td>0</td>\n",
              "      <td>3</td>\n",
              "      <td>0</td>\n",
              "    </tr>\n",
              "    <tr>\n",
              "      <th>3</th>\n",
              "      <td>61</td>\n",
              "      <td>1</td>\n",
              "      <td>0</td>\n",
              "      <td>148</td>\n",
              "      <td>203</td>\n",
              "      <td>0</td>\n",
              "      <td>1</td>\n",
              "      <td>161</td>\n",
              "      <td>0</td>\n",
              "      <td>0.0</td>\n",
              "      <td>2</td>\n",
              "      <td>1</td>\n",
              "      <td>3</td>\n",
              "      <td>0</td>\n",
              "    </tr>\n",
              "    <tr>\n",
              "      <th>4</th>\n",
              "      <td>62</td>\n",
              "      <td>0</td>\n",
              "      <td>0</td>\n",
              "      <td>138</td>\n",
              "      <td>294</td>\n",
              "      <td>1</td>\n",
              "      <td>1</td>\n",
              "      <td>106</td>\n",
              "      <td>0</td>\n",
              "      <td>1.9</td>\n",
              "      <td>1</td>\n",
              "      <td>3</td>\n",
              "      <td>2</td>\n",
              "      <td>0</td>\n",
              "    </tr>\n",
              "  </tbody>\n",
              "</table>\n",
              "</div>\n",
              "    <div class=\"colab-df-buttons\">\n",
              "\n",
              "  <div class=\"colab-df-container\">\n",
              "    <button class=\"colab-df-convert\" onclick=\"convertToInteractive('df-a1fd5e7a-2be6-4a87-b8f8-9c5086c25048')\"\n",
              "            title=\"Convert this dataframe to an interactive table.\"\n",
              "            style=\"display:none;\">\n",
              "\n",
              "  <svg xmlns=\"http://www.w3.org/2000/svg\" height=\"24px\" viewBox=\"0 -960 960 960\">\n",
              "    <path d=\"M120-120v-720h720v720H120Zm60-500h600v-160H180v160Zm220 220h160v-160H400v160Zm0 220h160v-160H400v160ZM180-400h160v-160H180v160Zm440 0h160v-160H620v160ZM180-180h160v-160H180v160Zm440 0h160v-160H620v160Z\"/>\n",
              "  </svg>\n",
              "    </button>\n",
              "\n",
              "  <style>\n",
              "    .colab-df-container {\n",
              "      display:flex;\n",
              "      gap: 12px;\n",
              "    }\n",
              "\n",
              "    .colab-df-convert {\n",
              "      background-color: #E8F0FE;\n",
              "      border: none;\n",
              "      border-radius: 50%;\n",
              "      cursor: pointer;\n",
              "      display: none;\n",
              "      fill: #1967D2;\n",
              "      height: 32px;\n",
              "      padding: 0 0 0 0;\n",
              "      width: 32px;\n",
              "    }\n",
              "\n",
              "    .colab-df-convert:hover {\n",
              "      background-color: #E2EBFA;\n",
              "      box-shadow: 0px 1px 2px rgba(60, 64, 67, 0.3), 0px 1px 3px 1px rgba(60, 64, 67, 0.15);\n",
              "      fill: #174EA6;\n",
              "    }\n",
              "\n",
              "    .colab-df-buttons div {\n",
              "      margin-bottom: 4px;\n",
              "    }\n",
              "\n",
              "    [theme=dark] .colab-df-convert {\n",
              "      background-color: #3B4455;\n",
              "      fill: #D2E3FC;\n",
              "    }\n",
              "\n",
              "    [theme=dark] .colab-df-convert:hover {\n",
              "      background-color: #434B5C;\n",
              "      box-shadow: 0px 1px 3px 1px rgba(0, 0, 0, 0.15);\n",
              "      filter: drop-shadow(0px 1px 2px rgba(0, 0, 0, 0.3));\n",
              "      fill: #FFFFFF;\n",
              "    }\n",
              "  </style>\n",
              "\n",
              "    <script>\n",
              "      const buttonEl =\n",
              "        document.querySelector('#df-a1fd5e7a-2be6-4a87-b8f8-9c5086c25048 button.colab-df-convert');\n",
              "      buttonEl.style.display =\n",
              "        google.colab.kernel.accessAllowed ? 'block' : 'none';\n",
              "\n",
              "      async function convertToInteractive(key) {\n",
              "        const element = document.querySelector('#df-a1fd5e7a-2be6-4a87-b8f8-9c5086c25048');\n",
              "        const dataTable =\n",
              "          await google.colab.kernel.invokeFunction('convertToInteractive',\n",
              "                                                    [key], {});\n",
              "        if (!dataTable) return;\n",
              "\n",
              "        const docLinkHtml = 'Like what you see? Visit the ' +\n",
              "          '<a target=\"_blank\" href=https://colab.research.google.com/notebooks/data_table.ipynb>data table notebook</a>'\n",
              "          + ' to learn more about interactive tables.';\n",
              "        element.innerHTML = '';\n",
              "        dataTable['output_type'] = 'display_data';\n",
              "        await google.colab.output.renderOutput(dataTable, element);\n",
              "        const docLink = document.createElement('div');\n",
              "        docLink.innerHTML = docLinkHtml;\n",
              "        element.appendChild(docLink);\n",
              "      }\n",
              "    </script>\n",
              "  </div>\n",
              "\n",
              "\n",
              "<div id=\"df-3a42997e-1fb3-4ae4-8f9a-44f2e0f8592c\">\n",
              "  <button class=\"colab-df-quickchart\" onclick=\"quickchart('df-3a42997e-1fb3-4ae4-8f9a-44f2e0f8592c')\"\n",
              "            title=\"Suggest charts.\"\n",
              "            style=\"display:none;\">\n",
              "\n",
              "<svg xmlns=\"http://www.w3.org/2000/svg\" height=\"24px\"viewBox=\"0 0 24 24\"\n",
              "     width=\"24px\">\n",
              "    <g>\n",
              "        <path d=\"M19 3H5c-1.1 0-2 .9-2 2v14c0 1.1.9 2 2 2h14c1.1 0 2-.9 2-2V5c0-1.1-.9-2-2-2zM9 17H7v-7h2v7zm4 0h-2V7h2v10zm4 0h-2v-4h2v4z\"/>\n",
              "    </g>\n",
              "</svg>\n",
              "  </button>\n",
              "\n",
              "<style>\n",
              "  .colab-df-quickchart {\n",
              "      --bg-color: #E8F0FE;\n",
              "      --fill-color: #1967D2;\n",
              "      --hover-bg-color: #E2EBFA;\n",
              "      --hover-fill-color: #174EA6;\n",
              "      --disabled-fill-color: #AAA;\n",
              "      --disabled-bg-color: #DDD;\n",
              "  }\n",
              "\n",
              "  [theme=dark] .colab-df-quickchart {\n",
              "      --bg-color: #3B4455;\n",
              "      --fill-color: #D2E3FC;\n",
              "      --hover-bg-color: #434B5C;\n",
              "      --hover-fill-color: #FFFFFF;\n",
              "      --disabled-bg-color: #3B4455;\n",
              "      --disabled-fill-color: #666;\n",
              "  }\n",
              "\n",
              "  .colab-df-quickchart {\n",
              "    background-color: var(--bg-color);\n",
              "    border: none;\n",
              "    border-radius: 50%;\n",
              "    cursor: pointer;\n",
              "    display: none;\n",
              "    fill: var(--fill-color);\n",
              "    height: 32px;\n",
              "    padding: 0;\n",
              "    width: 32px;\n",
              "  }\n",
              "\n",
              "  .colab-df-quickchart:hover {\n",
              "    background-color: var(--hover-bg-color);\n",
              "    box-shadow: 0 1px 2px rgba(60, 64, 67, 0.3), 0 1px 3px 1px rgba(60, 64, 67, 0.15);\n",
              "    fill: var(--button-hover-fill-color);\n",
              "  }\n",
              "\n",
              "  .colab-df-quickchart-complete:disabled,\n",
              "  .colab-df-quickchart-complete:disabled:hover {\n",
              "    background-color: var(--disabled-bg-color);\n",
              "    fill: var(--disabled-fill-color);\n",
              "    box-shadow: none;\n",
              "  }\n",
              "\n",
              "  .colab-df-spinner {\n",
              "    border: 2px solid var(--fill-color);\n",
              "    border-color: transparent;\n",
              "    border-bottom-color: var(--fill-color);\n",
              "    animation:\n",
              "      spin 1s steps(1) infinite;\n",
              "  }\n",
              "\n",
              "  @keyframes spin {\n",
              "    0% {\n",
              "      border-color: transparent;\n",
              "      border-bottom-color: var(--fill-color);\n",
              "      border-left-color: var(--fill-color);\n",
              "    }\n",
              "    20% {\n",
              "      border-color: transparent;\n",
              "      border-left-color: var(--fill-color);\n",
              "      border-top-color: var(--fill-color);\n",
              "    }\n",
              "    30% {\n",
              "      border-color: transparent;\n",
              "      border-left-color: var(--fill-color);\n",
              "      border-top-color: var(--fill-color);\n",
              "      border-right-color: var(--fill-color);\n",
              "    }\n",
              "    40% {\n",
              "      border-color: transparent;\n",
              "      border-right-color: var(--fill-color);\n",
              "      border-top-color: var(--fill-color);\n",
              "    }\n",
              "    60% {\n",
              "      border-color: transparent;\n",
              "      border-right-color: var(--fill-color);\n",
              "    }\n",
              "    80% {\n",
              "      border-color: transparent;\n",
              "      border-right-color: var(--fill-color);\n",
              "      border-bottom-color: var(--fill-color);\n",
              "    }\n",
              "    90% {\n",
              "      border-color: transparent;\n",
              "      border-bottom-color: var(--fill-color);\n",
              "    }\n",
              "  }\n",
              "</style>\n",
              "\n",
              "  <script>\n",
              "    async function quickchart(key) {\n",
              "      const quickchartButtonEl =\n",
              "        document.querySelector('#' + key + ' button');\n",
              "      quickchartButtonEl.disabled = true;  // To prevent multiple clicks.\n",
              "      quickchartButtonEl.classList.add('colab-df-spinner');\n",
              "      try {\n",
              "        const charts = await google.colab.kernel.invokeFunction(\n",
              "            'suggestCharts', [key], {});\n",
              "      } catch (error) {\n",
              "        console.error('Error during call to suggestCharts:', error);\n",
              "      }\n",
              "      quickchartButtonEl.classList.remove('colab-df-spinner');\n",
              "      quickchartButtonEl.classList.add('colab-df-quickchart-complete');\n",
              "    }\n",
              "    (() => {\n",
              "      let quickchartButtonEl =\n",
              "        document.querySelector('#df-3a42997e-1fb3-4ae4-8f9a-44f2e0f8592c button');\n",
              "      quickchartButtonEl.style.display =\n",
              "        google.colab.kernel.accessAllowed ? 'block' : 'none';\n",
              "    })();\n",
              "  </script>\n",
              "</div>\n",
              "    </div>\n",
              "  </div>\n"
            ]
          },
          "metadata": {},
          "execution_count": 49
        }
      ]
    },
    {
      "cell_type": "code",
      "source": [
        "df_heart.info()"
      ],
      "metadata": {
        "colab": {
          "base_uri": "https://localhost:8080/"
        },
        "id": "7-6WAMN-BpmH",
        "outputId": "0480997b-83e8-4e3d-d9de-3e8ee3348c82"
      },
      "execution_count": null,
      "outputs": [
        {
          "output_type": "stream",
          "name": "stdout",
          "text": [
            "<class 'pandas.core.frame.DataFrame'>\n",
            "RangeIndex: 1025 entries, 0 to 1024\n",
            "Data columns (total 14 columns):\n",
            " #   Column    Non-Null Count  Dtype  \n",
            "---  ------    --------------  -----  \n",
            " 0   age       1025 non-null   int64  \n",
            " 1   sex       1025 non-null   int64  \n",
            " 2   cp        1025 non-null   int64  \n",
            " 3   trestbps  1025 non-null   int64  \n",
            " 4   chol      1025 non-null   int64  \n",
            " 5   fbs       1025 non-null   int64  \n",
            " 6   restecg   1025 non-null   int64  \n",
            " 7   thalach   1025 non-null   int64  \n",
            " 8   exang     1025 non-null   int64  \n",
            " 9   oldpeak   1025 non-null   float64\n",
            " 10  slope     1025 non-null   int64  \n",
            " 11  ca        1025 non-null   int64  \n",
            " 12  thal      1025 non-null   int64  \n",
            " 13  target    1025 non-null   int64  \n",
            "dtypes: float64(1), int64(13)\n",
            "memory usage: 112.2 KB\n"
          ]
        }
      ]
    },
    {
      "cell_type": "code",
      "source": [
        "df_heart_wanita = df_heart[df_heart[\"sex\"] == 0]\n",
        "n_wanita = len(df_heart_wanita)\n",
        "n_wanita"
      ],
      "metadata": {
        "colab": {
          "base_uri": "https://localhost:8080/"
        },
        "id": "ZuxV4HtuBK04",
        "outputId": "815b23c0-f358-455f-cf32-45560b01dda6"
      },
      "execution_count": null,
      "outputs": [
        {
          "output_type": "execute_result",
          "data": {
            "text/plain": [
              "312"
            ]
          },
          "metadata": {},
          "execution_count": 54
        }
      ]
    },
    {
      "cell_type": "markdown",
      "source": [
        "kita tau kalau ada 312 orang wanita di dataset kita.\n",
        "\n",
        "kita mau tau ada berapa dari 312 orang ini yang memiliki sakit jantung, target value 1"
      ],
      "metadata": {
        "id": "EGdfLhK5Bt4O"
      }
    },
    {
      "cell_type": "code",
      "source": [
        "df_heart_wanita_sakit = df_heart_wanita[df_heart_wanita['target'] == 1]\n",
        "n_wanita_sakit = len(df_heart_wanita_sakit)\n",
        "n_wanita_sakit"
      ],
      "metadata": {
        "colab": {
          "base_uri": "https://localhost:8080/"
        },
        "id": "Jcj0cgM8Bm26",
        "outputId": "951e8d77-adce-4930-a1b1-ddf4a63c7ffa"
      },
      "execution_count": null,
      "outputs": [
        {
          "output_type": "execute_result",
          "data": {
            "text/plain": [
              "226"
            ]
          },
          "metadata": {},
          "execution_count": 55
        }
      ]
    },
    {
      "cell_type": "markdown",
      "source": [
        "ada 226 wanita yang sakit, dari 312 wanita"
      ],
      "metadata": {
        "id": "zjd1V7p9B9Tv"
      }
    },
    {
      "cell_type": "code",
      "source": [
        "p_wanita_sakit = n_wanita_sakit / n_wanita\n",
        "p_wanita_sakit"
      ],
      "metadata": {
        "colab": {
          "base_uri": "https://localhost:8080/"
        },
        "id": "qLzUvOxzB8Zq",
        "outputId": "67e86c30-c86c-47b8-a124-20e86de1d9c1"
      },
      "execution_count": null,
      "outputs": [
        {
          "output_type": "execute_result",
          "data": {
            "text/plain": [
              "0.7243589743589743"
            ]
          },
          "metadata": {},
          "execution_count": 56
        }
      ]
    },
    {
      "cell_type": "markdown",
      "source": [
        "dari dataset kita, 72% wanita memiliki penyakit jantung\n",
        "\n",
        "kita mau cari confidence interval, bukan cuma persentase dari data kita.\n",
        "\n",
        "untuk itu, kita gunakan formula confidence interval untuk proporsi."
      ],
      "metadata": {
        "id": "R9Ug1Go8CJ-9"
      }
    },
    {
      "cell_type": "markdown",
      "source": [
        "![image.png](data:image/png;base64,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)"
      ],
      "metadata": {
        "id": "_Nahmg-3CUIs"
      }
    },
    {
      "cell_type": "code",
      "source": [
        "# z adalah angka konstan untuk menghitung margin error, dimana tingkat keyakinan 95% artinya z=1.96\n",
        "z = 1.96\n",
        "\n",
        "# margin error dihitung dengan z * akar(p * (1-p) / jumlah_data)\n",
        "margin_error = z * np.sqrt(p_wanita_sakit * (1-p_wanita_sakit) / n_wanita)\n",
        "\n",
        "# confidence interval adalah probabilitas +- margin error\n",
        "print(p_wanita_sakit - margin_error, p_wanita_sakit + margin_error)"
      ],
      "metadata": {
        "colab": {
          "base_uri": "https://localhost:8080/"
        },
        "id": "0LUHe4guCI7e",
        "outputId": "79433f2f-2a03-44bc-c8cd-9c244393f69e"
      },
      "execution_count": null,
      "outputs": [
        {
          "output_type": "stream",
          "name": "stdout",
          "text": [
            "0.6747765651256307 0.773941383592318\n"
          ]
        }
      ]
    },
    {
      "cell_type": "markdown",
      "source": [
        "67-77% wanita memiliki penyakit jantung"
      ],
      "metadata": {
        "id": "3XFgmpU2DjS4"
      }
    },
    {
      "cell_type": "markdown",
      "source": [
        "# Contoh 2: mean\n",
        "menghitung rata-rata menggunakan confidence interval\n",
        "\n",
        "**berapa rata-rata tingkat kolesterol pria?**"
      ],
      "metadata": {
        "id": "G0FLSzaiGCQ2"
      }
    },
    {
      "cell_type": "code",
      "source": [
        "df_heart_pria = df_heart[df_heart['sex']==1]\n",
        "n_pria = len(df_heart_pria)\n",
        "n_pria"
      ],
      "metadata": {
        "colab": {
          "base_uri": "https://localhost:8080/"
        },
        "id": "VBLOBiBODiXW",
        "outputId": "14d499d9-2b49-4415-af91-47fea152a5e1"
      },
      "execution_count": null,
      "outputs": [
        {
          "output_type": "execute_result",
          "data": {
            "text/plain": [
              "713"
            ]
          },
          "metadata": {},
          "execution_count": 59
        }
      ]
    },
    {
      "cell_type": "markdown",
      "source": [
        "ada 713 orang pria"
      ],
      "metadata": {
        "id": "AiPRk_50GVcL"
      }
    },
    {
      "cell_type": "code",
      "source": [
        "data_chol_pria = df_heart_pria['chol']\n",
        "mean_chol_pria = data_chol_pria.mean()\n",
        "mean_chol_pria"
      ],
      "metadata": {
        "colab": {
          "base_uri": "https://localhost:8080/"
        },
        "id": "eduwhDAnGU32",
        "outputId": "6a2becf9-4993-4cc0-b578-55fffe532f9d"
      },
      "execution_count": null,
      "outputs": [
        {
          "output_type": "execute_result",
          "data": {
            "text/plain": [
              "239.23702664796633"
            ]
          },
          "metadata": {},
          "execution_count": 60
        }
      ]
    },
    {
      "cell_type": "markdown",
      "source": [
        "rata rata chol pria ada di 239"
      ],
      "metadata": {
        "id": "jo4LNTW6GjTi"
      }
    },
    {
      "cell_type": "markdown",
      "source": [
        "![image.png](data:image/png;base64,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)"
      ],
      "metadata": {
        "id": "T3j_s5VLGlZ6"
      }
    },
    {
      "cell_type": "code",
      "source": [
        "# rata-rata chol pria\n",
        "mean_chol_pria = data_chol_pria.mean()\n",
        "\n",
        "# z-score untuk tingkat keyakinan 95%\n",
        "z = 1.96\n",
        "\n",
        "# standard deviation\n",
        "s = data_chol_pria.std()\n",
        "\n",
        "# jumlah data\n",
        "n = len(data_chol_pria)\n",
        "\n",
        "# margin of error\n",
        "me = z * s / np.sqrt(n)\n",
        "\n",
        "print(mean_chol_pria - me, mean_chol_pria + me)"
      ],
      "metadata": {
        "colab": {
          "base_uri": "https://localhost:8080/"
        },
        "id": "MoBe19kfGi3k",
        "outputId": "3b934024-a19d-4955-f49d-70cf43cf823a"
      },
      "execution_count": null,
      "outputs": [
        {
          "output_type": "stream",
          "name": "stdout",
          "text": [
            "236.06929917427126 242.4047541216614\n"
          ]
        }
      ]
    },
    {
      "cell_type": "markdown",
      "source": [
        "rata-rata chol pria ada di antara 236-242"
      ],
      "metadata": {
        "id": "Fe0OqT9LHKd7"
      }
    },
    {
      "cell_type": "markdown",
      "source": [
        "## latihan pendek\n",
        "buatlah confidence interval untuk:\n",
        "- proporsi pria yang sehat\n",
        "- rata-rata umur wanita yang punya sakit jantung"
      ],
      "metadata": {
        "id": "XxAN9_S3HVZY"
      }
    },
    {
      "cell_type": "code",
      "source": [
        "# proporsi pria yang sehat\n",
        "# 1. filter data pria\n",
        "df_heart_pria\n",
        "\n",
        "# 2. filter data pria sehat\n",
        "df_heart_pria_sehat = df_heart_pria[df_heart_pria[\"target\"]==0]\n",
        "\n",
        "# 3. hitung proporsi pria sehat\n",
        "n = len(df_heart_pria)\n",
        "p = len(df_heart_pria_sehat) / n\n",
        "\n",
        "# 4. hitung confidence interval\n",
        "z = 1.96\n",
        "me = z * np.sqrt(p * (1-p) / n)\n",
        "\n",
        "print(p - me, p + me)"
      ],
      "metadata": {
        "colab": {
          "base_uri": "https://localhost:8080/"
        },
        "id": "UhJW8nxAHJqJ",
        "outputId": "2131a6a2-c25e-4b86-b5f5-bb1c5f704bfd"
      },
      "execution_count": null,
      "outputs": [
        {
          "output_type": "stream",
          "name": "stdout",
          "text": [
            "0.5430052033809027 0.6154800701113834\n"
          ]
        }
      ]
    },
    {
      "cell_type": "markdown",
      "source": [
        "![image.png](data:image/png;base64,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)"
      ],
      "metadata": {
        "id": "o_taJ5yGKOj8"
      }
    },
    {
      "cell_type": "markdown",
      "source": [
        "54-62% pria sehat"
      ],
      "metadata": {
        "id": "A-w7rJdSKbyD"
      }
    },
    {
      "cell_type": "code",
      "source": [
        "# rata-rata umur wanita yang punya sakit jantung\n",
        "# 1. data wanita\n",
        "df_heart_wanita\n",
        "\n",
        "# 2. data wanita sakit\n",
        "df_heart_wanita_sakit\n",
        "\n",
        "# 3. hitung rata-rata, standard deviation, umur wanita sakit\n",
        "mean = df_heart_wanita_sakit[\"age\"].mean()\n",
        "std = df_heart_wanita_sakit[\"age\"].std()\n",
        "\n",
        "n = df_heart_wanita_sakit['age'].count()\n",
        "\n",
        "# 4. confidence interval rata-rata\n",
        "z = 1.96\n",
        "me = z * std / np.sqrt(n)\n",
        "\n",
        "print(mean - me, mean + me)"
      ],
      "metadata": {
        "colab": {
          "base_uri": "https://localhost:8080/"
        },
        "id": "zOoK52zPKO3H",
        "outputId": "3c5c15ff-f21a-455a-df1a-cf49184dcb88"
      },
      "execution_count": null,
      "outputs": [
        {
          "output_type": "stream",
          "name": "stdout",
          "text": [
            "53.283787460316766 55.97284970782483\n"
          ]
        }
      ]
    },
    {
      "cell_type": "markdown",
      "source": [
        "rata-rata umur wnaita yang sakit ada di antara 53-56"
      ],
      "metadata": {
        "id": "UoXdvd7TLFfZ"
      }
    },
    {
      "cell_type": "markdown",
      "source": [
        "![image.png](data:image/png;base64,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)"
      ],
      "metadata": {
        "id": "UNfzGt30K62a"
      }
    },
    {
      "cell_type": "markdown",
      "source": [
        "# Hypothesis Testing\n",
        "\n",
        "1. mau buat statement. misalkan grup A nilainya lebih tinggi daripada grup B.\n",
        "- null hypotehsis H0: nilai_grup_A <= nilai_grup_B\n",
        "- alternate hypothesis H1: nilai_grup_A > nilai_grup_B\n",
        "- statement yang mau kita bikin adalah \"alternate hypothesis\" statement baru yang menhapus asumsi lama yang kita miliki. kita mau membuat statement kalau alternate hypothesis ini mungkin, iya, bisa, positif.\n",
        "- \"null hypothesis\" selalu kebalikan dari \"alternate hypothesis\"\n",
        "\n",
        "\n",
        "\n",
        "2. kita siapkan data yang kita perlukan.\n",
        "- data grup A\n",
        "- data grup B\n",
        "- note: karena ini perbandingan rata-rata, kita perlu juga rata-rata, jumlah data masing-masing grup. terakhir kita perlu juga\n",
        "- tingkat error, biasanya di 5% atau `alpha = 0.05`\n",
        "\n",
        "\n",
        "\n",
        "3. hitung p-value\n",
        "- p-value < alpha => statement kita kayaknya benar. REJECT null hypothesis. kita hapus asumsi lama kita karena ada perbedaan yang signifikan antara nilai_grup_A dan nilai_grup_B\n",
        "- p-value >= alpha => tidak mengubah asumsi lama. FAIL TO REJECT null hypothesis."
      ],
      "metadata": {
        "id": "NO5HpoUtLKWH"
      }
    },
    {
      "cell_type": "markdown",
      "source": [
        "## Contoh 1: One Population Proportion\n",
        "dulu 60% orang suka coca-cola. sekarang lebih banyak orang suka coca-cola.\n",
        "\n",
        "p_lama = 0.6\n",
        "\n",
        "- H0, H1\n",
        "- data sekarang\n",
        "\n",
        "H0: p_baru <= 0.6\n",
        "\n",
        "H1: p_baru > 0.6\n",
        "\n",
        "anggap kita survey orang sekarang dan dari 121 orang, 70% suka coca cola.\n",
        "\n",
        "n = 121\n",
        "\n",
        "p_baru = 0.7"
      ],
      "metadata": {
        "id": "oFUaXsk5N-sV"
      }
    },
    {
      "cell_type": "code",
      "source": [
        "# hitung p-value\n",
        "# kita gunakan bantuan package statsmodels https://www.statsmodels.org/stable/generated/statsmodels.stats.proportion.proportions_ztest.html\n",
        "from statsmodels.stats.proportion import proportions_ztest\n",
        "\n",
        "p_lama = 0.6\n",
        "n = 121\n",
        "p_baru = 0.7\n",
        "\n",
        "# count = number of success, berapa orang yang suka coca cola sekarang\n",
        "count = p_baru * n\n",
        "\n",
        "# nobs = jumlah orang yang di survey\n",
        "nobs = n\n",
        "\n",
        "# value = dulu berapa proporsinya\n",
        "value = p_lama\n",
        "\n",
        "# alternative = perbandingannya apakah menanyakan sama/tidak (two-sided), p_baru > p_lama (larger), p_baru < p_lama (smaller)\n",
        "# di kasus ini alternative kita 'larger'\n",
        "\n",
        "# prop_var, kalau False data kita sample\n",
        "\n",
        "proportions_ztest(count, nobs, value, alternative='larger', prop_var=False)"
      ],
      "metadata": {
        "colab": {
          "base_uri": "https://localhost:8080/"
        },
        "id": "bEXpbuTyK7EH",
        "outputId": "d04f036f-3f33-45fb-9d83-cd234264428e"
      },
      "execution_count": null,
      "outputs": [
        {
          "output_type": "execute_result",
          "data": {
            "text/plain": [
              "(2.4003967925959153, 0.00818865417074747)"
            ]
          },
          "metadata": {},
          "execution_count": 71
        }
      ]
    },
    {
      "cell_type": "markdown",
      "source": [
        "proportions_ztest memberikan zstat dan p-value, dua angka. kita lihat p-value nya saja."
      ],
      "metadata": {
        "id": "_tARRoD6P5su"
      }
    },
    {
      "cell_type": "code",
      "source": [
        "zstat, pvalue = proportions_ztest(count, nobs, value, alternative='larger', prop_var=False)\n",
        "\n",
        "print(\"p-value:\", pvalue)\n",
        "\n",
        "# kita bandingkan dengan alpha\n",
        "alpha = 0.05\n",
        "\n",
        "if (pvalue < alpha):\n",
        "  print(\"REJECT null hypothesis\")\n",
        "else:\n",
        "  print(\"Fail to Reject null hypothesis\")"
      ],
      "metadata": {
        "colab": {
          "base_uri": "https://localhost:8080/"
        },
        "id": "2Ue7LFnPOk7A",
        "outputId": "445253cd-ea1a-42aa-931f-75f8e8fd8160"
      },
      "execution_count": null,
      "outputs": [
        {
          "output_type": "stream",
          "name": "stdout",
          "text": [
            "p-value: 0.00818865417074747\n",
            "REJECT null hypothesis\n"
          ]
        }
      ]
    },
    {
      "cell_type": "markdown",
      "source": [
        "iya, sepertinya sekarang lebih banyak orang yang suka coca cola"
      ],
      "metadata": {
        "id": "Mas2s_qgQQ_L"
      }
    },
    {
      "cell_type": "markdown",
      "source": [
        "## latihan pendek\n",
        "apakah benar lebih banyak wanita yang punya penyakit jantung daripada pria?\n",
        "\n",
        "H1: p_wanita > p_pria\n",
        "\n",
        "H0: p_wanita <= p_pria\n",
        "\n",
        "- data_wanita\n",
        "- data_pira"
      ],
      "metadata": {
        "id": "tme5vCUfQaaS"
      }
    },
    {
      "cell_type": "code",
      "source": [
        "df_heart_pria"
      ],
      "metadata": {
        "id": "WsYTKgCBOksL"
      },
      "execution_count": null,
      "outputs": []
    },
    {
      "cell_type": "code",
      "source": [
        "df_heart_wanita"
      ],
      "metadata": {
        "id": "WBSC7uIOSNFF"
      },
      "execution_count": null,
      "outputs": []
    },
    {
      "cell_type": "code",
      "source": [
        "# count = number of success, berapa wanita yang punya sakit jantung sekarang\n",
        "# count = jumlah_wanita_sakit\n",
        "count = len(df_heart_wanita[df_heart_wanita[\"target\"]==1])\n",
        "print(\"jumlah wanita sakit\", count)\n",
        "\n",
        "# nobs = jumlah orang yang di survey\n",
        "nobs = len(df_heart_wanita)\n",
        "\n",
        "# value = proporsi pria yang sakit\n",
        "value = len(df_heart_pria[df_heart_pria[\"target\"] == 1]) / len(df_heart_pria)\n",
        "\n",
        "# alternative = perbandingannya apakah menanyakan sama/tidak (two-sided), p_baru > p_lama (larger), p_baru < p_lama (smaller)\n",
        "# di kasus ini alternative kita 'larger'\n",
        "\n",
        "# prop_var, kalau False data kita sample\n",
        "\n",
        "proportions_ztest(count, nobs, value, alternative='larger', prop_var=False)"
      ],
      "metadata": {
        "colab": {
          "base_uri": "https://localhost:8080/"
        },
        "id": "VNcty4foSOSm",
        "outputId": "e8efb1fe-11e7-4579-97ab-0269c400f41a"
      },
      "execution_count": null,
      "outputs": [
        {
          "output_type": "stream",
          "name": "stdout",
          "text": [
            "jumlah wanita sakit 226\n"
          ]
        },
        {
          "output_type": "execute_result",
          "data": {
            "text/plain": [
              "(12.001416771935704, 1.7463297997800175e-33)"
            ]
          },
          "metadata": {},
          "execution_count": 73
        }
      ]
    },
    {
      "cell_type": "code",
      "source": [
        "zstat, pvalue = proportions_ztest(count, nobs, value, alternative='larger', prop_var=False)\n",
        "\n",
        "print(\"p-value:\", pvalue)\n",
        "\n",
        "# kita bandingkan dengan alpha\n",
        "alpha = 0.05\n",
        "\n",
        "if (pvalue < alpha):\n",
        "  print(\"REJECT null hypothesis\")\n",
        "else:\n",
        "  print(\"Fail to Reject null hypothesis\")"
      ],
      "metadata": {
        "colab": {
          "base_uri": "https://localhost:8080/"
        },
        "id": "FJfGzoIQS4lN",
        "outputId": "58fc4de7-bc6e-44e4-ae13-4606fdbf6b07"
      },
      "execution_count": null,
      "outputs": [
        {
          "output_type": "stream",
          "name": "stdout",
          "text": [
            "p-value: 1.7463297997800175e-33\n",
            "REJECT null hypothesis\n"
          ]
        }
      ]
    },
    {
      "cell_type": "markdown",
      "source": [
        "# Contoh 2: Perbedaan rata-rata\n",
        "apakah ada perbedaan rata-rata chol pria dan wanita?\n",
        "\n",
        "H1: chol_w != chol_p\n",
        "\n",
        "H0: chol_w == chol_p\n",
        "\n"
      ],
      "metadata": {
        "id": "iiCgVytWTJN5"
      }
    },
    {
      "cell_type": "code",
      "source": [
        "# kita gunakan statsmodels ztest untuk menghitung pvalue nya\n",
        "# https://www.statsmodels.org/stable/generated/statsmodels.stats.weightstats.ztest.html\n",
        "from statsmodels.stats.weightstats import ztest\n",
        "\n",
        "# x1 = sample pertama\n",
        "# x2 = sample kedua\n",
        "x1 = df_heart_wanita['chol']\n",
        "x2 = df_heart_pria['chol']\n",
        "\n",
        "# value adalah\n",
        "# di perhitungan pvalue 1 sample perbandingan dulu dan sekarang, one sample case, value = mean of x1 under the Null hypothesis.\n",
        "# perbandingan dua sample, two sample case, value = perbedaan mean x1 and meanx2 under the Null hypothesis\n",
        "value = x1.mean() - x2.mean()\n",
        "\n",
        "ztest(x1, x2, value, alternative='two-sided')"
      ],
      "metadata": {
        "colab": {
          "base_uri": "https://localhost:8080/"
        },
        "id": "D8DYiDcoS8bv",
        "outputId": "8007f632-5183-4d66-8243-f2bb98449795"
      },
      "execution_count": null,
      "outputs": [
        {
          "output_type": "execute_result",
          "data": {
            "text/plain": [
              "(0.0, 1.0)"
            ]
          },
          "metadata": {},
          "execution_count": 76
        }
      ]
    },
    {
      "cell_type": "code",
      "source": [
        "tstat, pvalue = ztest(x1, x2, value, alternative='two-sided')\n",
        "\n",
        "print(\"p-value:\", pvalue)\n",
        "\n",
        "# kita bandingkan dengan alpha\n",
        "alpha = 0.05\n",
        "\n",
        "if (pvalue < alpha):\n",
        "  print(\"REJECT null hypothesis\")\n",
        "else:\n",
        "  print(\"Fail to Reject null hypothesis\")"
      ],
      "metadata": {
        "colab": {
          "base_uri": "https://localhost:8080/"
        },
        "id": "WmX7tB1zUXHw",
        "outputId": "f47f26ce-64a7-4e8d-8f2d-a2c92579ec40"
      },
      "execution_count": null,
      "outputs": [
        {
          "output_type": "stream",
          "name": "stdout",
          "text": [
            "p-value: 1.0\n",
            "Fail to Reject null hypothesis\n"
          ]
        }
      ]
    },
    {
      "cell_type": "code",
      "source": [],
      "metadata": {
        "id": "fC1MLanIUeSH"
      },
      "execution_count": null,
      "outputs": []
    }
  ]
}