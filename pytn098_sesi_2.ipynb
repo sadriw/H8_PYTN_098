{
  "nbformat": 4,
  "nbformat_minor": 0,
  "metadata": {
    "colab": {
      "provenance": []
    },
    "kernelspec": {
      "name": "python3",
      "display_name": "Python 3"
    },
    "language_info": {
      "name": "python"
    }
  },
  "cells": [
    {
      "cell_type": "markdown",
      "source": [
        "# Conditional, Control Flow, Loop\n",
        "di sebuah program, selain data kita juga perlu peraturan.\n",
        "\n",
        "bagaimana data awal akan berubah menjadi data akhir?\n",
        "\n",
        "input -> proses -> output\n",
        "\n",
        "\n",
        "## Conditional\n",
        "pertanyaan if \"apakah?\" dengan jawaban antara `True` atau `False`\n",
        "\n",
        "if statement\n",
        "```python\n",
        "if sebuah_pertanyaan:\n",
        "  # kalau pertanyaan terjawab True, kita masuk kesini\n",
        "  # kalau False, kita TIDAK masuk kesini\n",
        "```\n",
        "\n",
        "if else statement\n",
        "```python\n",
        "if sebuah_pertanyaan:\n",
        "  # kalau terjawab True, kita kesini\n",
        "  print(\"kita bisa lakukan code lain disini\")\n",
        "  print(\"jangan lupa indentasi 1x\")\n",
        "else:\n",
        "  # kalau terjawab False, kita kesini, blok diatas ke skip semua\n",
        "  print(\"jawaban dari pertanyaan diatas adalah False\")\n",
        "```"
      ],
      "metadata": {
        "id": "nOCD-62fi2TM"
      }
    },
    {
      "cell_type": "code",
      "execution_count": null,
      "metadata": {
        "colab": {
          "base_uri": "https://localhost:8080/"
        },
        "id": "0mNNzrDcioA7",
        "outputId": "c08a4f73-c1fe-44cb-fff8-c380a37cc1db"
      },
      "outputs": [
        {
          "output_type": "stream",
          "name": "stdout",
          "text": [
            "{'nama': 'Andhika', 'umur': 55, 'ukuran_sepatu': 42.5, 'gender_pria': True, 'barang_bawaan': ['tas', 'hp', 'dompet', 'kunci']}\n"
          ]
        }
      ],
      "source": [
        "# review kemarin: data types dan variable\n",
        "# integer\n",
        "umur = 55\n",
        "\n",
        "# float\n",
        "ukuran_sepatu = 42.5\n",
        "\n",
        "# string\n",
        "nama = \"Andhika\"\n",
        "\n",
        "# boolean\n",
        "pria = True\n",
        "\n",
        "# list\n",
        "barang_bawaan = [\"tas\", \"hp\", \"dompet\", \"kunci\"]\n",
        "\n",
        "# dictionary\n",
        "andhika = {\n",
        "    \"nama\":nama,\n",
        "    \"umur\":umur,\n",
        "    \"ukuran_sepatu\":ukuran_sepatu,\n",
        "    \"gender_pria\":pria,\n",
        "    \"barang_bawaan\":barang_bawaan\n",
        "}\n",
        "\n",
        "print(andhika)"
      ]
    },
    {
      "cell_type": "markdown",
      "source": [
        "ceritanya, kita punya program studi naik gunung. ada beberapa murid yang akan sign-up.\n",
        "\n",
        "kita punya beberapa requirement.\n",
        "\n",
        "- umur minimal 18\n",
        "- gender harus pria\n",
        "- ukuran sepatu ada di antara 40-45\n",
        "\n",
        "buatlah program yang menerima sebuah dictionary kemudian dia bisa beritahu apakah orang tersebut bisa diterima atau tidak."
      ],
      "metadata": {
        "id": "wfFZyM5lksS_"
      }
    },
    {
      "cell_type": "code",
      "source": [
        "# test dulu untuk pembuatan peraturan umur minimal 18\n",
        "u = 5\n",
        "\n",
        "print(u < 18)"
      ],
      "metadata": {
        "colab": {
          "base_uri": "https://localhost:8080/"
        },
        "id": "32VmJciQi1Ea",
        "outputId": "eac2d84e-b68b-4435-ac9d-d1dbd1822429"
      },
      "execution_count": null,
      "outputs": [
        {
          "output_type": "stream",
          "name": "stdout",
          "text": [
            "True\n"
          ]
        }
      ]
    },
    {
      "cell_type": "code",
      "source": [
        "# minimal 18\n",
        "# kalau umur >= 18 maka True, boleh join\n",
        "print(u >= 18)"
      ],
      "metadata": {
        "colab": {
          "base_uri": "https://localhost:8080/"
        },
        "id": "3wS3j4xslKhw",
        "outputId": "b23959a7-7b6e-40bd-ee88-53890478941a"
      },
      "execution_count": null,
      "outputs": [
        {
          "output_type": "stream",
          "name": "stdout",
          "text": [
            "False\n"
          ]
        }
      ]
    },
    {
      "cell_type": "markdown",
      "source": [
        "data yang sudah kita komparasi menggunakan operator seperti > < <= >= == != akan otomatis berubah jadi Boolean True atau False"
      ],
      "metadata": {
        "id": "nptVPK30mz5X"
      }
    },
    {
      "cell_type": "markdown",
      "source": [
        "kalau False, artinya variable u, yang berisi umur di contoh kita tidak >= 18"
      ],
      "metadata": {
        "id": "wsO39lrilWAh"
      }
    },
    {
      "cell_type": "code",
      "source": [
        "if (u >= 18):\n",
        "  print(\"boleh join, cukup umur\")"
      ],
      "metadata": {
        "id": "Z3pnPvDXlVFt"
      },
      "execution_count": null,
      "outputs": []
    },
    {
      "cell_type": "markdown",
      "source": [
        "tambahin sedikit informasi misalkan dia False"
      ],
      "metadata": {
        "id": "pwRACtfflqYG"
      }
    },
    {
      "cell_type": "code",
      "source": [
        "if (u >= 18):\n",
        "  print(\"boleh join, cukup umur\")\n",
        "else:\n",
        "  print(\"hanya 18 tahun keatas yang boleh join. belum cukup umur.\")"
      ],
      "metadata": {
        "colab": {
          "base_uri": "https://localhost:8080/"
        },
        "id": "SYjDxmZWle55",
        "outputId": "d71c5bc9-97d1-462f-80ab-c772f5322db2"
      },
      "execution_count": null,
      "outputs": [
        {
          "output_type": "stream",
          "name": "stdout",
          "text": [
            "hanya 18 tahun keatas yang boleh join. belum cukup umur.\n"
          ]
        }
      ]
    },
    {
      "cell_type": "markdown",
      "source": [
        "bagaimana cara ambil \"umur\" dari dictionary orang orang yang akan apply?\n",
        "\n",
        "untuk mengambil sebuah value dari dictionary, kita gunakan key nya.\n",
        "\n",
        "contoh: `obj = {\"a\": 10, \"b\":5}`\n",
        "\n",
        "kita bisa ambil value 10 menggunakan key \"a\"\n",
        "\n",
        "kita bisa tulis `obj[\"a\"]` untuk mendapat data integer value 10"
      ],
      "metadata": {
        "id": "RwXh-FdUmH3Y"
      }
    },
    {
      "cell_type": "code",
      "source": [
        "print(andhika)"
      ],
      "metadata": {
        "colab": {
          "base_uri": "https://localhost:8080/"
        },
        "id": "PDZc12ull7nU",
        "outputId": "c0e54dcd-8af7-4156-9e88-fe9d5f6019fb"
      },
      "execution_count": null,
      "outputs": [
        {
          "output_type": "stream",
          "name": "stdout",
          "text": [
            "{'nama': 'Andhika', 'umur': 55, 'ukuran_sepatu': 42.5, 'gender_pria': True, 'barang_bawaan': ['tas', 'hp', 'dompet', 'kunci']}\n"
          ]
        }
      ]
    },
    {
      "cell_type": "code",
      "source": [
        "andhika[\"umur\"]"
      ],
      "metadata": {
        "colab": {
          "base_uri": "https://localhost:8080/"
        },
        "id": "jUQnJsc9mcdL",
        "outputId": "ac44fa6d-70cc-4175-fac1-e5a92fefc7af"
      },
      "execution_count": null,
      "outputs": [
        {
          "output_type": "execute_result",
          "data": {
            "text/plain": [
              "55"
            ]
          },
          "metadata": {},
          "execution_count": 9
        }
      ]
    },
    {
      "cell_type": "code",
      "source": [
        "if (andhika[\"umur\"] >= 18):\n",
        "  print(\"boleh join, cukup umur\")\n",
        "else:\n",
        "  print(\"hanya 18 tahun keatas yang boleh join. belum cukup umur.\")"
      ],
      "metadata": {
        "colab": {
          "base_uri": "https://localhost:8080/"
        },
        "id": "tmb5NSHlmgIT",
        "outputId": "3078fa61-3ce3-4cf6-c45c-71ca1fc5a13e"
      },
      "execution_count": null,
      "outputs": [
        {
          "output_type": "stream",
          "name": "stdout",
          "text": [
            "boleh join, cukup umur\n"
          ]
        }
      ]
    },
    {
      "cell_type": "markdown",
      "source": [
        "sebelum itu kita latihan dulu yuk\n",
        "\n",
        "### latihan pendek\n",
        "buatlah sebuah variable berisi data bertipe string (text)\n",
        "\n",
        "buat sebuah kondisi if, untuk mengecek apakah panjang dari string di variable tersebut lebih dari 20 atau tidak.\n",
        "- jika iya, cetak menggunakan print \"message panjang:\" + string nya disini\n",
        "- jika tidak, cetak menggunakan print string nya disini\n",
        "\n",
        "hint: untuk mengecek panjang string di sebuah variable, kita bisa gunakan keyword `len(variable di dalam sini)` len ini akan mengembalikan value dalam integer\n",
        "\n",
        "waktu: 5 menit\n",
        "\n",
        "kita bahas di jam 19.35 WIB"
      ],
      "metadata": {
        "id": "dSHWrmKKms1g"
      }
    },
    {
      "cell_type": "code",
      "source": [
        "teks = \"lagi nyobain contoh\"\n",
        "\n",
        "# Memeriksa panjang string menggunakan len()\n",
        "panjang_teks = len(teks)\n",
        "print(panjang_teks)\n",
        "\n",
        "# Mengecek apakah panjang string lebih dari 20 atau tidak\n",
        "if panjang_teks > 20:\n",
        "    print(\"Benar:\", teks)\n",
        "else:\n",
        "    print(\"Salah, Text ini kurang dari 20\")"
      ],
      "metadata": {
        "colab": {
          "base_uri": "https://localhost:8080/"
        },
        "id": "v2BGMVf3mnd3",
        "outputId": "3f0faacd-e4c0-4147-e6cb-f76abf765e8f"
      },
      "execution_count": null,
      "outputs": [
        {
          "output_type": "stream",
          "name": "stdout",
          "text": [
            "19\n",
            "Salah, Text ini kurang dari 20\n"
          ]
        }
      ]
    },
    {
      "cell_type": "markdown",
      "source": [
        "melanjutkan contoh awal, filter partisipan studi grup naik gunung.\n",
        "\n",
        "selain cek umur, kita juga mau cek:\n",
        "\n",
        "- gender harus pria\n",
        "- ukuran sepatu ada di antara 40-45"
      ],
      "metadata": {
        "id": "yI6wYDCxnEAO"
      }
    },
    {
      "cell_type": "code",
      "source": [
        "print(andhika)"
      ],
      "metadata": {
        "colab": {
          "base_uri": "https://localhost:8080/"
        },
        "id": "-Om1AQYspHPz",
        "outputId": "4779ca85-4059-49a0-dcbf-35414b18eb25"
      },
      "execution_count": null,
      "outputs": [
        {
          "output_type": "stream",
          "name": "stdout",
          "text": [
            "{'nama': 'Andhika', 'umur': 55, 'ukuran_sepatu': 42.5, 'gender_pria': True, 'barang_bawaan': ['tas', 'hp', 'dompet', 'kunci']}\n"
          ]
        }
      ]
    },
    {
      "cell_type": "code",
      "source": [
        "print(andhika[\"gender_pria\"])"
      ],
      "metadata": {
        "colab": {
          "base_uri": "https://localhost:8080/"
        },
        "id": "JGGcQ6azpasT",
        "outputId": "3371bd97-c14d-4cd4-8d38-3a6edd10614f"
      },
      "execution_count": null,
      "outputs": [
        {
          "output_type": "stream",
          "name": "stdout",
          "text": [
            "True\n"
          ]
        }
      ]
    },
    {
      "cell_type": "code",
      "source": [
        "if (andhika[\"gender_pria\"]):\n",
        "  print(\"ok, seorang pria boleh ikut\")\n",
        "else:\n",
        "  print(\"maaf, grup kali ini khusus pria\")"
      ],
      "metadata": {
        "colab": {
          "base_uri": "https://localhost:8080/"
        },
        "id": "a1gN3ctcpgFN",
        "outputId": "35c5f5bb-a176-493b-fe48-21adbe315c0f"
      },
      "execution_count": null,
      "outputs": [
        {
          "output_type": "stream",
          "name": "stdout",
          "text": [
            "ok, seorang pria boleh ikut\n"
          ]
        }
      ]
    },
    {
      "cell_type": "code",
      "source": [
        "betty = {'nama': 'Bethani', 'umur': 25, 'ukuran_sepatu': 37.5, 'gender_pria': False, 'barang_bawaan': ['hp', 'kunci']}\n",
        "\n",
        "print(betty)\n",
        "print(betty[\"gender_pria\"])"
      ],
      "metadata": {
        "colab": {
          "base_uri": "https://localhost:8080/"
        },
        "id": "d7S6zOt_pwTt",
        "outputId": "5a7376a0-a47c-45c7-c6b0-97420f307e53"
      },
      "execution_count": null,
      "outputs": [
        {
          "output_type": "stream",
          "name": "stdout",
          "text": [
            "{'nama': 'Bethani', 'umur': 25, 'ukuran_sepatu': 37.5, 'gender_pria': False, 'barang_bawaan': ['hp', 'kunci']}\n",
            "False\n"
          ]
        }
      ]
    },
    {
      "cell_type": "code",
      "source": [
        "if (betty[\"gender_pria\"]):\n",
        "  print(\"ok, seorang pria boleh ikut\")\n",
        "else:\n",
        "  print(\"maaf, grup kali ini khusus pria\")"
      ],
      "metadata": {
        "colab": {
          "base_uri": "https://localhost:8080/"
        },
        "id": "x5mAUA7lp-bC",
        "outputId": "b544bb06-6589-4186-ce9e-b64eccb77f73"
      },
      "execution_count": null,
      "outputs": [
        {
          "output_type": "stream",
          "name": "stdout",
          "text": [
            "maaf, grup kali ini khusus pria\n"
          ]
        }
      ]
    },
    {
      "cell_type": "markdown",
      "source": [
        "lanjut lagi.\n",
        "\n",
        "selain cek gender, kita juga mau cek:\n",
        "\n",
        "- ukuran sepatu ada di antara 40-45"
      ],
      "metadata": {
        "id": "hmV06x9KqLNw"
      }
    },
    {
      "cell_type": "code",
      "source": [
        "us_andhika = andhika['ukuran_sepatu']\n",
        "\n",
        "# karena kondisinya adalah diantara 2 angka, dan operator yang kita miliki cuma satu satu > < >= <=\n",
        "# kita akan membuat 2 kondisi\n",
        "# 1. apakah ukuran sepatu >= 40\n",
        "\n",
        "if (us_andhika >= 40):\n",
        "  print(\"ok >= 40 sepatunya\")\n",
        "\n",
        "# 2. apakah ukuran sepatu <= 45\n",
        "if (us_andhika <= 45):\n",
        "  print(\"ok <= 45 sepatunya\")"
      ],
      "metadata": {
        "colab": {
          "base_uri": "https://localhost:8080/"
        },
        "id": "1norarI7qCnk",
        "outputId": "a2f501ca-0800-4785-eb87-aee87d70006b"
      },
      "execution_count": null,
      "outputs": [
        {
          "output_type": "stream",
          "name": "stdout",
          "text": [
            "ok >= 40 sepatunya\n",
            "ok <= 45 sepatunya\n"
          ]
        }
      ]
    },
    {
      "cell_type": "markdown",
      "source": [
        "apa yang bisa kita lakukan untuk cek kalau kedua kondisi ini HARUS sama sama True?\n",
        "\n",
        "kita gunakan `&` dan,\n",
        "```python\n",
        "if (kondisi1 & kondisi2):\n",
        "  # bisa masuk sini hanya kalau kondisi1 DAN kondisi2 sama sama True\n",
        "```"
      ],
      "metadata": {
        "id": "tv2eSzHGq8VA"
      }
    },
    {
      "cell_type": "code",
      "source": [
        "if ((us_andhika >= 40) & (us_andhika <= 45)):\n",
        "  print(\"ok >= 40 sepatunya\")\n",
        "  print(\"ok <= 45 sepatunya\")\n",
        "  print(\"ukuran sepatunya lolos seleksi\")"
      ],
      "metadata": {
        "colab": {
          "base_uri": "https://localhost:8080/"
        },
        "id": "FzuRIZxeq6L8",
        "outputId": "7187b078-a3e4-415e-fbda-8582b03504f8"
      },
      "execution_count": null,
      "outputs": [
        {
          "output_type": "stream",
          "name": "stdout",
          "text": [
            "ok >= 40 sepatunya\n",
            "ok <= 45 sepatunya\n",
            "ukuran sepatunya lolos seleksi\n"
          ]
        }
      ]
    },
    {
      "cell_type": "markdown",
      "source": [
        "ternyata, grup naik gunung kita sangat populer dan penuh, jadi kita mau tambahkan filter lagi:\n",
        "\n",
        "- kalau barang bawaan dibawah 5 barang, dia boleh beli sepatu sendiri jadi tidak perlu cek ukuran sepatu"
      ],
      "metadata": {
        "id": "A4t6lQQgremA"
      }
    },
    {
      "cell_type": "code",
      "source": [
        "# kita buat orang baru, misalkan budi, yang ukuran sepatunya gak lolos\n",
        "budi = {'nama': 'Budi', 'umur': 35, 'ukuran_sepatu': 39.5, 'gender_pria': True, 'barang_bawaan': ['hp', 'kunci']}\n",
        "\n",
        "us = budi['ukuran_sepatu']\n",
        "\n",
        "bb = budi[\"barang_bawaan\"]\n",
        "jumlah_bb = len(bb)\n",
        "\n",
        "if ((us >= 40) & (us <= 45)):\n",
        "  print(\"ok >= 40 sepatunya\")\n",
        "  print(\"ok <= 45 sepatunya\")\n",
        "  print(\"ukuran sepatunya lolos seleksi\")\n",
        "else:\n",
        "  print(\"ukuran sepatu tidak lolos seleksi\")\n",
        "\n",
        "  # kalau sepatu gak lolos, kita cek jumlah barang bawaannya\n",
        "  # jika barang bawaan < 5 maka kita lolosin juga\n",
        "  if jumlah_bb < 5:\n",
        "    print(\"nanti beli sepatu sendiri dan bawa sendiri, boleh ikut\")\n",
        "  else:\n",
        "    print(\"maaf belum bisa ikut\")"
      ],
      "metadata": {
        "colab": {
          "base_uri": "https://localhost:8080/"
        },
        "id": "uSvI9lKarWxx",
        "outputId": "66ee1c28-0d22-4f41-d5f7-ff820dbf3719"
      },
      "execution_count": null,
      "outputs": [
        {
          "output_type": "stream",
          "name": "stdout",
          "text": [
            "ukuran sepatu tidak lolos seleksi\n",
            "nanti beli sepatu sendiri dan bawa sendiri, boleh ikut\n"
          ]
        }
      ]
    },
    {
      "cell_type": "markdown",
      "source": [
        "susunan if dalam if seperti diatas namanya `nested if`\n",
        "\n",
        "di dunia pemrograman, data analitik, dan lain lain setiap hal dan konsep kecil punya nama"
      ],
      "metadata": {
        "id": "G4A0MSN_snuN"
      }
    },
    {
      "cell_type": "markdown",
      "source": [
        "sebenarnya, code diatas yang mengecek 2 hal: ukuran septau dan jumlah barang bawaan bisa kita perpendek\n",
        "\n",
        "kita bisa gabungkan 2 kondisi sepatu dan barang_bawaan ke satu if saja\n",
        "\n",
        "menggunakan `|` or, atau\n",
        "```python\n",
        "a = 10\n",
        "b = 5\n",
        "\n",
        "if ((a == 5) | (b == 5)):\n",
        "  print(\"True jika salah satu dari a atau b adalah 5\")\n",
        "```"
      ],
      "metadata": {
        "id": "Y2NXmB4hs3ww"
      }
    },
    {
      "cell_type": "code",
      "source": [
        "if (  ((us >= 40) & (us <= 45)) | (jumlah_bb < 5)  ):\n",
        "  print(\"yuk ikut, sepatunya bisa ambil disini atau kalau gk muat, beli sendiri\")\n",
        "else:\n",
        "  print(\"maaf belum bisa ikut\")"
      ],
      "metadata": {
        "colab": {
          "base_uri": "https://localhost:8080/"
        },
        "id": "G2-5DMJasFTM",
        "outputId": "3e3ec728-a0d5-4480-aeef-754a8d64d98a"
      },
      "execution_count": null,
      "outputs": [
        {
          "output_type": "stream",
          "name": "stdout",
          "text": [
            "yuk ikut, sepatunya bisa ambil disini atau kalau gk muat, beli sendiri\n"
          ]
        }
      ]
    },
    {
      "cell_type": "code",
      "source": [
        "# misalkan budi bawa barang lebih banyak\n",
        "budi['barang_bawaan'] = ['hp', 'kunci', \"botol minum\", \"apel\", \"hand sanitizer\", \"topi\"]\n",
        "\n",
        "print(budi)"
      ],
      "metadata": {
        "colab": {
          "base_uri": "https://localhost:8080/"
        },
        "id": "F6oLEApItps_",
        "outputId": "b99ce8d8-3fac-4afc-fe58-23889d51d749"
      },
      "execution_count": null,
      "outputs": [
        {
          "output_type": "stream",
          "name": "stdout",
          "text": [
            "{'nama': 'Budi', 'umur': 35, 'ukuran_sepatu': 39.5, 'gender_pria': True, 'barang_bawaan': ['hp', 'kunci', 'botol minum', 'apel', 'hand sanitizer', 'topi']}\n"
          ]
        }
      ]
    },
    {
      "cell_type": "code",
      "source": [
        "us = budi['ukuran_sepatu']\n",
        "\n",
        "bb = budi[\"barang_bawaan\"]\n",
        "jumlah_bb = len(bb)\n",
        "\n",
        "if ((us >= 40) & (us <= 45)):\n",
        "  print(\"ok >= 40 sepatunya\")\n",
        "  print(\"ok <= 45 sepatunya\")\n",
        "  print(\"ukuran sepatunya lolos seleksi\")\n",
        "else:\n",
        "  print(\"ukuran sepatu tidak lolos seleksi\")\n",
        "\n",
        "  # kalau sepatu gak lolos, kita cek jumlah barang bawaannya\n",
        "  # jika barang bawaan < 5 maka kita lolosin juga\n",
        "  if jumlah_bb < 5:\n",
        "    print(\"nanti beli sepatu sendiri dan bawa sendiri, boleh ikut\")\n",
        "  else:\n",
        "    print(\"1. maaf belum bisa ikut\")\n",
        "\n",
        "\n",
        "if (  ((us >= 40) & (us <= 45)) | (jumlah_bb < 5)  ):\n",
        "  print(\"yuk ikut, sepatunya bisa ambil disini atau kalau gk muat, beli sendiri\")\n",
        "else:\n",
        "  print(\"2. maaf belum bisa ikut\")"
      ],
      "metadata": {
        "colab": {
          "base_uri": "https://localhost:8080/"
        },
        "id": "Si9Xpp8yt2Fa",
        "outputId": "22531483-5246-42ce-f7f6-8ba08419d043"
      },
      "execution_count": null,
      "outputs": [
        {
          "output_type": "stream",
          "name": "stdout",
          "text": [
            "ukuran sepatu tidak lolos seleksi\n",
            "1. maaf belum bisa ikut\n",
            "2. maaf belum bisa ikut\n"
          ]
        }
      ]
    },
    {
      "cell_type": "markdown",
      "source": [
        "selain if dan else, mereka ada teman satu lagi: `elif` singkatan dari else if\n",
        "\n",
        "ini digunakan saat pertanyaan kita beruntun dan mau kita pisah pisah\n",
        "\n",
        "contohnya, kita mau tau apakah\n",
        "- nilainya diatas 80?\n",
        "  - kalau iya, ..\n",
        "  - kalau nggak, apakah diatas 60?\n",
        "    - kalau iya, ...\n",
        "    - kalau nggak, apakah diatas 50?\n",
        "      - kalau iya, ....\n",
        "      - kalau nggak, yauda gpp\n"
      ],
      "metadata": {
        "id": "tJVGe_n-uJuy"
      }
    },
    {
      "cell_type": "code",
      "source": [
        "nilai = 100\n",
        "\n",
        "if nilai > 80:\n",
        "  print(\"yay dapat A\")\n",
        "elif nilai > 60:\n",
        "  print(\"masi ok dapat B\")\n",
        "elif nilai > 50:\n",
        "  print(\"dapat C\")\n",
        "else:\n",
        "  print(\"...\")"
      ],
      "metadata": {
        "colab": {
          "base_uri": "https://localhost:8080/"
        },
        "id": "riG5o7J5uDW9",
        "outputId": "12f2cda6-cec0-4846-bc2c-2d5e5f9b29a1"
      },
      "execution_count": null,
      "outputs": [
        {
          "output_type": "stream",
          "name": "stdout",
          "text": [
            "yay dapat A\n"
          ]
        }
      ]
    },
    {
      "cell_type": "markdown",
      "source": [
        "## Operator `in`\n",
        "Selain operator komparator: > < >= <= == !=\n",
        "\n",
        "ada juga operator aritmatik: + - * / **\n",
        "\n",
        "ada juga operator `in` untuk cek apakah itemA ada didalam itemB:\n",
        "- bisa untuk list\n",
        "- tuple\n",
        "- string\n",
        "\n",
        "juga mengembalikan value Boolean"
      ],
      "metadata": {
        "id": "TKKLe1o5xhVi"
      }
    },
    {
      "cell_type": "code",
      "source": [
        "msg = \"halo\"\n",
        "# apakah ada huruf \"al\" di dalam msg?\n",
        "print(\"al\" in msg)\n",
        "# apakah ada huruf \"b\" di dalam msg?\n",
        "print(\"b\" in msg)"
      ],
      "metadata": {
        "colab": {
          "base_uri": "https://localhost:8080/"
        },
        "id": "NM9va2EkxJAc",
        "outputId": "1e8d2296-746a-4791-e40d-52f274e9156e"
      },
      "execution_count": null,
      "outputs": [
        {
          "output_type": "stream",
          "name": "stdout",
          "text": [
            "True\n",
            "False\n"
          ]
        }
      ]
    },
    {
      "cell_type": "code",
      "source": [
        "belanjaan = [\"apel\", \"beras\", \"bawang\"]\n",
        "# apakah ada \"apel\" di dalam belanjaan?\n",
        "print(\"apel\" in belanjaan)\n",
        "# apakah ada \"pisang\" di dalam belanjaan?\n",
        "print(\"pisang\" in belanjaan)"
      ],
      "metadata": {
        "colab": {
          "base_uri": "https://localhost:8080/"
        },
        "id": "aV43-Mk_x_j8",
        "outputId": "c1573f77-d0b3-4bc9-b3a0-cfad1425f2f6"
      },
      "execution_count": null,
      "outputs": [
        {
          "output_type": "stream",
          "name": "stdout",
          "text": [
            "True\n",
            "False\n"
          ]
        }
      ]
    },
    {
      "cell_type": "markdown",
      "source": [
        "jika mau mencari string menggunakan pattern tertentu, misalnya khusus email, hhh@hhh.com kita bisa minta bantuan regex"
      ],
      "metadata": {
        "id": "6QcDb-Z3zDAz"
      }
    },
    {
      "cell_type": "markdown",
      "source": [
        "# Falsy\n",
        "setiap data yang ada di Python diberi default value boolean oleh Python secara otomatis. Kita bisa lihat default value boolean ini apa, menggunakan `bool` untuk konversi datanya jadi tipe boolean.\n",
        "\n",
        "Atau kt bisa nyontek cheatsheet falsy, data apa saja yang dianggap False:\n",
        "- 0\n",
        "- 0.0\n",
        "- \"\"\n",
        "- ''\n",
        "- False\n",
        "- []\n",
        "- ()\n",
        "- {}\n",
        "\n",
        "selain yang diatas, data dianggap True"
      ],
      "metadata": {
        "id": "HKMIyVqoyWnC"
      }
    },
    {
      "cell_type": "code",
      "source": [],
      "metadata": {
        "id": "tPhKYqkFyJy_"
      },
      "execution_count": null,
      "outputs": []
    },
    {
      "cell_type": "markdown",
      "source": [
        "## pass\n",
        "pass - kadang kita tulis code seperti if, kita sudah tau satu bagian tertentu, belum tau bagian lainnya. tapi python bakal complain kalau kita tulis if nggak lengkap\n",
        "\n",
        "```python\n",
        "if umur >= 17:\n",
        "\n",
        "else:\n",
        "  print(\"belum cukup umur\")\n",
        "```\n",
        "code diatas akan error\n",
        "\n",
        "kita gunakan `pass` sebagai placeholder\n",
        "```python\n",
        "if umur >= 17:\n",
        "  pass\n",
        "else:\n",
        "  print(\"belum cukup umur\")\n",
        "```\n",
        "code diatas tidak error"
      ],
      "metadata": {
        "id": "QEQosuCtzceB"
      }
    },
    {
      "cell_type": "markdown",
      "source": [
        "# While\n",
        "\n",
        "kita masuk ke keyword while\n",
        "\n",
        "ini digunakan untuk membuat \"loop\" atau \"iteration\" atau mengulang code yang sama berulang kali sampai kondisi menjadi False\n",
        "\n",
        "```python\n",
        "while (umur >= 17):\n",
        "  print(\"cukup umur\")\n",
        "```\n",
        "code diatas tidak error.\n",
        "code diatas mengecek kondisi variable umur, apakah value >= 17.\n",
        "\n",
        "jika value True, kita masuk ke blok code while, dimana ada `print(\"cukup umur\")`\n",
        "\n",
        "masalahnya, setelah selesai print, berbeda dengan if, si while ini akan nanya lagi pertanyaan yang sama. kita akan kembali ke baris while, dimana dia cek lagi kondisi variable umur, apakah value >= 17.\n",
        "\n",
        "karena masih True, dia akan masuk ke blok code while lagi, dan kita print lagi\n",
        "\n",
        "dan kembali lagi ke baris code while.. cek lagi, True lagi, print lagi\n",
        "\n",
        "ini dinamakan \"infinite loop\""
      ],
      "metadata": {
        "id": "ZlKDbxg60A6C"
      }
    },
    {
      "cell_type": "code",
      "source": [
        "# jika kalian coba infinite loop, dia akan berjalan teru terusan tanpa henti"
      ],
      "metadata": {
        "id": "ef2nQQVx1AeW"
      },
      "execution_count": null,
      "outputs": []
    },
    {
      "cell_type": "markdown",
      "source": [
        "perhatikan setelah coba infinite loop, dalam beberapa detik saja, sudah lebih dari 5000 baris di print.\n",
        "\n",
        "code berjalan sangat cepat.\n",
        "\n",
        "walaupun code itu kaku, \"bodoh\" gk ngerti konteks, cuma bisa if True False, cuma bisa while, variable, tapi kehebatan dia adalah bisa melakukan hal yang simple tersebut dengan sangat cepat.\n",
        "\n",
        "kita gunakan teknik loop ini untuk mencoba menutupi kekurangan code\n",
        "\n",
        "misalkan, di sebuah list, aku mau tanya adakah \"apel\" di dalam list tersebut. kalau orang, sekali liat liat banyak brg sekaligus. kalau code, dia bisa lihat satu per satu. kita gunakan loop untuk melihat barang di dalam list satu per satu, dan setiap barang kita cek pakai if, apakah barang tersebut \"apel\" baru ketemu/ tidak.\n",
        "\n",
        "-- untuk contoh diatas, karena sering digunakan, python sudah buatkan shortcut namanya operator `in`\n",
        "\n",
        "misalkan yang kita cek bukan string, tapi apakah list berisi angka ini ada angka di antara 50 dan 60, kita tidak bisa pakai `in` kita perlu menggunakan teknik basic loop. melewati setiap item dalam list dan menggunakan if untuk bertanya apakah barang tersebut ada di antara 50 dan 60."
      ],
      "metadata": {
        "id": "3urj7dBe1Oq5"
      }
    },
    {
      "cell_type": "markdown",
      "source": [
        "```python\n",
        "# cara menggunakan While mirip dengan if\n",
        "while kondisi:\n",
        "  # jika true kita tulis code disini\n",
        "  # setelah selesai disini, kita balik ke while kondisi di atas\n",
        "else:\n",
        "  # bisa ada else juga, kalau kondisi False masuk sini\n",
        "```"
      ],
      "metadata": {
        "id": "dpHpQqcn2Xbz"
      }
    },
    {
      "cell_type": "code",
      "source": [
        "# misalkan kita lagi makan\n",
        "# kita hitung berapa suap nasi yang sudah kita makan\n",
        "# jika sudah 30 suap, kita berhenti\n",
        "# jika belum, kita makan lagi\n",
        "\n",
        "total_suap = 0\n",
        "while total_suap < 30:\n",
        "  # makan lagi\n",
        "  print(total_suap, \"ambil 1 suap lagi\")\n",
        "  total_suap = total_suap + 1\n",
        "\n",
        "# cek total suap berapa, harusnya 30 atau lebih\n",
        "print(total_suap)"
      ],
      "metadata": {
        "colab": {
          "base_uri": "https://localhost:8080/"
        },
        "id": "qQVfGicd2JCz",
        "outputId": "3b3dc40d-3699-4f48-b2d1-9be8d141525a"
      },
      "execution_count": null,
      "outputs": [
        {
          "output_type": "stream",
          "name": "stdout",
          "text": [
            "0 ambil 1 suap lagi\n",
            "1 ambil 1 suap lagi\n",
            "2 ambil 1 suap lagi\n",
            "3 ambil 1 suap lagi\n",
            "4 ambil 1 suap lagi\n",
            "5 ambil 1 suap lagi\n",
            "6 ambil 1 suap lagi\n",
            "7 ambil 1 suap lagi\n",
            "8 ambil 1 suap lagi\n",
            "9 ambil 1 suap lagi\n",
            "10 ambil 1 suap lagi\n",
            "11 ambil 1 suap lagi\n",
            "12 ambil 1 suap lagi\n",
            "13 ambil 1 suap lagi\n",
            "14 ambil 1 suap lagi\n",
            "15 ambil 1 suap lagi\n",
            "16 ambil 1 suap lagi\n",
            "17 ambil 1 suap lagi\n",
            "18 ambil 1 suap lagi\n",
            "19 ambil 1 suap lagi\n",
            "20 ambil 1 suap lagi\n",
            "21 ambil 1 suap lagi\n",
            "22 ambil 1 suap lagi\n",
            "23 ambil 1 suap lagi\n",
            "24 ambil 1 suap lagi\n",
            "25 ambil 1 suap lagi\n",
            "26 ambil 1 suap lagi\n",
            "27 ambil 1 suap lagi\n",
            "28 ambil 1 suap lagi\n",
            "29 ambil 1 suap lagi\n",
            "30\n"
          ]
        }
      ]
    },
    {
      "cell_type": "markdown",
      "source": [
        "kondisi di while bisa:\n",
        "- pakai &, 2 atau lebih kondisi harus True semua\n",
        "- pakai |, 2 atau lebih kondisi salah satu saja yang perlu True\n",
        "\n",
        "bisa ada while dalam while\n",
        "\n",
        "bisa ada if dalam while\n",
        "\n",
        "bisa ada while dalam if"
      ],
      "metadata": {
        "id": "QnAzdPN83cUb"
      }
    },
    {
      "cell_type": "markdown",
      "source": [
        "while digunakan saat lagi loading, selama status masih loading, selama data belum menjadi True, kita nunggu.\n",
        "\n",
        "di dalam while kita bisa tambahin menunggu\n",
        "\n",
        "```python\n",
        "while (page_belum_selesai_loading):\n",
        "  # nunggu 1 detik\n",
        "```\n",
        "\n",
        "biasanya kita pakai untuk sejenis counter\n",
        "\n",
        "misalkan program kita mau mencetak 10 kali. kita bisa buat variable counter = 0, kita bikin while counter belum mencapai 10, kita tambahin jumlah counter di dalam while tersebut, baru selesai.\n",
        "\n"
      ],
      "metadata": {
        "id": "atQPk6-338dd"
      }
    },
    {
      "cell_type": "code",
      "source": [
        "counter = 0\n",
        "\n",
        "while counter < 10:\n",
        "  counter = counter + 2\n",
        "\n",
        "print(\"counter sudah minimal 10\", counter)"
      ],
      "metadata": {
        "colab": {
          "base_uri": "https://localhost:8080/"
        },
        "id": "NJx7rzbs3Co8",
        "outputId": "041fe6e8-1498-48ff-f933-91f845e861ae"
      },
      "execution_count": null,
      "outputs": [
        {
          "output_type": "stream",
          "name": "stdout",
          "text": [
            "counter sudah minimal 10 10\n"
          ]
        }
      ]
    },
    {
      "cell_type": "markdown",
      "source": [
        "while bisa kita gunakan saat mau mengulang code, untuk mencari, menunggu, melihat sesuatu. selama belum ketemu, belum tercapai - kondisi while masih false, code bisa terus berulang.\n",
        "\n",
        "## For\n",
        "kalau jumlah loop sudah pasti. kita mau mengulang dengan pasti 10 kali, setiap mengulang nambah 1, jadi 0,1,2,3,4,5,6,7,8,9, kita pakai `for` lebih cocok.\n",
        "\n",
        "kondisi di while bisa rumit, pakai &, pakai |, dll\n",
        "\n",
        "kondisi di `for` tidak ada. kita tidak pakai kondisi. kita pakai koleksi.\n",
        "\n",
        "untuk setiap barang dalam sebuah koleksi, aku akan...\n",
        " - barang pertama, diapain..\n",
        "\n",
        "ulang lagi\n",
        " - barang kedua, diapain..\n",
        "\n",
        "for lebih untuk melewati koleksi\n",
        "\n",
        "koleksi termasuk:\n",
        "- string\n",
        "- list\n",
        "- tuple\n",
        "- range (koleksi angka)"
      ],
      "metadata": {
        "id": "VG4YPxbM5ThU"
      }
    },
    {
      "cell_type": "code",
      "source": [
        "print(teks)"
      ],
      "metadata": {
        "colab": {
          "base_uri": "https://localhost:8080/"
        },
        "id": "i5pS8HpY41Md",
        "outputId": "0311273d-997a-4672-9c15-edc356beb6bf"
      },
      "execution_count": null,
      "outputs": [
        {
          "output_type": "stream",
          "name": "stdout",
          "text": [
            "lagi nyobain contoh\n"
          ]
        }
      ]
    },
    {
      "cell_type": "code",
      "source": [
        "# koleksi huruf dari sebuah kalimat string\n",
        "for h in teks:\n",
        "  print(h)"
      ],
      "metadata": {
        "colab": {
          "base_uri": "https://localhost:8080/"
        },
        "id": "hqU_bB5Q6Ui1",
        "outputId": "76e59ee8-4950-40c2-8b1d-51c32bb61279"
      },
      "execution_count": null,
      "outputs": [
        {
          "output_type": "stream",
          "name": "stdout",
          "text": [
            "l\n",
            "a\n",
            "g\n",
            "i\n",
            " \n",
            "n\n",
            "y\n",
            "o\n",
            "b\n",
            "a\n",
            "i\n",
            "n\n",
            " \n",
            "c\n",
            "o\n",
            "n\n",
            "t\n",
            "o\n",
            "h\n"
          ]
        }
      ]
    },
    {
      "cell_type": "code",
      "source": [
        "# koleksi barang dari sebuah list\n",
        "budi[\"barang_bawaan\"]"
      ],
      "metadata": {
        "colab": {
          "base_uri": "https://localhost:8080/"
        },
        "id": "BTP0mfoj6YWe",
        "outputId": "cfef9422-7532-4b90-94b2-b230d18a9ced"
      },
      "execution_count": null,
      "outputs": [
        {
          "output_type": "execute_result",
          "data": {
            "text/plain": [
              "['hp', 'kunci', 'botol minum', 'apel', 'hand sanitizer', 'topi']"
            ]
          },
          "metadata": {},
          "execution_count": 52
        }
      ]
    },
    {
      "cell_type": "code",
      "source": [
        "for barang in budi[\"barang_bawaan\"]:\n",
        "  print(\"Budi bawa\", barang)"
      ],
      "metadata": {
        "colab": {
          "base_uri": "https://localhost:8080/"
        },
        "id": "HJbkStnE61Mq",
        "outputId": "ee491a21-20a4-454d-9b50-93a791e210c2"
      },
      "execution_count": null,
      "outputs": [
        {
          "output_type": "stream",
          "name": "stdout",
          "text": [
            "Budi bawa hp\n",
            "Budi bawa kunci\n",
            "Budi bawa botol minum\n",
            "Budi bawa apel\n",
            "Budi bawa hand sanitizer\n",
            "Budi bawa topi\n"
          ]
        }
      ]
    },
    {
      "cell_type": "markdown",
      "source": [
        "# Range"
      ],
      "metadata": {
        "id": "1mknANFo7J58"
      }
    },
    {
      "cell_type": "code",
      "source": [
        "# range\n",
        "# range membantu kita membuat angka urut\n",
        "range(10)"
      ],
      "metadata": {
        "colab": {
          "base_uri": "https://localhost:8080/"
        },
        "id": "Bp8nk_xZ67R-",
        "outputId": "f8ea7344-9096-448d-89fd-9cb1389b4336"
      },
      "execution_count": null,
      "outputs": [
        {
          "output_type": "execute_result",
          "data": {
            "text/plain": [
              "range(0, 10)"
            ]
          },
          "metadata": {},
          "execution_count": 54
        }
      ]
    },
    {
      "cell_type": "markdown",
      "source": [
        "`range(10)` adalah angka urut 0,1,2,3,4,5,6,7,8,9\n",
        "\n",
        "`range(3, 10)` adalah angka urut 3,4,5,6,7,8,9\n",
        "\n",
        "`range(3, 10, 2)` adalah angka urut 3,5,7,9\n",
        "\n",
        "demikian tiga cara menggunakan range\n",
        "\n",
        "karena range termasuk koleksi, koleksi angka, kita bisa pakai for untuk melihat setiap angka yang ada di dalam range"
      ],
      "metadata": {
        "id": "K45WvQoC7MUa"
      }
    },
    {
      "cell_type": "code",
      "source": [
        "for a in range(10):\n",
        "  print(a)"
      ],
      "metadata": {
        "colab": {
          "base_uri": "https://localhost:8080/"
        },
        "id": "OQWEX9VA7Ld0",
        "outputId": "c763e66c-9507-4e01-fc71-50d7eabed6c3"
      },
      "execution_count": null,
      "outputs": [
        {
          "output_type": "stream",
          "name": "stdout",
          "text": [
            "0\n",
            "1\n",
            "2\n",
            "3\n",
            "4\n",
            "5\n",
            "6\n",
            "7\n",
            "8\n",
            "9\n"
          ]
        }
      ]
    },
    {
      "cell_type": "code",
      "source": [
        "for a in range(3, 10):\n",
        "  print(a)"
      ],
      "metadata": {
        "colab": {
          "base_uri": "https://localhost:8080/"
        },
        "id": "ccHBqd7h7g91",
        "outputId": "01fd36e3-de24-4748-ddd4-e92c1dba69dd"
      },
      "execution_count": null,
      "outputs": [
        {
          "output_type": "stream",
          "name": "stdout",
          "text": [
            "3\n",
            "4\n",
            "5\n",
            "6\n",
            "7\n",
            "8\n",
            "9\n"
          ]
        }
      ]
    },
    {
      "cell_type": "code",
      "source": [
        "for a in range(3, 10, 2):\n",
        "  print(a)"
      ],
      "metadata": {
        "colab": {
          "base_uri": "https://localhost:8080/"
        },
        "id": "w8cuDOzj7jeW",
        "outputId": "b4354278-deb6-469f-b708-b12bcc119302"
      },
      "execution_count": null,
      "outputs": [
        {
          "output_type": "stream",
          "name": "stdout",
          "text": [
            "3\n",
            "5\n",
            "7\n",
            "9\n"
          ]
        }
      ]
    },
    {
      "cell_type": "code",
      "source": [
        "# hitung mundur juga bisa\n",
        "for a in range(100, -100, -25):\n",
        "  print(a)"
      ],
      "metadata": {
        "colab": {
          "base_uri": "https://localhost:8080/"
        },
        "id": "RODN4vUl7l14",
        "outputId": "c198dcdb-6c93-459f-9046-6f874f42c686"
      },
      "execution_count": null,
      "outputs": [
        {
          "output_type": "stream",
          "name": "stdout",
          "text": [
            "100\n",
            "75\n",
            "50\n",
            "25\n",
            "0\n",
            "-25\n",
            "-50\n",
            "-75\n"
          ]
        }
      ]
    },
    {
      "cell_type": "code",
      "source": [
        "for a in range(100, -101, -25):\n",
        "  print(a)"
      ],
      "metadata": {
        "colab": {
          "base_uri": "https://localhost:8080/"
        },
        "id": "Uz2niuqO7raB",
        "outputId": "fee15156-3923-46de-8dfe-4304f3011c78"
      },
      "execution_count": null,
      "outputs": [
        {
          "output_type": "stream",
          "name": "stdout",
          "text": [
            "100\n",
            "75\n",
            "50\n",
            "25\n",
            "0\n",
            "-25\n",
            "-50\n",
            "-75\n",
            "-100\n"
          ]
        }
      ]
    },
    {
      "cell_type": "markdown",
      "source": [
        "## latihan pendek\n",
        "1. while: buatlah sebuah while loop yang mengecek tinggi badan, kalau tinggi badan < 100, tambahkan 1, lalu coba lagi. selesai while loop, print tinggi badannnya berapa.\n",
        "2. falsy: buatlah variable yang berisi string kosong \"\", gunakan if untuk mengecek apakah variable tersebut ada isinya. kalau ada, print \"ok\", kalau gk ada isi lah variable tersebut dengan \"python\". selesai dari if, print variablenya.\n",
        "  - coba lagi, kali ini, isi variable nya dengan sesuatu, lihat apa yang ke print\n",
        "3. for: perhatikah list yang ada di bawah. perhatikan juga dictionary yang diberikan. coba cari harga setiap barang yang ada di list, kalau tidak ketemu, print 0."
      ],
      "metadata": {
        "id": "09SKLWZD72xC"
      }
    },
    {
      "cell_type": "code",
      "source": [
        "# 1\n",
        "tinggi_badan = 90\n",
        "while tinggi_badan < 100:\n",
        "  # tinggi_badan = tinggi_badan + 1\n",
        "  tinggi_badan += 1\n",
        "\n",
        "print(tinggi_badan)"
      ],
      "metadata": {
        "colab": {
          "base_uri": "https://localhost:8080/"
        },
        "id": "8kIxOgOsAw0N",
        "outputId": "95291e82-67ec-4964-a0fd-beecb42b29ac"
      },
      "execution_count": null,
      "outputs": [
        {
          "output_type": "stream",
          "name": "stdout",
          "text": [
            "wow\n",
            "100\n"
          ]
        }
      ]
    },
    {
      "cell_type": "markdown",
      "source": [
        "continue dan break, bisa digunakan untuk:\n",
        "\n",
        "continue = skip sekali loop nya, langsung balik ke atas ke while\n",
        "\n",
        "break = menghentikan loop, langsung berhenti dan keluar dari loop\n"
      ],
      "metadata": {
        "id": "aSADeijSBfFM"
      }
    },
    {
      "cell_type": "code",
      "source": [
        "# extra bahas continue dan break\n",
        "\n",
        "tinggi_badan = 25\n",
        "while tinggi_badan < 100:\n",
        "  # tinggi_badan = tinggi_badan + 1\n",
        "  tinggi_badan += 1\n",
        "\n",
        "  # di situasi dimana kita ada tambahan kondisi di dalam di saat tertentu\n",
        "  # kita pakai while loop\n",
        "\n",
        "  # misalkan tinggi di 44, kita skip aja\n",
        "  if (tinggi_badan == 44):\n",
        "    continue\n",
        "\n",
        "  # misalkan tinggi di 50, kita break\n",
        "  if (tinggi_badan == 50):\n",
        "    break\n",
        "\n",
        "  # misalkan kalau tinggi 99, kita print \"wow\"\n",
        "  if (tinggi_badan == 99):\n",
        "    print(\"wow\")\n",
        "\n",
        "  print(tinggi_badan)\n",
        "\n",
        "print(tinggi_badan)"
      ],
      "metadata": {
        "colab": {
          "base_uri": "https://localhost:8080/"
        },
        "id": "IBBtPemUBsNN",
        "outputId": "8313111d-cc0a-4209-b78c-8fe88a4b1bcc"
      },
      "execution_count": null,
      "outputs": [
        {
          "output_type": "stream",
          "name": "stdout",
          "text": [
            "26\n",
            "27\n",
            "28\n",
            "29\n",
            "30\n",
            "31\n",
            "32\n",
            "33\n",
            "34\n",
            "35\n",
            "36\n",
            "37\n",
            "38\n",
            "39\n",
            "40\n",
            "41\n",
            "42\n",
            "43\n",
            "45\n",
            "46\n",
            "47\n",
            "48\n",
            "49\n",
            "50\n"
          ]
        }
      ]
    },
    {
      "cell_type": "markdown",
      "source": [
        "falsy: buatlah variable yang berisi string kosong \"\", gunakan if untuk mengecek apakah variable tersebut ada isinya. kalau ada, print \"ok\", kalau gk ada isi lah variable tersebut dengan \"python\". selesai dari if, print variablenya.\n",
        "\n",
        "coba lagi, kali ini, isi variable nya dengan sesuatu, lihat apa yang ke print"
      ],
      "metadata": {
        "id": "pI9dGYLOCYQD"
      }
    },
    {
      "cell_type": "code",
      "source": [
        "# 2\n",
        "nama = \"\"\n",
        "\n",
        "if (nama):\n",
        "  # kalau ada isi jadi True\n",
        "  print(\"ok\")\n",
        "else:\n",
        "  # kalau kosong jadi False\n",
        "  print(\"python\")"
      ],
      "metadata": {
        "colab": {
          "base_uri": "https://localhost:8080/"
        },
        "id": "kkilbRjJAw-s",
        "outputId": "02703359-c11a-4776-df65-56a656072313"
      },
      "execution_count": null,
      "outputs": [
        {
          "output_type": "stream",
          "name": "stdout",
          "text": [
            "python\n"
          ]
        }
      ]
    },
    {
      "cell_type": "code",
      "source": [
        "nama = \" \"\n",
        "\n",
        "if (nama):\n",
        "  # kalau ada isi jadi True\n",
        "  print(\"ok\")\n",
        "else:\n",
        "  # kalau kosong jadi False\n",
        "  print(\"python\")"
      ],
      "metadata": {
        "colab": {
          "base_uri": "https://localhost:8080/"
        },
        "id": "LytnCI_HCqGE",
        "outputId": "7a5e6faa-d6e5-4525-da34-faf1d21105ef"
      },
      "execution_count": null,
      "outputs": [
        {
          "output_type": "stream",
          "name": "stdout",
          "text": [
            "ok\n"
          ]
        }
      ]
    },
    {
      "cell_type": "code",
      "source": [],
      "metadata": {
        "id": "VWgjkt5dDQVP"
      },
      "execution_count": null,
      "outputs": []
    },
    {
      "cell_type": "markdown",
      "source": [
        "for: perhatikah list yang ada di bawah. perhatikan juga dictionary yang diberikan. coba cari harga setiap barang yang ada di list, kalau tidak ketemu, print 0.\n",
        "\n",
        "hint: untuk mendapat list isi keys dari sebuah dictionary, kita bisa gunakan keyword keys\n",
        "\n",
        "dictionary_nya.keys() --> list berisi keys nya saja"
      ],
      "metadata": {
        "id": "xyygURe5DafM"
      }
    },
    {
      "cell_type": "code",
      "source": [
        "# 3\n",
        "buah_buahan = [\"apel\", \"jeruk\", \"manggis\", \"semangka\", \"pepaya\", \"pir\"]\n",
        "harga_buah= {\"apel\": 15000, \"pir\": 35000, \"manggis\":22500, \"semangka\": 35500}\n",
        "\n",
        "# gunakan for loop untuk cek harga setiap buah yang ada di buah_buahan\n",
        "# harga buah ada di dalam dictionary harga_buah\n",
        "# kalau harga gak ketemu, print \"0\" saja untuk harga buah tersebut\n",
        "\n",
        "harga_ada = list(harga_buah.keys())\n",
        "\n",
        "for buah in buah_buahan:\n",
        "  harga = 0\n",
        "  if (buah in harga_ada):\n",
        "    harga = harga_buah[buah]\n",
        "\n",
        "  print(buah, harga)\n",
        "\n",
        "\n",
        "\n",
        "# apel 15000\n",
        "# jeruk 0\n",
        "# manggis 22500\n",
        "# semangka 35500\n",
        "# pepaya 0\n",
        "# pir 35000"
      ],
      "metadata": {
        "colab": {
          "base_uri": "https://localhost:8080/"
        },
        "id": "BVRX33vo7xys",
        "outputId": "8d8c59cf-6eef-464f-f2db-c14002c5b0da"
      },
      "execution_count": null,
      "outputs": [
        {
          "output_type": "stream",
          "name": "stdout",
          "text": [
            "apel 15000\n",
            "jeruk 0\n",
            "manggis 22500\n",
            "semangka 35500\n",
            "pepaya 0\n",
            "pir 35000\n"
          ]
        }
      ]
    },
    {
      "cell_type": "markdown",
      "source": [
        "# `input`\n",
        "keyword `input` bisa kita gunakan untuk minta data dari user, dari pemakai program ini"
      ],
      "metadata": {
        "id": "iGzuDYeCEBws"
      }
    },
    {
      "cell_type": "code",
      "source": [
        "input()"
      ],
      "metadata": {
        "colab": {
          "base_uri": "https://localhost:8080/",
          "height": 55
        },
        "id": "aIewV0u5C4m8",
        "outputId": "e8e17199-4523-4877-a7db-ff11e7a484b1"
      },
      "execution_count": null,
      "outputs": [
        {
          "name": "stdout",
          "output_type": "stream",
          "text": [
            "123\n"
          ]
        },
        {
          "output_type": "execute_result",
          "data": {
            "text/plain": [
              "'123'"
            ],
            "application/vnd.google.colaboratory.intrinsic+json": {
              "type": "string"
            }
          },
          "metadata": {},
          "execution_count": 80
        }
      ]
    },
    {
      "cell_type": "markdown",
      "source": [
        "semua yang di input akan dijadikan string"
      ],
      "metadata": {
        "id": "61sJuCmzENPs"
      }
    },
    {
      "cell_type": "markdown",
      "source": [
        "dengan menggunakan while loop, kita bisa bikin program yang terus terusan menunggu input dari user, sampai inputnya adalah \"stop\""
      ],
      "metadata": {
        "id": "p1KVzGEoEWHt"
      }
    },
    {
      "cell_type": "code",
      "source": [
        "msg = input()\n",
        "while msg != \"stop\":\n",
        "  msg = input()"
      ],
      "metadata": {
        "colab": {
          "base_uri": "https://localhost:8080/"
        },
        "id": "uzDGryXbEIkf",
        "outputId": "7e4baa71-c1c2-4fd1-f994-38236eaa1cb9"
      },
      "execution_count": null,
      "outputs": [
        {
          "name": "stdout",
          "output_type": "stream",
          "text": [
            "a\n",
            "b\n",
            "j\n",
            "sadf\n",
            "ug\n",
            "123\n",
            "stop\n"
          ]
        }
      ]
    },
    {
      "cell_type": "markdown",
      "source": [
        "kita tambahkan fungsi ke loop ini\n",
        "\n",
        "misalkan, ini adalah program konversi rupiah ke dolar"
      ],
      "metadata": {
        "id": "VQs2QBKvEl_b"
      }
    },
    {
      "cell_type": "code",
      "source": [
        "print(\"isi jumlah rupiah, dan kita akan hitung jumlah USD nya\")\n",
        "print(\"ketik 'stop' untuk berhenti\")\n",
        "\n",
        "rate = 15527.65\n",
        "\n",
        "msg = input()\n",
        "while msg != \"stop\":\n",
        "  # konversi input menjadi angka\n",
        "  rup = float(msg)\n",
        "\n",
        "  # konversi rupiah jadi USD\n",
        "  usd = rup / rate\n",
        "\n",
        "  # tampilkan rupiah awal dan usd nya berapa\n",
        "  print(f\"dari {rup} IDR, kita akan dapat {usd} USD\")\n",
        "\n",
        "  msg = input()"
      ],
      "metadata": {
        "colab": {
          "base_uri": "https://localhost:8080/"
        },
        "id": "UYQNjXwoElns",
        "outputId": "b6b10282-ceb2-4ba1-dd36-57654e3bce73"
      },
      "execution_count": null,
      "outputs": [
        {
          "name": "stdout",
          "output_type": "stream",
          "text": [
            "isi jumlah rupiah, dan kita akan hitung jumlah USD nya\n",
            "ketik 'stop' untuk berhenti\n",
            "28374569835783765\n",
            "dari 2.8374569835783764e+16 IDR, kita akan dapat 1827357638521.2034 USD\n",
            "100000\n",
            "dari 100000.0 IDR, kita akan dapat 6.440124552008836 USD\n",
            "stop\n"
          ]
        }
      ]
    },
    {
      "cell_type": "code",
      "source": [],
      "metadata": {
        "id": "VlIu_WibFTJP"
      },
      "execution_count": null,
      "outputs": []
    }
  ]
}